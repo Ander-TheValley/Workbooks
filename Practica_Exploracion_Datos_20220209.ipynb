{
  "nbformat": 4,
  "nbformat_minor": 0,
  "metadata": {
    "colab": {
      "name": "Practica_Exploracion_Datos_20220209.ipynb",
      "provenance": [],
      "collapsed_sections": []
    },
    "kernelspec": {
      "name": "python3",
      "display_name": "Python 3"
    },
    "language_info": {
      "name": "python"
    }
  },
  "cells": [
    {
      "cell_type": "markdown",
      "metadata": {
        "id": "_9qgtIQVGFHO"
      },
      "source": [
        "# PROBABILIDAD Y VARIABLES ALEATORIAS I\n",
        "## INTRODUCCIÓN AL ANÁLISIS EXPLORATORIO DE LOS DATOS \n",
        "### Madrid, 9 de febrero de 2022\n",
        "### Ángeles Garrido"
      ]
    },
    {
      "cell_type": "markdown",
      "metadata": {
        "id": "r9vpi3_uGEt7"
      },
      "source": [
        "# **ANÁLISIS EXPLORATORIO DE DATOS**\n",
        "\n",
        "El análisis exploratorio de datos (*EDA, Exploratory Data Analysis*) es entender los datos resumiendo sus principales características, generalmente utilizando medidas, estimadores y algún tipo de representación gráfica. Este es un paso muy importante para llegar a la modelización de los datos que luego se puede utilizar para aplicar Machine learning para algún tipo de análisis predictivo. \n",
        "\n",
        "Explorar los datos no es tarea sencilla, y además no hay un método que siempre funcione sino que hay que investigar según cada conjunto de datos.\n",
        "\n",
        "Suele llevar una cantidad de tiempo considerable para llegar a conocer realmente las características de los datos en estudio. \n",
        "\n",
        "## COMPRENDER LOS DATOS ES TODO UN ARTE"
      ]
    },
    {
      "cell_type": "markdown",
      "metadata": {
        "id": "E3lB8L9WHE-Y"
      },
      "source": [
        "**¿Cómo realizamos el análisis exploratorio?**\n",
        "\n",
        "La respuesta correcta sería: Depende de cada problema y conjunto de datos. \n",
        "\n",
        "Básicamente porque depende del conjunto de datos que se esté analizando. No existe una única receta que se aplique y funcione para todos los casos. \n",
        "\n",
        "La idea fundamental es **aplicar diferentes herramientas y estrategias que nos permitan tener una mejor idea**."
      ]
    },
    {
      "cell_type": "markdown",
      "metadata": {
        "id": "hQnXDeqeHwh3"
      },
      "source": [
        "## 1. Importamos las librerías necesarias"
      ]
    },
    {
      "cell_type": "markdown",
      "metadata": {
        "id": "34MChbjCH4zQ"
      },
      "source": [
        "A continuación tenemos los paquetes que vamos a utilizar en este ejercicio. Esto lo hacemos siempre al principio."
      ]
    },
    {
      "cell_type": "code",
      "metadata": {
        "id": "Co9DJmhQFeWW"
      },
      "source": [
        "import pandas as pd\n",
        "import numpy as np\n",
        "import seaborn as sns                       #conjunto de datos y visualisation\n",
        "import matplotlib.pyplot as plt             #visualisation\n",
        "%matplotlib inline  "
      ],
      "execution_count": null,
      "outputs": []
    },
    {
      "cell_type": "markdown",
      "metadata": {
        "id": "p8qrWF2GICpX"
      },
      "source": [
        "## 2. Cargamos el conjunto de datos"
      ]
    },
    {
      "cell_type": "markdown",
      "metadata": {
        "id": "k9wTm6sgO4bW"
      },
      "source": [
        "El conjunto de datos se llama \"titanic\" y tiene información sobre los datos de los sobrevivientes a la tragedia del Titanic.\n",
        "\n",
        "La tragedia del Titanic El hundimiento del Titanic es uno de los naufragios más infames de la historia. El 15 de abril de 1912, durante su viaje inaugural, el Titanic se hundió después de chocar con un iceberg, matando a miles de personas. Esta tragedia sensacional conmocionó a la comunidad internacional y condujo a mejores normas de seguridad aplicables a los buques. Una de las razones por las que el naufragio dio lugar a semejante cantidad de muertes fue que no había suficientes botes salvavidas para los pasajeros y la tripulación. Aunque hubo algún elemento de suerte involucrada en sobrevivir al hundimiento, algunos grupos de personas tenían más probabilidades de sobrevivir que otros, como las mujeres, los niños y la clase alta.\n",
        "\n",
        "El siguiente dataset proporciona información sobre el destino de los pasajeros en el viaje fatal del trasatlántico Titanic, que se resume de acuerdo con el nivel económico (clase), el sexo, la edad y la supervivencia.\n",
        "\n",
        "**Descripción de las variables**\n",
        "\n",
        "**Variable: definición\t(información adicional)**\n",
        "\n",
        "\n",
        "Survived: Survival\t(0 = No, 1 = Yes)\n",
        "\n",
        "Pclass: Ticket (class\t1 = 1st, 2 = 2nd, 3 = 3rd)\n",
        "\n",
        "Sex: Sex (male, female)\n",
        "\n",
        "Age: Age (in years)\n",
        "\n",
        "Sibsp: \tnumber of siblings / spouses aboard the Titanic\n",
        "\n",
        "Parch: number of parents / children aboard the Titanic\n",
        "\n",
        "Fare: Passenger fare\n",
        "\n",
        "Embarked:\tPort of Embarkation\t(C = Cherbourg, Q = Queenstown,S = Southampton)\n",
        "\n",
        "Class: Passenger class (Third, First, Second)\n",
        "\n",
        "Who: man (18+), woman (18+), child (<18)\n",
        "\n",
        "adult_male: A male 18 or older (False = No, True=Yes)\n",
        "\n",
        "deck: Deck of the ship\n",
        "\n",
        "embarked_town: Port of embarkation ( Cherbourg, Queenstown, Southampton)\n",
        "\n",
        "alone: True= alone, False= not alone ( you have at least 1 sibling, spouse, parent or child on board)\n",
        "\n",
        "Información adicional \n",
        "\n",
        "Sibsp: The dataset defines family relations in this way...\n",
        "Sibling = brother, sister, stepbrother, stepsister\n",
        "Spouse = husband, wife (mistresses and fiancés were ignored)\n",
        "\n",
        "Parch: The dataset defines family relations in this way...\n",
        "Parent = mother, father\n",
        "Child = daughter, son, stepdaughter, stepson\n",
        "Some children travelled only with a nanny, therefore parch=0 for them."
      ]
    },
    {
      "cell_type": "code",
      "metadata": {
        "id": "Wz1sp4i-NCaL"
      },
      "source": [
        "# importando el dataset\n",
        "titanic = sns.load_dataset('titanic')\n",
        "titanic"
      ],
      "execution_count": null,
      "outputs": []
    },
    {
      "cell_type": "code",
      "metadata": {
        "id": "0J1a3eZaP66q"
      },
      "source": [
        "# Visualizamos los primeros 10 registros\n",
        "titanic.head(10)"
      ],
      "execution_count": null,
      "outputs": []
    },
    {
      "cell_type": "code",
      "metadata": {
        "id": "QmZBAOGkQC4j"
      },
      "source": [
        "# Visualizamos los últimos 10 registros\n",
        "titanic.tail(10)"
      ],
      "execution_count": null,
      "outputs": []
    },
    {
      "cell_type": "markdown",
      "metadata": {
        "id": "2rQx9ZlpQLLG"
      },
      "source": [
        "Y también podemos usar la función `len` para que nos diga cuántos registros tiene este *dataframe*:"
      ]
    },
    {
      "cell_type": "code",
      "metadata": {
        "id": "Pk9pINtpQKws"
      },
      "source": [
        "len(titanic)"
      ],
      "execution_count": null,
      "outputs": []
    },
    {
      "cell_type": "markdown",
      "metadata": {
        "id": "RZIO3zylQTYF"
      },
      "source": [
        "O también podemos usar shape que nos va a devolver una tupla con la cantidad de registros (filas) y la cantidad de variables (columnas) por registro:"
      ]
    },
    {
      "cell_type": "code",
      "metadata": {
        "id": "YC5Ci5ZnQWai"
      },
      "source": [
        "titanic.shape"
      ],
      "execution_count": null,
      "outputs": []
    },
    {
      "cell_type": "markdown",
      "metadata": {
        "id": "wZjZb2soQ8fG"
      },
      "source": [
        "Visualizamos el nombre de las columnas del dataset. Observa que es un array/vector"
      ]
    },
    {
      "cell_type": "code",
      "metadata": {
        "id": "ix55FDVuQ5Dx"
      },
      "source": [
        "titanic.columns.values"
      ],
      "execution_count": null,
      "outputs": []
    },
    {
      "cell_type": "code",
      "metadata": {
        "id": "kdoQmIQxQz_f"
      },
      "source": [
        "#Nombre de las variables\n",
        "print (titanic.columns.values)"
      ],
      "execution_count": null,
      "outputs": []
    },
    {
      "cell_type": "markdown",
      "metadata": {
        "id": "NPp8GJQXRdVq"
      },
      "source": [
        "La función \"info\" nos proporciona un primer vistazo de las columnas, su posición en el vector de variables, nombre de la columna, si tiene nulos y el tipo"
      ]
    },
    {
      "cell_type": "code",
      "metadata": {
        "id": "R-J4uU_XRdz6"
      },
      "source": [
        "titanic.info()"
      ],
      "execution_count": null,
      "outputs": []
    },
    {
      "cell_type": "markdown",
      "metadata": {
        "id": "u_vx_c12SCop"
      },
      "source": [
        "Y por último, podemos usar el atributo `describe` del *dataframe* para conocer los estadísticos descriptivos básicos del dataframe como son:\n",
        "\n",
        "* count: Cantidad de valores no nulos\n",
        "* mean: Media\n",
        "* std: Desviación estandar\n",
        "* min/25%/50%/75%/max: Valores mínimo, de percentiles 25, 50 y 75 y máximo."
      ]
    },
    {
      "cell_type": "markdown",
      "metadata": {
        "id": "or3yNT-bSt8D"
      },
      "source": [
        "Observa que lo hace para las variables numéricas"
      ]
    },
    {
      "cell_type": "code",
      "metadata": {
        "id": "HK_Nu_aySEut"
      },
      "source": [
        "titanic.describe()"
      ],
      "execution_count": null,
      "outputs": []
    },
    {
      "cell_type": "markdown",
      "metadata": {
        "id": "z_f7MknKTZAq"
      },
      "source": [
        "## 3. Revisando los tipos de datos de cada columna"
      ]
    },
    {
      "cell_type": "markdown",
      "metadata": {
        "id": "pK74Bc29TOez"
      },
      "source": [
        "Este paso es importante porque muchas veces por ejemplo, el precio o algún otro dato puede venir como una cadena de texto cuando en realidad queremos que sea un número de algún tipo. Si éste fuera el caso, tenemos que hacer la transformación del tipo de dato en la columna. \n",
        "\n",
        "En este caso en particular, por suerte, los datos vinieron correctamente."
      ]
    },
    {
      "cell_type": "code",
      "metadata": {
        "id": "khnNDCIgTPQq"
      },
      "source": [
        "titanic.dtypes"
      ],
      "execution_count": null,
      "outputs": []
    },
    {
      "cell_type": "markdown",
      "metadata": {
        "id": "iq2BbP9yT9Zj"
      },
      "source": [
        "En muchas ocasiones tendrá sentido definir nuevas variables de interés. \n",
        "Creamos una nueva variable llamada \"nueva\". \n",
        "La renombramos a \"columna_nueva\"\n",
        "Después la eliminamos"
      ]
    },
    {
      "cell_type": "code",
      "metadata": {
        "id": "pK8jAoinT-E3"
      },
      "source": [
        "titanic['nueva']=titanic['age']/10\n",
        "titanic.head(5)"
      ],
      "execution_count": null,
      "outputs": []
    },
    {
      "cell_type": "code",
      "metadata": {
        "id": "J76IOXWXUSZu"
      },
      "source": [
        "titanic = titanic.rename(columns={\"nueva\": \"columna_nueva\" })\n",
        "titanic.head(5)"
      ],
      "execution_count": null,
      "outputs": []
    },
    {
      "cell_type": "markdown",
      "metadata": {
        "id": "t5YI6Xn6V1IT"
      },
      "source": [
        "Las opciones de la función drop:\n",
        "\n",
        "axis = 0 (elimina fila) \n",
        "axis = 1 (elimina columna) \n",
        "\n",
        "inplace: Booleano. Si toma el valor True, la eliminación se realiza en el mismo dataframe. Si toma el valor False, el método devuelve una copia del dataframe tras eliminar las filas o columnas especificadas"
      ]
    },
    {
      "cell_type": "code",
      "metadata": {
        "id": "gAoEwlw-U6ro"
      },
      "source": [
        "titanic.drop('columna_nueva', axis=1, inplace=True) #elimino la variable, \n",
        "titanic.head(5)"
      ],
      "execution_count": null,
      "outputs": []
    },
    {
      "cell_type": "markdown",
      "metadata": {
        "id": "5y_fgGztWeKA"
      },
      "source": [
        "## 6. Eliminando registros duplicados"
      ]
    },
    {
      "cell_type": "markdown",
      "metadata": {
        "id": "8iVO1TLlWe_b"
      },
      "source": [
        "Es altamente probable que en un dataset de muchos registros algunos de ellos se encuentren duplicados. Tener registros duplicados en nuestro análisis puede alterar los resultados y, como consecuencia, nuestras conclusiones y el modelo que proponemos.\n",
        "\n",
        "Con shape vemos que el dataframe  tiene ahora 784 filas, por tanto ha eliminado 107 registros duplicados. Habría que ver con anterioridad qué registros son y por qué están duplicados para posteriormente eliminarlos."
      ]
    },
    {
      "cell_type": "code",
      "metadata": {
        "id": "xvmqRvrFWJf9"
      },
      "source": [
        "titanic.shape"
      ],
      "execution_count": null,
      "outputs": []
    },
    {
      "cell_type": "code",
      "metadata": {
        "id": "DcGR5UnMWNjL"
      },
      "source": [
        "titanic = titanic.drop_duplicates()"
      ],
      "execution_count": null,
      "outputs": []
    },
    {
      "cell_type": "code",
      "metadata": {
        "id": "wK94Q-EkWYYZ"
      },
      "source": [
        "titanic.shape"
      ],
      "execution_count": null,
      "outputs": []
    },
    {
      "cell_type": "markdown",
      "metadata": {
        "id": "GlDkjYY7XBNC"
      },
      "source": [
        "## 7. Conocer los registros con **variables NO INFORMADAS**. \n",
        "##ATENCIÓN NO ES RECOMENDABLE ELIMINARLOS"
      ]
    },
    {
      "cell_type": "markdown",
      "metadata": {
        "id": "8mJW65tDYVlH"
      },
      "source": [
        "Ahora queremos saber los registros que tengan alguna variable con valor no informado.\n",
        "\n",
        "Es común que, en vez de eliminar estos registros, se reemplacen los valores no informados por el valor promedio. PERO....\n",
        "Estas prácticas **NO SON ACONSEJABLES**, ya que tenemos que analizar muy bien previamente por qué están no informados ya que nos podrían dar mucha información oculta.\n",
        "\n",
        "En los ejemplos académicos se hace para que no molesten al hacer modelos matemáticos, pero en la realidad hay técnicas para tratarlos y que se utilicen como variables explicativas para los modelos matemáticos."
      ]
    },
    {
      "cell_type": "markdown",
      "metadata": {
        "id": "VM3vcQrsXE33"
      },
      "source": [
        "La función count nos informa por columna cuántos registros tienen valores informados (por tanto conozco los no informados)"
      ]
    },
    {
      "cell_type": "code",
      "metadata": {
        "id": "2YH7dC4hXNso"
      },
      "source": [
        "titanic.count()"
      ],
      "execution_count": null,
      "outputs": []
    },
    {
      "cell_type": "markdown",
      "metadata": {
        "id": "odCHhpnPZXVH"
      },
      "source": [
        "Contamos los valores no informados de cada variable"
      ]
    },
    {
      "cell_type": "code",
      "metadata": {
        "id": "kbzi2wp9ZUMu"
      },
      "source": [
        "titanic.isnull().sum()"
      ],
      "execution_count": null,
      "outputs": []
    },
    {
      "cell_type": "markdown",
      "metadata": {
        "id": "O5WyI21NZry3"
      },
      "source": [
        "#8. Tabla de frecuencias\n",
        "\n",
        "La tabla de frecuencias nos acerca más a la comprensión de los datos.\n",
        "\n",
        "Para variables categóricas (nominales) agrupar es fácil; simplemente debemos contar el número de ítems que corresponden a cada categoría y apilarlos. \n",
        "\n",
        "Veámoslo para las diferentes clases de pasajeros. Podemos organizar estos conteos en una tabla de frecuencias, que registra los totales y los nombres de las categorías utilizando la función value_counts que nos proporciona Pandas."
      ]
    },
    {
      "cell_type": "code",
      "metadata": {
        "id": "OFScctCLZ7AR"
      },
      "source": [
        "# tabla de frecuencias de clases de pasajeros\n",
        "pd.value_counts(titanic['class'])"
      ],
      "execution_count": null,
      "outputs": []
    },
    {
      "cell_type": "markdown",
      "metadata": {
        "id": "zRp8nvbwaadi"
      },
      "source": [
        "Contar la frecuencia de cada categoría puede ser útil, pero a veces puede resultar más útil saber la fracción o **proporción de los datos de cada categoría**, así que podríamos entonces dividir los recuentos por el **total de casos** para obtener los **porcentajes que representa cada categoría**.\n",
        "\n",
        "Una tabla de frecuencia relativa muestra los porcentajes, en lugar de los recuentos de los valores en cada categoría. "
      ]
    },
    {
      "cell_type": "code",
      "metadata": {
        "id": "4Q7ZsNruaR1S"
      },
      "source": [
        "len(titanic['class'])"
      ],
      "execution_count": null,
      "outputs": []
    },
    {
      "cell_type": "code",
      "metadata": {
        "id": "Zp83DNgmaOIq"
      },
      "source": [
        "# tabla de frecuencia relativa de pasajeros\n",
        "100 * titanic['class'].value_counts() / len(titanic['class'])"
      ],
      "execution_count": null,
      "outputs": []
    },
    {
      "cell_type": "markdown",
      "metadata": {
        "id": "SSNZVF6obscd"
      },
      "source": [
        "## 9. Detectando valores atípicos"
      ]
    },
    {
      "cell_type": "markdown",
      "metadata": {
        "id": "vSYJJVqkb35k"
      },
      "source": [
        "Un valor **atípico** es un punto (o valor) que es diferente de otros datos en el dataset. A veces pueden ser valores que **están muy por debajo** o **muy por encima**. \n",
        "\n",
        "Estos valores atípicos suelen generar modelos que no resultan representativos. Es por ello que es una buena alternativa saber que están y analizar si tenemos que eliminarlos del dataset.  \n",
        "\n",
        "Más abajo vemos cómo con Boxplot (o diagrama de cajas) podemos observar los valores atípicos rápidamente. "
      ]
    },
    {
      "cell_type": "code",
      "metadata": {
        "id": "JdAEk4P8by2c"
      },
      "source": [
        "sns.boxplot(data=titanic)"
      ],
      "execution_count": null,
      "outputs": []
    },
    {
      "cell_type": "markdown",
      "metadata": {
        "id": "c4Zp1mJfcfOn"
      },
      "source": [
        "Vemos rápidamente que la variable \"fare\" tiene un valor atípico. \n",
        "\n",
        "Analicemos por separado esta variable"
      ]
    },
    {
      "cell_type": "code",
      "metadata": {
        "id": "dKQW3t8VcaTD"
      },
      "source": [
        "sns.boxplot(data=titanic['fare'])"
      ],
      "execution_count": null,
      "outputs": []
    },
    {
      "cell_type": "code",
      "metadata": {
        "id": "p0KKC6usc8QW"
      },
      "source": [
        "titanic.mean()"
      ],
      "execution_count": null,
      "outputs": []
    },
    {
      "cell_type": "code",
      "metadata": {
        "id": "eO9aEI8kcy_G"
      },
      "source": [
        "titanic.median()"
      ],
      "execution_count": null,
      "outputs": []
    },
    {
      "cell_type": "code",
      "metadata": {
        "id": "bGUPydKVcrp3"
      },
      "source": [
        "sns.boxplot(data=titanic['age'])"
      ],
      "execution_count": null,
      "outputs": []
    },
    {
      "cell_type": "markdown",
      "metadata": {
        "id": "wL8RdEb7dhmB"
      },
      "source": [
        "Analicemos la dispersión de la tarifa del billete que como se ve, tiene valores outliers."
      ]
    },
    {
      "cell_type": "code",
      "metadata": {
        "id": "8Hg4Zb9wdm8W"
      },
      "source": [
        "sns.distplot(titanic['fare'])  # función de densidad\n",
        "titanic['fare'].describe()     #información descriptiva"
      ],
      "execution_count": null,
      "outputs": []
    },
    {
      "cell_type": "markdown",
      "metadata": {
        "id": "fpo8v5hDeTi7"
      },
      "source": [
        "Se observa que \"fare\" tiene una larga cola hacia la derecha (outliers).\n",
        "\n",
        "Analicemos los deciles y algunos percentiles para entender esos valores anómalos. Para esto, usaremos el método quantile para calcular los percentiles.\n",
        "\n",
        "* Los cuartiles, que dividen a la distribución en cuatro partes (corresponden a los cuantiles 0,25; 0,50 y 0,75);\n",
        "* Los quintiles, que dividen a la distribución en cinco partes (corresponden a los cuantiles 0,20; 0,40; 0,60 y 0,80);\n",
        "* Los deciles, que dividen a la distribución en diez partes;\n",
        "* Los percentiles, que dividen a la distribución en cien partes.\n",
        "* En el método Quantile: 0, 0.5 y 1 equivalen a valores mínimo, mediana y máximo."
      ]
    },
    {
      "cell_type": "code",
      "metadata": {
        "id": "ZS6MFU02ehDR"
      },
      "source": [
        "sns.boxplot(x=titanic['fare'])\n",
        "titanic['fare'].quantile([0, .1, .2, .3, .4, .5, .6, .7, .8, .9, .97, .98, .99, 1])"
      ],
      "execution_count": null,
      "outputs": []
    },
    {
      "cell_type": "markdown",
      "metadata": {
        "id": "UGQ0KwJDfU__"
      },
      "source": [
        "Veamos ahora la variable EDAD (AGE)"
      ]
    },
    {
      "cell_type": "code",
      "metadata": {
        "id": "jfPMRy1XfUxC"
      },
      "source": [
        "sns.distplot(titanic['age'])  # función de densidad\n",
        "titanic['age'].describe()    #información descriptiva"
      ],
      "execution_count": null,
      "outputs": []
    },
    {
      "cell_type": "code",
      "metadata": {
        "id": "wWnjrKN4fe9Q"
      },
      "source": [
        "sns.boxplot(x=titanic['fare'])\n",
        "titanic['age'].quantile([0, .01, .05, .09, .1, .2, .3, .4, .5, .6, .7, .8, .9, .97, .98, .99, 1])"
      ],
      "execution_count": null,
      "outputs": []
    },
    {
      "cell_type": "code",
      "metadata": {
        "id": "Tz-qVSEZgFmI"
      },
      "source": [
        "# Cuartiles\n",
        "titanic['age'].quantile([0, .25, .5, .75, 1])"
      ],
      "execution_count": null,
      "outputs": []
    },
    {
      "cell_type": "markdown",
      "metadata": {
        "id": "umIu9sbcg_Yk"
      },
      "source": [
        "## 10. Gráficas"
      ]
    },
    {
      "cell_type": "markdown",
      "metadata": {
        "id": "SQ1PQNJ4hDQE"
      },
      "source": [
        "### Histograma\n",
        "\n",
        "El histograma es una gráfica que representa la cantidad de ocurrencias de una variable en un intervalo determinado. \n",
        "\n",
        "El histograma o gráfico de barras nos ayuda a dar una impresión visual más precisa de la distribución de nuestros datos. La altura de cada barra muestra el recuento de su categoría. Los barras tienen el mismo ancho, por lo que sus alturas determinan sus áreas, y estas áreas son proporcionales a los recuentos en cada categoría. \n",
        "\n",
        "De esta forma, podemos ver fácilmente que había más del doble de pasajeros de tercera clase, que de primera o segunda clase. \n",
        "\n",
        "Los histogramas hacen que este tipo de comparaciones sean fáciles y naturales. Veamos cómo podemos crearlos de forma sencilla utilizando el método plot dentro de un DataFrame de Pandas."
      ]
    },
    {
      "cell_type": "markdown",
      "metadata": {
        "id": "CspZ430Qhxfz"
      },
      "source": [
        "\n",
        "**Atención con variables continuas** \n",
        "\n",
        "En este punto, debemos ser sumamente cuidadosos, ya que una mala visualización puede llegar a distorsionar nuestra comprensión, en lugar de ayudarnos. Y además, podríamos llegar a tener una visualización \"engañosa\" de la realidad.\n",
        "\n"
      ]
    },
    {
      "cell_type": "code",
      "metadata": {
        "id": "SqsjbIgrhK3b"
      },
      "source": [
        "titanic[\"class\"].value_counts().plot(kind='bar', figsize=(10,5))\n",
        "plt.title(\"Pasajeros del Titanic\")\n",
        "plt.ylabel('Cantidad de pasajeros')\n",
        "plt.xlabel('Clase');"
      ],
      "execution_count": null,
      "outputs": []
    },
    {
      "cell_type": "markdown",
      "metadata": {
        "id": "CAifuUb9jmnP"
      },
      "source": [
        "Si quisiéramos enfocarnos en la proporción relativa de los pasajeros de cada una de las clases, simplemente podemos sustituir a los recuentos con porcentajes y utilizar un histograma de frecuencias relativas."
      ]
    },
    {
      "cell_type": "code",
      "metadata": {
        "id": "WUJ-JY4ejW89"
      },
      "source": [
        "# Histograma de frecuencias relativas (en porcentaje)\n",
        "plot = (100 * titanic['class'].value_counts() / len(titanic['class'])).plot(\n",
        "kind='bar', title='Pasajeros del Titanic %')"
      ],
      "execution_count": null,
      "outputs": []
    },
    {
      "cell_type": "markdown",
      "metadata": {
        "id": "44NKd4lSmtDD"
      },
      "source": [
        "Otra forma de representación es el gráfico de tartas que en ocasiones es muy ilustrativo y de fácil comprensión."
      ]
    },
    {
      "cell_type": "code",
      "metadata": {
        "id": "Z9VEqOuzmvHq"
      },
      "source": [
        "# Gráfico de tarta de pasajeros del Titanic\n",
        "plot = titanic['class'].value_counts().plot(kind='pie', autopct='%.2f', \n",
        "                                            figsize=(6, 6),\n",
        "                                            title='Pasajeros del Titanic')                                \n"
      ],
      "execution_count": null,
      "outputs": []
    },
    {
      "cell_type": "markdown",
      "metadata": {
        "id": "ilGSWb_VjMjd"
      },
      "source": [
        "#Análisis de la Dispersión\n",
        "\n",
        "Hacemos una representación gráfica de 2 variables para encontrar correlación entre ellas. \n",
        "\n",
        "Ahora vamos a representar la EDAD frente a \"FARE\".\n",
        "\n"
      ]
    },
    {
      "cell_type": "markdown",
      "metadata": {
        "id": "nAFxO_gBliee"
      },
      "source": [
        "No se aprecia correlación entre AGE y FARE."
      ]
    },
    {
      "cell_type": "code",
      "metadata": {
        "id": "dTSWSB_-kIsi"
      },
      "source": [
        "fig, ax = plt.subplots(figsize=(10,6))\n",
        "ax.scatter(titanic['age'], titanic['fare'])\n",
        "ax.set_xlabel('age')\n",
        "ax.set_ylabel('fare')\n",
        "plt.show()"
      ],
      "execution_count": null,
      "outputs": []
    },
    {
      "cell_type": "markdown",
      "metadata": {
        "id": "c2EhwRyDmLwv"
      },
      "source": [
        "Matriz de correlaciones"
      ]
    },
    {
      "cell_type": "code",
      "metadata": {
        "id": "lPzcuKX1ljPm"
      },
      "source": [
        "titanic.corr()"
      ],
      "execution_count": null,
      "outputs": []
    },
    {
      "cell_type": "markdown",
      "metadata": {
        "id": "A859PFCdmJ0p"
      },
      "source": [
        "Efectivamente la matriz de correlaciones no nos arroja mucha luz por el hecho de tener muchas variables categóricas nos afecta a la hora de emplear este método de correlación"
      ]
    },
    {
      "cell_type": "markdown",
      "metadata": {
        "id": "jPao8pjSnd4b"
      },
      "source": [
        "#Relacionando variables categóricas\n",
        "\n",
        "Al analizar la tragedia del Titanic, una de las preguntas que nos podríamos hacer es:\n",
        "\n",
        "**¿existe alguna relación entre la clase de pasajeros y la posibilidad de alcanzar un bote salvavidas y sobrevivir a la tragedia?**\n",
        "\n",
        "Para poder responder a esta pregunta, vamos a necesitar analizar las variables **CLASS** y **SURVIVED** de nuestro dataset en forma conjunta. \n",
        "\n",
        "Una buena forma de analizar dos variables categóricas (nominales) en forma conjunta, es agrupar los recuentos en una tabla de doble entrada; este tipo de tablas se conocen en estadística con el nombre de **tabla de contingencia**. \n",
        "\n",
        "Emplearemos para ello la función crosstab de Pandas."
      ]
    },
    {
      "cell_type": "code",
      "metadata": {
        "id": "NsQBqP1Dnz5k"
      },
      "source": [
        "# Tabla de contingencia class / survived\n",
        "pd.crosstab(index=titanic['survived'],\n",
        "            columns=titanic['class'], margins=True)"
      ],
      "execution_count": null,
      "outputs": []
    },
    {
      "cell_type": "markdown",
      "metadata": {
        "id": "n03kA52RpePe"
      },
      "source": [
        "En porcentajes relativos del total de pasajeros"
      ]
    },
    {
      "cell_type": "code",
      "metadata": {
        "id": "ezxt0I6Yn2lB"
      },
      "source": [
        "# tabla de contingencia en porcentajes relativos total\n",
        "pd.crosstab(index=titanic['survived'], columns=titanic['class'],\n",
        "            margins=True).apply(lambda r: r/len(titanic) *100,\n",
        "                                axis=1)"
      ],
      "execution_count": null,
      "outputs": []
    },
    {
      "cell_type": "markdown",
      "metadata": {
        "id": "Mzfg4hDJoDav"
      },
      "source": [
        "**Interpretación de la tabla de contingencia**\n",
        "\n",
        "Con esta tabla podemos ver fácilmente que solo el 41% de los pasajeros sobrevivió a la tragedia y que este 41% se compone de la siguiente forma: del total de pasajeros sobrevivió un 17,21% de pasajeros que eran de primera clase, un 10.7% que eran de segunda clase y un 13.26% que eran pasajeros de tercera clase.\n",
        "\n",
        "Volviendo a nuestra pregunta inicial sobre la posibilidad de sobrevivir según la clase de pasajero, podría ser más útil mostrar la tabla de porcentajes como un **porcentaje relativo sobre el total de cada fila**, es decir calcular el **porcentaje relativo de haber sobrevivido o no para cada una de las clases**. \n",
        "\n",
        "Esto lo podemos realizar del siguiente modo:"
      ]
    },
    {
      "cell_type": "code",
      "metadata": {
        "id": "XspOiYzkpJw0"
      },
      "source": [
        "# tabla de contingencia en porcentajes relativos segun si ha sobrevivido o no\n",
        "pd.crosstab(index=titanic['survived'], columns=titanic['class']\n",
        "           ).apply(lambda r: r/r.sum() *100,\n",
        "                                axis=1)"
      ],
      "execution_count": null,
      "outputs": []
    },
    {
      "cell_type": "markdown",
      "metadata": {
        "id": "VbhXKnxxp8qb"
      },
      "source": [
        "Y por fin la tabla que todos estábamos esperando, la distribución o reparto porcentual por cada una de las categorias.. donde observaremos lo que ya todos esperábamos..."
      ]
    },
    {
      "cell_type": "code",
      "metadata": {
        "id": "aCCg88SgqKGO"
      },
      "source": [
        "# tabla de contingencia en porcentajes relativos segun cada clase\n",
        "pd.crosstab(index=titanic['survived'], columns=titanic['class']\n",
        "           ).apply(lambda r: r/r.sum() *100,\n",
        "                                axis=0)"
      ],
      "execution_count": null,
      "outputs": []
    },
    {
      "cell_type": "markdown",
      "metadata": {
        "id": "G8c4NCeXqb5n"
      },
      "source": [
        "Este último resultado lo podríamos representar visualmente con simples gráfico de barras del siguiente modo:"
      ]
    },
    {
      "cell_type": "code",
      "metadata": {
        "id": "1nVb-3ceqecY"
      },
      "source": [
        "# Gráfico de barras de sobreviviviente segun clase\n",
        "\n",
        "plot = pd.crosstab(index=titanic['class'],\n",
        "            columns=titanic['survived']).apply(lambda r: r/r.sum() *100,\n",
        "                                              axis=1).plot(kind='bar',figsize=(10,8))"
      ],
      "execution_count": null,
      "outputs": []
    },
    {
      "cell_type": "markdown",
      "metadata": {
        "id": "WjJR6UwKqsP3"
      },
      "source": [
        "O también así"
      ]
    },
    {
      "cell_type": "code",
      "metadata": {
        "id": "9KhQXzHgqrFt"
      },
      "source": [
        "# Gráfico de barras de sobreviviviente segun clase\n",
        "plot = pd.crosstab(index=titanic['survived'],\n",
        "            columns=titanic['class']\n",
        "                  ).apply(lambda r: r/r.sum() *100,\n",
        "                          axis=0).plot(kind='bar', stacked=True, figsize=(10, 8))"
      ],
      "execution_count": null,
      "outputs": []
    },
    {
      "cell_type": "markdown",
      "metadata": {
        "id": "XptdNoGZ4PRH"
      },
      "source": [
        "# EJERCICIO"
      ]
    },
    {
      "cell_type": "markdown",
      "metadata": {
        "id": "cqKMZYla4SX8"
      },
      "source": [
        "##1.- Encuentra otras variables que creas que podrían justificar la SUPERVIVENCIA de los pasajeros.\n",
        "\n",
        "##2.- Justifica tu respuesta\n"
      ]
    }
  ]
}