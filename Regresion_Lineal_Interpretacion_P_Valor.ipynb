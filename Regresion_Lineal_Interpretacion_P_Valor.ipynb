{
  "nbformat": 4,
  "nbformat_minor": 0,
  "metadata": {
    "colab": {
      "name": "Regresion_Lineal_Interpretacion_P_Valor.ipynb",
      "provenance": [],
      "collapsed_sections": []
    },
    "kernelspec": {
      "name": "python3",
      "display_name": "Python 3"
    },
    "language_info": {
      "name": "python"
    }
  },
  "cells": [
    {
      "cell_type": "markdown",
      "source": [
        "# INTRODUCCIÓN A INFERENCIA ESTADÍSTICA\n",
        "## **REGRESIÓN LINEAL y P-VALOR**\n",
        "### Madrid, 14 de febrero de 2022\n",
        "### Ángeles Garrido"
      ],
      "metadata": {
        "id": "ihKcRKIpIZvQ"
      }
    },
    {
      "cell_type": "markdown",
      "source": [
        "Librerías"
      ],
      "metadata": {
        "id": "shyJcT0DIe4K"
      }
    },
    {
      "cell_type": "code",
      "source": [
        "import pandas as pd\n",
        "import numpy as np\n",
        "import seaborn as sns                       #conjunto de datos y visualisation\n",
        "import matplotlib.pyplot as plt             #visualisation\n",
        "from scipy import stats                     # cálculos estadísticos\n",
        "\n",
        "%matplotlib inline  "
      ],
      "metadata": {
        "id": "b9HD9JuH7iu3"
      },
      "execution_count": null,
      "outputs": []
    },
    {
      "cell_type": "markdown",
      "source": [
        "Generación de una nube de puntos con tendencia lineal (y un factor aleatorio)"
      ],
      "metadata": {
        "id": "0INyTMVhIhLp"
      }
    },
    {
      "cell_type": "code",
      "source": [
        "# Generación de números con tendencia lineal y un factor aleatorio\n",
        "\n",
        "rng = np.random.RandomState(seed=12345)\n",
        "x = 20 * rng.rand(100)\n",
        "y = 2 * x - 5 + 3*rng.randn(100)\n",
        "plt.scatter(x, y);"
      ],
      "metadata": {
        "id": "u2NXyG9vBG4k"
      },
      "execution_count": null,
      "outputs": []
    },
    {
      "cell_type": "markdown",
      "source": [
        "REGRESIÓN LINEAL"
      ],
      "metadata": {
        "id": "4oo37bpf_R68"
      }
    },
    {
      "cell_type": "markdown",
      "source": [
        "Calculamos la regresión lineal de la nube de puntos generada"
      ],
      "metadata": {
        "id": "LXyu-j44I0ra"
      }
    },
    {
      "cell_type": "code",
      "source": [
        "slope, intercept, r_value, p_value, std_err = stats.linregress(x, y)"
      ],
      "metadata": {
        "id": "SXIMpi838pJW"
      },
      "execution_count": null,
      "outputs": []
    },
    {
      "cell_type": "code",
      "source": [
        "# Definemos una función que predice 'y' (variable de output), a partir de 'x' (variable de input)  \n",
        "\n",
        "def predict(x):\n",
        "    print(\"y = \"+str(slope)+\"*x \"+str(intercept))\n",
        "    return slope * x + intercept"
      ],
      "metadata": {
        "id": "fB8Tc8P1_hWB"
      },
      "execution_count": null,
      "outputs": []
    },
    {
      "cell_type": "code",
      "source": [
        "# Visualizemos el modelo aprendido por el algoritmo de Regresión Lineal\n",
        "\n",
        "fitLine = predict(x)\n",
        "axes = plt.axes()\n",
        "axes.grid()\n",
        "plt.scatter(x,y)\n",
        "plt.plot(x, fitLine, c='red')\n",
        "plt.show()"
      ],
      "metadata": {
        "id": "JzfAAJRg84rX"
      },
      "execution_count": null,
      "outputs": []
    },
    {
      "cell_type": "code",
      "source": [
        "p_value"
      ],
      "metadata": {
        "id": "BDK-s_tFGJmO"
      },
      "execution_count": null,
      "outputs": []
    },
    {
      "cell_type": "code",
      "source": [
        "print(\" El p_valor es: {:.65f}\".format(p_value))"
      ],
      "metadata": {
        "id": "59Fzce2rGDZ0"
      },
      "execution_count": null,
      "outputs": []
    },
    {
      "cell_type": "markdown",
      "source": [
        "#EJEMPLO EN EL DATASET DEL TITANIC"
      ],
      "metadata": {
        "id": "D9SWVD6sCGlX"
      }
    },
    {
      "cell_type": "code",
      "source": [
        "# importando el dataset\n",
        "titanic = sns.load_dataset('titanic')\n",
        "titanic"
      ],
      "metadata": {
        "id": "pvFMOWyhCOmK"
      },
      "execution_count": null,
      "outputs": []
    },
    {
      "cell_type": "code",
      "source": [
        "# Selección de la columna de nuestro dataset (EDAD)\n",
        "x = titanic.iloc[0:len(titanic),3]\n",
        "\n",
        "# Selección de la columna de nuestro dataset (TARIFA)\n",
        "y = titanic.iloc[0:len(titanic),6] "
      ],
      "metadata": {
        "id": "xkEukbqMCZoX"
      },
      "execution_count": null,
      "outputs": []
    },
    {
      "cell_type": "markdown",
      "source": [
        "Regresión Lineal"
      ],
      "metadata": {
        "id": "Q7umAQWqCthv"
      }
    },
    {
      "cell_type": "code",
      "source": [
        "slope, intercept, r_value, p_value, std_err = stats.linregress(x, y)"
      ],
      "metadata": {
        "id": "BakFV7LXCshL"
      },
      "execution_count": null,
      "outputs": []
    },
    {
      "cell_type": "code",
      "source": [
        "# Visualizemos el modelo aprendido por el algoritmo de Regresión Lineal\n",
        "\n",
        "fitLine = predict(x)\n",
        "axes = plt.axes()\n",
        "axes.grid()\n",
        "plt.scatter(x,y)\n",
        "plt.plot(x, fitLine, c='red')\n",
        "plt.show()"
      ],
      "metadata": {
        "id": "PxSaTnd7Czme"
      },
      "execution_count": null,
      "outputs": []
    },
    {
      "cell_type": "markdown",
      "source": [
        "No hay relación lineal entre ambas variables"
      ],
      "metadata": {
        "id": "Fwahwn0AGVFd"
      }
    }
  ]
}