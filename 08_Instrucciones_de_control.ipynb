{
  "nbformat": 4,
  "nbformat_minor": 0,
  "metadata": {
    "colab": {
      "name": "08.Instrucciones de control.ipynb",
      "provenance": [],
      "collapsed_sections": []
    },
    "kernelspec": {
      "name": "python3",
      "display_name": "Python 3"
    }
  },
  "cells": [
    {
      "cell_type": "markdown",
      "metadata": {
        "id": "lwlT5Gzh_KI3"
      },
      "source": [
        "**Instrucciones de control**\n",
        "\n",
        "Las instrucciones de control o bien llamadas estructuras de control nos permiten agregar codigo de forma controlada\n",
        "\n",
        "Las instrucciones de control de python son:\n",
        "1. if\n",
        "2. for\n",
        "3. while\n",
        "\n",
        "Cualquiera de las instrucciones se puede anidar, aunque debemos de evitar esa practica por evitar complejidad en el código.\n",
        "\n",
        "Paralelamente a estas instrucciones nos encontramos con el **operador ternario** que aunque sintácticamente es parecido a un if podemos con una sola linea de código asignar a una variable un valor ante una condición verdadera y otro valor para la condición falsa "
      ]
    },
    {
      "cell_type": "markdown",
      "metadata": {
        "id": "qXEswiwUdNPq"
      },
      "source": [
        "# if"
      ]
    },
    {
      "cell_type": "markdown",
      "metadata": {
        "id": "TP9dGYBEdR3C"
      },
      "source": [
        "Nos va a permitir ejecutar una expresión si la expresión es verdadera, puede constar de tres partes, siendo solamente la parte verdadera la obligatoria.\n",
        "\n",
        "1. **if [expression] :** Instruccion obligatoria\n",
        "2. **else:** Solo es necesario si queremos hacer algo cuando la expresión del if no se cumple\n",
        "3. **elif [expresion]:** Otras posibles condiciones verdaderas"
      ]
    },
    {
      "cell_type": "markdown",
      "metadata": {
        "id": "wYlk0gTQeNVS"
      },
      "source": [
        "**Retornar los pares de un array**"
      ]
    },
    {
      "cell_type": "code",
      "metadata": {
        "id": "yXuHsuQMeSYC"
      },
      "source": [
        "def evens(L):\n",
        "  result=[]\n",
        "  for v in L:\n",
        "    if(v%2==0):\n",
        "      result.append(v)\n",
        "  return result\n",
        "\n",
        "evens([1,2,3])\n"
      ],
      "execution_count": null,
      "outputs": []
    },
    {
      "cell_type": "markdown",
      "metadata": {
        "id": "YLlouKitfVvM"
      },
      "source": [
        "**Si el valor del parametro action es igual a 1 retornar 'ok' en caso contrario 'error'**"
      ]
    },
    {
      "cell_type": "code",
      "metadata": {
        "id": "qSwkgAqafnRO"
      },
      "source": [
        "def get_result(action):\n",
        "  if action==1:\n",
        "    return 'ok'\n",
        "  else:\n",
        "    return 'error'\n",
        "print(get_result(1))\n",
        "print(get_result(0))\n"
      ],
      "execution_count": null,
      "outputs": []
    },
    {
      "cell_type": "markdown",
      "metadata": {
        "id": "HZ6CHTAQgJfR"
      },
      "source": [
        "**Para mayor claridad de codigo esto se podría resolver sin utilizar else**"
      ]
    },
    {
      "cell_type": "code",
      "metadata": {
        "id": "0TvuZezVgSBJ"
      },
      "source": [
        "def get_result(action):\n",
        "  if action!=1:\n",
        "    return 'error'\n",
        "  return 'ok'\n",
        "print(get_result(1))\n",
        "print(get_result(0))"
      ],
      "execution_count": null,
      "outputs": []
    },
    {
      "cell_type": "markdown",
      "metadata": {
        "id": "FzATQyS8BXJ_"
      },
      "source": [
        "**O mucho mejor si utilizamos el operador ternario**"
      ]
    },
    {
      "cell_type": "code",
      "metadata": {
        "id": "lBWciOjCBfIH"
      },
      "source": [
        "def get_result(action):\n",
        "  return 'ok' if action==1 else 'error'\n",
        "print(get_result(1))\n",
        "print(get_result(0))"
      ],
      "execution_count": null,
      "outputs": []
    },
    {
      "cell_type": "markdown",
      "metadata": {
        "id": "0pcw2tpeCOIB"
      },
      "source": [
        "**Escribir una funcion que realize lo siguiente**\n",
        "1. Si la función recibe 1 devolver \"muy malo\"\n",
        "2. Si la funcion recibe 2 devolver \"malo\"\n",
        "3. Si la funcion recibe 3 devolver \"regular\"\n",
        "4. Si la funcion recibe 4 devolver \"bueno\"\n",
        "5. Si la funcion recibe 5 devolver \"muy bueno\"\n",
        "\n",
        "En el caso que los valores no estén entre el rango 1 a 5 devolver error"
      ]
    },
    {
      "cell_type": "markdown",
      "metadata": {
        "id": "WZ7fCiwpDDae"
      },
      "source": [
        "**1. Solución**"
      ]
    },
    {
      "cell_type": "code",
      "metadata": {
        "id": "z6OSrqx9C3bh"
      },
      "source": [
        "def rating(value):\n",
        "    if value==1:\n",
        "      return 'muy malo'\n",
        "    elif value==2:\n",
        "      return 'malo'\n",
        "    elif value==3:\n",
        "      return 'regular'\n",
        "    elif value==4:\n",
        "      return 'bueno'\n",
        "    elif value==5:\n",
        "      return 'muy bueno'\n",
        "    else:\n",
        "      return 'error'\n",
        "\n",
        "print(rating(1))\n",
        "print(rating(2))\n",
        "print(rating(3))\n",
        "print(rating(4))\n",
        "print(rating(5))\n",
        "print(rating(0))\n",
        "print(rating(6))\n",
        "\n",
        "      \n"
      ],
      "execution_count": null,
      "outputs": []
    },
    {
      "cell_type": "markdown",
      "metadata": {
        "id": "mBbdlafpEi05"
      },
      "source": [
        "**Solución basada en diccionarios**"
      ]
    },
    {
      "cell_type": "code",
      "metadata": {
        "id": "HXkNxm7AEqY6",
        "colab": {
          "base_uri": "https://localhost:8080/"
        },
        "outputId": "37a3343e-df0c-4547-ac7c-e19f968f6807"
      },
      "source": [
        "def rating(value):\n",
        "  ratings = {\n",
        "      1:lambda : 'muy malo',\n",
        "      2:lambda : 'malo',\n",
        "      3:lambda : 'regular',\n",
        "      93:lambda : 'Barcelona',\n",
        "      5:lambda : 'muy bueno'\n",
        "  }\n",
        "  result = ratings.get(value,lambda : 'error')\n",
        "  return result()\n",
        "\n",
        "print(rating(1))\n",
        "print(rating(2))\n",
        "print(rating(93))\n",
        "print(rating(4))\n",
        "print(rating(5))\n",
        "print(rating(0))\n",
        "print(rating(6))\n",
        "\n"
      ],
      "execution_count": null,
      "outputs": [
        {
          "output_type": "stream",
          "text": [
            "muy malo\n",
            "malo\n",
            "Barcelona\n",
            "error\n",
            "muy bueno\n",
            "error\n",
            "error\n"
          ],
          "name": "stdout"
        }
      ]
    },
    {
      "cell_type": "markdown",
      "metadata": {
        "id": "PxRscvazGYaQ"
      },
      "source": [
        "# For"
      ]
    },
    {
      "cell_type": "markdown",
      "metadata": {
        "id": "tcmm8FYyGfna"
      },
      "source": [
        "Un for se utiliza para iterar sobre una secuencia de información que puede ser lista,tupla, diccionario, set o cadena"
      ]
    },
    {
      "cell_type": "code",
      "metadata": {
        "id": "H8ybBI2BINKF",
        "colab": {
          "base_uri": "https://localhost:8080/"
        },
        "outputId": "10b9f7a7-1f32-4ba2-eaba-38954a09b596"
      },
      "source": [
        "print('lista')\n",
        "for v in [1,2,3]: #iteramos por una lista\n",
        "  print(v)\n",
        "print('tupla')\n",
        "for v in (1,2,3): #iteramos por una tupla\n",
        "  print(v)\n",
        "print('diccionario')\n",
        "for k,v in {'id':1}: #iteramos por un diccionario obteniendo las claves y los valores\n",
        "  print(k,'-->',v)\n",
        "print('cadena')\n",
        "for v in 'Hello':\n",
        "  print(v)"
      ],
      "execution_count": null,
      "outputs": [
        {
          "output_type": "stream",
          "text": [
            "lista\n",
            "1\n",
            "2\n",
            "3\n",
            "tupla\n",
            "1\n",
            "2\n",
            "3\n",
            "diccionario\n",
            "i --> d\n",
            "cadena\n",
            "H\n",
            "e\n",
            "l\n",
            "l\n",
            "o\n"
          ],
          "name": "stdout"
        }
      ]
    },
    {
      "cell_type": "markdown",
      "metadata": {
        "id": "j688bwr_JX8q"
      },
      "source": [
        "**La sentencia for tiene una instrucción else que es para cuando termine la iteración**"
      ]
    },
    {
      "cell_type": "code",
      "metadata": {
        "id": "a9E-cYq5JiJr",
        "colab": {
          "base_uri": "https://localhost:8080/"
        },
        "outputId": "7f11a146-2503-4b4d-b943-806916220c41"
      },
      "source": [
        "print('antes de iterar')\n",
        "for v in [1,2,3]:\n",
        "  print(v)\n",
        "else:\n",
        "  print('final de iteración')\n",
        "print('final de ejecución')"
      ],
      "execution_count": null,
      "outputs": [
        {
          "output_type": "stream",
          "text": [
            "antes de iterar\n",
            "1\n",
            "2\n",
            "3\n",
            "final de iteración\n",
            "final de ejecución\n"
          ],
          "name": "stdout"
        }
      ]
    },
    {
      "cell_type": "markdown",
      "metadata": {
        "id": "W3kObw6-KF0j"
      },
      "source": [
        "La sentencia for puede utilizar las instrucciones **break** y **continue** aunque no se recomienda su uso, puesto que todo lo que hacen ambas sentencias se puede hacer con un bucle **while**\n",
        "\n",
        "1. la sentencia break fuerza la salida de la iteración\n",
        "2. la sentencia continue no procesa una serie de datos y sigue iterando"
      ]
    },
    {
      "cell_type": "markdown",
      "metadata": {
        "id": "3YHe5ufPKxFq"
      },
      "source": [
        "# while"
      ]
    },
    {
      "cell_type": "markdown",
      "metadata": {
        "id": "I1yTCcilLBt1"
      },
      "source": [
        "Ejecutamos una serie de instrucciones siempre que la condición se cumpla"
      ]
    },
    {
      "cell_type": "markdown",
      "metadata": {
        "id": "rVFv-2IwLKmh"
      },
      "source": [
        "**Iterar por una lista por su indice**"
      ]
    },
    {
      "cell_type": "code",
      "metadata": {
        "id": "LWK5mJQJLH4c"
      },
      "source": [
        "index=0\n",
        "a=[1,2,3]\n",
        "while index<len(a):\n",
        "  print(a[index])\n",
        "  index +=1"
      ],
      "execution_count": null,
      "outputs": []
    },
    {
      "cell_type": "markdown",
      "metadata": {
        "id": "D0_4eSCrLv5U"
      },
      "source": [
        "Al igual que la sentencia **for**. la sentencia **while** puede contener un else y utilizar break y continue"
      ]
    }
  ]
}