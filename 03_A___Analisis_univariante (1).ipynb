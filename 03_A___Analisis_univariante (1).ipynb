{
  "nbformat": 4,
  "nbformat_minor": 0,
  "metadata": {
    "colab": {
      "name": "03 A _ Analisis_univariante.ipynb",
      "provenance": [],
      "toc_visible": true
    },
    "kernelspec": {
      "name": "python3",
      "display_name": "Python 3"
    }
  },
  "cells": [
    {
      "cell_type": "markdown",
      "metadata": {
        "id": "R53FGLN8jo1L"
      },
      "source": [
        "# 01 INTRO: Análisis Univariante \n",
        "Explicación de cómo realizar análisis univariantes.\n",
        "\n",
        "Notebook por [Javier Blanco Cordero](https://www.linkedin.com/in/javier-blanco-cordero-71373656/).\n",
        "\n",
        "### Enlaces de interés\n",
        "*   [Slides de presentación](https://docs.google.com/presentation/d/1WNWGnLUyiGqwFf92V3V_szu3QTD_0EQY5GZjhFgen5Q/edit?usp=sharing)\n",
        "*   [Enlace a este notebook en Colab](https://colab.research.google.com/github/JotaBlanco/TheValley/blob/main/Notebooks/03-analisis-univariante-causal-multivariante/03_A___Analisis_univariante.ipynb)\n",
        "\n",
        "\n"
      ]
    },
    {
      "cell_type": "markdown",
      "metadata": {
        "id": "LSuEDXhPLi8u"
      },
      "source": [
        "## 0101 Qué es un análisis univariante?\n",
        "El análisis univariante consiste en estudiar la distribución y características de una sola variable.\n",
        "\n",
        "Veamos con ejemplos:"
      ]
    },
    {
      "cell_type": "markdown",
      "metadata": {
        "id": "cnHRaho3rsXS"
      },
      "source": [
        "## 0102 Import\n",
        "Importamos todas las librerías necesarias para este análisis ([¿No sabes lo que es una librería de Python?](https://www.quora.com/What-is-a-Python-library-and-what-can-I-use-it-for)): pandas, numpy, seaborn, matplotlib."
      ]
    },
    {
      "cell_type": "code",
      "metadata": {
        "id": "4be6xiUqjPHI"
      },
      "source": [
        "import pandas as pd\n",
        "import numpy as np\n",
        "import matplotlib.pyplot as plt\n",
        "import seaborn as sns"
      ],
      "execution_count": null,
      "outputs": []
    },
    {
      "cell_type": "markdown",
      "metadata": {
        "id": "AblkT14d4Gvt"
      },
      "source": [
        "## 0103 Carga el dataset Fifa19\n",
        "Para probar a hacer análisis univariantes utilizaremos el dataframe con datos ya limpios del fifa 19 (esta es la url de la versión raw de mi archivo ya limpio 'https://raw.githubusercontent.com/JotaBlanco/TheValley/main/Data/Fifa19_Clean.csv'). Importa este dataset en un dataframe llamado **df_fifa19**.\n",
        "\n",
        "Utiliza solo las columnas cols = ['Name', 'Age', 'Nationality', 'Overall', 'Potential', 'Club', 'Work Rate', \n",
        "        'Height_cm', 'Weight_kg', 'Value_€', 'Wage_€', \n",
        "        'Release Clause_€', 'Preferred Foot', 'Position', 'SprintSpeed'] y en este orden."
      ]
    },
    {
      "cell_type": "code",
      "metadata": {
        "id": "GMZACcIXOclu"
      },
      "source": [
        "cols = ['Name', 'Age', 'Nationality', 'Overall', 'Potential', 'Club', \n",
        "        'Work Rate', 'Height_cm', 'Weight_kg', 'Value_€', 'Wage_€', \n",
        "        'Release Clause_€', 'Preferred Foot', 'Position', 'SprintSpeed']\n",
        "\n",
        "# Url archivo raw\n",
        "url = 'https://raw.githubusercontent.com/JotaBlanco/TheValley/main/Data/Fifa19_Clean.csv'\n",
        "\n",
        "# Importa csv\n",
        "df_fifa19 = pd.read_csv(url, usecols=cols)\n",
        "\n",
        "# Visualización primeras filas\n",
        "df_fifa19.head()"
      ],
      "execution_count": null,
      "outputs": []
    },
    {
      "cell_type": "markdown",
      "metadata": {
        "id": "KBOQJ0AjdYrM"
      },
      "source": [
        "# 02 Variable numérica \n",
        "Veamos cómo estudiar una variable numérica (continua)."
      ]
    },
    {
      "cell_type": "markdown",
      "metadata": {
        "id": "AP85ZBHiRZHD"
      },
      "source": [
        "### 0201 Método .describe()\n",
        "El método .[describe()](https://pandas.pydata.org/pandas-docs/stable/reference/api/pandas.DataFrame.describe.html) devuelve automáticamente sólo las variables numéricas, con los estadísticos básicos:\n",
        "\n",
        "\n",
        "*   Count\n",
        "*   Mean\n",
        "*   std\n",
        "*   min\n",
        "*   25%\n",
        "*   50%\n",
        "*   75%\n",
        "*   max\n",
        "\n"
      ]
    },
    {
      "cell_type": "code",
      "metadata": {
        "id": "KASXfcX1o-lr"
      },
      "source": [
        "df_fifa19.describe()"
      ],
      "execution_count": null,
      "outputs": []
    },
    {
      "cell_type": "markdown",
      "metadata": {
        "id": "6GfQltGqs849"
      },
      "source": [
        "## 0202 Visualización de la distribución\n",
        "Los estadísticos básicos del .describe() nos dan información importante, pero suele ser más intuitivo, y muy útil, visualizar el histograma.\n",
        "\n",
        "Recordad, podemos generar un histograma con plt.[hist()](https://matplotlib.org/3.1.1/api/_as_gen/matplotlib.pyplot.hist.html)."
      ]
    },
    {
      "cell_type": "code",
      "metadata": {
        "id": "gIyQLm3oSTAr"
      },
      "source": [
        "sns.set()"
      ],
      "execution_count": null,
      "outputs": []
    },
    {
      "cell_type": "code",
      "metadata": {
        "id": "9mYRz8Tty_br"
      },
      "source": [
        "# Distribución de variable 'Overall'\n",
        "plt.hist(df_fifa19['Overall'])\n",
        "plt.show()"
      ],
      "execution_count": null,
      "outputs": []
    },
    {
      "cell_type": "code",
      "metadata": {
        "id": "r_sDdZcv4y0B"
      },
      "source": [
        "# Ver distribución de todas las columnas\n",
        "for columna in df_fifa19.describe().columns:\n",
        "  plt.hist(df_fifa19[columna])\n",
        "  plt.title(columna)\n",
        "  plt.show()"
      ],
      "execution_count": null,
      "outputs": []
    },
    {
      "cell_type": "markdown",
      "metadata": {
        "id": "lcnJKyElO8FU"
      },
      "source": [
        "# 03 Variable categórica\n",
        "Vamos cómo estudiar la distribución de una variable categórica."
      ]
    },
    {
      "cell_type": "markdown",
      "metadata": {
        "id": "7TX8LhTlWZC7"
      },
      "source": [
        "## 0301 Método value_counts()\n",
        "El método .[value_counts()](https://pandas.pydata.org/pandas-docs/stable/reference/api/pandas.Series.value_counts.html) devuelve la frecuencia de cada categoría."
      ]
    },
    {
      "cell_type": "code",
      "metadata": {
        "id": "4u_jD4FRPbZ7"
      },
      "source": [
        "df_fifa19['Nationality'].value_counts()"
      ],
      "execution_count": null,
      "outputs": []
    },
    {
      "cell_type": "code",
      "metadata": {
        "id": "Q-9OnPcLW-1E"
      },
      "source": [
        "df_fifa19['Preferred Foot'].value_counts()"
      ],
      "execution_count": null,
      "outputs": []
    },
    {
      "cell_type": "markdown",
      "metadata": {
        "id": "2w2N5MonXC1r"
      },
      "source": [
        "## 0302 Visualización de la frecuencia\n",
        "Recordemos, el método de visualización recomendado son las barras:\n",
        "\n",
        "\n",
        "*   plt.[bar()](https://matplotlib.org/3.1.1/api/_as_gen/matplotlib.pyplot.bar.html)\n",
        "*   plt.[barh()](https://matplotlib.org/3.1.1/api/_as_gen/matplotlib.pyplot.barh.html)\n",
        "\n",
        "Normalmente los gráficos de tarta no se recomiendan salvo en circunstancias excepcionales. Por ejemplo, cuando las categorías que se muestran son parte de un todo, el número de categorías es pequeño y saber si ciertas categorías suman más de un 50% es importante. La función plt.[pie()](https://matplotlib.org/3.1.1/api/_as_gen/matplotlib.pyplot.pie.html) genera un gráfico de tarta.\n"
      ]
    },
    {
      "cell_type": "code",
      "metadata": {
        "id": "3S1AFCZ6Yfuc"
      },
      "source": [
        "# Guardamos el resultado del value_counts (que está en formato serie)\n",
        "serie_nacionalidad = df_fifa19['Nationality'].value_counts()[:15]\n",
        "serie_pie = df_fifa19['Preferred Foot'].value_counts()"
      ],
      "execution_count": null,
      "outputs": []
    },
    {
      "cell_type": "code",
      "metadata": {
        "id": "SCw_Md3LPwNF"
      },
      "source": [
        "# Barras verticales\n",
        "plt.bar(x = serie_pie.index, height = serie_pie.values)\n",
        "plt.show()"
      ],
      "execution_count": null,
      "outputs": []
    },
    {
      "cell_type": "code",
      "metadata": {
        "id": "YJG6Z25OaMud"
      },
      "source": [
        "# Gráfico de tarta\n",
        "plt.pie(serie_pie.values, labels=serie_pie.index)\n",
        "plt.show()"
      ],
      "execution_count": null,
      "outputs": []
    },
    {
      "cell_type": "code",
      "metadata": {
        "id": "klL3c30fVIMt"
      },
      "source": [
        "# Barras horizontales\n",
        "plt.barh(y = serie_nacionalidad.index, width = serie_nacionalidad.values)\n",
        "plt.gca().invert_yaxis()"
      ],
      "execution_count": null,
      "outputs": []
    },
    {
      "cell_type": "markdown",
      "metadata": {
        "id": "t4yTORdwuHCZ"
      },
      "source": [
        "## 0303 EJERCICIO\n",
        "Visualiza la variable categórica Posición (para las 10 posiciones más habituales) en barras horizontales."
      ]
    },
    {
      "cell_type": "code",
      "metadata": {
        "id": "uB8jnVUOVNrP"
      },
      "source": [
        "serie_posicion = df_fifa19['Position'].value_counts()[:10]\n",
        "serie_posicion"
      ],
      "execution_count": null,
      "outputs": []
    },
    {
      "cell_type": "code",
      "metadata": {
        "id": "1mzfw0mNukZs"
      },
      "source": [
        "# Visualización\n",
        "plt.barh(y = serie_posicion.index, \n",
        "         width = serie_posicion.values)\n",
        "plt.gca().invert_yaxis()\n",
        "plt.title('Posición')\n",
        "plt.show()"
      ],
      "execution_count": null,
      "outputs": []
    }
  ]
}