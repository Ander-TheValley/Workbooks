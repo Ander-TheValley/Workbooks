{
  "nbformat": 4,
  "nbformat_minor": 0,
  "metadata": {
    "colab": {
      "name": "Soluciones de Ejercicios Introducción a DataFrames con Pandas.ipynb.ipynb",
      "provenance": [],
      "collapsed_sections": []
    },
    "kernelspec": {
      "name": "python3",
      "display_name": "Python 3"
    }
  },
  "cells": [
    {
      "cell_type": "markdown",
      "source": [
        "# Ejercicio 1"
      ],
      "metadata": {
        "id": "yZQsQyYzQ_6X"
      }
    },
    {
      "cell_type": "markdown",
      "source": [
        "Crea, a partir de un diccionario, un DataFrame llamado *data* con los datos de la tabla siguiente, consulta su índice y los tipos de datos de sus columnas:\n",
        "\n",
        "\n",
        "|Mes|Ventas|Gastos|\n",
        "| - | - | - |\n",
        "|Enero| 30500|22000|\n",
        "|Febrero|34120|23400|\n",
        "|Marzo|31200|25112|\n",
        "\n",
        "*Nota: La columna Mes ha de ser el index"
      ],
      "metadata": {
        "id": "Q5jz11B-RDrY"
      }
    },
    {
      "cell_type": "code",
      "source": [
        "# Opción 1\n",
        "import pandas as pd\n",
        "\n",
        "data_dict = {\n",
        "    \"Mes\": ['Enero', 'Febrero', 'Marzo'],\n",
        "    \"Ventas\": [30500, 34120, 31200],\n",
        "    \"Gastos\": [22000, 23400, 25112]\n",
        "}\n",
        "\n",
        "data = pd.DataFrame(data_dict)\n",
        "data.set_index('Mes', inplace=True)\n",
        "data"
      ],
      "metadata": {
        "id": "h36FZeGEmozk"
      },
      "execution_count": null,
      "outputs": []
    },
    {
      "cell_type": "code",
      "source": [
        "# Opción 2\n",
        "import pandas as pd\n",
        "\n",
        "index_array = ['Enero', 'Febrero', 'Marzo']\n",
        "data_dict = {\n",
        "    \"Ventas\": [30500, 34120, 31200],\n",
        "    \"Gastos\": [22000, 23400, 25112]\n",
        "}\n",
        "\n",
        "data = pd.DataFrame(data_dict, index=index_array)\n",
        "\n",
        "# Podemos asignar un nombre al índice escribiendo sobre su atributo name\n",
        "data.index.name = 'Mes'\n",
        "\n",
        "data"
      ],
      "metadata": {
        "id": "AuPBzGAtRVmr"
      },
      "execution_count": null,
      "outputs": []
    },
    {
      "cell_type": "code",
      "source": [
        "data.index"
      ],
      "metadata": {
        "id": "cIeFIeS7Ti6l"
      },
      "execution_count": null,
      "outputs": []
    },
    {
      "cell_type": "code",
      "source": [
        "data.dtypes"
      ],
      "metadata": {
        "id": "F-dttj1UTir-"
      },
      "execution_count": null,
      "outputs": []
    },
    {
      "cell_type": "markdown",
      "metadata": {
        "id": "Rfmqs3Y-l-gC"
      },
      "source": [
        "# Ejercicio 2\n"
      ]
    },
    {
      "cell_type": "markdown",
      "source": [
        "Ejecuta la siguiente celda para inicializar el entorno de prueba antes de realizar los ejercicios 2 y 3:"
      ],
      "metadata": {
        "id": "H_N6ttIKSyuM"
      }
    },
    {
      "cell_type": "code",
      "metadata": {
        "id": "Qk5fQPytmKh7"
      },
      "source": [
        "####################  ESTE TROZO DE CÓDIGO NOS CREARÁ UNA PEQUEÑA BASE DE DATOS PARA UTILIZAR DE EJEMPLO. ####\n",
        "####################   NO ES NECESARIO QUE LO APRENDAIS, SOLO EJECUTARLO UNA VEZ                          ####\n",
        "# Importamos SQLite\n",
        "import sqlite3 \n",
        "import pandas as pd\n",
        "# conectamos a la BD\n",
        "db_con = sqlite3.connect(r'database.db') #recordar utilizar la variable db_con para leer de la base de datos!:)\n",
        "# Leemos todos los csvs\n",
        "c = pd.read_csv(\"https://raw.githubusercontent.com/cpinuaga/carlospinuagathevalley-IntroPandas2022/main/customers.csv\")\n",
        "o = pd.read_csv(\"https://raw.githubusercontent.com/cpinuaga/carlospinuagathevalley-IntroPandas2022/main/orders.csv\")\n",
        "r = pd.read_csv(\"https://raw.githubusercontent.com/cpinuaga/carlospinuagathevalley-IntroPandas2022/main/returns.csv\")\n",
        "p = pd.read_csv(\"https://raw.githubusercontent.com/cpinuaga/carlospinuagathevalley-IntroPandas2022/main/products.csv\")\n",
        "# Escribimos los csvs como tablas en la base de datos.\n",
        "c.to_sql('customers', db_con, if_exists='replace', index=False) \n",
        "o.to_sql('orders', db_con, if_exists='replace', index=False) \n",
        "r.to_sql('returns', db_con, if_exists='replace', index=False) \n",
        "p.to_sql('products', db_con, if_exists='replace', index=False) \n",
        "\n"
      ],
      "execution_count": null,
      "outputs": []
    },
    {
      "cell_type": "markdown",
      "metadata": {
        "id": "wRMWfPCJmCq2"
      },
      "source": [
        "**Ejercicio 2.a** \n",
        "Lee los archivos utilizando las siguientes URLs y guardalos en DataFrames.\n",
        "\n",
        "`url_customers = \"https://raw.githubusercontent.com/cpinuaga/carlospinuagathevalley-IntroPandas2022/main/customers.csv\"`\n",
        "\n",
        "`url_products = \"https://raw.githubusercontent.com/cpinuaga/carlospinuagathevalley-IntroPandas2022/main/products.csv\"`\n"
      ]
    },
    {
      "cell_type": "code",
      "metadata": {
        "id": "85USWZxJl5mA"
      },
      "source": [
        "url_customers = \"https://raw.githubusercontent.com/cpinuaga/carlospinuagathevalley-IntroPandas2022/main/customers.csv\"\n",
        "url_products = \"https://raw.githubusercontent.com/cpinuaga/carlospinuagathevalley-IntroPandas2022/main/products.csv\"\n",
        "\n",
        "customers = pd.read_csv(url_customers)\n",
        "products = pd.read_csv(url_products)"
      ],
      "execution_count": null,
      "outputs": []
    },
    {
      "cell_type": "code",
      "source": [
        "customers.head()"
      ],
      "metadata": {
        "id": "O3IWToonnNOx"
      },
      "execution_count": null,
      "outputs": []
    },
    {
      "cell_type": "code",
      "source": [
        "products.head()"
      ],
      "metadata": {
        "id": "tIPZmZVanNBq"
      },
      "execution_count": null,
      "outputs": []
    },
    {
      "cell_type": "markdown",
      "metadata": {
        "id": "S0v9H6jem77p"
      },
      "source": [
        "**Ejercicio 2.b** Utilizando SQL, lee de la base de datos la tabla clientes y la tabla orders y guardalos en dataframes distintos"
      ]
    },
    {
      "cell_type": "code",
      "metadata": {
        "id": "fjHLIMJonc3R"
      },
      "source": [
        "orders = pd.read_sql(\"SELECT * FROM orders\", db_con)\n",
        "customers = pd.read_sql(\"SELECT * FROM customers\", db_con)"
      ],
      "execution_count": null,
      "outputs": []
    },
    {
      "cell_type": "code",
      "source": [
        "orders.head()"
      ],
      "metadata": {
        "id": "5LyGbE0Lnflf"
      },
      "execution_count": null,
      "outputs": []
    },
    {
      "cell_type": "code",
      "source": [
        "products.head()"
      ],
      "metadata": {
        "id": "c9v1llt9nfdD"
      },
      "execution_count": null,
      "outputs": []
    },
    {
      "cell_type": "markdown",
      "metadata": {
        "id": "opxQ70gnncM5"
      },
      "source": [
        "**Ejercicio 2.c** Utilizando SQL, lee los pedidos de la tabla orders correspondientes al año 2015."
      ]
    },
    {
      "cell_type": "code",
      "metadata": {
        "id": "wLD3VsgkoDNQ"
      },
      "source": [
        "orders2015 = pd.read_sql(\"SELECT * FROM orders WHERE Order_Date>='2015-01-01' and Order_Date<'2016-01-01'\", db_con)\n",
        "orders2015"
      ],
      "execution_count": null,
      "outputs": []
    },
    {
      "cell_type": "markdown",
      "metadata": {
        "id": "dAHMxZ0coDqy"
      },
      "source": [
        "**Ejercicio 2.d** **DIFICIL**  Utilizando SQL, lee los pedidos de la tabla orders correspondientes al año 2015, y mezclalo con un JOIN con la informacion del cliente.\n"
      ]
    },
    {
      "cell_type": "code",
      "metadata": {
        "id": "Jt-x-yI2oSh8"
      },
      "source": [
        "orders_with_customers = pd.read_sql(\"SELECT * FROM orders AS t1 JOIN customers AS t2 ON t1.Customer_ID = t2.Customer_ID WHERE Order_Date>='2015-01-01' and Order_Date<'2016-01-01'\", db_con)\n",
        "orders_with_customers"
      ],
      "execution_count": null,
      "outputs": []
    },
    {
      "cell_type": "markdown",
      "metadata": {
        "id": "FTO_EzYiqZhI"
      },
      "source": [
        "# Ejercicio 3\n",
        "\n",
        "Vamos a jugar con un dataframe resultado de mezclar la tabla de pedidos con la tabla de productos."
      ]
    },
    {
      "cell_type": "code",
      "metadata": {
        "id": "WeBvH9QnqmFS"
      },
      "source": [
        "order_and_products = pd.read_sql(\"SELECT * FROM orders JOIN products ON orders.Product_ID = products.Product_ID\", db_con)\n",
        "order_and_products.head()"
      ],
      "execution_count": null,
      "outputs": []
    },
    {
      "cell_type": "markdown",
      "metadata": {
        "id": "UhM4l5qrrBKe"
      },
      "source": [
        "**Ejercicio 3.a** Crea un índice sobre el dataframe para poder recuperar datos de una fila en concreto de una forma más cómoda. Posteriormente, recupera los datos del Order_ID CA-2015-155453\n"
      ]
    },
    {
      "cell_type": "code",
      "metadata": {
        "id": "-LRdATHlrXGJ"
      },
      "source": [
        "order_and_products.set_index(\"Order_ID\", inplace=True)"
      ],
      "execution_count": null,
      "outputs": []
    },
    {
      "cell_type": "code",
      "metadata": {
        "id": "kxdWw87Arq3c"
      },
      "source": [
        "order_and_products.loc[\"CA-2015-155453\"]"
      ],
      "execution_count": null,
      "outputs": []
    },
    {
      "cell_type": "markdown",
      "metadata": {
        "id": "NJ2EgksstB_o"
      },
      "source": [
        "**Ejercicio 3.b**\n",
        "Consigue los datos de las filas 300 a 500"
      ]
    },
    {
      "cell_type": "code",
      "metadata": {
        "id": "ZJ688IuCtCFB"
      },
      "source": [
        "order_and_products[300:500]"
      ],
      "execution_count": null,
      "outputs": []
    },
    {
      "cell_type": "markdown",
      "metadata": {
        "id": "jB7HD2Tcr04f"
      },
      "source": [
        "**Ejercicio 3.c** Recupera la columna con las fechas de pedido.\n"
      ]
    },
    {
      "cell_type": "code",
      "metadata": {
        "id": "r_qCmd9WvHzh"
      },
      "source": [
        "order_and_products[\"Order_Date\"]\n",
        "#order_and_products.Order_Date   #también funciona"
      ],
      "execution_count": null,
      "outputs": []
    },
    {
      "cell_type": "markdown",
      "metadata": {
        "id": "KZF0YeHktQXz"
      },
      "source": [
        "**Ejercicio 3.d** Consigue los datos de las filas 300 en adelante, pero solo las columnas Order_Date y Category. Recuerda, tendrás que utilizar .loc[]\n"
      ]
    },
    {
      "cell_type": "code",
      "metadata": {
        "id": "vxifTjp2sXWS"
      },
      "source": [
        "#reseteamos el indice para poder localizar las filas por su número en lugar de su id de pedido\n",
        "\n",
        "order_and_products.reset_index(drop=True, inplace=True) "
      ],
      "execution_count": null,
      "outputs": []
    },
    {
      "cell_type": "code",
      "metadata": {
        "id": "tD5bpj_ZkbrV"
      },
      "source": [
        "order_and_products.loc[0:500, [\"Order_Date\", \"Category\"]]"
      ],
      "execution_count": null,
      "outputs": []
    },
    {
      "cell_type": "code",
      "source": [
        "# De la siguiente forma, utilizando iloc, podemos acceder segun el número de las filas y columnas. iloc no incluye el límite superior por o que añadimos una fila adicional.\n",
        "order_and_products.iloc[0:501, [1,7]]"
      ],
      "metadata": {
        "id": "fIvPRnAfowgc"
      },
      "execution_count": null,
      "outputs": []
    },
    {
      "cell_type": "markdown",
      "metadata": {
        "id": "AIal72cisXc1"
      },
      "source": [
        "**Ejercicio 3.e** Recupera todas las filas de los pedidos correspondientes a la categoría \"Office Supplies\"\n"
      ]
    },
    {
      "cell_type": "code",
      "metadata": {
        "id": "UrpMNxnwvIjC"
      },
      "source": [
        "order_and_products[order_and_products.Category == \"Office Supplies\"]"
      ],
      "execution_count": null,
      "outputs": []
    },
    {
      "cell_type": "markdown",
      "metadata": {
        "id": "EYNpjfQrsj2G"
      },
      "source": [
        "**Ejercicio 3.f** Recupera todas las filas correspondientes a la categoría \"Technology\" y cuyo precio sea mayor que 30."
      ]
    },
    {
      "cell_type": "code",
      "metadata": {
        "id": "RiVm98Sosj6m"
      },
      "source": [
        "order_and_products[(order_and_products.Category == \"Technology\") & (order_and_products.Price > 30) ]"
      ],
      "execution_count": null,
      "outputs": []
    },
    {
      "cell_type": "markdown",
      "metadata": {
        "id": "co7CPfKSs_oU"
      },
      "source": [
        "**Ejercicio 3.g** Crea una nueva columna \"Amount\" que multiplique multiplique la cantidad y el precio, lo que forma el total de esa linea de pedido"
      ]
    },
    {
      "cell_type": "code",
      "metadata": {
        "id": "soR0A_TNs_xm"
      },
      "source": [
        "order_and_products[\"Amount\"] = order_and_products[\"Quantity\"] * order_and_products[\"Price\"]\n",
        "order_and_products"
      ],
      "execution_count": null,
      "outputs": []
    },
    {
      "cell_type": "markdown",
      "metadata": {
        "id": "VCMk4bL3uu1U"
      },
      "source": [
        "**Ejercicio 3.h** ¿Hay alguna línea de pedido que supere los 6000 de importe?"
      ]
    },
    {
      "cell_type": "code",
      "metadata": {
        "id": "2upvw9r_aOPU"
      },
      "source": [
        "order_and_products[order_and_products[\"Amount\"]>6000]"
      ],
      "execution_count": null,
      "outputs": []
    },
    {
      "cell_type": "markdown",
      "metadata": {
        "id": "-WoclGO5ZvlU"
      },
      "source": [
        "**Ejercicio 3.i** Utilizando SQL, junta la tabla de Pedidos, Clientes y Productos y calcula que segmento de clientes ha facturado más. Para ello tienes que usar la columna Price y Quantity. Guarda el resultado en un DataFrame. ¿Cuál es el segmento de cliente que más ha facturado?"
      ]
    },
    {
      "cell_type": "code",
      "metadata": {
        "id": "l84r4GBBaOt3"
      },
      "source": [
        "dataframe = pd.read_sql(\"\"\"\n",
        "SELECT \n",
        "  Segment, \n",
        "  sum(Quantity * Price) as total\n",
        "FROM orders \n",
        "JOIN customers ON orders.Customer_ID = orders.Customer_ID \n",
        "JOIN products ON products.Product_ID=orders.Product_ID \n",
        "GROUP BY Segment\n",
        "ORDER BY total desc\"\"\", db_con)\n",
        "\n",
        "dataframe"
      ],
      "execution_count": null,
      "outputs": []
    },
    {
      "cell_type": "markdown",
      "source": [
        "# EJERCICIO EXTRA\n",
        "\n",
        "Utiliza lo aprendido en esta sesión para completar las siguientes acciones en un dataset de precios de casas en Ames, Iowa (USA). \n",
        "\n",
        "Fuente: http://jse.amstat.org/v19n3/decock.pdf\n",
        "\n",
        "Dataset info: https://www.kaggle.com/c/house-prices-advanced-regression-techniques/data\n",
        "\n",
        "URL del fichero: \"https://raw.githubusercontent.com/cpinuaga/carlospinuagathevalley-IntroPandas2022/main/house_prices.csv\"\n",
        "\n",
        "También puedes descargarlo de Kaggle y leerlo como un fichero local.\n",
        "\n",
        "1. Lee el csv con pandas\n",
        "2. Obtén el número de filas y columnas del dataframe\n",
        "3. Obtén los nombres de las columnas del dataframe\n",
        "4. Obtén un dataframe con los datos de las casas construidas antes de 1999 con 3 habitaciones o más (columna BedroomAbvGr) y de tipo unifamiliar (BldgType == \"1Fam\") y expórtalo como csv.\n",
        "5. Lee el csv resultante y cambia los valores de la columna de 'CentralAir' de 'Y' y 'N' a 'Yes' y 'No'.\n",
        "6. Del dataframe resultante Selecciona solo aquellas filas que tengan info sobre la calidad de la chimenea, es decir, cuya valor en la columna FireplaceQu no sea nulo.\n",
        "7. Trabajas en la inmobiliaria que está vendiendo las casas del dataset origial completo. La inmobiliaria ha decidido aplicar un descuento del 10% a aquellas casas con más de 20 años sin remodelar, un 5% de descuento a aquellas casas que tienen entre 15 y 20 años sin remodelar (desde el año de la última remodelación: YearRemodAdd) y 0% a las demás. Crea una columna llamada DiscountPerc que registre estos descuentos y otra columna DiscountedPrice con el precio final de la casa aplicando el descuento sobre la columna SalePrice.\n"
      ],
      "metadata": {
        "id": "C5LQaKbGRnfq"
      }
    },
    {
      "cell_type": "code",
      "source": [
        "# 1\n",
        "import pandas as pd\n",
        "url_house_prices = \"https://raw.githubusercontent.com/cpinuaga/carlospinuagathevalley-IntroPandas2022/main/house_prices.csv\"\n",
        "\n",
        "house_prices = pd.read_csv(url_house_prices)\n",
        "house_prices.head()"
      ],
      "metadata": {
        "id": "buxMJB23RptF"
      },
      "execution_count": null,
      "outputs": []
    },
    {
      "cell_type": "code",
      "source": [
        "# 2\n",
        "house_prices.shape"
      ],
      "metadata": {
        "id": "tcxrFJYqRpoF"
      },
      "execution_count": null,
      "outputs": []
    },
    {
      "cell_type": "code",
      "source": [
        "# 3\n",
        "house_prices.columns"
      ],
      "metadata": {
        "id": "qw98I7CkRpia"
      },
      "execution_count": null,
      "outputs": []
    },
    {
      "cell_type": "code",
      "source": [
        "# 4\n",
        "# Se pueden concatenar acciones\n",
        "house_prices.loc[(house_prices.YearBuilt < 1999) & (house_prices.BedroomAbvGr >= 3) & (house_prices.BldgType == \"1Fam\")].to_csv('house_prices_filtered.csv')"
      ],
      "metadata": {
        "id": "ceIpSBrSRpdz"
      },
      "execution_count": null,
      "outputs": []
    },
    {
      "cell_type": "code",
      "source": [
        "# 5 \n",
        "house_prices_filtered = pd.read_csv('house_prices_filtered.csv')\n",
        "house_prices_filtered.shape"
      ],
      "metadata": {
        "id": "0DWmtaLFRpZ8"
      },
      "execution_count": null,
      "outputs": []
    },
    {
      "cell_type": "code",
      "source": [
        "# 5 \n",
        "house_prices_filtered.loc[house_prices_filtered.CentralAir == 'Y', ['CentralAir']] = 'Yes'\n",
        "house_prices_filtered.loc[house_prices_filtered.CentralAir == 'N', ['CentralAir']] = 'No'\n",
        "house_prices_filtered[['Id', 'CentralAir']].head(10)"
      ],
      "metadata": {
        "id": "WnWZCLl_RpVc"
      },
      "execution_count": null,
      "outputs": []
    },
    {
      "cell_type": "code",
      "source": [
        "# 6 \n",
        "house_prices_filtered.loc[house_prices_filtered['FireplaceQu'].notnull()]"
      ],
      "metadata": {
        "id": "lFYKEjG6RpQr"
      },
      "execution_count": null,
      "outputs": []
    },
    {
      "cell_type": "code",
      "source": [
        "# 7\n",
        "# Trabajas en la inmobiliaria que está vendiendo las casas del dataset. \n",
        "# La inmobiliaria ha decidido aplicar un descuento del 10% a aquellas casas con más de 15 años sin r y un 5% de descuento a aquellas casas que tienen entre 12 y 15 años \n",
        "# (desde el año de la última remodelación: YearRemodAdd). Crea una columna llamada Discount_perc que registre estos descuentos y \n",
        "# otra columna con el precio final de la casa aplicando el descuento sobre la columna SalePrice.\n",
        "url_house_prices = \"https://raw.githubusercontent.com/cpinuaga/carlospinuagathevalley-IntroPandas2022/main/house_prices.csv\"\n",
        "\n",
        "house_prices = pd.read_csv(url_house_prices)\n",
        "\n",
        "current_year = 2022\n",
        "house_prices.loc[house_prices.YearRemodAdd < (current_year-20), 'Discount_perc'] = 0.1\n",
        "house_prices.loc[(house_prices.YearRemodAdd >= (current_year-20)) & (house_prices.YearRemodAdd < (current_year-15)), 'Discount_perc'] = 0.05\n",
        "house_prices.loc[house_prices.Discount_perc.isnull(), 'Discount_perc'] = 0\n",
        "\n",
        "house_prices['Discounted_Price'] = house_prices['SalePrice'] * (1-house_prices['Discount_perc'])\n",
        "\n",
        "house_prices.sample(20)"
      ],
      "metadata": {
        "id": "NOdaIvXAZSdh"
      },
      "execution_count": null,
      "outputs": []
    }
  ]
}