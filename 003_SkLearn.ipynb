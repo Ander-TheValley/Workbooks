{
  "nbformat": 4,
  "nbformat_minor": 0,
  "metadata": {
    "colab": {
      "name": "003-SkLearn.ipynb",
      "provenance": [],
      "collapsed_sections": []
    },
    "kernelspec": {
      "name": "python3",
      "display_name": "Python 3"
    }
  },
  "cells": [
    {
      "cell_type": "markdown",
      "metadata": {
        "id": "pDgynHovQisI"
      },
      "source": [
        "# Sickit Learn\n",
        "\n",
        "Librería estrella para modelizar datos en Python. \n",
        "\n",
        "**Website:** https://scikit-learn.org/stable/index.html\n",
        "\n",
        "* Simple and efficient tools for predictive data analysis\n",
        "* Accessible to everybody, and reusable in various contexts\n",
        "* Built on NumPy, SciPy, and matplotlib\n",
        "* Open source, commercially usable - BSD license\n",
        "\n",
        "\n"
      ]
    },
    {
      "cell_type": "markdown",
      "metadata": {
        "id": "YqAAHstQg_LH"
      },
      "source": [
        "### Scikit-Learn API paper\n",
        "\n",
        "El principal objetivo es diseñar un paquete que englobe los diferentes modelos con unos principios en mente. Como indica en su [paper](https://arxiv.org/pdf/1309.0238.pdf):\n",
        "\n",
        "- *Consistency*: All objects share a common interface drawn from a limited set of methods, with consistent documentation.\n",
        "\n",
        "- *Inspection*: All specified parameter values are exposed as public attributes.\n",
        "\n",
        "- *Limited object hierarchy*: Only algorithms are represented by Python classes; datasets are represented\n",
        "  in standard formats (NumPy arrays, Pandas ``DataFrame``s, SciPy sparse matrices) and parameter\n",
        "  names use standard Python strings.\n",
        "\n",
        "- *Composition*: Many machine learning tasks can be expressed as sequences of more fundamental algorithms,\n",
        "  and Scikit-Learn makes use of this wherever possible.\n",
        "\n",
        "- *Sensible defaults*: When models require user-specified parameters, the library defines an appropriate default value.\n",
        "\n",
        "\n",
        "\n"
      ]
    },
    {
      "cell_type": "markdown",
      "metadata": {
        "id": "BEwMYSBLjt3T"
      },
      "source": [
        "## Link al API Reference\n",
        "Una gran guía de referencia: https://scikit-learn.org/stable/modules/classes.html\n",
        "\n",
        "Pasos de trabajo sobre un modelo en Sickit- Learn"
      ]
    },
    {
      "cell_type": "markdown",
      "metadata": {
        "id": "fcvIQTo6lHAc"
      },
      "source": [
        "## Pasos para trabajar con Sklearn\n",
        "1. Importar la clase\n",
        "2. Seleccionar los parámetros de la clase y crear el objeto del modelo\n",
        "3. Importar y adaptar los datos\n",
        "4. Ajustar el modelo\n",
        "5. Interpretar el modelo / evaluar las predicciones\n",
        "6. Predecir sobre nuevas muestras "
      ]
    },
    {
      "cell_type": "code",
      "metadata": {
        "id": "ELntZ4n6j1h8"
      },
      "source": [
        "# Importar la librería entera o solo la clase que nos interese\n",
        "# import sklearn\n",
        "from sklearn.linear_model import LinearRegression"
      ],
      "execution_count": null,
      "outputs": []
    },
    {
      "cell_type": "code",
      "metadata": {
        "id": "06luGOoQlhw1"
      },
      "source": [
        "# Siempre que importemos sklearn, vendrá de la mano de otras librerías\n",
        "import pandas as pd\n",
        "import matplotlib.pyplot as plt\n",
        "import numpy as np\n",
        "import seaborn as sns"
      ],
      "execution_count": null,
      "outputs": []
    },
    {
      "cell_type": "code",
      "metadata": {
        "colab": {
          "base_uri": "https://localhost:8080/"
        },
        "id": "W8LW7FiDkn_I",
        "outputId": "4748f8b0-8b03-4dfd-cd98-37c5fc4dddaa"
      },
      "source": [
        "# ¿El modelo que importamos tiene hiperparámetros?\n",
        "lm = LinearRegression(fit_intercept=True)\n",
        "# model = LinearRegression(fit_intercept=False) \n",
        "## Modelo sin intercept\n",
        "lm"
      ],
      "execution_count": null,
      "outputs": [
        {
          "output_type": "execute_result",
          "data": {
            "text/plain": [
              "LinearRegression()"
            ]
          },
          "metadata": {},
          "execution_count": 3
        }
      ]
    },
    {
      "cell_type": "code",
      "metadata": {
        "colab": {
          "base_uri": "https://localhost:8080/",
          "height": 206
        },
        "id": "a5l3jbSpkuQE",
        "outputId": "c9cc000f-3bb9-4700-d409-6e5cc077ee0a"
      },
      "source": [
        "# Poner los datos en el formato para modelar\n",
        "## Cargamos los datos\n",
        "data = pd.read_csv('https://raw.githubusercontent.com/justmarkham/scikit-learn-videos/master/data/Advertising.csv', index_col=0)\n",
        "data.columns = ['TV','Radio','Newspaper','Sales']\n",
        "data.head()"
      ],
      "execution_count": null,
      "outputs": [
        {
          "output_type": "execute_result",
          "data": {
            "text/html": [
              "\n",
              "  <div id=\"df-9201b0e9-2551-4f1a-bd50-f7412b5e836f\">\n",
              "    <div class=\"colab-df-container\">\n",
              "      <div>\n",
              "<style scoped>\n",
              "    .dataframe tbody tr th:only-of-type {\n",
              "        vertical-align: middle;\n",
              "    }\n",
              "\n",
              "    .dataframe tbody tr th {\n",
              "        vertical-align: top;\n",
              "    }\n",
              "\n",
              "    .dataframe thead th {\n",
              "        text-align: right;\n",
              "    }\n",
              "</style>\n",
              "<table border=\"1\" class=\"dataframe\">\n",
              "  <thead>\n",
              "    <tr style=\"text-align: right;\">\n",
              "      <th></th>\n",
              "      <th>TV</th>\n",
              "      <th>Radio</th>\n",
              "      <th>Newspaper</th>\n",
              "      <th>Sales</th>\n",
              "    </tr>\n",
              "  </thead>\n",
              "  <tbody>\n",
              "    <tr>\n",
              "      <th>1</th>\n",
              "      <td>230.1</td>\n",
              "      <td>37.8</td>\n",
              "      <td>69.2</td>\n",
              "      <td>22.1</td>\n",
              "    </tr>\n",
              "    <tr>\n",
              "      <th>2</th>\n",
              "      <td>44.5</td>\n",
              "      <td>39.3</td>\n",
              "      <td>45.1</td>\n",
              "      <td>10.4</td>\n",
              "    </tr>\n",
              "    <tr>\n",
              "      <th>3</th>\n",
              "      <td>17.2</td>\n",
              "      <td>45.9</td>\n",
              "      <td>69.3</td>\n",
              "      <td>9.3</td>\n",
              "    </tr>\n",
              "    <tr>\n",
              "      <th>4</th>\n",
              "      <td>151.5</td>\n",
              "      <td>41.3</td>\n",
              "      <td>58.5</td>\n",
              "      <td>18.5</td>\n",
              "    </tr>\n",
              "    <tr>\n",
              "      <th>5</th>\n",
              "      <td>180.8</td>\n",
              "      <td>10.8</td>\n",
              "      <td>58.4</td>\n",
              "      <td>12.9</td>\n",
              "    </tr>\n",
              "  </tbody>\n",
              "</table>\n",
              "</div>\n",
              "      <button class=\"colab-df-convert\" onclick=\"convertToInteractive('df-9201b0e9-2551-4f1a-bd50-f7412b5e836f')\"\n",
              "              title=\"Convert this dataframe to an interactive table.\"\n",
              "              style=\"display:none;\">\n",
              "        \n",
              "  <svg xmlns=\"http://www.w3.org/2000/svg\" height=\"24px\"viewBox=\"0 0 24 24\"\n",
              "       width=\"24px\">\n",
              "    <path d=\"M0 0h24v24H0V0z\" fill=\"none\"/>\n",
              "    <path d=\"M18.56 5.44l.94 2.06.94-2.06 2.06-.94-2.06-.94-.94-2.06-.94 2.06-2.06.94zm-11 1L8.5 8.5l.94-2.06 2.06-.94-2.06-.94L8.5 2.5l-.94 2.06-2.06.94zm10 10l.94 2.06.94-2.06 2.06-.94-2.06-.94-.94-2.06-.94 2.06-2.06.94z\"/><path d=\"M17.41 7.96l-1.37-1.37c-.4-.4-.92-.59-1.43-.59-.52 0-1.04.2-1.43.59L10.3 9.45l-7.72 7.72c-.78.78-.78 2.05 0 2.83L4 21.41c.39.39.9.59 1.41.59.51 0 1.02-.2 1.41-.59l7.78-7.78 2.81-2.81c.8-.78.8-2.07 0-2.86zM5.41 20L4 18.59l7.72-7.72 1.47 1.35L5.41 20z\"/>\n",
              "  </svg>\n",
              "      </button>\n",
              "      \n",
              "  <style>\n",
              "    .colab-df-container {\n",
              "      display:flex;\n",
              "      flex-wrap:wrap;\n",
              "      gap: 12px;\n",
              "    }\n",
              "\n",
              "    .colab-df-convert {\n",
              "      background-color: #E8F0FE;\n",
              "      border: none;\n",
              "      border-radius: 50%;\n",
              "      cursor: pointer;\n",
              "      display: none;\n",
              "      fill: #1967D2;\n",
              "      height: 32px;\n",
              "      padding: 0 0 0 0;\n",
              "      width: 32px;\n",
              "    }\n",
              "\n",
              "    .colab-df-convert:hover {\n",
              "      background-color: #E2EBFA;\n",
              "      box-shadow: 0px 1px 2px rgba(60, 64, 67, 0.3), 0px 1px 3px 1px rgba(60, 64, 67, 0.15);\n",
              "      fill: #174EA6;\n",
              "    }\n",
              "\n",
              "    [theme=dark] .colab-df-convert {\n",
              "      background-color: #3B4455;\n",
              "      fill: #D2E3FC;\n",
              "    }\n",
              "\n",
              "    [theme=dark] .colab-df-convert:hover {\n",
              "      background-color: #434B5C;\n",
              "      box-shadow: 0px 1px 3px 1px rgba(0, 0, 0, 0.15);\n",
              "      filter: drop-shadow(0px 1px 2px rgba(0, 0, 0, 0.3));\n",
              "      fill: #FFFFFF;\n",
              "    }\n",
              "  </style>\n",
              "\n",
              "      <script>\n",
              "        const buttonEl =\n",
              "          document.querySelector('#df-9201b0e9-2551-4f1a-bd50-f7412b5e836f button.colab-df-convert');\n",
              "        buttonEl.style.display =\n",
              "          google.colab.kernel.accessAllowed ? 'block' : 'none';\n",
              "\n",
              "        async function convertToInteractive(key) {\n",
              "          const element = document.querySelector('#df-9201b0e9-2551-4f1a-bd50-f7412b5e836f');\n",
              "          const dataTable =\n",
              "            await google.colab.kernel.invokeFunction('convertToInteractive',\n",
              "                                                     [key], {});\n",
              "          if (!dataTable) return;\n",
              "\n",
              "          const docLinkHtml = 'Like what you see? Visit the ' +\n",
              "            '<a target=\"_blank\" href=https://colab.research.google.com/notebooks/data_table.ipynb>data table notebook</a>'\n",
              "            + ' to learn more about interactive tables.';\n",
              "          element.innerHTML = '';\n",
              "          dataTable['output_type'] = 'display_data';\n",
              "          await google.colab.output.renderOutput(dataTable, element);\n",
              "          const docLink = document.createElement('div');\n",
              "          docLink.innerHTML = docLinkHtml;\n",
              "          element.appendChild(docLink);\n",
              "        }\n",
              "      </script>\n",
              "    </div>\n",
              "  </div>\n",
              "  "
            ],
            "text/plain": [
              "      TV  Radio  Newspaper  Sales\n",
              "1  230.1   37.8       69.2   22.1\n",
              "2   44.5   39.3       45.1   10.4\n",
              "3   17.2   45.9       69.3    9.3\n",
              "4  151.5   41.3       58.5   18.5\n",
              "5  180.8   10.8       58.4   12.9"
            ]
          },
          "metadata": {},
          "execution_count": 4
        }
      ]
    },
    {
      "cell_type": "code",
      "metadata": {
        "id": "TLrbx_rfl16k"
      },
      "source": [
        "## Sepramos las variables descriptivas: X\n",
        "## De la variable a predecir: Y\n",
        "feature_cols = ['TV','Radio','Newspaper']\n",
        "X = data[feature_cols]\n",
        "y = data['Sales']"
      ],
      "execution_count": null,
      "outputs": []
    },
    {
      "cell_type": "code",
      "metadata": {
        "colab": {
          "base_uri": "https://localhost:8080/"
        },
        "id": "WctcW5snkx_S",
        "outputId": "2c961ebe-23f2-4096-a2a8-a913e9220bc8"
      },
      "source": [
        "# Ajustar el modelo utilizando la función fit()\n",
        "lm.fit(X, y)"
      ],
      "execution_count": null,
      "outputs": [
        {
          "output_type": "execute_result",
          "data": {
            "text/plain": [
              "LinearRegression()"
            ]
          },
          "metadata": {},
          "execution_count": 6
        }
      ]
    },
    {
      "cell_type": "code",
      "metadata": {
        "colab": {
          "base_uri": "https://localhost:8080/"
        },
        "id": "5cIzmWodmCtD",
        "outputId": "2d020121-6db2-4c79-90ed-3cff4eb2f8a6"
      },
      "source": [
        "# Una vez ajustado un modelo puedo mirar los atributos que tiene\n",
        "print(lm.intercept_)\n",
        "print(lm.coef_)"
      ],
      "execution_count": null,
      "outputs": [
        {
          "output_type": "stream",
          "name": "stdout",
          "text": [
            "2.938889369459412\n",
            "[ 0.04576465  0.18853002 -0.00103749]\n"
          ]
        }
      ]
    },
    {
      "cell_type": "code",
      "metadata": {
        "colab": {
          "base_uri": "https://localhost:8080/"
        },
        "id": "V-D60MB_k2P5",
        "outputId": "25ab506d-03b4-4801-8420-e3ba0e09212c"
      },
      "source": [
        "# Una vez entrenado, aplicarlo a nuevos datos\n",
        "## Predict para supervisado\n",
        "## Transform / predict para no supervisado\n",
        "# Nuevo Dato\n",
        "X_new = pd.DataFrame({'TV': [60],'Radio': [40],'Newspaper': [55]})\n",
        "X_new.head()\n",
        "# predecir para un nuevo valor\n",
        "lm.predict(X_new)"
      ],
      "execution_count": null,
      "outputs": [
        {
          "output_type": "execute_result",
          "data": {
            "text/plain": [
              "array([13.16890666])"
            ]
          },
          "metadata": {},
          "execution_count": 8
        }
      ]
    },
    {
      "cell_type": "markdown",
      "metadata": {
        "id": "Y_c3_2pOn4dH"
      },
      "source": [
        "## Ejemplo de ajustar un Random Forest al modelo anterior\n",
        "\n",
        "1. Importar la clase\n",
        "2. Seleccionar los parámetros de la clase y crear el objeto del modelo\n",
        "3. Importar y adaptar los datos\n",
        "4. Ajustar el modelo\n",
        "5. Interpretar el modelo / evaluar las predicciones\n",
        "6. Predecir sobre nuevas muestras "
      ]
    },
    {
      "cell_type": "code",
      "metadata": {
        "colab": {
          "base_uri": "https://localhost:8080/"
        },
        "id": "Nr8wULosm_Uy",
        "outputId": "f8088c27-434b-4555-ea15-04654eabde50"
      },
      "source": [
        "## EJERCICIO\n",
        "# 1) Importar la clase\n",
        "from sklearn.ensemble import RandomForestRegressor\n",
        "\n",
        "# 2) Crear el objeto rf, de la clase RandomForestRegressor, con max_depth =2\n",
        "rf = \n",
        "\n",
        "\n",
        "# 3) Utilizar la X e y anteriores\n",
        "data = pd.read_csv('https://raw.githubusercontent.com/justmarkham/scikit-learn-videos/master/data/Advertising.csv', index_col=0)\n",
        "data.columns = ['TV','Radio','Newspaper','Sales']\n",
        "feature_cols = ['TV','Radio','Newspaper']\n",
        "X = [...]\n",
        "y = [...]\n",
        "\n",
        "# 4) Ajustar el modelo con el método .fit, sobre el objeti rf\n",
        "\n",
        "\n",
        "# 5) Predecir sobre la siguiente muestra: compara con el predict del LM\n",
        "X_new = pd.DataFrame({'TV': [60],'Radio': [40],'Newspaper': [55]})\n",
        "X_new.head()\n",
        "\n",
        "## 5 Añade el .predict del rf y lm dentro de la función print\n",
        "print(\"RF\")\n",
        "print(...)\n",
        "print(\"LM\")\n",
        "print(...)\n",
        "\n",
        "\n",
        "# 6) Repite el proceso con max_depth=5, ¿varían las predicciones?\n"
      ],
      "execution_count": null,
      "outputs": [
        {
          "output_type": "stream",
          "name": "stdout",
          "text": [
            "RF\n",
            "[10.67606243]\n",
            "LM\n",
            "[13.16890666]\n"
          ]
        }
      ]
    },
    {
      "cell_type": "markdown",
      "metadata": {
        "id": "3ng1QZnnuN9R"
      },
      "source": [
        "## Comparativa entre modelos\n",
        "\n",
        "Comparar los dos modelos con un test que no ha visto"
      ]
    },
    {
      "cell_type": "code",
      "metadata": {
        "id": "fQKy3o0ZvG3c"
      },
      "source": [
        "# Separamos train y test\n",
        "from sklearn.model_selection import train_test_split\n",
        "X_train, X_test, y_train, y_test = train_test_split(data.drop('Sales',axis=1), \n",
        "                                                    data['Sales'], \n",
        "                                                    test_size=0.25, \n",
        "                                                    random_state=101)"
      ],
      "execution_count": null,
      "outputs": []
    },
    {
      "cell_type": "code",
      "metadata": {
        "colab": {
          "base_uri": "https://localhost:8080/"
        },
        "id": "vT-JE9LPSwOQ",
        "outputId": "3e8d37f0-afab-4c51-8544-4b8c39bfc279"
      },
      "source": [
        "data.shape"
      ],
      "execution_count": null,
      "outputs": [
        {
          "output_type": "execute_result",
          "data": {
            "text/plain": [
              "(200, 4)"
            ]
          },
          "metadata": {},
          "execution_count": 11
        }
      ]
    },
    {
      "cell_type": "code",
      "metadata": {
        "colab": {
          "base_uri": "https://localhost:8080/"
        },
        "id": "Jk78f8Xnvpaf",
        "outputId": "aa5812ca-544f-44b1-d88d-6f1eaee8601c"
      },
      "source": [
        "print(X_train.shape)\n",
        "print(y_train.shape)\n",
        "print(X_test.shape)\n",
        "print(y_test.shape)"
      ],
      "execution_count": null,
      "outputs": [
        {
          "output_type": "stream",
          "name": "stdout",
          "text": [
            "(150, 3)\n",
            "(150,)\n",
            "(50, 3)\n",
            "(50,)\n"
          ]
        }
      ]
    },
    {
      "cell_type": "code",
      "metadata": {
        "colab": {
          "base_uri": "https://localhost:8080/"
        },
        "id": "OhEnkfrmx_T1",
        "outputId": "bb61c044-8c5e-4deb-e896-234958bece3a"
      },
      "source": [
        "from sklearn.metrics import mean_squared_error\n",
        "# Cargo \"modelo\"\n",
        "rf_2 = RandomForestRegressor(max_depth=100)\n",
        "lm_2 = LinearRegression(fit_intercept=True)\n",
        "\n",
        "# Ajuste\n",
        "rf_2.fit(X_train,y_train)\n",
        "lm_2.fit(X_train,y_train)\n",
        "\n",
        "# Predicción\n",
        "Y_test_lm = lm_2.predict(X_test)\n",
        "Y_test_rf = rf_2.predict(X_test)\n",
        "\n",
        "# Resultado\n",
        "print(\"LM\")\n",
        "print(mean_squared_error(y_test, Y_test_lm))\n",
        "print(\"RF\")\n",
        "print(mean_squared_error(y_test, Y_test_rf))\n",
        "\n",
        "# TO DO: Re-ejecuta la celda con valores de max_depth 2, 5, 8\n",
        "# Cual tiene mejor resultado?"
      ],
      "execution_count": null,
      "outputs": [
        {
          "output_type": "stream",
          "name": "stdout",
          "text": [
            "LM\n",
            "2.1086081578175144\n",
            "RF\n",
            "0.6506169999999996\n"
          ]
        }
      ]
    },
    {
      "cell_type": "code",
      "metadata": {
        "id": "xuLTCKE-xEvM",
        "colab": {
          "base_uri": "https://localhost:8080/"
        },
        "outputId": "8c827a74-0e62-4f27-d1e1-87cea26e631d"
      },
      "source": [
        "import pandas as pd\n",
        "#Importar la clase / Modelo\n",
        "from sklearn.linear_model import LinearRegression\n",
        "\n",
        "#Seleccionar los parámetros de la clase y crear el objeto del modelo\n",
        "lm = LinearRegression(fit_intercept=True)\n",
        "\n",
        "#Importar y adaptar los datos y adaptarlos\n",
        "data = pd.read_csv('https://raw.githubusercontent.com/justmarkham/scikit-learn-videos/master/data/Advertising.csv', index_col=0)\n",
        "feature_cols = ['TV','Radio','Sales']\n",
        "X = data[feature_cols]\n",
        "y = data.Sales\n",
        "\n",
        "#Ajustar el modelo\n",
        "lm.fit(X, y)\n",
        "\n",
        "#Interpretar el modelo / evaluar las predicciones\n",
        "print(lm.intercept_)\n",
        "print(lm.coef_)\n",
        "\n",
        "#Predecir sobre nuevas muestras\n",
        "X_new = pd.DataFrame({'TV': [60],'Radio': [40],'Newspaper': [55]})\n",
        "X_new.head()\n",
        "# predecir para un nuevo valor\n",
        "lm.predict(X_new)"
      ],
      "execution_count": null,
      "outputs": [
        {
          "output_type": "stream",
          "name": "stdout",
          "text": [
            "-1.7763568394002505e-15\n",
            "[ 2.46350373e-18 -1.11022302e-16  1.00000000e+00]\n"
          ]
        },
        {
          "output_type": "stream",
          "name": "stderr",
          "text": [
            "/usr/local/lib/python3.7/dist-packages/sklearn/base.py:493: FutureWarning: The feature names should match those that were passed during fit. Starting version 1.2, an error will be raised.\n",
            "Feature names unseen at fit time:\n",
            "- Newspaper\n",
            "Feature names seen at fit time, yet now missing:\n",
            "- Sales\n",
            "\n",
            "  warnings.warn(message, FutureWarning)\n"
          ]
        },
        {
          "output_type": "execute_result",
          "data": {
            "text/plain": [
              "array([55.])"
            ]
          },
          "metadata": {},
          "execution_count": 14
        }
      ]
    },
    {
      "cell_type": "code",
      "metadata": {
        "id": "xtoA9dX51zN7"
      },
      "source": [
        ""
      ],
      "execution_count": null,
      "outputs": []
    }
  ]
}