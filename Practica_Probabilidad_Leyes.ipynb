{
  "nbformat": 4,
  "nbformat_minor": 0,
  "metadata": {
    "colab": {
      "name": "Practica_Probabilidad_Leyes.ipynb",
      "provenance": [],
      "collapsed_sections": []
    },
    "kernelspec": {
      "name": "python3",
      "display_name": "Python 3"
    }
  },
  "cells": [
    {
      "cell_type": "markdown",
      "metadata": {
        "id": "Ys5mGj3ZmQRx"
      },
      "source": [
        "# INTRODUCCIÓN AL CÁLCULO DE PROBABILIDAD\n",
        "## LEY DE LOS GRANDES NÚMEROS Y TEOREMA CENTRAL DEL LÍMITE\n",
        "### Madrid, 14 de febrero de 2022\n",
        "### Ángeles Garrido"
      ]
    },
    {
      "cell_type": "markdown",
      "metadata": {
        "id": "F0aKhWw0KEWR"
      },
      "source": [
        "#Introducción: probabilidad y sentido común\n",
        "\n",
        "La incertidumbre constituye una pieza fundamental del mundo real, y efectivamente, en parte hace la vida mucho más interesante, ya que sería muy aburrido si todo fuera perfectamente predecible. \n",
        "En gran ocasiones, para toda la incertidumbre que nos rodea, solemos aplicar lo que llamamos nuestro \"sentido común\". Por ejemplo, si al levantarnos por la mañana vemos que el día se encuentra nublado, este hecho no nos da la certeza de que comenzará a llover más tarde; sin embargo, nuestro sentido común puede inducirnos a cambiar nuestros planes y a actuar como si creyéramos que fuera a llover si las nubes son lo suficientemente oscuras o si escuchamos truenos, ya que nuestra experiencia nos dice que estos signos indicarían una mayor posibilidad de que el hecho de que fuera a llover más tarde realmente ocurra. Nuestro sentido común es algo tan arraigado en nuestro pensamiento, que lo utilizamos automáticamente sin siquiera ponernos a pensar en ello; pero muchas veces, el sentido común también nos puede jugar una mala pasada y hacernos elegir una respuesta incorrecta.\n",
        "\n",
        "#Independencia: La ley de grandes números y el teorema central del límite\n",
        "Una de las cosas más fascinantes sobre el estudio de la teoría de probabilidad es que si bien el comportamiento de un evento individual es totalmente impredecible, el comportamiento de una **cantidad suficientemente grande de eventos se puede predecir con un alto grado de certeza!**. Si tomamos el caso clásico del lanzamiento de una moneda, no podemos predecir con exactitud cuantas caras vamos a obtener después de 10 tiradas, tal vez el azar haga que obtengamos 7, 10, o 3 caras, dependiendo de la suerte que nos encontremos; pero si repetimos el lanzamiento un millón de veces, casi con seguridad que la cantidad de caras se aproximará a la verdadera probabilidad subyacente del experimento, es decir, al 50% de los lanzamientos. Este comportamiento es lo que en la teoría de probabilidad se conoce con el nombre de **ley de grandes números**; pero antes de poder definir esta ley, primero debemos describir otro concepto también muy importante, la **independencia de los eventos**.\n",
        "\n",
        "#El concepto de independencia\n",
        "En teoría de probabilidad, podemos decir que dos eventos son independientes cuando la probabilidad de cada uno de ellos no se ve afectada por el hecho de que el otro evento ocurra, es decir que no existe ninguna relación entre los eventos. En el lanzamiento de la moneda; la moneda no sabe, ni le interesa saber si el resultado del lanzamiento anterior fue cara; cada lanzamiento es un suceso totalmente aislado el uno del otro y la probabilidad del resultado va a ser siempre 50% en cada lanzamiento.\n",
        "\n",
        "#Definiendo la ley de grandes números\n",
        "Ahora que ya conocemos el concepto de independencia, estamos en condiciones de dar una definición más formal de la **ley de grandes números**, que junto con el **Teorema Central del Límite**, constituyen los cimientos de la teoría de probabilidad. Podemos formular esta ley de la siguiente manera: si se repite un experimento aleatorio, bajo las mismas condiciones, un número ilimitado de veces; y si estas repeticiones son independientes la una de la otra, entonces la frecuencia de veces que un evento A ocurra, convergerá con probabilidad 1 a un número que es igual a la probabilidad de que A ocurra en una sola repetición del experimento. \n",
        "\n",
        "Lo que esta ley nos enseña, es que la probabilidad subyacente de cualquier suceso aleatorio puede ser aprendido por medio de la experimentación, simplemente tendríamos que repetirlo una cantidad suficientemente grande de veces!. Un error que la gente suele cometer y asociar a esta ley, es la idea de que un evento tiene más posibilidades de ocurrir porque ha o no ha ocurrido recientemente. Esta idea de que las chances de un evento con una probabilidad fija, aumentan o disminuyen dependiendo de las ocurrencias recientes del evento, es un error que se conoce bajo el nombre de la **falacia de Montecarlo** o **falacia del apostador**.\n",
        "\n",
        "Para entender mejor la ley de grandes números, experimentemos con algunos ejemplos en Python. Utilicemos nuevamente el ejemplo del lanzamiento de la moneda, en el primer ejemplo, la moneda va a tener la misma posibilidad de caer en cara o cruz; mientras que en el segundo ejemplo, vamos a modificar la probabilidad de la moneda para que salga cara solo en 1 de 6 veces."
      ]
    },
    {
      "cell_type": "markdown",
      "metadata": {
        "id": "Q_Bz0jzUm9Sr"
      },
      "source": [
        "#Importación de librerías"
      ]
    },
    {
      "cell_type": "code",
      "metadata": {
        "id": "1HrDhwtzKdgL"
      },
      "source": [
        "import matplotlib.pyplot as plt \n",
        "import numpy as np # importando numpy\n",
        "import pandas as pd # importando pandas\n",
        "import random as random #importando random\n",
        "\n",
        "%matplotlib inline"
      ],
      "execution_count": null,
      "outputs": []
    },
    {
      "cell_type": "markdown",
      "metadata": {
        "id": "NlV3dwmJ0c6o"
      },
      "source": [
        "#Ley de los grandes números\n"
      ]
    },
    {
      "cell_type": "markdown",
      "metadata": {
        "id": "HFKjPfdtnHyj"
      },
      "source": [
        "**IMPORTANTE**: Fijamos una semilla para replicar la aleatoriedad, en caso necesario"
      ]
    },
    {
      "cell_type": "code",
      "metadata": {
        "id": "XkLcUNeJnE7K"
      },
      "source": [
        "np.random.seed(12345)   # Para poder replicar el random"
      ],
      "execution_count": null,
      "outputs": []
    },
    {
      "cell_type": "markdown",
      "metadata": {
        "id": "ieulx7zcnXeh"
      },
      "source": [
        "## Ejemplo 1: lanzamiento de una moneda con probabilidad de salir cara p = 0.5 (equiprobable)"
      ]
    },
    {
      "cell_type": "code",
      "metadata": {
        "id": "TtthhKjUKojG"
      },
      "source": [
        "# Ejemplo ley de grandes números\n",
        "# moneda p=1/2 cara=1 cruz=0\n",
        "resultados = []\n",
        "for lanzamientos in range(1,10000):\n",
        "    lanzamientos = np.random.choice([0,1], lanzamientos) \n",
        "    caras = lanzamientos.mean()  # media de las veces que salio cara (probabilidad de salir cara)\n",
        "    resultados.append(caras)\n",
        "\n",
        "# Representación gráfica\n",
        "df = pd.DataFrame({ 'lanzamientos' : resultados})  #Definición de dataframe con la media de los lanzamientos\n",
        "\n",
        "df.plot(title='Ley de grandes números',color='r',figsize=(8, 6))\n",
        "plt.axhline(0.5)\n",
        "plt.xlabel(\"Número de lanzamientos\")\n",
        "plt.ylabel(\"frecuencia caras\")\n",
        "plt.show()"
      ],
      "execution_count": null,
      "outputs": []
    },
    {
      "cell_type": "markdown",
      "metadata": {
        "id": "xqLiQXKt08vN"
      },
      "source": [
        "## Ejemplo 2: lanzamiento de una moneda con probabilidad de salir cara 1 de cada 6 veces"
      ]
    },
    {
      "cell_type": "code",
      "metadata": {
        "id": "AM7DY9a7KsyG"
      },
      "source": [
        "# moneda p=1/6 cara=1 cruz=0\n",
        "resultados = []\n",
        "for lanzamientos in range(1,10000):\n",
        "    lanzamientos = np.random.choice([0,1], lanzamientos, p = [5/6, 1/6]) \n",
        "    caras = lanzamientos.mean()\n",
        "    resultados.append(caras)\n",
        "\n",
        "# graficamente\n",
        "df = pd.DataFrame({ 'lanzamientos' : resultados})\n",
        "\n",
        "df.plot(title='Ley de grandes números',color='r',figsize=(8, 6))\n",
        "plt.axhline(1/6)\n",
        "plt.xlabel(\"Número de lanzamientos\")\n",
        "plt.ylabel(\"frecuencia caras\")\n",
        "plt.show()"
      ],
      "execution_count": null,
      "outputs": []
    },
    {
      "cell_type": "markdown",
      "metadata": {
        "id": "NDFepcH9LELc"
      },
      "source": [
        "Como estos ejemplos nos muestran, al comienzo, la frecuencia con la que vamos obteniendo caras va variando considerablemente, pero a medida que aumentamos el número de repeticiones, la frecuencia de caras se va estabilizando en la probabilidad subyacente el evento:\n",
        "\n",
        "*   Ejemplo 1: 1 vez de cada 2 (p = 1/2)\n",
        "*   Ejemplo 2: 1 vez de cada 6 (p = 1/6)\n",
        "\n",
        "En los gráficos podemos ver claramente el comportamiento de la ley."
      ]
    },
    {
      "cell_type": "markdown",
      "metadata": {
        "id": "YPoCYnLFo_2e"
      },
      "source": [
        "# TEOREMA CENTRAL DEL LÍMITE"
      ]
    },
    {
      "cell_type": "markdown",
      "metadata": {
        "id": "Tc-CDcb56FCY"
      },
      "source": [
        "El otro gran teorema de la teoría de probabilidad es el **Teorema central del límite**. Este teorema establece que el promedio de casi cualquier conjunto de variables independientes generadas al azar se aproximan a la Distribución Normal.\n",
        "\n",
        "El Teorema del límite central explica por qué la **Distribución Normal** surge tan comúnmente y por qué es generalmente una **aproximación excelente para la media de casi cualquier colección de datos**. \n",
        "\n",
        "**OBSERVACIÓN**: Este notable hallazgo se mantiene verdadero sin importar la forma que adopte la distribución de datos original que tomemos. "
      ]
    },
    {
      "cell_type": "code",
      "metadata": {
        "id": "_knPmt4ApBRe"
      },
      "source": [
        "# Generación de muestras de diferentes distribuciones\n",
        "\n",
        "muestra_size = 20000  # iteraciones realizadas\n",
        "muestra_binomial = []\n",
        "muestra_exp = []\n",
        "muestra_possion = []\n",
        "muestra_uniforme = []\n",
        "mu = .9\n",
        "lam = 1.0\n",
        "size = 5000  #tamaño de la muestra de datos en cada iteración\n",
        "\n",
        "# Generación de una muestra de datos con distribución: binomial, exponencial, uniforme y poisson\n",
        "for i in range(1, muestra_size):\n",
        "    # MUESTRA BINOMIAL \n",
        "    muestra = np.random.binomial(1, mu, size=size)\n",
        "    muestra_binomial.append(muestra.mean())\n",
        "    # MUESTRA EXPONENCIAL\n",
        "    muestra = np.random.exponential(scale=2.0,size=size)\n",
        "    muestra_exp.append(muestra.mean())\n",
        "    # MUESTRA UNIFORME\n",
        "    muestra = np.random.uniform(0,1, size=size)\n",
        "    muestra_uniforme.append(muestra.mean())\n",
        "    # MUESTRA POISSON\n",
        "    muestra = np.random.poisson (lam=lam, size=size)\n",
        "    muestra_possion.append(muestra.mean()) "
      ],
      "execution_count": null,
      "outputs": []
    },
    {
      "cell_type": "code",
      "source": [
        "#Definición de un dataframe con las muestras de datos\n",
        "\n",
        "df = pd.DataFrame({ 'binomial' : muestra_binomial, \n",
        "                    'poission' : muestra_possion,\n",
        "                    'uniforme' : muestra_uniforme,\n",
        "                    'exponencial' : muestra_exp})"
      ],
      "metadata": {
        "id": "X7cOdrPXuJhZ"
      },
      "execution_count": null,
      "outputs": []
    },
    {
      "cell_type": "code",
      "source": [
        "# Representación gráfica de las DIFERENTES MUESTRAS\n",
        "fig, axes = plt.subplots(nrows=2, ncols=2, figsize=(10,10))\n",
        "df.binomial.hist(ax=axes[0,0], alpha=0.9, bins=1000)\n",
        "df.exponencial.hist(ax=axes[0,1],bins=1000)\n",
        "df.poission.hist(ax=axes[1,0],bins=1000)\n",
        "df.uniforme.hist(ax=axes[1,1],bins=1000)\n",
        "axes[0,0].set_title('Binomial')\n",
        "axes[0,1].set_title('Poisson')\n",
        "axes[1,0].set_title('Uniforme')\n",
        "axes[1,1].set_title('Exponencial')\n",
        "plt.show()"
      ],
      "metadata": {
        "id": "T5i-uYpit5Qk"
      },
      "execution_count": null,
      "outputs": []
    }
  ]
}