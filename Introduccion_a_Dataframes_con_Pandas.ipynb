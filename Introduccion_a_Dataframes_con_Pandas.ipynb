{
  "nbformat": 4,
  "nbformat_minor": 0,
  "metadata": {
    "colab": {
      "name": "Solucion_Introduccion_a_Dataframes_con_Pandas_Clase2.ipynb",
      "provenance": [],
      "collapsed_sections": [
        "zrn8G20HcCKJ",
        "3-jYDrqQcfXF",
        "cjPfjTm2fgLE",
        "mfbaQ2zzgWzb",
        "f6Wzo-mRCg1A",
        "fT6csUEV6NXp"
      ],
      "toc_visible": true
    },
    "kernelspec": {
      "name": "python3",
      "display_name": "Python 3"
    }
  },
  "cells": [
    {
      "cell_type": "code",
      "metadata": {
        "id": "Xq7a0_6UZOPl"
      },
      "source": [
        "import pandas as pd"
      ],
      "execution_count": null,
      "outputs": []
    },
    {
      "cell_type": "markdown",
      "metadata": {
        "id": "dvllpAsfQGJs"
      },
      "source": [
        "#Sección Uno. Repaso clase con Toni\n",
        "Vamos a realizar unos ejercicios para repasar toda la capa de dataframes, locs, ilocs, etc."
      ]
    },
    {
      "cell_type": "code",
      "metadata": {
        "colab": {
          "base_uri": "https://localhost:8080/",
          "height": 142
        },
        "id": "DU0eC5siy9t9",
        "outputId": "d550b76e-f64f-4479-f15c-ab4400aeeb3e"
      },
      "source": [
        "#1. Vamos a crear un dataframe para recordar como se crean (tabla como si fueran filas y columnas)\n",
        "#.  El dataframe va a estar formado por tres columnas llamadas:\n",
        "# - Nombres_Nuevos - Valores: Guille, Carlos, Jose\n",
        "# - Edad - Valores: 50, 31, 18\n",
        "# - Master - Valores: MDS, MDBS, EMBA\n",
        "clase_dos = pd.DataFrame({\"Nombres_Nuevos\": [\"Guille\", \"Carlos\", \"Jose\"], \"Edad\":[50,31,18],\"Master\":[\"MDS\",\"MBDS\",\"EMBA\"]})\n",
        "clase_dos"
      ],
      "execution_count": null,
      "outputs": [
        {
          "output_type": "execute_result",
          "data": {
            "text/html": [
              "<div>\n",
              "<style scoped>\n",
              "    .dataframe tbody tr th:only-of-type {\n",
              "        vertical-align: middle;\n",
              "    }\n",
              "\n",
              "    .dataframe tbody tr th {\n",
              "        vertical-align: top;\n",
              "    }\n",
              "\n",
              "    .dataframe thead th {\n",
              "        text-align: right;\n",
              "    }\n",
              "</style>\n",
              "<table border=\"1\" class=\"dataframe\">\n",
              "  <thead>\n",
              "    <tr style=\"text-align: right;\">\n",
              "      <th></th>\n",
              "      <th>Nombres_Nuevos</th>\n",
              "      <th>Edad</th>\n",
              "      <th>Master</th>\n",
              "    </tr>\n",
              "  </thead>\n",
              "  <tbody>\n",
              "    <tr>\n",
              "      <th>0</th>\n",
              "      <td>Guille</td>\n",
              "      <td>50</td>\n",
              "      <td>MDS</td>\n",
              "    </tr>\n",
              "    <tr>\n",
              "      <th>1</th>\n",
              "      <td>Carlos</td>\n",
              "      <td>31</td>\n",
              "      <td>MBDS</td>\n",
              "    </tr>\n",
              "    <tr>\n",
              "      <th>2</th>\n",
              "      <td>Jose</td>\n",
              "      <td>18</td>\n",
              "      <td>EMBA</td>\n",
              "    </tr>\n",
              "  </tbody>\n",
              "</table>\n",
              "</div>"
            ],
            "text/plain": [
              "  Nombres_Nuevos  Edad Master\n",
              "0         Guille    50    MDS\n",
              "1         Carlos    31   MBDS\n",
              "2           Jose    18   EMBA"
            ]
          },
          "metadata": {
            "tags": []
          },
          "execution_count": 85
        }
      ]
    },
    {
      "cell_type": "code",
      "metadata": {
        "colab": {
          "base_uri": "https://localhost:8080/"
        },
        "id": "UZ1NfWOO0wjw",
        "outputId": "21e50d0a-17df-49f9-c909-929ed93177fa"
      },
      "source": [
        "#2. Vamos ahora a ver solo una columna, en este caso la de Edad\n",
        "clase_dos.Edad"
      ],
      "execution_count": null,
      "outputs": [
        {
          "output_type": "execute_result",
          "data": {
            "text/plain": [
              "0    50\n",
              "1    31\n",
              "2    18\n",
              "Name: Edad, dtype: int64"
            ]
          },
          "metadata": {
            "tags": []
          },
          "execution_count": 86
        }
      ]
    },
    {
      "cell_type": "code",
      "metadata": {
        "colab": {
          "base_uri": "https://localhost:8080/"
        },
        "id": "MIOL4TxY20d0",
        "outputId": "287c6a74-5db3-4e17-adb7-6c86ee999d78"
      },
      "source": [
        "#3. Ahora vamos a ver el nombre de nuestras columnas\n",
        "clase_dos.columns"
      ],
      "execution_count": null,
      "outputs": [
        {
          "output_type": "execute_result",
          "data": {
            "text/plain": [
              "Index(['Nombres_Nuevos', 'Edad', 'Master'], dtype='object')"
            ]
          },
          "metadata": {
            "tags": []
          },
          "execution_count": 87
        }
      ]
    },
    {
      "cell_type": "code",
      "metadata": {
        "colab": {
          "base_uri": "https://localhost:8080/"
        },
        "id": "3a6NvPZK6Cue",
        "outputId": "9e9b7657-a121-427c-f323-e45a49a92265"
      },
      "source": [
        "#4. Tambien vamos a ver el índice de nuestro DF.\n",
        "clase_dos.index"
      ],
      "execution_count": null,
      "outputs": [
        {
          "output_type": "execute_result",
          "data": {
            "text/plain": [
              "RangeIndex(start=0, stop=3, step=1)"
            ]
          },
          "metadata": {
            "tags": []
          },
          "execution_count": 88
        }
      ]
    },
    {
      "cell_type": "code",
      "metadata": {
        "colab": {
          "base_uri": "https://localhost:8080/",
          "height": 35
        },
        "id": "bBytt9UQ_r1B",
        "outputId": "c0bc7d03-7bf5-44b5-8f81-05ddcc20a9bd"
      },
      "source": [
        "#5.1. Ahora vamos a intentar encontrar el valor Guille con iloc.\n",
        "#.    Con iloc vamos a buscar los ficheros \n",
        "clase_dos.iloc[0,0]"
      ],
      "execution_count": null,
      "outputs": [
        {
          "output_type": "execute_result",
          "data": {
            "application/vnd.google.colaboratory.intrinsic+json": {
              "type": "string"
            },
            "text/plain": [
              "'Guille'"
            ]
          },
          "metadata": {
            "tags": []
          },
          "execution_count": 89
        }
      ]
    },
    {
      "cell_type": "code",
      "metadata": {
        "colab": {
          "base_uri": "https://localhost:8080/",
          "height": 35
        },
        "id": "ovd11LmrAAHN",
        "outputId": "b9318b78-7c70-4b30-f956-bfcc4e016106"
      },
      "source": [
        "#5.2. Ahora vamos a intentar encontrar el valor Guille con loc.\n",
        "clase_dos.loc[0,:].values[0]"
      ],
      "execution_count": null,
      "outputs": [
        {
          "output_type": "execute_result",
          "data": {
            "application/vnd.google.colaboratory.intrinsic+json": {
              "type": "string"
            },
            "text/plain": [
              "'Guille'"
            ]
          },
          "metadata": {
            "tags": []
          },
          "execution_count": 90
        }
      ]
    },
    {
      "cell_type": "code",
      "metadata": {
        "colab": {
          "base_uri": "https://localhost:8080/",
          "height": 35
        },
        "id": "ovmfIxBBCai8",
        "outputId": "bf078e46-82e9-468c-9500-9696d2763fbf"
      },
      "source": [
        "#5.3. Tambien tenemos otra manera de hacerlo con loc\n",
        "clase_dos.loc[0,\"Master\"]"
      ],
      "execution_count": null,
      "outputs": [
        {
          "output_type": "execute_result",
          "data": {
            "application/vnd.google.colaboratory.intrinsic+json": {
              "type": "string"
            },
            "text/plain": [
              "'MDS'"
            ]
          },
          "metadata": {
            "tags": []
          },
          "execution_count": 91
        }
      ]
    },
    {
      "cell_type": "code",
      "metadata": {
        "id": "J3tkr2957pGk"
      },
      "source": [
        "#6.1. Vamos a recordar como cambiar el índice de una de nuestras columnas, vamos a poner Edad como indice\n",
        "clase_dos=clase_dos.set_index('Master')"
      ],
      "execution_count": null,
      "outputs": []
    },
    {
      "cell_type": "code",
      "metadata": {
        "colab": {
          "base_uri": "https://localhost:8080/"
        },
        "id": "oksKwuk4HgHN",
        "outputId": "f54a74cf-850a-4ba2-fc65-eb083b338c40"
      },
      "source": [
        "#6.2. Ahora vamos a volver a buscar en dicha tabla con loc para ver como cambia el index y las diferencias con el caso anterior.\n",
        "clase_dos.loc[\"EMBA\",\"Edad\"]"
      ],
      "execution_count": null,
      "outputs": [
        {
          "output_type": "execute_result",
          "data": {
            "text/plain": [
              "18"
            ]
          },
          "metadata": {
            "tags": []
          },
          "execution_count": 93
        }
      ]
    },
    {
      "cell_type": "code",
      "metadata": {
        "colab": {
          "base_uri": "https://localhost:8080/"
        },
        "id": "6zQU2_8OsUbU",
        "outputId": "1e57eb42-63b6-4d33-8c66-88e0b2de5e95"
      },
      "source": [
        "clase_dos = pd.DataFrame({\"Nombres_Nuevos\": [\"Guille\", \"Carlos\", \"Jose\"], \"Edad\":[50,31,18],\"Master\":[\"MDS\",\"MBDS\",\"EMBA\"]})\n",
        "#7. Otra manera de encontrar valores, podemos buscar la solo el master EMBA para ver que ocurre\n",
        "clase_dos[\"Master\"]==\"EMBA\"\n",
        "#.  Esto nos devolvía valores true/false en función de lo que encuentra"
      ],
      "execution_count": null,
      "outputs": [
        {
          "output_type": "execute_result",
          "data": {
            "text/plain": [
              "0    False\n",
              "1    False\n",
              "2     True\n",
              "Name: Master, dtype: bool"
            ]
          },
          "metadata": {
            "tags": []
          },
          "execution_count": 94
        }
      ]
    },
    {
      "cell_type": "code",
      "metadata": {
        "colab": {
          "base_uri": "https://localhost:8080/"
        },
        "id": "jvcd-0z4swJk",
        "outputId": "c3adf6e8-4fa3-4890-dde8-5af90452290e"
      },
      "source": [
        "#8. Ahora vamos a buscar en ciertas columna lo que hemos hecho antes, primero vamos a sacar la columna de Nombres_nuevos\n",
        "clase_dos.Nombres_Nuevos"
      ],
      "execution_count": null,
      "outputs": [
        {
          "output_type": "execute_result",
          "data": {
            "text/plain": [
              "0    Guille\n",
              "1    Carlos\n",
              "2      Jose\n",
              "Name: Nombres_Nuevos, dtype: object"
            ]
          },
          "metadata": {
            "tags": []
          },
          "execution_count": 95
        }
      ]
    },
    {
      "cell_type": "code",
      "metadata": {
        "colab": {
          "base_uri": "https://localhost:8080/"
        },
        "id": "-9H5qubRtAlE",
        "outputId": "4371779c-3962-46eb-cdb8-579728797b98"
      },
      "source": [
        "#9. Pero una vez tenemos dicha columna, queremos saber cual es el nombre cuyo master es el EMBA\n",
        "#.  Para eso, simplemente tenemos que buscar por dicha condición\n",
        "clase_dos.Nombres_Nuevos[clase_dos[\"Master\"]==\"EMBA\"]"
      ],
      "execution_count": null,
      "outputs": [
        {
          "output_type": "execute_result",
          "data": {
            "text/plain": [
              "2    Jose\n",
              "Name: Nombres_Nuevos, dtype: object"
            ]
          },
          "metadata": {
            "tags": []
          },
          "execution_count": 96
        }
      ]
    },
    {
      "cell_type": "code",
      "metadata": {
        "colab": {
          "base_uri": "https://localhost:8080/"
        },
        "id": "8z5Xhx95tif4",
        "outputId": "0c2af1c2-8e21-4154-a915-a7757f3ac458"
      },
      "source": [
        "#10. Tambien podemos mezclar varias condiciones\n",
        "#.   Por ejemplo, vamos a mezclar que el valor del master sea EMBA o MBDS\n",
        "clase_dos.Nombres_Nuevos[(clase_dos[\"Master\"]==\"EMBA\") | (clase_dos[\"Master\"]==\"MBDS\")]"
      ],
      "execution_count": null,
      "outputs": [
        {
          "output_type": "execute_result",
          "data": {
            "text/plain": [
              "1    Carlos\n",
              "2      Jose\n",
              "Name: Nombres_Nuevos, dtype: object"
            ]
          },
          "metadata": {
            "tags": []
          },
          "execution_count": 97
        }
      ]
    },
    {
      "cell_type": "code",
      "metadata": {
        "colab": {
          "base_uri": "https://localhost:8080/",
          "height": 111
        },
        "id": "npydwHeUvVZ-",
        "outputId": "b4b5c288-ed79-48d3-8c58-1faba84b3e2f"
      },
      "source": [
        "#11. Si en vez de usar una columna, solo usamos el DF nos devuelve todas las filas.\n",
        "clase_dos[(clase_dos[\"Master\"]==\"EMBA\") | (clase_dos[\"Master\"]==\"MBDS\")]"
      ],
      "execution_count": null,
      "outputs": [
        {
          "output_type": "execute_result",
          "data": {
            "text/html": [
              "<div>\n",
              "<style scoped>\n",
              "    .dataframe tbody tr th:only-of-type {\n",
              "        vertical-align: middle;\n",
              "    }\n",
              "\n",
              "    .dataframe tbody tr th {\n",
              "        vertical-align: top;\n",
              "    }\n",
              "\n",
              "    .dataframe thead th {\n",
              "        text-align: right;\n",
              "    }\n",
              "</style>\n",
              "<table border=\"1\" class=\"dataframe\">\n",
              "  <thead>\n",
              "    <tr style=\"text-align: right;\">\n",
              "      <th></th>\n",
              "      <th>Nombres_Nuevos</th>\n",
              "      <th>Edad</th>\n",
              "      <th>Master</th>\n",
              "    </tr>\n",
              "  </thead>\n",
              "  <tbody>\n",
              "    <tr>\n",
              "      <th>1</th>\n",
              "      <td>Carlos</td>\n",
              "      <td>31</td>\n",
              "      <td>MBDS</td>\n",
              "    </tr>\n",
              "    <tr>\n",
              "      <th>2</th>\n",
              "      <td>Jose</td>\n",
              "      <td>18</td>\n",
              "      <td>EMBA</td>\n",
              "    </tr>\n",
              "  </tbody>\n",
              "</table>\n",
              "</div>"
            ],
            "text/plain": [
              "  Nombres_Nuevos  Edad Master\n",
              "1         Carlos    31   MBDS\n",
              "2           Jose    18   EMBA"
            ]
          },
          "metadata": {
            "tags": []
          },
          "execution_count": 98
        }
      ]
    },
    {
      "cell_type": "code",
      "metadata": {
        "colab": {
          "base_uri": "https://localhost:8080/",
          "height": 142
        },
        "id": "VyeCIlvDv8oD",
        "outputId": "00d768ad-2af9-4ddd-af29-3b067948425c"
      },
      "source": [
        "#12. Vamos a recordar ahora como asignar un valor a una celda\n",
        "#.   Para ello vamos a usar iloc para cambiar un valor específico\n",
        "#.   En este caso vamos a cambiar el valor de Jose por Maria\n",
        "clase_dos.iloc[2,0]=\"Maria\"\n",
        "clase_dos"
      ],
      "execution_count": null,
      "outputs": [
        {
          "output_type": "execute_result",
          "data": {
            "text/html": [
              "<div>\n",
              "<style scoped>\n",
              "    .dataframe tbody tr th:only-of-type {\n",
              "        vertical-align: middle;\n",
              "    }\n",
              "\n",
              "    .dataframe tbody tr th {\n",
              "        vertical-align: top;\n",
              "    }\n",
              "\n",
              "    .dataframe thead th {\n",
              "        text-align: right;\n",
              "    }\n",
              "</style>\n",
              "<table border=\"1\" class=\"dataframe\">\n",
              "  <thead>\n",
              "    <tr style=\"text-align: right;\">\n",
              "      <th></th>\n",
              "      <th>Nombres_Nuevos</th>\n",
              "      <th>Edad</th>\n",
              "      <th>Master</th>\n",
              "    </tr>\n",
              "  </thead>\n",
              "  <tbody>\n",
              "    <tr>\n",
              "      <th>0</th>\n",
              "      <td>Guille</td>\n",
              "      <td>50</td>\n",
              "      <td>MDS</td>\n",
              "    </tr>\n",
              "    <tr>\n",
              "      <th>1</th>\n",
              "      <td>Carlos</td>\n",
              "      <td>31</td>\n",
              "      <td>MBDS</td>\n",
              "    </tr>\n",
              "    <tr>\n",
              "      <th>2</th>\n",
              "      <td>Maria</td>\n",
              "      <td>18</td>\n",
              "      <td>EMBA</td>\n",
              "    </tr>\n",
              "  </tbody>\n",
              "</table>\n",
              "</div>"
            ],
            "text/plain": [
              "  Nombres_Nuevos  Edad Master\n",
              "0         Guille    50    MDS\n",
              "1         Carlos    31   MBDS\n",
              "2          Maria    18   EMBA"
            ]
          },
          "metadata": {
            "tags": []
          },
          "execution_count": 99
        }
      ]
    },
    {
      "cell_type": "code",
      "metadata": {
        "colab": {
          "base_uri": "https://localhost:8080/",
          "height": 142
        },
        "id": "mn50BDBwxI7X",
        "outputId": "2db87213-f55c-4f79-96df-744d8400e112"
      },
      "source": [
        "#13. Ahora vamos a cambiar el valor de la Edad de Marúa a 45 con loc\n",
        "clase_dos.loc[2,\"Edad\"]=45\n",
        "clase_dos"
      ],
      "execution_count": null,
      "outputs": [
        {
          "output_type": "execute_result",
          "data": {
            "text/html": [
              "<div>\n",
              "<style scoped>\n",
              "    .dataframe tbody tr th:only-of-type {\n",
              "        vertical-align: middle;\n",
              "    }\n",
              "\n",
              "    .dataframe tbody tr th {\n",
              "        vertical-align: top;\n",
              "    }\n",
              "\n",
              "    .dataframe thead th {\n",
              "        text-align: right;\n",
              "    }\n",
              "</style>\n",
              "<table border=\"1\" class=\"dataframe\">\n",
              "  <thead>\n",
              "    <tr style=\"text-align: right;\">\n",
              "      <th></th>\n",
              "      <th>Nombres_Nuevos</th>\n",
              "      <th>Edad</th>\n",
              "      <th>Master</th>\n",
              "    </tr>\n",
              "  </thead>\n",
              "  <tbody>\n",
              "    <tr>\n",
              "      <th>0</th>\n",
              "      <td>Guille</td>\n",
              "      <td>50</td>\n",
              "      <td>MDS</td>\n",
              "    </tr>\n",
              "    <tr>\n",
              "      <th>1</th>\n",
              "      <td>Carlos</td>\n",
              "      <td>31</td>\n",
              "      <td>MBDS</td>\n",
              "    </tr>\n",
              "    <tr>\n",
              "      <th>2</th>\n",
              "      <td>Maria</td>\n",
              "      <td>45</td>\n",
              "      <td>EMBA</td>\n",
              "    </tr>\n",
              "  </tbody>\n",
              "</table>\n",
              "</div>"
            ],
            "text/plain": [
              "  Nombres_Nuevos  Edad Master\n",
              "0         Guille    50    MDS\n",
              "1         Carlos    31   MBDS\n",
              "2          Maria    45   EMBA"
            ]
          },
          "metadata": {
            "tags": []
          },
          "execution_count": 100
        }
      ]
    },
    {
      "cell_type": "code",
      "metadata": {
        "colab": {
          "base_uri": "https://localhost:8080/",
          "height": 142
        },
        "id": "vLpAAWrzyLqo",
        "outputId": "e016d091-0d92-4ee5-da57-55c906b28df0"
      },
      "source": [
        "#14. Tambien podemos incluirle condicionales a la hora de asignar valores.\n",
        "#.   Para ello incluimos el condicional en la forma en que busquemos (iloc, loc, values, etc)\n",
        "clase_dos.loc[clase_dos.Edad>35,\"Master\"]=\"MMMA\"\n",
        "clase_dos"
      ],
      "execution_count": null,
      "outputs": [
        {
          "output_type": "execute_result",
          "data": {
            "text/html": [
              "<div>\n",
              "<style scoped>\n",
              "    .dataframe tbody tr th:only-of-type {\n",
              "        vertical-align: middle;\n",
              "    }\n",
              "\n",
              "    .dataframe tbody tr th {\n",
              "        vertical-align: top;\n",
              "    }\n",
              "\n",
              "    .dataframe thead th {\n",
              "        text-align: right;\n",
              "    }\n",
              "</style>\n",
              "<table border=\"1\" class=\"dataframe\">\n",
              "  <thead>\n",
              "    <tr style=\"text-align: right;\">\n",
              "      <th></th>\n",
              "      <th>Nombres_Nuevos</th>\n",
              "      <th>Edad</th>\n",
              "      <th>Master</th>\n",
              "    </tr>\n",
              "  </thead>\n",
              "  <tbody>\n",
              "    <tr>\n",
              "      <th>0</th>\n",
              "      <td>Guille</td>\n",
              "      <td>50</td>\n",
              "      <td>MMMA</td>\n",
              "    </tr>\n",
              "    <tr>\n",
              "      <th>1</th>\n",
              "      <td>Carlos</td>\n",
              "      <td>31</td>\n",
              "      <td>MBDS</td>\n",
              "    </tr>\n",
              "    <tr>\n",
              "      <th>2</th>\n",
              "      <td>Maria</td>\n",
              "      <td>45</td>\n",
              "      <td>MMMA</td>\n",
              "    </tr>\n",
              "  </tbody>\n",
              "</table>\n",
              "</div>"
            ],
            "text/plain": [
              "  Nombres_Nuevos  Edad Master\n",
              "0         Guille    50   MMMA\n",
              "1         Carlos    31   MBDS\n",
              "2          Maria    45   MMMA"
            ]
          },
          "metadata": {
            "tags": []
          },
          "execution_count": 101
        }
      ]
    },
    {
      "cell_type": "markdown",
      "metadata": {
        "id": "zrn8G20HcCKJ"
      },
      "source": [
        "#Seccion Dos. Renombrar, combinar y juntar DataFrames\n",
        "\n",
        "En esta sección aprenderemos a alterar los nombres de las columnas de nuestro dataset y a combinar datasets , y juntar dos DataFrames en uno, de forma parecida a como lo hacíamos con SQL.\n"
      ]
    },
    {
      "cell_type": "code",
      "metadata": {
        "id": "ewb-5DmQb92i",
        "colab": {
          "base_uri": "https://localhost:8080/"
        },
        "outputId": "b0302097-6f82-43b4-f714-ab0c5f268e80"
      },
      "source": [
        "import pandas as pd\n",
        "\n",
        "orders = pd.read_csv(\"https://raw.githubusercontent.com/cherryguille/pandas_classroom/main/customers.csv\")\n",
        "orders"
      ],
      "execution_count": null,
      "outputs": [
        {
          "output_type": "execute_result",
          "data": {
            "text/html": [
              "<div>\n",
              "<style scoped>\n",
              "    .dataframe tbody tr th:only-of-type {\n",
              "        vertical-align: middle;\n",
              "    }\n",
              "\n",
              "    .dataframe tbody tr th {\n",
              "        vertical-align: top;\n",
              "    }\n",
              "\n",
              "    .dataframe thead th {\n",
              "        text-align: right;\n",
              "    }\n",
              "</style>\n",
              "<table border=\"1\" class=\"dataframe\">\n",
              "  <thead>\n",
              "    <tr style=\"text-align: right;\">\n",
              "      <th></th>\n",
              "      <th>Customer_ID</th>\n",
              "      <th>Customer_Name</th>\n",
              "      <th>Segment</th>\n",
              "      <th>Country</th>\n",
              "      <th>City</th>\n",
              "      <th>State</th>\n",
              "      <th>Postal_Code</th>\n",
              "      <th>Region</th>\n",
              "    </tr>\n",
              "  </thead>\n",
              "  <tbody>\n",
              "    <tr>\n",
              "      <th>0</th>\n",
              "      <td>JL-15130</td>\n",
              "      <td>Jack Lebron</td>\n",
              "      <td>Consumer</td>\n",
              "      <td>United States</td>\n",
              "      <td>Riverside</td>\n",
              "      <td>California</td>\n",
              "      <td>92503</td>\n",
              "      <td>West</td>\n",
              "    </tr>\n",
              "    <tr>\n",
              "      <th>1</th>\n",
              "      <td>SW-20245</td>\n",
              "      <td>Scot Wooten</td>\n",
              "      <td>Consumer</td>\n",
              "      <td>United States</td>\n",
              "      <td>Springfield</td>\n",
              "      <td>Ohio</td>\n",
              "      <td>45503</td>\n",
              "      <td>East</td>\n",
              "    </tr>\n",
              "    <tr>\n",
              "      <th>2</th>\n",
              "      <td>SM-20320</td>\n",
              "      <td>Sean Miller</td>\n",
              "      <td>Home Office</td>\n",
              "      <td>United States</td>\n",
              "      <td>Jacksonville</td>\n",
              "      <td>Florida</td>\n",
              "      <td>32216</td>\n",
              "      <td>South</td>\n",
              "    </tr>\n",
              "    <tr>\n",
              "      <th>3</th>\n",
              "      <td>ML-18040</td>\n",
              "      <td>Michelle Lonsdale</td>\n",
              "      <td>Corporate</td>\n",
              "      <td>United States</td>\n",
              "      <td>Missouri City</td>\n",
              "      <td>Texas</td>\n",
              "      <td>77489</td>\n",
              "      <td>Central</td>\n",
              "    </tr>\n",
              "    <tr>\n",
              "      <th>4</th>\n",
              "      <td>JG-15115</td>\n",
              "      <td>Jack Garza</td>\n",
              "      <td>Consumer</td>\n",
              "      <td>United States</td>\n",
              "      <td>Charlotte</td>\n",
              "      <td>North Carolina</td>\n",
              "      <td>28205</td>\n",
              "      <td>South</td>\n",
              "    </tr>\n",
              "    <tr>\n",
              "      <th>...</th>\n",
              "      <td>...</td>\n",
              "      <td>...</td>\n",
              "      <td>...</td>\n",
              "      <td>...</td>\n",
              "      <td>...</td>\n",
              "      <td>...</td>\n",
              "      <td>...</td>\n",
              "      <td>...</td>\n",
              "    </tr>\n",
              "    <tr>\n",
              "      <th>788</th>\n",
              "      <td>CS-12460</td>\n",
              "      <td>Chuck Sachs</td>\n",
              "      <td>Consumer</td>\n",
              "      <td>United States</td>\n",
              "      <td>New York City</td>\n",
              "      <td>New York</td>\n",
              "      <td>10009</td>\n",
              "      <td>East</td>\n",
              "    </tr>\n",
              "    <tr>\n",
              "      <th>789</th>\n",
              "      <td>JM-15250</td>\n",
              "      <td>Janet Martin</td>\n",
              "      <td>Consumer</td>\n",
              "      <td>United States</td>\n",
              "      <td>Baltimore</td>\n",
              "      <td>Maryland</td>\n",
              "      <td>21215</td>\n",
              "      <td>East</td>\n",
              "    </tr>\n",
              "    <tr>\n",
              "      <th>790</th>\n",
              "      <td>MC-18100</td>\n",
              "      <td>Mick Crebagga</td>\n",
              "      <td>Consumer</td>\n",
              "      <td>United States</td>\n",
              "      <td>Chicago</td>\n",
              "      <td>Illinois</td>\n",
              "      <td>60623</td>\n",
              "      <td>Central</td>\n",
              "    </tr>\n",
              "    <tr>\n",
              "      <th>791</th>\n",
              "      <td>VP-21760</td>\n",
              "      <td>Victoria Pisteka</td>\n",
              "      <td>Corporate</td>\n",
              "      <td>United States</td>\n",
              "      <td>San Francisco</td>\n",
              "      <td>California</td>\n",
              "      <td>94109</td>\n",
              "      <td>West</td>\n",
              "    </tr>\n",
              "    <tr>\n",
              "      <th>792</th>\n",
              "      <td>ME-17320</td>\n",
              "      <td>Maria Etezadi</td>\n",
              "      <td>Home Office</td>\n",
              "      <td>United States</td>\n",
              "      <td>Springfield</td>\n",
              "      <td>Virginia</td>\n",
              "      <td>22153</td>\n",
              "      <td>South</td>\n",
              "    </tr>\n",
              "  </tbody>\n",
              "</table>\n",
              "<p>793 rows × 8 columns</p>\n",
              "</div>"
            ],
            "text/plain": [
              "    Customer_ID      Customer_Name  ... Postal_Code   Region\n",
              "0      JL-15130        Jack Lebron  ...       92503     West\n",
              "1      SW-20245        Scot Wooten  ...       45503     East\n",
              "2      SM-20320        Sean Miller  ...       32216    South\n",
              "3      ML-18040  Michelle Lonsdale  ...       77489  Central\n",
              "4      JG-15115         Jack Garza  ...       28205    South\n",
              "..          ...                ...  ...         ...      ...\n",
              "788    CS-12460        Chuck Sachs  ...       10009     East\n",
              "789    JM-15250       Janet Martin  ...       21215     East\n",
              "790    MC-18100      Mick Crebagga  ...       60623  Central\n",
              "791    VP-21760   Victoria Pisteka  ...       94109     West\n",
              "792    ME-17320      Maria Etezadi  ...       22153    South\n",
              "\n",
              "[793 rows x 8 columns]"
            ]
          },
          "metadata": {
            "tags": []
          },
          "execution_count": 80
        }
      ]
    },
    {
      "cell_type": "code",
      "metadata": {
        "colab": {
          "base_uri": "https://localhost:8080/"
        },
        "id": "wFidgw0SV_0m",
        "outputId": "686b9caf-1b46-4704-9ba9-7bb97800346a"
      },
      "source": [
        "#1. Vamos a ver las columnas de nuestro DF\n",
        "orders.columns"
      ],
      "execution_count": null,
      "outputs": [
        {
          "output_type": "execute_result",
          "data": {
            "text/plain": [
              "Index(['Customer_ID', 'Customer_Name', 'Segment', 'Country', 'City', 'State',\n",
              "       'Postal_Code', 'Region'],\n",
              "      dtype='object')"
            ]
          },
          "metadata": {
            "tags": []
          },
          "execution_count": 82
        }
      ]
    },
    {
      "cell_type": "code",
      "metadata": {
        "colab": {
          "base_uri": "https://localhost:8080/"
        },
        "id": "y2BkPYPtWBuJ",
        "outputId": "f84991bf-95fd-4fd3-fad8-6cd53603b473"
      },
      "source": [
        "#2. Vemos las columnas y filas que tenemos con el shape \n",
        "orders.shape"
      ],
      "execution_count": null,
      "outputs": [
        {
          "output_type": "execute_result",
          "data": {
            "text/plain": [
              "(793, 8)"
            ]
          },
          "metadata": {
            "tags": []
          },
          "execution_count": 91
        }
      ]
    },
    {
      "cell_type": "code",
      "metadata": {
        "colab": {
          "base_uri": "https://localhost:8080/"
        },
        "id": "ygwi8nOAXIzo",
        "outputId": "357eef30-acb2-4774-e9f8-8574865a8c82"
      },
      "source": [
        "#3. Por ultimo vamos a ver los tipos de datos que tenemos\n",
        "orders.dtypes"
      ],
      "execution_count": null,
      "outputs": [
        {
          "output_type": "execute_result",
          "data": {
            "text/plain": [
              "Customer_ID      object\n",
              "Customer_Name    object\n",
              "Segment          object\n",
              "Country          object\n",
              "City             object\n",
              "State            object\n",
              "Postal_Code       int64\n",
              "Region           object\n",
              "dtype: object"
            ]
          },
          "metadata": {
            "tags": []
          },
          "execution_count": 94
        }
      ]
    },
    {
      "cell_type": "markdown",
      "metadata": {
        "id": "3-jYDrqQcfXF"
      },
      "source": [
        "## Renombrar\n",
        "Para renombrar columnas utilizaremos la función rename()."
      ]
    },
    {
      "cell_type": "code",
      "metadata": {
        "colab": {
          "base_uri": "https://localhost:8080/",
          "height": 204
        },
        "id": "9L30rjnhc7q4",
        "outputId": "274b195f-3efb-4c94-8251-0e795ce92568"
      },
      "source": [
        "#1. Por ejemplo, si queremos renombrar la columna Order_Date lo haremos de la siguiente forma.\n",
        "orders.rename(columns={\"Order_Date\": \"Date\"})\n",
        "orders.head()"
      ],
      "execution_count": null,
      "outputs": [
        {
          "output_type": "execute_result",
          "data": {
            "text/html": [
              "<div>\n",
              "<style scoped>\n",
              "    .dataframe tbody tr th:only-of-type {\n",
              "        vertical-align: middle;\n",
              "    }\n",
              "\n",
              "    .dataframe tbody tr th {\n",
              "        vertical-align: top;\n",
              "    }\n",
              "\n",
              "    .dataframe thead th {\n",
              "        text-align: right;\n",
              "    }\n",
              "</style>\n",
              "<table border=\"1\" class=\"dataframe\">\n",
              "  <thead>\n",
              "    <tr style=\"text-align: right;\">\n",
              "      <th></th>\n",
              "      <th>Customer_ID</th>\n",
              "      <th>Customer_Name</th>\n",
              "      <th>Segment</th>\n",
              "      <th>Country</th>\n",
              "      <th>City</th>\n",
              "      <th>State</th>\n",
              "      <th>Postal_Code</th>\n",
              "      <th>Region</th>\n",
              "    </tr>\n",
              "  </thead>\n",
              "  <tbody>\n",
              "    <tr>\n",
              "      <th>0</th>\n",
              "      <td>JL-15130</td>\n",
              "      <td>Jack Lebron</td>\n",
              "      <td>Consumer</td>\n",
              "      <td>United States</td>\n",
              "      <td>Riverside</td>\n",
              "      <td>California</td>\n",
              "      <td>92503</td>\n",
              "      <td>West</td>\n",
              "    </tr>\n",
              "    <tr>\n",
              "      <th>1</th>\n",
              "      <td>SW-20245</td>\n",
              "      <td>Scot Wooten</td>\n",
              "      <td>Consumer</td>\n",
              "      <td>United States</td>\n",
              "      <td>Springfield</td>\n",
              "      <td>Ohio</td>\n",
              "      <td>45503</td>\n",
              "      <td>East</td>\n",
              "    </tr>\n",
              "    <tr>\n",
              "      <th>2</th>\n",
              "      <td>SM-20320</td>\n",
              "      <td>Sean Miller</td>\n",
              "      <td>Home Office</td>\n",
              "      <td>United States</td>\n",
              "      <td>Jacksonville</td>\n",
              "      <td>Florida</td>\n",
              "      <td>32216</td>\n",
              "      <td>South</td>\n",
              "    </tr>\n",
              "    <tr>\n",
              "      <th>3</th>\n",
              "      <td>ML-18040</td>\n",
              "      <td>Michelle Lonsdale</td>\n",
              "      <td>Corporate</td>\n",
              "      <td>United States</td>\n",
              "      <td>Missouri City</td>\n",
              "      <td>Texas</td>\n",
              "      <td>77489</td>\n",
              "      <td>Central</td>\n",
              "    </tr>\n",
              "    <tr>\n",
              "      <th>4</th>\n",
              "      <td>JG-15115</td>\n",
              "      <td>Jack Garza</td>\n",
              "      <td>Consumer</td>\n",
              "      <td>United States</td>\n",
              "      <td>Charlotte</td>\n",
              "      <td>North Carolina</td>\n",
              "      <td>28205</td>\n",
              "      <td>South</td>\n",
              "    </tr>\n",
              "  </tbody>\n",
              "</table>\n",
              "</div>"
            ],
            "text/plain": [
              "  Customer_ID      Customer_Name  ... Postal_Code   Region\n",
              "0    JL-15130        Jack Lebron  ...       92503     West\n",
              "1    SW-20245        Scot Wooten  ...       45503     East\n",
              "2    SM-20320        Sean Miller  ...       32216    South\n",
              "3    ML-18040  Michelle Lonsdale  ...       77489  Central\n",
              "4    JG-15115         Jack Garza  ...       28205    South\n",
              "\n",
              "[5 rows x 8 columns]"
            ]
          },
          "metadata": {
            "tags": []
          },
          "execution_count": 14
        }
      ]
    },
    {
      "cell_type": "code",
      "metadata": {
        "colab": {
          "base_uri": "https://localhost:8080/",
          "height": 204
        },
        "id": "kAPJK9-zdXdB",
        "outputId": "fa13fc12-030a-4a44-e3ec-9ee030a53187"
      },
      "source": [
        "#2. En el código anterior se muestra el DataFrame con la columna todavía llamándose Order_Date... \n",
        "#   Esto es así porque no le asignamos a orders el valor del dataframe con el nombre nuevo...\n",
        "orders = orders.rename(columns={\"Order_Date\": \"Date\"})\n",
        "orders.head()"
      ],
      "execution_count": null,
      "outputs": [
        {
          "output_type": "execute_result",
          "data": {
            "text/html": [
              "<div>\n",
              "<style scoped>\n",
              "    .dataframe tbody tr th:only-of-type {\n",
              "        vertical-align: middle;\n",
              "    }\n",
              "\n",
              "    .dataframe tbody tr th {\n",
              "        vertical-align: top;\n",
              "    }\n",
              "\n",
              "    .dataframe thead th {\n",
              "        text-align: right;\n",
              "    }\n",
              "</style>\n",
              "<table border=\"1\" class=\"dataframe\">\n",
              "  <thead>\n",
              "    <tr style=\"text-align: right;\">\n",
              "      <th></th>\n",
              "      <th>Customer_ID</th>\n",
              "      <th>Customer_Name</th>\n",
              "      <th>Segment</th>\n",
              "      <th>Country</th>\n",
              "      <th>City</th>\n",
              "      <th>State</th>\n",
              "      <th>Postal_Code</th>\n",
              "      <th>Region</th>\n",
              "    </tr>\n",
              "  </thead>\n",
              "  <tbody>\n",
              "    <tr>\n",
              "      <th>0</th>\n",
              "      <td>JL-15130</td>\n",
              "      <td>Jack Lebron</td>\n",
              "      <td>Consumer</td>\n",
              "      <td>United States</td>\n",
              "      <td>Riverside</td>\n",
              "      <td>California</td>\n",
              "      <td>92503</td>\n",
              "      <td>West</td>\n",
              "    </tr>\n",
              "    <tr>\n",
              "      <th>1</th>\n",
              "      <td>SW-20245</td>\n",
              "      <td>Scot Wooten</td>\n",
              "      <td>Consumer</td>\n",
              "      <td>United States</td>\n",
              "      <td>Springfield</td>\n",
              "      <td>Ohio</td>\n",
              "      <td>45503</td>\n",
              "      <td>East</td>\n",
              "    </tr>\n",
              "    <tr>\n",
              "      <th>2</th>\n",
              "      <td>SM-20320</td>\n",
              "      <td>Sean Miller</td>\n",
              "      <td>Home Office</td>\n",
              "      <td>United States</td>\n",
              "      <td>Jacksonville</td>\n",
              "      <td>Florida</td>\n",
              "      <td>32216</td>\n",
              "      <td>South</td>\n",
              "    </tr>\n",
              "    <tr>\n",
              "      <th>3</th>\n",
              "      <td>ML-18040</td>\n",
              "      <td>Michelle Lonsdale</td>\n",
              "      <td>Corporate</td>\n",
              "      <td>United States</td>\n",
              "      <td>Missouri City</td>\n",
              "      <td>Texas</td>\n",
              "      <td>77489</td>\n",
              "      <td>Central</td>\n",
              "    </tr>\n",
              "    <tr>\n",
              "      <th>4</th>\n",
              "      <td>JG-15115</td>\n",
              "      <td>Jack Garza</td>\n",
              "      <td>Consumer</td>\n",
              "      <td>United States</td>\n",
              "      <td>Charlotte</td>\n",
              "      <td>North Carolina</td>\n",
              "      <td>28205</td>\n",
              "      <td>South</td>\n",
              "    </tr>\n",
              "  </tbody>\n",
              "</table>\n",
              "</div>"
            ],
            "text/plain": [
              "  Customer_ID      Customer_Name  ... Postal_Code   Region\n",
              "0    JL-15130        Jack Lebron  ...       92503     West\n",
              "1    SW-20245        Scot Wooten  ...       45503     East\n",
              "2    SM-20320        Sean Miller  ...       32216    South\n",
              "3    ML-18040  Michelle Lonsdale  ...       77489  Central\n",
              "4    JG-15115         Jack Garza  ...       28205    South\n",
              "\n",
              "[5 rows x 8 columns]"
            ]
          },
          "metadata": {
            "tags": []
          },
          "execution_count": 15
        }
      ]
    },
    {
      "cell_type": "code",
      "metadata": {
        "colab": {
          "base_uri": "https://localhost:8080/",
          "height": 204
        },
        "id": "zcUm1eK1daNl",
        "outputId": "35a9ae0a-60f0-4f97-e0dd-e79ceb1351d0"
      },
      "source": [
        "#3. Esto ocurre muchas veces en Python en general y con Pandas en particular. \n",
        "#.  En Pandas, existe una forma de hacerlo cómodamente con el comando inplace.\n",
        "#.  Vamos a cambiar de nuevo el nombre de la columna y ponerle el nombre que tenia anteriormente. \n",
        "#.  Al añadir el argumento inplace=True, no necesitamos asignarle a orders el valor de orders.rename().\n",
        "orders.rename(columns={\"Date\": \"Order_Date\"}, inplace=True)\n",
        "orders.head()"
      ],
      "execution_count": null,
      "outputs": [
        {
          "output_type": "execute_result",
          "data": {
            "text/html": [
              "<div>\n",
              "<style scoped>\n",
              "    .dataframe tbody tr th:only-of-type {\n",
              "        vertical-align: middle;\n",
              "    }\n",
              "\n",
              "    .dataframe tbody tr th {\n",
              "        vertical-align: top;\n",
              "    }\n",
              "\n",
              "    .dataframe thead th {\n",
              "        text-align: right;\n",
              "    }\n",
              "</style>\n",
              "<table border=\"1\" class=\"dataframe\">\n",
              "  <thead>\n",
              "    <tr style=\"text-align: right;\">\n",
              "      <th></th>\n",
              "      <th>Customer_ID</th>\n",
              "      <th>Customer_Name</th>\n",
              "      <th>Segment</th>\n",
              "      <th>Country</th>\n",
              "      <th>City</th>\n",
              "      <th>State</th>\n",
              "      <th>Postal_Code</th>\n",
              "      <th>Region</th>\n",
              "    </tr>\n",
              "  </thead>\n",
              "  <tbody>\n",
              "    <tr>\n",
              "      <th>0</th>\n",
              "      <td>JL-15130</td>\n",
              "      <td>Jack Lebron</td>\n",
              "      <td>Consumer</td>\n",
              "      <td>United States</td>\n",
              "      <td>Riverside</td>\n",
              "      <td>California</td>\n",
              "      <td>92503</td>\n",
              "      <td>West</td>\n",
              "    </tr>\n",
              "    <tr>\n",
              "      <th>1</th>\n",
              "      <td>SW-20245</td>\n",
              "      <td>Scot Wooten</td>\n",
              "      <td>Consumer</td>\n",
              "      <td>United States</td>\n",
              "      <td>Springfield</td>\n",
              "      <td>Ohio</td>\n",
              "      <td>45503</td>\n",
              "      <td>East</td>\n",
              "    </tr>\n",
              "    <tr>\n",
              "      <th>2</th>\n",
              "      <td>SM-20320</td>\n",
              "      <td>Sean Miller</td>\n",
              "      <td>Home Office</td>\n",
              "      <td>United States</td>\n",
              "      <td>Jacksonville</td>\n",
              "      <td>Florida</td>\n",
              "      <td>32216</td>\n",
              "      <td>South</td>\n",
              "    </tr>\n",
              "    <tr>\n",
              "      <th>3</th>\n",
              "      <td>ML-18040</td>\n",
              "      <td>Michelle Lonsdale</td>\n",
              "      <td>Corporate</td>\n",
              "      <td>United States</td>\n",
              "      <td>Missouri City</td>\n",
              "      <td>Texas</td>\n",
              "      <td>77489</td>\n",
              "      <td>Central</td>\n",
              "    </tr>\n",
              "    <tr>\n",
              "      <th>4</th>\n",
              "      <td>JG-15115</td>\n",
              "      <td>Jack Garza</td>\n",
              "      <td>Consumer</td>\n",
              "      <td>United States</td>\n",
              "      <td>Charlotte</td>\n",
              "      <td>North Carolina</td>\n",
              "      <td>28205</td>\n",
              "      <td>South</td>\n",
              "    </tr>\n",
              "  </tbody>\n",
              "</table>\n",
              "</div>"
            ],
            "text/plain": [
              "  Customer_ID      Customer_Name  ... Postal_Code   Region\n",
              "0    JL-15130        Jack Lebron  ...       92503     West\n",
              "1    SW-20245        Scot Wooten  ...       45503     East\n",
              "2    SM-20320        Sean Miller  ...       32216    South\n",
              "3    ML-18040  Michelle Lonsdale  ...       77489  Central\n",
              "4    JG-15115         Jack Garza  ...       28205    South\n",
              "\n",
              "[5 rows x 8 columns]"
            ]
          },
          "metadata": {
            "tags": []
          },
          "execution_count": 16
        }
      ]
    },
    {
      "cell_type": "code",
      "metadata": {
        "colab": {
          "base_uri": "https://localhost:8080/",
          "height": 450
        },
        "id": "Wt5k-StfeLwU",
        "outputId": "30a635b4-ddb0-4cc1-c80d-223247f7e0f3"
      },
      "source": [
        "#4. Otra cosa que podemos renombrar son los ejes. No es crítico pero si estamos haciendo un notebook de python muy didáctico o divulgativo es útil.\n",
        "orders.rename_axis(\"Orders\", axis='rows').rename_axis(\"Details\", axis='columns')  \n",
        "#encadenar la salida de una funcion con otra también es algo muy típico"
      ],
      "execution_count": null,
      "outputs": [
        {
          "output_type": "execute_result",
          "data": {
            "text/html": [
              "<div>\n",
              "<style scoped>\n",
              "    .dataframe tbody tr th:only-of-type {\n",
              "        vertical-align: middle;\n",
              "    }\n",
              "\n",
              "    .dataframe tbody tr th {\n",
              "        vertical-align: top;\n",
              "    }\n",
              "\n",
              "    .dataframe thead th {\n",
              "        text-align: right;\n",
              "    }\n",
              "</style>\n",
              "<table border=\"1\" class=\"dataframe\">\n",
              "  <thead>\n",
              "    <tr style=\"text-align: right;\">\n",
              "      <th>Details</th>\n",
              "      <th>Customer_ID</th>\n",
              "      <th>Customer_Name</th>\n",
              "      <th>Segment</th>\n",
              "      <th>Country</th>\n",
              "      <th>City</th>\n",
              "      <th>State</th>\n",
              "      <th>Postal_Code</th>\n",
              "      <th>Region</th>\n",
              "    </tr>\n",
              "    <tr>\n",
              "      <th>Orders</th>\n",
              "      <th></th>\n",
              "      <th></th>\n",
              "      <th></th>\n",
              "      <th></th>\n",
              "      <th></th>\n",
              "      <th></th>\n",
              "      <th></th>\n",
              "      <th></th>\n",
              "    </tr>\n",
              "  </thead>\n",
              "  <tbody>\n",
              "    <tr>\n",
              "      <th>0</th>\n",
              "      <td>JL-15130</td>\n",
              "      <td>Jack Lebron</td>\n",
              "      <td>Consumer</td>\n",
              "      <td>United States</td>\n",
              "      <td>Riverside</td>\n",
              "      <td>California</td>\n",
              "      <td>92503</td>\n",
              "      <td>West</td>\n",
              "    </tr>\n",
              "    <tr>\n",
              "      <th>1</th>\n",
              "      <td>SW-20245</td>\n",
              "      <td>Scot Wooten</td>\n",
              "      <td>Consumer</td>\n",
              "      <td>United States</td>\n",
              "      <td>Springfield</td>\n",
              "      <td>Ohio</td>\n",
              "      <td>45503</td>\n",
              "      <td>East</td>\n",
              "    </tr>\n",
              "    <tr>\n",
              "      <th>2</th>\n",
              "      <td>SM-20320</td>\n",
              "      <td>Sean Miller</td>\n",
              "      <td>Home Office</td>\n",
              "      <td>United States</td>\n",
              "      <td>Jacksonville</td>\n",
              "      <td>Florida</td>\n",
              "      <td>32216</td>\n",
              "      <td>South</td>\n",
              "    </tr>\n",
              "    <tr>\n",
              "      <th>3</th>\n",
              "      <td>ML-18040</td>\n",
              "      <td>Michelle Lonsdale</td>\n",
              "      <td>Corporate</td>\n",
              "      <td>United States</td>\n",
              "      <td>Missouri City</td>\n",
              "      <td>Texas</td>\n",
              "      <td>77489</td>\n",
              "      <td>Central</td>\n",
              "    </tr>\n",
              "    <tr>\n",
              "      <th>4</th>\n",
              "      <td>JG-15115</td>\n",
              "      <td>Jack Garza</td>\n",
              "      <td>Consumer</td>\n",
              "      <td>United States</td>\n",
              "      <td>Charlotte</td>\n",
              "      <td>North Carolina</td>\n",
              "      <td>28205</td>\n",
              "      <td>South</td>\n",
              "    </tr>\n",
              "    <tr>\n",
              "      <th>...</th>\n",
              "      <td>...</td>\n",
              "      <td>...</td>\n",
              "      <td>...</td>\n",
              "      <td>...</td>\n",
              "      <td>...</td>\n",
              "      <td>...</td>\n",
              "      <td>...</td>\n",
              "      <td>...</td>\n",
              "    </tr>\n",
              "    <tr>\n",
              "      <th>788</th>\n",
              "      <td>CS-12460</td>\n",
              "      <td>Chuck Sachs</td>\n",
              "      <td>Consumer</td>\n",
              "      <td>United States</td>\n",
              "      <td>New York City</td>\n",
              "      <td>New York</td>\n",
              "      <td>10009</td>\n",
              "      <td>East</td>\n",
              "    </tr>\n",
              "    <tr>\n",
              "      <th>789</th>\n",
              "      <td>JM-15250</td>\n",
              "      <td>Janet Martin</td>\n",
              "      <td>Consumer</td>\n",
              "      <td>United States</td>\n",
              "      <td>Baltimore</td>\n",
              "      <td>Maryland</td>\n",
              "      <td>21215</td>\n",
              "      <td>East</td>\n",
              "    </tr>\n",
              "    <tr>\n",
              "      <th>790</th>\n",
              "      <td>MC-18100</td>\n",
              "      <td>Mick Crebagga</td>\n",
              "      <td>Consumer</td>\n",
              "      <td>United States</td>\n",
              "      <td>Chicago</td>\n",
              "      <td>Illinois</td>\n",
              "      <td>60623</td>\n",
              "      <td>Central</td>\n",
              "    </tr>\n",
              "    <tr>\n",
              "      <th>791</th>\n",
              "      <td>VP-21760</td>\n",
              "      <td>Victoria Pisteka</td>\n",
              "      <td>Corporate</td>\n",
              "      <td>United States</td>\n",
              "      <td>San Francisco</td>\n",
              "      <td>California</td>\n",
              "      <td>94109</td>\n",
              "      <td>West</td>\n",
              "    </tr>\n",
              "    <tr>\n",
              "      <th>792</th>\n",
              "      <td>ME-17320</td>\n",
              "      <td>Maria Etezadi</td>\n",
              "      <td>Home Office</td>\n",
              "      <td>United States</td>\n",
              "      <td>Springfield</td>\n",
              "      <td>Virginia</td>\n",
              "      <td>22153</td>\n",
              "      <td>South</td>\n",
              "    </tr>\n",
              "  </tbody>\n",
              "</table>\n",
              "<p>793 rows × 8 columns</p>\n",
              "</div>"
            ],
            "text/plain": [
              "Details Customer_ID      Customer_Name  ... Postal_Code   Region\n",
              "Orders                                  ...                     \n",
              "0          JL-15130        Jack Lebron  ...       92503     West\n",
              "1          SW-20245        Scot Wooten  ...       45503     East\n",
              "2          SM-20320        Sean Miller  ...       32216    South\n",
              "3          ML-18040  Michelle Lonsdale  ...       77489  Central\n",
              "4          JG-15115         Jack Garza  ...       28205    South\n",
              "...             ...                ...  ...         ...      ...\n",
              "788        CS-12460        Chuck Sachs  ...       10009     East\n",
              "789        JM-15250       Janet Martin  ...       21215     East\n",
              "790        MC-18100      Mick Crebagga  ...       60623  Central\n",
              "791        VP-21760   Victoria Pisteka  ...       94109     West\n",
              "792        ME-17320      Maria Etezadi  ...       22153    South\n",
              "\n",
              "[793 rows x 8 columns]"
            ]
          },
          "metadata": {
            "tags": []
          },
          "execution_count": 17
        }
      ]
    },
    {
      "cell_type": "markdown",
      "metadata": {
        "id": "cjPfjTm2fgLE"
      },
      "source": [
        "## Combinar DataFrames\n",
        "\n",
        "En ocasiones tenemos diferentes archivos o DataFrames que contienen información con los mismos campos o columnas. Imaginemos que tenemos archivos de años diferentes y queremos agruparlos en uno para trabajar con todos los años en el mismo DataFrame.\n",
        "\n",
        "\n",
        "*   [Concat](https://pandas.pydata.org/pandas-docs/stable/reference/api/pandas.concat.html)\n",
        "\n"
      ]
    },
    {
      "cell_type": "code",
      "metadata": {
        "colab": {
          "base_uri": "https://localhost:8080/",
          "height": 419
        },
        "id": "FEPNAU8Mf0fZ",
        "outputId": "f4f46e28-a5f6-4bfe-d19c-69dd28e633f4"
      },
      "source": [
        "#1. Utilizaremos la funcion concat()\n",
        "\n",
        "dataframe1 = orders[0:1000]\n",
        "dataframe2 = orders[1000:2000]\n",
        "\n",
        "dataframe3 = pd.concat([dataframe1, dataframe2]) #mirad que a la funcion concat le pasamos un array de dataframes. Pueden ser más de 2!!\n",
        "dataframe3"
      ],
      "execution_count": null,
      "outputs": [
        {
          "output_type": "execute_result",
          "data": {
            "text/html": [
              "<div>\n",
              "<style scoped>\n",
              "    .dataframe tbody tr th:only-of-type {\n",
              "        vertical-align: middle;\n",
              "    }\n",
              "\n",
              "    .dataframe tbody tr th {\n",
              "        vertical-align: top;\n",
              "    }\n",
              "\n",
              "    .dataframe thead th {\n",
              "        text-align: right;\n",
              "    }\n",
              "</style>\n",
              "<table border=\"1\" class=\"dataframe\">\n",
              "  <thead>\n",
              "    <tr style=\"text-align: right;\">\n",
              "      <th></th>\n",
              "      <th>Customer_ID</th>\n",
              "      <th>Order_ID</th>\n",
              "      <th>Order_Date</th>\n",
              "      <th>Ship_Date</th>\n",
              "      <th>Ship_Mode</th>\n",
              "      <th>Product_ID</th>\n",
              "      <th>Quantity</th>\n",
              "    </tr>\n",
              "  </thead>\n",
              "  <tbody>\n",
              "    <tr>\n",
              "      <th>0</th>\n",
              "      <td>MG-17875</td>\n",
              "      <td>CA-2014-103744</td>\n",
              "      <td>2014-02-23</td>\n",
              "      <td>2014-02-27</td>\n",
              "      <td>Standard Class</td>\n",
              "      <td>OFF-LA-10004425</td>\n",
              "      <td>3</td>\n",
              "    </tr>\n",
              "    <tr>\n",
              "      <th>1</th>\n",
              "      <td>MG-17875</td>\n",
              "      <td>CA-2014-103744</td>\n",
              "      <td>2014-02-23</td>\n",
              "      <td>2014-02-27</td>\n",
              "      <td>Standard Class</td>\n",
              "      <td>OFF-BI-10000320</td>\n",
              "      <td>3</td>\n",
              "    </tr>\n",
              "    <tr>\n",
              "      <th>2</th>\n",
              "      <td>DE-13255</td>\n",
              "      <td>CA-2014-109134</td>\n",
              "      <td>2014-11-05</td>\n",
              "      <td>2014-11-10</td>\n",
              "      <td>Standard Class</td>\n",
              "      <td>FUR-FU-10000320</td>\n",
              "      <td>6</td>\n",
              "    </tr>\n",
              "    <tr>\n",
              "      <th>3</th>\n",
              "      <td>MD-17350</td>\n",
              "      <td>CA-2014-114251</td>\n",
              "      <td>2014-11-05</td>\n",
              "      <td>2014-11-10</td>\n",
              "      <td>Standard Class</td>\n",
              "      <td>FUR-FU-10001468</td>\n",
              "      <td>2</td>\n",
              "    </tr>\n",
              "    <tr>\n",
              "      <th>4</th>\n",
              "      <td>MD-17350</td>\n",
              "      <td>CA-2014-114251</td>\n",
              "      <td>2014-11-05</td>\n",
              "      <td>2014-11-10</td>\n",
              "      <td>Standard Class</td>\n",
              "      <td>OFF-BI-10003684</td>\n",
              "      <td>2</td>\n",
              "    </tr>\n",
              "    <tr>\n",
              "      <th>...</th>\n",
              "      <td>...</td>\n",
              "      <td>...</td>\n",
              "      <td>...</td>\n",
              "      <td>...</td>\n",
              "      <td>...</td>\n",
              "      <td>...</td>\n",
              "      <td>...</td>\n",
              "    </tr>\n",
              "    <tr>\n",
              "      <th>1995</th>\n",
              "      <td>MM-17920</td>\n",
              "      <td>CA-2017-164329</td>\n",
              "      <td>2017-01-30</td>\n",
              "      <td>2017-01-30</td>\n",
              "      <td>Same Day</td>\n",
              "      <td>OFF-ST-10001511</td>\n",
              "      <td>2</td>\n",
              "    </tr>\n",
              "    <tr>\n",
              "      <th>1996</th>\n",
              "      <td>DC-13285</td>\n",
              "      <td>CA-2017-104003</td>\n",
              "      <td>2017-10-07</td>\n",
              "      <td>2017-10-13</td>\n",
              "      <td>Standard Class</td>\n",
              "      <td>FUR-BO-10003965</td>\n",
              "      <td>2</td>\n",
              "    </tr>\n",
              "    <tr>\n",
              "      <th>1997</th>\n",
              "      <td>JK-15370</td>\n",
              "      <td>US-2014-102715</td>\n",
              "      <td>2014-04-11</td>\n",
              "      <td>2014-04-13</td>\n",
              "      <td>Second Class</td>\n",
              "      <td>TEC-AC-10001874</td>\n",
              "      <td>7</td>\n",
              "    </tr>\n",
              "    <tr>\n",
              "      <th>1998</th>\n",
              "      <td>JK-15370</td>\n",
              "      <td>US-2014-102715</td>\n",
              "      <td>2014-04-11</td>\n",
              "      <td>2014-04-13</td>\n",
              "      <td>Second Class</td>\n",
              "      <td>OFF-PA-10000029</td>\n",
              "      <td>2</td>\n",
              "    </tr>\n",
              "    <tr>\n",
              "      <th>1999</th>\n",
              "      <td>JK-15370</td>\n",
              "      <td>US-2014-102715</td>\n",
              "      <td>2014-04-11</td>\n",
              "      <td>2014-04-13</td>\n",
              "      <td>Second Class</td>\n",
              "      <td>TEC-AC-10002001</td>\n",
              "      <td>3</td>\n",
              "    </tr>\n",
              "  </tbody>\n",
              "</table>\n",
              "<p>2000 rows × 7 columns</p>\n",
              "</div>"
            ],
            "text/plain": [
              "     Customer_ID        Order_ID  ...       Product_ID Quantity\n",
              "0       MG-17875  CA-2014-103744  ...  OFF-LA-10004425        3\n",
              "1       MG-17875  CA-2014-103744  ...  OFF-BI-10000320        3\n",
              "2       DE-13255  CA-2014-109134  ...  FUR-FU-10000320        6\n",
              "3       MD-17350  CA-2014-114251  ...  FUR-FU-10001468        2\n",
              "4       MD-17350  CA-2014-114251  ...  OFF-BI-10003684        2\n",
              "...          ...             ...  ...              ...      ...\n",
              "1995    MM-17920  CA-2017-164329  ...  OFF-ST-10001511        2\n",
              "1996    DC-13285  CA-2017-104003  ...  FUR-BO-10003965        2\n",
              "1997    JK-15370  US-2014-102715  ...  TEC-AC-10001874        7\n",
              "1998    JK-15370  US-2014-102715  ...  OFF-PA-10000029        2\n",
              "1999    JK-15370  US-2014-102715  ...  TEC-AC-10002001        3\n",
              "\n",
              "[2000 rows x 7 columns]"
            ]
          },
          "metadata": {
            "tags": []
          },
          "execution_count": 8
        }
      ]
    },
    {
      "cell_type": "markdown",
      "metadata": {
        "id": "mfbaQ2zzgWzb"
      },
      "source": [
        "## Juntar Dataframes\n",
        "\n",
        "Vamos a ver los [tipos de JOIN que existen.](http://www.sql-join.com/sql-join-types)\n",
        "\n",
        "Igual que en SQL, con pandas podemos juntar tablas diferentes que tienen un campo común de manera muy fácil con la funcion  [merge()](https://pandas.pydata.org/pandas-docs/stable/reference/api/pandas.DataFrame.merge.html#pandas.DataFrame.merge) y  [join()](https://pandas.pydata.org/pandas-docs/stable/reference/api/pandas.DataFrame.join.html)\n",
        "\n",
        "\n"
      ]
    },
    {
      "cell_type": "code",
      "metadata": {
        "colab": {
          "base_uri": "https://localhost:8080/",
          "height": 204
        },
        "id": "dZke_d5HgyRe",
        "outputId": "7acfe2ba-7ee7-49c4-e638-cd63e0ab4e85"
      },
      "source": [
        "#1. Vamos a juntar ahora dos ficheros nuevos llamados orders y products, para ello vamos a hacer un left join por el campo product_id\n",
        "orders = pd.read_csv(\"https://raw.githubusercontent.com/cherryguille/pandas_classroom/main/orders.csv\")\n",
        "products = pd.read_csv(\"https://raw.githubusercontent.com/cherryguille/pandas_classroom/main/products.csv\")\n",
        "\n",
        "orders_and_products = orders.merge(products, how=\"left\", on=\"Product_ID\")\n",
        "orders_and_products.head()"
      ],
      "execution_count": null,
      "outputs": [
        {
          "output_type": "execute_result",
          "data": {
            "text/html": [
              "<div>\n",
              "<style scoped>\n",
              "    .dataframe tbody tr th:only-of-type {\n",
              "        vertical-align: middle;\n",
              "    }\n",
              "\n",
              "    .dataframe tbody tr th {\n",
              "        vertical-align: top;\n",
              "    }\n",
              "\n",
              "    .dataframe thead th {\n",
              "        text-align: right;\n",
              "    }\n",
              "</style>\n",
              "<table border=\"1\" class=\"dataframe\">\n",
              "  <thead>\n",
              "    <tr style=\"text-align: right;\">\n",
              "      <th></th>\n",
              "      <th>Product_ID</th>\n",
              "      <th>Category_x</th>\n",
              "      <th>Sub_Category_x</th>\n",
              "      <th>Product_Name_x</th>\n",
              "      <th>Price_x</th>\n",
              "      <th>Category_y</th>\n",
              "      <th>Sub_Category_y</th>\n",
              "      <th>Product_Name_y</th>\n",
              "      <th>Price_y</th>\n",
              "    </tr>\n",
              "  </thead>\n",
              "  <tbody>\n",
              "    <tr>\n",
              "      <th>0</th>\n",
              "      <td>FUR-BO-10000112</td>\n",
              "      <td>Furniture</td>\n",
              "      <td>Bookcases</td>\n",
              "      <td>Bush Birmingham Collection Bookcase, Dark Cherry</td>\n",
              "      <td>422.0</td>\n",
              "      <td>Furniture</td>\n",
              "      <td>Bookcases</td>\n",
              "      <td>Bush Birmingham Collection Bookcase, Dark Cherry</td>\n",
              "      <td>422.0</td>\n",
              "    </tr>\n",
              "    <tr>\n",
              "      <th>1</th>\n",
              "      <td>FUR-BO-10000330</td>\n",
              "      <td>Furniture</td>\n",
              "      <td>Bookcases</td>\n",
              "      <td>Sauder Camden County Barrister Bookcase, Plank...</td>\n",
              "      <td>847.0</td>\n",
              "      <td>Furniture</td>\n",
              "      <td>Bookcases</td>\n",
              "      <td>Sauder Camden County Barrister Bookcase, Plank...</td>\n",
              "      <td>847.0</td>\n",
              "    </tr>\n",
              "    <tr>\n",
              "      <th>2</th>\n",
              "      <td>FUR-BO-10000362</td>\n",
              "      <td>Furniture</td>\n",
              "      <td>Bookcases</td>\n",
              "      <td>Sauder Inglewood Library Bookcases</td>\n",
              "      <td>828.0</td>\n",
              "      <td>Furniture</td>\n",
              "      <td>Bookcases</td>\n",
              "      <td>Sauder Inglewood Library Bookcases</td>\n",
              "      <td>828.0</td>\n",
              "    </tr>\n",
              "    <tr>\n",
              "      <th>3</th>\n",
              "      <td>FUR-BO-10000468</td>\n",
              "      <td>Furniture</td>\n",
              "      <td>Bookcases</td>\n",
              "      <td>O'Sullivan 2-Shelf Heavy-Duty Bookcases</td>\n",
              "      <td>722.0</td>\n",
              "      <td>Furniture</td>\n",
              "      <td>Bookcases</td>\n",
              "      <td>O'Sullivan 2-Shelf Heavy-Duty Bookcases</td>\n",
              "      <td>722.0</td>\n",
              "    </tr>\n",
              "    <tr>\n",
              "      <th>4</th>\n",
              "      <td>FUR-BO-10000711</td>\n",
              "      <td>Furniture</td>\n",
              "      <td>Bookcases</td>\n",
              "      <td>Hon Metal Bookcases, Gray</td>\n",
              "      <td>633.0</td>\n",
              "      <td>Furniture</td>\n",
              "      <td>Bookcases</td>\n",
              "      <td>Hon Metal Bookcases, Gray</td>\n",
              "      <td>633.0</td>\n",
              "    </tr>\n",
              "  </tbody>\n",
              "</table>\n",
              "</div>"
            ],
            "text/plain": [
              "        Product_ID  ... Price_y\n",
              "0  FUR-BO-10000112  ...   422.0\n",
              "1  FUR-BO-10000330  ...   847.0\n",
              "2  FUR-BO-10000362  ...   828.0\n",
              "3  FUR-BO-10000468  ...   722.0\n",
              "4  FUR-BO-10000711  ...   633.0\n",
              "\n",
              "[5 rows x 9 columns]"
            ]
          },
          "metadata": {
            "tags": []
          },
          "execution_count": 18
        }
      ]
    },
    {
      "cell_type": "code",
      "metadata": {
        "colab": {
          "base_uri": "https://localhost:8080/",
          "height": 289
        },
        "id": "qDTd0jr3ikuD",
        "outputId": "9258c297-413a-4773-e8eb-033d26029dcc"
      },
      "source": [
        "#2. Al encontrar una columna (Product_Name) con el mismo nombre en los dos dataframes, Pandas nos añade el sufijo _x _y para diferenciarlos, pero podemos cambiarle este sufijo.\n",
        "orders_and_products = orders.merge(products, how=\"left\", on=\"Product_ID\", suffixes=(\"_orders\", \"_products\"))\n",
        "orders_and_products.head()\n"
      ],
      "execution_count": null,
      "outputs": [
        {
          "output_type": "execute_result",
          "data": {
            "text/html": [
              "<div>\n",
              "<style scoped>\n",
              "    .dataframe tbody tr th:only-of-type {\n",
              "        vertical-align: middle;\n",
              "    }\n",
              "\n",
              "    .dataframe tbody tr th {\n",
              "        vertical-align: top;\n",
              "    }\n",
              "\n",
              "    .dataframe thead th {\n",
              "        text-align: right;\n",
              "    }\n",
              "</style>\n",
              "<table border=\"1\" class=\"dataframe\">\n",
              "  <thead>\n",
              "    <tr style=\"text-align: right;\">\n",
              "      <th></th>\n",
              "      <th>Product_ID</th>\n",
              "      <th>Category_orders</th>\n",
              "      <th>Sub_Category_orders</th>\n",
              "      <th>Product_Name_orders</th>\n",
              "      <th>Price_orders</th>\n",
              "      <th>Category_products</th>\n",
              "      <th>Sub_Category_products</th>\n",
              "      <th>Product_Name_products</th>\n",
              "      <th>Price_products</th>\n",
              "    </tr>\n",
              "  </thead>\n",
              "  <tbody>\n",
              "    <tr>\n",
              "      <th>0</th>\n",
              "      <td>FUR-BO-10000112</td>\n",
              "      <td>Furniture</td>\n",
              "      <td>Bookcases</td>\n",
              "      <td>Bush Birmingham Collection Bookcase, Dark Cherry</td>\n",
              "      <td>422.0</td>\n",
              "      <td>Furniture</td>\n",
              "      <td>Bookcases</td>\n",
              "      <td>Bush Birmingham Collection Bookcase, Dark Cherry</td>\n",
              "      <td>422.0</td>\n",
              "    </tr>\n",
              "    <tr>\n",
              "      <th>1</th>\n",
              "      <td>FUR-BO-10000330</td>\n",
              "      <td>Furniture</td>\n",
              "      <td>Bookcases</td>\n",
              "      <td>Sauder Camden County Barrister Bookcase, Plank...</td>\n",
              "      <td>847.0</td>\n",
              "      <td>Furniture</td>\n",
              "      <td>Bookcases</td>\n",
              "      <td>Sauder Camden County Barrister Bookcase, Plank...</td>\n",
              "      <td>847.0</td>\n",
              "    </tr>\n",
              "    <tr>\n",
              "      <th>2</th>\n",
              "      <td>FUR-BO-10000362</td>\n",
              "      <td>Furniture</td>\n",
              "      <td>Bookcases</td>\n",
              "      <td>Sauder Inglewood Library Bookcases</td>\n",
              "      <td>828.0</td>\n",
              "      <td>Furniture</td>\n",
              "      <td>Bookcases</td>\n",
              "      <td>Sauder Inglewood Library Bookcases</td>\n",
              "      <td>828.0</td>\n",
              "    </tr>\n",
              "    <tr>\n",
              "      <th>3</th>\n",
              "      <td>FUR-BO-10000468</td>\n",
              "      <td>Furniture</td>\n",
              "      <td>Bookcases</td>\n",
              "      <td>O'Sullivan 2-Shelf Heavy-Duty Bookcases</td>\n",
              "      <td>722.0</td>\n",
              "      <td>Furniture</td>\n",
              "      <td>Bookcases</td>\n",
              "      <td>O'Sullivan 2-Shelf Heavy-Duty Bookcases</td>\n",
              "      <td>722.0</td>\n",
              "    </tr>\n",
              "    <tr>\n",
              "      <th>4</th>\n",
              "      <td>FUR-BO-10000711</td>\n",
              "      <td>Furniture</td>\n",
              "      <td>Bookcases</td>\n",
              "      <td>Hon Metal Bookcases, Gray</td>\n",
              "      <td>633.0</td>\n",
              "      <td>Furniture</td>\n",
              "      <td>Bookcases</td>\n",
              "      <td>Hon Metal Bookcases, Gray</td>\n",
              "      <td>633.0</td>\n",
              "    </tr>\n",
              "  </tbody>\n",
              "</table>\n",
              "</div>"
            ],
            "text/plain": [
              "        Product_ID  ... Price_products\n",
              "0  FUR-BO-10000112  ...          422.0\n",
              "1  FUR-BO-10000330  ...          847.0\n",
              "2  FUR-BO-10000362  ...          828.0\n",
              "3  FUR-BO-10000468  ...          722.0\n",
              "4  FUR-BO-10000711  ...          633.0\n",
              "\n",
              "[5 rows x 9 columns]"
            ]
          },
          "metadata": {
            "tags": []
          },
          "execution_count": 10
        }
      ]
    },
    {
      "cell_type": "code",
      "metadata": {
        "colab": {
          "base_uri": "https://localhost:8080/",
          "height": 323
        },
        "id": "aeULnJpTjeyf",
        "outputId": "ebe0abcc-48a5-418a-906e-341d3abd65d3"
      },
      "source": [
        "#3. Cuando la columna por la que queremos unir los dos dataframes no tiene el mismo nombre podemos...\n",
        "#...especificar el nombre que tiene tanto en el dataframe de la izquierda como en el de la derecha, con left_on y right_on.\n",
        "\n",
        "#cargamos de nuevo las tablas limpias\n",
        "orders = pd.read_csv(\"https://raw.githubusercontent.com/cherryguille/pandas_classroom/main/orders.csv\")\n",
        "products = pd.read_csv(\"https://raw.githubusercontent.com/cherryguille/pandas_classroom/main/products.csv\")\n",
        "\n",
        "#renombramos la columna de Product_ID \n",
        "orders = orders.rename(columns={\"Product_ID\": \"ID_Product\"})\n",
        "\n",
        "orders_and_products = orders.merge(products, how=\"left\", left_on=\"ID_Product\", right_on=\"Product_ID\", suffixes=(\"_orders\", \"_products\"))\n",
        "orders_and_products.head()"
      ],
      "execution_count": null,
      "outputs": [
        {
          "output_type": "execute_result",
          "data": {
            "text/html": [
              "<div>\n",
              "<style scoped>\n",
              "    .dataframe tbody tr th:only-of-type {\n",
              "        vertical-align: middle;\n",
              "    }\n",
              "\n",
              "    .dataframe tbody tr th {\n",
              "        vertical-align: top;\n",
              "    }\n",
              "\n",
              "    .dataframe thead th {\n",
              "        text-align: right;\n",
              "    }\n",
              "</style>\n",
              "<table border=\"1\" class=\"dataframe\">\n",
              "  <thead>\n",
              "    <tr style=\"text-align: right;\">\n",
              "      <th></th>\n",
              "      <th>ID_Product</th>\n",
              "      <th>Category_orders</th>\n",
              "      <th>Sub_Category_orders</th>\n",
              "      <th>Product_Name_orders</th>\n",
              "      <th>Price_orders</th>\n",
              "      <th>Product_ID</th>\n",
              "      <th>Category_products</th>\n",
              "      <th>Sub_Category_products</th>\n",
              "      <th>Product_Name_products</th>\n",
              "      <th>Price_products</th>\n",
              "    </tr>\n",
              "  </thead>\n",
              "  <tbody>\n",
              "    <tr>\n",
              "      <th>0</th>\n",
              "      <td>FUR-BO-10000112</td>\n",
              "      <td>Furniture</td>\n",
              "      <td>Bookcases</td>\n",
              "      <td>Bush Birmingham Collection Bookcase, Dark Cherry</td>\n",
              "      <td>422.0</td>\n",
              "      <td>FUR-BO-10000112</td>\n",
              "      <td>Furniture</td>\n",
              "      <td>Bookcases</td>\n",
              "      <td>Bush Birmingham Collection Bookcase, Dark Cherry</td>\n",
              "      <td>422.0</td>\n",
              "    </tr>\n",
              "    <tr>\n",
              "      <th>1</th>\n",
              "      <td>FUR-BO-10000330</td>\n",
              "      <td>Furniture</td>\n",
              "      <td>Bookcases</td>\n",
              "      <td>Sauder Camden County Barrister Bookcase, Plank...</td>\n",
              "      <td>847.0</td>\n",
              "      <td>FUR-BO-10000330</td>\n",
              "      <td>Furniture</td>\n",
              "      <td>Bookcases</td>\n",
              "      <td>Sauder Camden County Barrister Bookcase, Plank...</td>\n",
              "      <td>847.0</td>\n",
              "    </tr>\n",
              "    <tr>\n",
              "      <th>2</th>\n",
              "      <td>FUR-BO-10000362</td>\n",
              "      <td>Furniture</td>\n",
              "      <td>Bookcases</td>\n",
              "      <td>Sauder Inglewood Library Bookcases</td>\n",
              "      <td>828.0</td>\n",
              "      <td>FUR-BO-10000362</td>\n",
              "      <td>Furniture</td>\n",
              "      <td>Bookcases</td>\n",
              "      <td>Sauder Inglewood Library Bookcases</td>\n",
              "      <td>828.0</td>\n",
              "    </tr>\n",
              "    <tr>\n",
              "      <th>3</th>\n",
              "      <td>FUR-BO-10000468</td>\n",
              "      <td>Furniture</td>\n",
              "      <td>Bookcases</td>\n",
              "      <td>O'Sullivan 2-Shelf Heavy-Duty Bookcases</td>\n",
              "      <td>722.0</td>\n",
              "      <td>FUR-BO-10000468</td>\n",
              "      <td>Furniture</td>\n",
              "      <td>Bookcases</td>\n",
              "      <td>O'Sullivan 2-Shelf Heavy-Duty Bookcases</td>\n",
              "      <td>722.0</td>\n",
              "    </tr>\n",
              "    <tr>\n",
              "      <th>4</th>\n",
              "      <td>FUR-BO-10000711</td>\n",
              "      <td>Furniture</td>\n",
              "      <td>Bookcases</td>\n",
              "      <td>Hon Metal Bookcases, Gray</td>\n",
              "      <td>633.0</td>\n",
              "      <td>FUR-BO-10000711</td>\n",
              "      <td>Furniture</td>\n",
              "      <td>Bookcases</td>\n",
              "      <td>Hon Metal Bookcases, Gray</td>\n",
              "      <td>633.0</td>\n",
              "    </tr>\n",
              "  </tbody>\n",
              "</table>\n",
              "</div>"
            ],
            "text/plain": [
              "        ID_Product  ... Price_products\n",
              "0  FUR-BO-10000112  ...          422.0\n",
              "1  FUR-BO-10000330  ...          847.0\n",
              "2  FUR-BO-10000362  ...          828.0\n",
              "3  FUR-BO-10000468  ...          722.0\n",
              "4  FUR-BO-10000711  ...          633.0\n",
              "\n",
              "[5 rows x 10 columns]"
            ]
          },
          "metadata": {
            "tags": []
          },
          "execution_count": 22
        }
      ]
    },
    {
      "cell_type": "code",
      "metadata": {
        "colab": {
          "base_uri": "https://localhost:8080/",
          "height": 419
        },
        "id": "kAOrbMccoFUP",
        "outputId": "dd25f60b-dc81-4850-fa36-ff9d57793d56"
      },
      "source": [
        "#4. La función join funciona de forma muy parecida, pero requiere que al menos el dataframe de la derecha tenga index asignado.\n",
        "orders = pd.read_csv(\"https://raw.githubusercontent.com/cherryguille/pandas_classroom/main/orders.csv\")\n",
        "products = pd.read_csv(\"https://raw.githubusercontent.com/cherryguille/pandas_classroom/main/products.csv\")\n",
        "\n",
        "\n",
        "orders.join(products.set_index(\"Product_ID\"), on=\"Product_ID\", lsuffix=\"_o\", rsuffix=\"_p\")"
      ],
      "execution_count": null,
      "outputs": [
        {
          "output_type": "execute_result",
          "data": {
            "text/html": [
              "<div>\n",
              "<style scoped>\n",
              "    .dataframe tbody tr th:only-of-type {\n",
              "        vertical-align: middle;\n",
              "    }\n",
              "\n",
              "    .dataframe tbody tr th {\n",
              "        vertical-align: top;\n",
              "    }\n",
              "\n",
              "    .dataframe thead th {\n",
              "        text-align: right;\n",
              "    }\n",
              "</style>\n",
              "<table border=\"1\" class=\"dataframe\">\n",
              "  <thead>\n",
              "    <tr style=\"text-align: right;\">\n",
              "      <th></th>\n",
              "      <th>Product_ID</th>\n",
              "      <th>Category_o</th>\n",
              "      <th>Sub_Category_o</th>\n",
              "      <th>Product_Name_o</th>\n",
              "      <th>Price_o</th>\n",
              "      <th>Category_p</th>\n",
              "      <th>Sub_Category_p</th>\n",
              "      <th>Product_Name_p</th>\n",
              "      <th>Price_p</th>\n",
              "    </tr>\n",
              "  </thead>\n",
              "  <tbody>\n",
              "    <tr>\n",
              "      <th>0</th>\n",
              "      <td>FUR-BO-10000112</td>\n",
              "      <td>Furniture</td>\n",
              "      <td>Bookcases</td>\n",
              "      <td>Bush Birmingham Collection Bookcase, Dark Cherry</td>\n",
              "      <td>422.0</td>\n",
              "      <td>Furniture</td>\n",
              "      <td>Bookcases</td>\n",
              "      <td>Bush Birmingham Collection Bookcase, Dark Cherry</td>\n",
              "      <td>422.0</td>\n",
              "    </tr>\n",
              "    <tr>\n",
              "      <th>1</th>\n",
              "      <td>FUR-BO-10000330</td>\n",
              "      <td>Furniture</td>\n",
              "      <td>Bookcases</td>\n",
              "      <td>Sauder Camden County Barrister Bookcase, Plank...</td>\n",
              "      <td>847.0</td>\n",
              "      <td>Furniture</td>\n",
              "      <td>Bookcases</td>\n",
              "      <td>Sauder Camden County Barrister Bookcase, Plank...</td>\n",
              "      <td>847.0</td>\n",
              "    </tr>\n",
              "    <tr>\n",
              "      <th>2</th>\n",
              "      <td>FUR-BO-10000362</td>\n",
              "      <td>Furniture</td>\n",
              "      <td>Bookcases</td>\n",
              "      <td>Sauder Inglewood Library Bookcases</td>\n",
              "      <td>828.0</td>\n",
              "      <td>Furniture</td>\n",
              "      <td>Bookcases</td>\n",
              "      <td>Sauder Inglewood Library Bookcases</td>\n",
              "      <td>828.0</td>\n",
              "    </tr>\n",
              "    <tr>\n",
              "      <th>3</th>\n",
              "      <td>FUR-BO-10000468</td>\n",
              "      <td>Furniture</td>\n",
              "      <td>Bookcases</td>\n",
              "      <td>O'Sullivan 2-Shelf Heavy-Duty Bookcases</td>\n",
              "      <td>722.0</td>\n",
              "      <td>Furniture</td>\n",
              "      <td>Bookcases</td>\n",
              "      <td>O'Sullivan 2-Shelf Heavy-Duty Bookcases</td>\n",
              "      <td>722.0</td>\n",
              "    </tr>\n",
              "    <tr>\n",
              "      <th>4</th>\n",
              "      <td>FUR-BO-10000711</td>\n",
              "      <td>Furniture</td>\n",
              "      <td>Bookcases</td>\n",
              "      <td>Hon Metal Bookcases, Gray</td>\n",
              "      <td>633.0</td>\n",
              "      <td>Furniture</td>\n",
              "      <td>Bookcases</td>\n",
              "      <td>Hon Metal Bookcases, Gray</td>\n",
              "      <td>633.0</td>\n",
              "    </tr>\n",
              "    <tr>\n",
              "      <th>...</th>\n",
              "      <td>...</td>\n",
              "      <td>...</td>\n",
              "      <td>...</td>\n",
              "      <td>...</td>\n",
              "      <td>...</td>\n",
              "      <td>...</td>\n",
              "      <td>...</td>\n",
              "      <td>...</td>\n",
              "      <td>...</td>\n",
              "    </tr>\n",
              "    <tr>\n",
              "      <th>1889</th>\n",
              "      <td>OFF-EN-10001990</td>\n",
              "      <td>Office Supplies</td>\n",
              "      <td>Envelopes</td>\n",
              "      <td>Staple envelope</td>\n",
              "      <td>501.0</td>\n",
              "      <td>Office Supplies</td>\n",
              "      <td>Envelopes</td>\n",
              "      <td>Staple envelope</td>\n",
              "      <td>501.0</td>\n",
              "    </tr>\n",
              "    <tr>\n",
              "      <th>1890</th>\n",
              "      <td>OFF-EN-10002621</td>\n",
              "      <td>Office Supplies</td>\n",
              "      <td>Envelopes</td>\n",
              "      <td>Staple envelope</td>\n",
              "      <td>782.0</td>\n",
              "      <td>Office Supplies</td>\n",
              "      <td>Envelopes</td>\n",
              "      <td>Staple envelope</td>\n",
              "      <td>782.0</td>\n",
              "    </tr>\n",
              "    <tr>\n",
              "      <th>1891</th>\n",
              "      <td>OFF-EN-10003134</td>\n",
              "      <td>Office Supplies</td>\n",
              "      <td>Envelopes</td>\n",
              "      <td>Staple envelope</td>\n",
              "      <td>524.0</td>\n",
              "      <td>Office Supplies</td>\n",
              "      <td>Envelopes</td>\n",
              "      <td>Staple envelope</td>\n",
              "      <td>524.0</td>\n",
              "    </tr>\n",
              "    <tr>\n",
              "      <th>1892</th>\n",
              "      <td>OFF-EN-10003286</td>\n",
              "      <td>Office Supplies</td>\n",
              "      <td>Envelopes</td>\n",
              "      <td>Staple envelope</td>\n",
              "      <td>482.0</td>\n",
              "      <td>Office Supplies</td>\n",
              "      <td>Envelopes</td>\n",
              "      <td>Staple envelope</td>\n",
              "      <td>482.0</td>\n",
              "    </tr>\n",
              "    <tr>\n",
              "      <th>1893</th>\n",
              "      <td>OFF-EN-10004773</td>\n",
              "      <td>Office Supplies</td>\n",
              "      <td>Envelopes</td>\n",
              "      <td>Staple envelope</td>\n",
              "      <td>983.0</td>\n",
              "      <td>Office Supplies</td>\n",
              "      <td>Envelopes</td>\n",
              "      <td>Staple envelope</td>\n",
              "      <td>983.0</td>\n",
              "    </tr>\n",
              "  </tbody>\n",
              "</table>\n",
              "<p>1958 rows × 9 columns</p>\n",
              "</div>"
            ],
            "text/plain": [
              "           Product_ID  ... Price_p\n",
              "0     FUR-BO-10000112  ...   422.0\n",
              "1     FUR-BO-10000330  ...   847.0\n",
              "2     FUR-BO-10000362  ...   828.0\n",
              "3     FUR-BO-10000468  ...   722.0\n",
              "4     FUR-BO-10000711  ...   633.0\n",
              "...               ...  ...     ...\n",
              "1889  OFF-EN-10001990  ...   501.0\n",
              "1890  OFF-EN-10002621  ...   782.0\n",
              "1891  OFF-EN-10003134  ...   524.0\n",
              "1892  OFF-EN-10003286  ...   482.0\n",
              "1893  OFF-EN-10004773  ...   983.0\n",
              "\n",
              "[1958 rows x 9 columns]"
            ]
          },
          "metadata": {
            "tags": []
          },
          "execution_count": 21
        }
      ]
    },
    {
      "cell_type": "markdown",
      "metadata": {
        "id": "f6Wzo-mRCg1A"
      },
      "source": [
        "# Escribiendo ficheros\n",
        "\n",
        "Escribir un fichero CSV es casi tan fácil como leerlo, utilizando la funcion to_csv() [link text](https://pandas.pydata.org/pandas-docs/stable/reference/api/pandas.DataFrame.to_csv.html)\n"
      ]
    },
    {
      "cell_type": "code",
      "metadata": {
        "id": "FOrhjvRKDlR9"
      },
      "source": [
        "products = pd.read_csv(\"https://raw.githubusercontent.com/cherryguille/pandas_classroom/main/products.csv\")\n",
        "\n",
        "products.to_csv(\"productos.csv\")"
      ],
      "execution_count": null,
      "outputs": []
    },
    {
      "cell_type": "markdown",
      "metadata": {
        "id": "0_DfjL5sng92"
      },
      "source": [
        "# Ejercicio 1\n",
        "\n",
        "Ve a [este Notebook](https://colab.research.google.com/drive/1jNx8W5zirKqBrKC_wQQvgZk6SHKzJlr3) y realiza el ejercicio de Renombrar :)"
      ]
    },
    {
      "cell_type": "markdown",
      "metadata": {
        "id": "wIjht3vGCzHC"
      },
      "source": [
        "# Sección Tres. Crear funcionas, Apply y Map\n",
        "Cuando qeuremos realizar un método específico podemos crear una función con el comando def.\n",
        "Vamos a ver que es cada método\n",
        "* [any](https://pandas.pydata.org/pandas-docs/stable/reference/api/pandas.DataFrame.any.html): Utilizaremos la funcion apply cuando queremos aplicar una funcion a todos los elementos de nuestra DF.\n",
        "* [map](https://pandas.pydata.org/pandas-docs/stable/reference/api/pandas.Series.map.html): Utilizaremos la función map cuando queremos aplicar una funcion a todos los elementos de una columna. La función Map() toma como argumento otra función, que contiene el código que queremos aplicar a cada elemento de la lista o columna.\n",
        "\n",
        "La diferencia entre ellos es que applymap es un función basada en elementos que trabaja en el dataframe, mientras map lo hace en las series, o sea una columna o una fila."
      ]
    },
    {
      "cell_type": "code",
      "metadata": {
        "colab": {
          "base_uri": "https://localhost:8080/"
        },
        "id": "8n8J7Ij1Cyef",
        "outputId": "0e607324-994d-43a4-c98c-b6b7374b4618"
      },
      "source": [
        "#1. Vamos a crear un nuevo dataframe llamada prueba_map\n",
        "#.  El dataframe va a estar formado por dos columnas llamadas:\n",
        "# - Ingresos - Valores: 100,50,25\n",
        "# - Num_Transferencias_Realizadas - Valores: 4,10,25\n",
        "prueba_map = pd.DataFrame({\"Ingresos\":[100,50,25],\"Num_Transferencias_Realizadas\": [4,10,25]})\n",
        "prueba_map"
      ],
      "execution_count": null,
      "outputs": [
        {
          "output_type": "execute_result",
          "data": {
            "text/html": [
              "<div>\n",
              "<style scoped>\n",
              "    .dataframe tbody tr th:only-of-type {\n",
              "        vertical-align: middle;\n",
              "    }\n",
              "\n",
              "    .dataframe tbody tr th {\n",
              "        vertical-align: top;\n",
              "    }\n",
              "\n",
              "    .dataframe thead th {\n",
              "        text-align: right;\n",
              "    }\n",
              "</style>\n",
              "<table border=\"1\" class=\"dataframe\">\n",
              "  <thead>\n",
              "    <tr style=\"text-align: right;\">\n",
              "      <th></th>\n",
              "      <th>Ingresos</th>\n",
              "      <th>Num_Transferencias_Realizadas</th>\n",
              "    </tr>\n",
              "  </thead>\n",
              "  <tbody>\n",
              "    <tr>\n",
              "      <th>0</th>\n",
              "      <td>100</td>\n",
              "      <td>4</td>\n",
              "    </tr>\n",
              "    <tr>\n",
              "      <th>1</th>\n",
              "      <td>50</td>\n",
              "      <td>10</td>\n",
              "    </tr>\n",
              "    <tr>\n",
              "      <th>2</th>\n",
              "      <td>25</td>\n",
              "      <td>25</td>\n",
              "    </tr>\n",
              "  </tbody>\n",
              "</table>\n",
              "</div>"
            ],
            "text/plain": [
              "   Ingresos  Num_Transferencias_Realizadas\n",
              "0       100                              4\n",
              "1        50                             10\n",
              "2        25                             25"
            ]
          },
          "metadata": {
            "tags": []
          },
          "execution_count": 5
        }
      ]
    },
    {
      "cell_type": "code",
      "metadata": {
        "colab": {
          "base_uri": "https://localhost:8080/"
        },
        "id": "sj-TBy4pedyo",
        "outputId": "312e2a8b-6f11-4706-9f82-cf3a3f9d299c"
      },
      "source": [
        "#1. Ahora vamos a aplicar un map con una funcion de suma mismo\n",
        "import numpy as np\n",
        "prueba_map.Ingresos.map(sum(2))"
      ],
      "execution_count": null,
      "outputs": [
        {
          "output_type": "error",
          "ename": "TypeError",
          "evalue": "ignored",
          "traceback": [
            "\u001b[0;31m---------------------------------------------------------------------------\u001b[0m",
            "\u001b[0;31mTypeError\u001b[0m                                 Traceback (most recent call last)",
            "\u001b[0;32m<ipython-input-6-780024eac4ff>\u001b[0m in \u001b[0;36m<module>\u001b[0;34m()\u001b[0m\n\u001b[1;32m      1\u001b[0m \u001b[0;31m#1. Ahora vamos a aplicar un map con una funcion de suma mismo\u001b[0m\u001b[0;34m\u001b[0m\u001b[0;34m\u001b[0m\u001b[0;34m\u001b[0m\u001b[0m\n\u001b[1;32m      2\u001b[0m \u001b[0;32mimport\u001b[0m \u001b[0mnumpy\u001b[0m \u001b[0;32mas\u001b[0m \u001b[0mnp\u001b[0m\u001b[0;34m\u001b[0m\u001b[0;34m\u001b[0m\u001b[0m\n\u001b[0;32m----> 3\u001b[0;31m \u001b[0mprueba_map\u001b[0m\u001b[0;34m.\u001b[0m\u001b[0mIngresos\u001b[0m\u001b[0;34m.\u001b[0m\u001b[0mmap\u001b[0m\u001b[0;34m(\u001b[0m\u001b[0msum\u001b[0m\u001b[0;34m(\u001b[0m\u001b[0;36m2\u001b[0m\u001b[0;34m)\u001b[0m\u001b[0;34m)\u001b[0m\u001b[0;34m\u001b[0m\u001b[0;34m\u001b[0m\u001b[0m\n\u001b[0m",
            "\u001b[0;31mTypeError\u001b[0m: 'int' object is not iterable"
          ]
        }
      ]
    },
    {
      "cell_type": "code",
      "metadata": {
        "id": "_C6U73wmbkU8"
      },
      "source": [
        "#2. Por otro lado, vamos a crear una función nueva que la vamos a llamar sumar_cinco y le vamos a pasar un parámetro al cual se le va a sumar cinco\n",
        "def sumar_cinco(x):\n",
        "  return x+5\n"
      ],
      "execution_count": null,
      "outputs": []
    },
    {
      "cell_type": "code",
      "metadata": {
        "colab": {
          "base_uri": "https://localhost:8080/"
        },
        "id": "SEPSXxXve93i",
        "outputId": "cc006714-ac8c-48fe-d346-de1a26189f37"
      },
      "source": [
        "#3. Ahora vamos a aplicar dicha función a una de nuestras columnas. La col ingresos\n",
        "prueba_map.Ingresos.map(sumar_cinco)"
      ],
      "execution_count": null,
      "outputs": [
        {
          "output_type": "execute_result",
          "data": {
            "text/plain": [
              "0    105\n",
              "1     55\n",
              "2     30\n",
              "Name: Ingresos, dtype: int64"
            ]
          },
          "metadata": {
            "tags": []
          },
          "execution_count": 108
        }
      ]
    },
    {
      "cell_type": "code",
      "metadata": {
        "colab": {
          "base_uri": "https://localhost:8080/"
        },
        "id": "zAmD0RPbfQb_",
        "outputId": "02a01857-674b-4b98-ba72-202a1b90a5bf"
      },
      "source": [
        "#4. ¿Que pasa si lo hacemos con apply en vez de que con Map?\n",
        "prueba_map.apply(sumar_cinco)"
      ],
      "execution_count": null,
      "outputs": [
        {
          "output_type": "execute_result",
          "data": {
            "text/html": [
              "<div>\n",
              "<style scoped>\n",
              "    .dataframe tbody tr th:only-of-type {\n",
              "        vertical-align: middle;\n",
              "    }\n",
              "\n",
              "    .dataframe tbody tr th {\n",
              "        vertical-align: top;\n",
              "    }\n",
              "\n",
              "    .dataframe thead th {\n",
              "        text-align: right;\n",
              "    }\n",
              "</style>\n",
              "<table border=\"1\" class=\"dataframe\">\n",
              "  <thead>\n",
              "    <tr style=\"text-align: right;\">\n",
              "      <th></th>\n",
              "      <th>Ingresos</th>\n",
              "      <th>Num_Transferencias_Realizadas</th>\n",
              "    </tr>\n",
              "  </thead>\n",
              "  <tbody>\n",
              "    <tr>\n",
              "      <th>0</th>\n",
              "      <td>105</td>\n",
              "      <td>9</td>\n",
              "    </tr>\n",
              "    <tr>\n",
              "      <th>1</th>\n",
              "      <td>55</td>\n",
              "      <td>15</td>\n",
              "    </tr>\n",
              "    <tr>\n",
              "      <th>2</th>\n",
              "      <td>30</td>\n",
              "      <td>30</td>\n",
              "    </tr>\n",
              "  </tbody>\n",
              "</table>\n",
              "</div>"
            ],
            "text/plain": [
              "   Ingresos  Num_Transferencias_Realizadas\n",
              "0       105                              9\n",
              "1        55                             15\n",
              "2        30                             30"
            ]
          },
          "metadata": {
            "tags": []
          },
          "execution_count": 110
        }
      ]
    },
    {
      "cell_type": "code",
      "metadata": {
        "colab": {
          "base_uri": "https://localhost:8080/"
        },
        "id": "zhGZoAT2fZmi",
        "outputId": "dd804430-c5a8-4222-b403-6334bdce0e16"
      },
      "source": [
        "#5. Vamos a crear un nuevo dataframe, llamado prueba_error, que tenga una columna más con texto\n",
        "prueba_error = pd.DataFrame({\"Ingresos\":[100,50,25],\"Num_Transferencias_Realizadas\": [4,10,25], \"Cuenta_Bancaria\":[\"XXQ\",\"BAS\",\"PKI\"]})\n",
        "prueba_error.dtypes"
      ],
      "execution_count": null,
      "outputs": [
        {
          "output_type": "execute_result",
          "data": {
            "text/plain": [
              "Ingresos                          int64\n",
              "Num_Transferencias_Realizadas     int64\n",
              "Cuenta_Bancaria                  object\n",
              "dtype: object"
            ]
          },
          "metadata": {
            "tags": []
          },
          "execution_count": 120
        }
      ]
    },
    {
      "cell_type": "code",
      "metadata": {
        "id": "hz4qfEeYfquy"
      },
      "source": [
        "#6. Ahora vamos a aplicar el apply otra vez para ver que ocurre\n",
        "prueba_error.apply(sumar_cinco)\n",
        "#En este caso da error porque logicamente una de nuestra columnas es un string y no funciona, pero podemos arreglar esto en nuestra función"
      ],
      "execution_count": null,
      "outputs": []
    },
    {
      "cell_type": "markdown",
      "metadata": {
        "id": "fT6csUEV6NXp"
      },
      "source": [
        "# DEJA TU FEEDBACK Y AYUDANOS A MEJORAR :) \n",
        "\n",
        "![image (1).png](data:image/png;base64,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)\n"
      ]
    }
  ]
}