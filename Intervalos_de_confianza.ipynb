{
  "nbformat": 4,
  "nbformat_minor": 0,
  "metadata": {
    "colab": {
      "name": "Intervalos_de_confianza.ipynb",
      "provenance": [],
      "collapsed_sections": []
    },
    "kernelspec": {
      "name": "python3",
      "display_name": "Python 3"
    },
    "language_info": {
      "name": "python"
    }
  },
  "cells": [
    {
      "cell_type": "markdown",
      "source": [
        "# INTRODUCCIÓN A INFERENCIA ESTADÍSTICA\n",
        "## **INTERVALOS DE CONFIANZA**\n",
        "### Madrid, 14 de febrero de 2022\n",
        "### Ángeles Garrido"
      ],
      "metadata": {
        "id": "YTLikMXn5f7w"
      }
    },
    {
      "cell_type": "markdown",
      "source": [
        "Importamos librerías"
      ],
      "metadata": {
        "id": "4UxcitJH5n1C"
      }
    },
    {
      "cell_type": "code",
      "source": [
        "import matplotlib.pyplot as plt \n",
        "import numpy as np                # importando numpy\n",
        "import pandas as pd               # importando pandas\n",
        "import random as random           # generación de números aleatorios\n",
        "import scipy.stats as stats       # cálculos estadísticos   \n",
        "\n",
        "%matplotlib inline"
      ],
      "metadata": {
        "id": "R7YZ-r4nzt4J"
      },
      "execution_count": null,
      "outputs": []
    },
    {
      "cell_type": "markdown",
      "source": [
        "# Generación de una MUESTRA NORMAL N(0,1) de 5000 puntos"
      ],
      "metadata": {
        "id": "JveCYijM4by9"
      }
    },
    {
      "cell_type": "code",
      "source": [
        "muestra_normal = np.random.normal(0, 1, size = 5000)"
      ],
      "metadata": {
        "id": "0ZWxhSTO1sfF"
      },
      "execution_count": null,
      "outputs": []
    },
    {
      "cell_type": "markdown",
      "source": [
        "Definimos el data frame"
      ],
      "metadata": {
        "id": "CiRkvoK64n4C"
      }
    },
    {
      "cell_type": "code",
      "source": [
        "df = pd.DataFrame(muestra_normal)\n",
        "df.columns = ['Muestra_Normal']"
      ],
      "metadata": {
        "id": "6ZbMwCTE2rTY"
      },
      "execution_count": null,
      "outputs": []
    },
    {
      "cell_type": "markdown",
      "source": [
        "Representamos el histograma"
      ],
      "metadata": {
        "id": "AHzgHzQd5y8N"
      }
    },
    {
      "cell_type": "code",
      "source": [
        "plt.hist(df['Muestra_Normal'], bins = 100)"
      ],
      "metadata": {
        "id": "5H-HrbjX2Naq"
      },
      "execution_count": null,
      "outputs": []
    },
    {
      "cell_type": "markdown",
      "source": [
        "#Intervalo de confianza\n",
        "##Según el nivel de confianza el intervalo será más grande o más pequeño\n",
        "\n"
      ],
      "metadata": {
        "id": "wcI_pi_K3SN0"
      }
    },
    {
      "cell_type": "markdown",
      "source": [
        "Mostramos la media y la desviación estándar"
      ],
      "metadata": {
        "id": "_L7BqWIC6AXI"
      }
    },
    {
      "cell_type": "code",
      "source": [
        "print('La media es: ',  np.mean(df['Muestra_Normal']))\n",
        "print('La desviación típica es: ', stats.sem(df['Muestra_Normal']))"
      ],
      "metadata": {
        "id": "vtBfxaox3bf2"
      },
      "execution_count": null,
      "outputs": []
    },
    {
      "cell_type": "markdown",
      "source": [
        "Intervalo de confianza a un 80%"
      ],
      "metadata": {
        "id": "AfW0D-f76ESM"
      }
    },
    {
      "cell_type": "code",
      "source": [
        "stats.t.interval(0.80, len(df['Muestra_Normal'])-1, loc=np.mean(df['Muestra_Normal']), scale=stats.sem(df['Muestra_Normal']))"
      ],
      "metadata": {
        "id": "sumfTqVA34iA"
      },
      "execution_count": null,
      "outputs": []
    },
    {
      "cell_type": "markdown",
      "source": [
        "Intervalo de confianza a un 95%"
      ],
      "metadata": {
        "id": "Ly4It0PC6JlP"
      }
    },
    {
      "cell_type": "code",
      "source": [
        "stats.t.interval(0.95, len(df['Muestra_Normal'])-1, loc=np.mean(df['Muestra_Normal']), scale=stats.sem(df['Muestra_Normal']))"
      ],
      "metadata": {
        "id": "OqFFC6qv3K7j"
      },
      "execution_count": null,
      "outputs": []
    },
    {
      "cell_type": "markdown",
      "source": [
        "Intervalo de confianza a un 99%"
      ],
      "metadata": {
        "id": "nDPOBDmh6Pfu"
      }
    },
    {
      "cell_type": "code",
      "source": [
        "stats.t.interval(0.99, len(df['Muestra_Normal'])-1, loc=np.mean(df['Muestra_Normal']), scale=stats.sem(df['Muestra_Normal']))"
      ],
      "metadata": {
        "id": "Q9-Vc64f3uYf"
      },
      "execution_count": null,
      "outputs": []
    }
  ]
}