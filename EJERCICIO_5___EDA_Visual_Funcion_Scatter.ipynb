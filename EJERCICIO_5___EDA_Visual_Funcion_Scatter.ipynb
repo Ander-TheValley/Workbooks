{
  "nbformat": 4,
  "nbformat_minor": 0,
  "metadata": {
    "colab": {
      "name": "EJERCICIO_5__ EDA Visual Funcion Scatter.ipynb",
      "provenance": [],
      "toc_visible": true
    },
    "kernelspec": {
      "name": "python3",
      "display_name": "Python 3"
    }
  },
  "cells": [
    {
      "cell_type": "markdown",
      "metadata": {
        "id": "R53FGLN8jo1L"
      },
      "source": [
        "# INTRO: Función Correlación\n",
        "Ejercicio para completar los conceptos de EDA Visual definiendo una función personalizada.\n",
        "\n",
        "Notebook por [Javier Blanco Cordero](https://www.linkedin.com/in/javier-blanco-cordero-71373656/).\n",
        "\n",
        "### Enlaces de interés\n",
        "*   [Slides de presentación](https://docs.google.com/presentation/d/1N7MPSC7ntM-0ZEHlrN5xRTpT4uNDyU_o53GBvnojUx8/edit?usp=sharing)\n",
        "*   [Enlace a al notebook de Colab de la clase 2](https://colab.research.google.com/github/JotaBlanco/TheValley/blob/main/Notebooks/02-analisis-exploratorio-visual/02___Analisis_exploratorio_visual.ipynb)\n",
        "*   [Enlace a este notebook de Colab](https://colab.research.google.com/github/JotaBlanco/TheValley/blob/main/Notebooks/02-analisis-exploratorio-visual/EJERCICIO_4___EDA_Visual_Barsa_Madrid.ipynb)\n",
        "\n"
      ]
    },
    {
      "cell_type": "markdown",
      "metadata": {
        "id": "cnHRaho3rsXS"
      },
      "source": [
        "# 01 Import\n",
        "Importamos todas las librerías necesarias para este análisis ([¿No sabes lo que es una librería de Python?](https://www.quora.com/What-is-a-Python-library-and-what-can-I-use-it-for)).\n",
        "\n",
        "Necesitaremos pandas, numpy, matplotlib.pyplot y seaborn."
      ]
    },
    {
      "cell_type": "code",
      "metadata": {
        "id": "4be6xiUqjPHI"
      },
      "source": [
        ""
      ],
      "execution_count": null,
      "outputs": []
    },
    {
      "cell_type": "markdown",
      "metadata": {
        "id": "B_0JTVo0sIvm"
      },
      "source": [
        "# 02 Objetivo: Función correlación\n",
        "El objetivo es crear una función que evalúe la correlación entre dos vectores, tanto numéricamente como visualmente. La función tomará como inputs el vector 1, el nombre del vector 1, el vector 2 y el nombre del vector 2.\n",
        "\n",
        "La función mostrará en una misma imagen un diagrama de dispersión (scatter plot) y el coeficiente de pearson en gran formato (se puede calcular, por ejemplo, con [np.corrcoef()](https://numpy.org/doc/stable/reference/generated/numpy.corrcoef.html). \n",
        "\n",
        "Puedes importar el dataset que quieras para probar tu función. El del fifa 19 tiene varias variables numéricas con una correlación importante. Pero no tienes por qué escoger este.\n",
        "\n",
        "En definitiva, tu función debe devolver una imagen [como esta](https://drive.google.com/file/d/1FLoV0mn4zop5MmaSGZXVucQWdfdNwink/view?usp=sharing)."
      ]
    },
    {
      "cell_type": "code",
      "metadata": {
        "id": "HAe4wephIW8a"
      },
      "source": [
        ""
      ],
      "execution_count": null,
      "outputs": []
    },
    {
      "cell_type": "markdown",
      "metadata": {
        "id": "6RSFZhw-igup"
      },
      "source": [
        "# 03 Crea la función\n"
      ]
    },
    {
      "cell_type": "code",
      "metadata": {
        "id": "g28ChIuh4ued"
      },
      "source": [
        ""
      ],
      "execution_count": null,
      "outputs": []
    },
    {
      "cell_type": "markdown",
      "metadata": {
        "id": "onuYHsoh5tic"
      },
      "source": [
        "# 04 Prueba tu función\n",
        "Con varios pares de vectores."
      ]
    },
    {
      "cell_type": "code",
      "metadata": {
        "id": "F_wphZBN6ijE"
      },
      "source": [
        ""
      ],
      "execution_count": null,
      "outputs": []
    }
  ]
}