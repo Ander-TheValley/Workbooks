{
  "nbformat": 4,
  "nbformat_minor": 0,
  "metadata": {
    "colab": {
      "name": "10.Modulos.ipynb",
      "provenance": [],
      "collapsed_sections": []
    },
    "kernelspec": {
      "name": "python3",
      "display_name": "Python 3"
    }
  },
  "cells": [
    {
      "cell_type": "markdown",
      "metadata": {
        "id": "ZhJacIDXK2y5"
      },
      "source": [
        "**Módulos**\n",
        "\n",
        "Un módulo no es más que un archivo con extensión python(.py)"
      ]
    },
    {
      "cell_type": "markdown",
      "metadata": {
        "id": "fch3pBnsLJcB"
      },
      "source": [
        "**importar n funciones del módulo math**"
      ]
    },
    {
      "cell_type": "code",
      "metadata": {
        "id": "UhXn8z90K0sv",
        "colab": {
          "base_uri": "https://localhost:8080/"
        },
        "outputId": "66d0c036-7287-4802-e46c-0dcd14d9545c"
      },
      "source": [
        "from math import sin,cos\n",
        "print(sin(0))\n",
        "print(cos(0))"
      ],
      "execution_count": null,
      "outputs": [
        {
          "output_type": "stream",
          "text": [
            "0.0\n",
            "1.0\n"
          ],
          "name": "stdout"
        }
      ]
    },
    {
      "cell_type": "markdown",
      "metadata": {
        "id": "5cxMumZ7Ma0z"
      },
      "source": [
        "**importar un modulo completo y renombrarlo**"
      ]
    },
    {
      "cell_type": "code",
      "metadata": {
        "id": "gbkfTpXTNDI6"
      },
      "source": [
        ""
      ],
      "execution_count": null,
      "outputs": []
    },
    {
      "cell_type": "code",
      "metadata": {
        "colab": {
          "base_uri": "https://localhost:8080/"
        },
        "id": "aA5pVOx2MnAK",
        "outputId": "07812daa-e680-4f62-8056-90316871d126"
      },
      "source": [
        "import math as m\n",
        "print(m.sin(0))\n",
        "print(m.cos(0))"
      ],
      "execution_count": null,
      "outputs": [
        {
          "output_type": "stream",
          "text": [
            "0.0\n",
            "1.0\n"
          ],
          "name": "stdout"
        }
      ]
    },
    {
      "cell_type": "markdown",
      "metadata": {
        "id": "mvuDdNT3M5Lq"
      },
      "source": [
        "**Como buena practica cuando tenemos que importar un modulo y funciones debemos de poner primero todos los modulos y despues las funciones**"
      ]
    },
    {
      "cell_type": "code",
      "metadata": {
        "id": "PEMMVF6MNGxc"
      },
      "source": [
        "import math\n",
        "from math import sin,cos\n",
        "print(sin(0))\n",
        "print(cos(0))\n",
        "print(math.sqrt(9))"
      ],
      "execution_count": null,
      "outputs": []
    },
    {
      "cell_type": "markdown",
      "metadata": {
        "id": "qj-RiQuzNzzL"
      },
      "source": [
        "**Referencias**\n",
        "\n",
        "1. [Modulos](https://docs.python.org/es/3/tutorial/modules.html)\n",
        "2. [Gestor de paquetes de python](https://pypi.org/project/pip/) \n"
      ]
    }
  ]
}