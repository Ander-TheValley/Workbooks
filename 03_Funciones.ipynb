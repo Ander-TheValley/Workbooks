{
  "nbformat": 4,
  "nbformat_minor": 0,
  "metadata": {
    "colab": {
      "name": "03.Funciones.ipynb",
      "provenance": [],
      "collapsed_sections": []
    },
    "kernelspec": {
      "name": "python3",
      "display_name": "Python 3"
    }
  },
  "cells": [
    {
      "cell_type": "markdown",
      "metadata": {
        "id": "lwlT5Gzh_KI3"
      },
      "source": [
        "**Funciones**\n",
        "\n",
        "Una función es un bloque de código con un nombre asociado, que recibe cero o más argumentos como entrada, sigue una secuencia de sentencias, la cuales ejecuta una operación deseada y devuelve un valor y/o realiza una tarea, este bloque puede ser llamados cuando se necesite.\n",
        "\n",
        "Nos permiten lo siguiente\n",
        "\n",
        "1. **modularización**: permite segmentar un programa complejo en una serie de partes o módulos más simples, facilitando así la programación y el depurado.\n",
        "2. **reutilización**: permite reutilizar una misma función en distintos programas."
      ]
    },
    {
      "cell_type": "markdown",
      "metadata": {
        "id": "YKBWxb05ClHu"
      },
      "source": [
        "**Definición e invocacion de una función**"
      ]
    },
    {
      "cell_type": "code",
      "metadata": {
        "id": "oDeTJUiSABXd",
        "colab": {
          "base_uri": "https://localhost:8080/"
        },
        "outputId": "4349a3fc-f12a-460b-c89c-302bef60d958"
      },
      "source": [
        "def sum(a,b): #definicion de la funcion   \n",
        "  return a+b\n",
        "result=sum(5,3)      #invocacion de la funcion y asignación del valor devuelto a una variable\n",
        "result\n"
      ],
      "execution_count": null,
      "outputs": [
        {
          "output_type": "execute_result",
          "data": {
            "text/plain": [
              "8"
            ]
          },
          "metadata": {
            "tags": []
          },
          "execution_count": 2
        }
      ]
    },
    {
      "cell_type": "markdown",
      "metadata": {
        "id": "iUpO5oU7AQWH"
      },
      "source": [
        "**Void functions**"
      ]
    },
    {
      "cell_type": "code",
      "metadata": {
        "id": "p-uszBV5AZGd"
      },
      "source": [
        "def sum(a,b): #definicion de la funcion   \n",
        "  a+b\n",
        "result=sum(5,3)      #invocacion de la funcion y asignación del valor devuelto a una variable\n",
        "result"
      ],
      "execution_count": null,
      "outputs": []
    },
    {
      "cell_type": "markdown",
      "metadata": {
        "id": "w7IDC84uD1Eh"
      },
      "source": [
        "**Parametros por defecto de una función**"
      ]
    },
    {
      "cell_type": "code",
      "metadata": {
        "id": "esVx2F6AD6gQ",
        "colab": {
          "base_uri": "https://localhost:8080/"
        },
        "outputId": "5fdcddbc-2a82-4ac0-839c-0d4a2590c5fc"
      },
      "source": [
        "def printer(name,surname,writer = print):\n",
        "  writer(name,' ', surname)\n",
        "printer(\"pedro\",\"hurtado\")"
      ],
      "execution_count": null,
      "outputs": [
        {
          "output_type": "stream",
          "text": [
            "pedro   hurtado\n"
          ],
          "name": "stdout"
        }
      ]
    },
    {
      "cell_type": "markdown",
      "metadata": {
        "id": "4X5PH-ZOE6RA"
      },
      "source": [
        "**Parametros por nombre**"
      ]
    },
    {
      "cell_type": "code",
      "metadata": {
        "id": "PwtQGIk5FCg_"
      },
      "source": [
        "def printer(name,surname,writer = print):\n",
        "  writer(name,' ', surname)\n",
        "printer(surname=\"hurtado\", name=\"pedro\")"
      ],
      "execution_count": null,
      "outputs": []
    },
    {
      "cell_type": "markdown",
      "metadata": {
        "id": "uUm4vi6_FIlX"
      },
      "source": [
        "**Funciones integradas**\n",
        "\n",
        "[Lista de funciones integradas](https://docs.python.org/es/3.9/library/functions.html)"
      ]
    },
    {
      "cell_type": "code",
      "metadata": {
        "id": "H4ELJFKdFHVo"
      },
      "source": [
        "print('a')\n",
        "print(dir('list'))\n",
        "id(1)"
      ],
      "execution_count": null,
      "outputs": []
    },
    {
      "cell_type": "markdown",
      "metadata": {
        "id": "dhsiot8iqvFY"
      },
      "source": [
        "**Lamba functions**"
      ]
    },
    {
      "cell_type": "code",
      "metadata": {
        "id": "Isai9z5rrvng",
        "colab": {
          "base_uri": "https://localhost:8080/"
        },
        "outputId": "a588337d-9c6f-4d48-8b2e-d15243bf048b"
      },
      "source": [
        "sum = lambda x,y:x+y\n",
        "sum(5,3)\n",
        "\n",
        "fn = lambda a:print(a)\n",
        "x=fn('marta')"
      ],
      "execution_count": null,
      "outputs": [
        {
          "output_type": "execute_result",
          "data": {
            "text/plain": [
              "8"
            ]
          },
          "metadata": {
            "tags": []
          },
          "execution_count": 3
        }
      ]
    },
    {
      "cell_type": "markdown",
      "metadata": {
        "id": "tKeP-gtOSt83"
      },
      "source": [
        "*** *args argument***\n",
        "\n",
        "Permite recoger en una tupla un numero indeterminado de argumentos de una función"
      ]
    },
    {
      "cell_type": "code",
      "metadata": {
        "colab": {
          "base_uri": "https://localhost:8080/"
        },
        "id": "In4k5I7JGCq4",
        "outputId": "460d8968-40b9-4fed-d77a-66fb519ae6d4"
      },
      "source": [
        "def filter(A,angel):\n",
        "  result=[]\n",
        "  for v in A:\n",
        "    if angel(v):\n",
        "      result.append(v)\n",
        "  return result\n",
        "a=filter([1,2,3],lambda v:v%2==0)\n",
        "print(a)"
      ],
      "execution_count": null,
      "outputs": [
        {
          "output_type": "stream",
          "text": [
            "[2]\n"
          ],
          "name": "stdout"
        }
      ]
    },
    {
      "cell_type": "code",
      "metadata": {
        "id": "4JypHJA1TDNj",
        "colab": {
          "base_uri": "https://localhost:8080/"
        },
        "outputId": "6dc01206-3a12-443e-ced6-6ed0c44ff21f"
      },
      "source": [
        "def sum(*args):\n",
        "  result=0\n",
        "  print(type(args))\n",
        "  for v in args:\n",
        "    result+=v\n",
        "  return result\n",
        "sum(1,2,3,4,5)"
      ],
      "execution_count": null,
      "outputs": [
        {
          "output_type": "stream",
          "text": [
            "<class 'tuple'>\n"
          ],
          "name": "stdout"
        },
        {
          "output_type": "execute_result",
          "data": {
            "text/plain": [
              "15"
            ]
          },
          "metadata": {
            "tags": []
          },
          "execution_count": 4
        }
      ]
    },
    {
      "cell_type": "markdown",
      "metadata": {
        "id": "ZX3JNCYdTz0p"
      },
      "source": [
        "****kwargs***\n",
        "\n",
        "A diferencia de ****args*** acepta parametros por nombre y es un diccionario"
      ]
    },
    {
      "cell_type": "code",
      "metadata": {
        "id": "ImaMuX9hUSDr",
        "colab": {
          "base_uri": "https://localhost:8080/",
          "height": 52
        },
        "outputId": "f3442f45-5a6d-48f6-bda4-d0d98313aa10"
      },
      "source": [
        "def concatenate(**kwargs):\n",
        "  result = ''\n",
        "  print(type(kwargs))\n",
        "  for v in kwargs.values():\n",
        "    result = ' '.join([result, v])\n",
        "  return result\n",
        "concatenate(name=\"Pedro\",surname=\"Hurtado\")"
      ],
      "execution_count": null,
      "outputs": [
        {
          "output_type": "stream",
          "text": [
            "<class 'dict'>\n"
          ],
          "name": "stdout"
        },
        {
          "output_type": "execute_result",
          "data": {
            "application/vnd.google.colaboratory.intrinsic+json": {
              "type": "string"
            },
            "text/plain": [
              "' Pedro Hurtado'"
            ]
          },
          "metadata": {
            "tags": []
          },
          "execution_count": 5
        }
      ]
    }
  ]
}