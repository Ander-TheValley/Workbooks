{
  "nbformat": 4,
  "nbformat_minor": 0,
  "metadata": {
    "colab": {
      "name": "Teorema_Central_Limite.ipynb",
      "provenance": [],
      "collapsed_sections": []
    },
    "kernelspec": {
      "name": "python3",
      "display_name": "Python 3"
    },
    "language_info": {
      "name": "python"
    }
  },
  "cells": [
    {
      "cell_type": "markdown",
      "source": [
        "# **TEOREMA CENTRAL DEL LÍMITE**\n",
        "## EJEMPLO: PROMEDIO DEL LANZAMIENTO DE 20 DADOS\n",
        "### Madrid, 14 de febrero de 2022\n",
        "### Ángeles Garrido"
      ],
      "metadata": {
        "id": "GuI6yz2vgbQ2"
      }
    },
    {
      "cell_type": "markdown",
      "source": [
        "## **EJEMPLO ILUSTRATIVO: MEDIA DEL LANZAMIENTO DE 20 DADOS SESGADOS**"
      ],
      "metadata": {
        "id": "8JVAomnLgmBL"
      }
    },
    {
      "cell_type": "markdown",
      "source": [
        "Importación de librerías"
      ],
      "metadata": {
        "id": "CNWxcaM0hGZC"
      }
    },
    {
      "cell_type": "code",
      "source": [
        "import matplotlib.pyplot as plt \n",
        "import numpy as np # importando numpy\n",
        "import pandas as pd # importando pandas\n",
        "import random as random #importando random\n",
        "import seaborn as sns                       #conjunto de datos y visualisation\n",
        "\n",
        "%matplotlib inline"
      ],
      "metadata": {
        "id": "CSzFLl4Y4sYL"
      },
      "execution_count": null,
      "outputs": []
    },
    {
      "cell_type": "code",
      "source": [
        "#Definimos una función que genera la media de los resultados de 20 lanzamientos de 1 dado SESGADO\n",
        "\n",
        "def lanzamiento_dados(n):\n",
        "  caras_dado = [1,2,3,4]   # caras del dado\n",
        "  vector_medias = []       # vector de medias de los 20 lanzamientos\n",
        "  for i in range(n):\n",
        "    lanzamiento_20_dados = random.choices(caras_dado, weights = [3, 1, 1, 1], k = 20)  # 20 repeticiones de la elección aleatoria de las caras del dado con los pesos de aparición en el dado\n",
        "    lanzamiento_20_dados = np.array(lanzamiento_20_dados)\n",
        "    lanzamiento_media = lanzamiento_20_dados.mean()\n",
        "    vector_medias = np.append(vector_medias, lanzamiento_media)\n",
        "    # Visualizamos el resultado   \n",
        "    # print('Repetición', i) \n",
        "    # print(lanzamiento_20_dados)\n",
        "  return vector_medias"
      ],
      "metadata": {
        "id": "a94dtGXk-fm8"
      },
      "execution_count": null,
      "outputs": []
    },
    {
      "cell_type": "markdown",
      "source": [
        "Visualizamos el resultado para 1 repetición solamente"
      ],
      "metadata": {
        "id": "eEtnVjdTk2sQ"
      }
    },
    {
      "cell_type": "code",
      "source": [
        "caras_dado = [1,2,3,4]   # caras del dado\n",
        "vector_medias = []       # vector de medias de los 20 lanzamientos\n",
        "lanzamiento_20_dados = random.choices(caras_dado, weights = [3, 1, 1, 1], k = 20)  # 20 repeticiones de la elección aleatoria de las caras del dado con los pesos de aparición en el dado\n",
        "lanzamiento_20_dados = np.array(lanzamiento_20_dados)\n",
        "lanzamiento_media = lanzamiento_20_dados.mean()\n",
        "vector_medias = np.append(vector_medias, lanzamiento_media)"
      ],
      "metadata": {
        "id": "kvH0qTbnBQC5"
      },
      "execution_count": null,
      "outputs": []
    },
    {
      "cell_type": "code",
      "source": [
        "# Resultado de la media de las 5 repeticiones\n",
        "lanzamiento_20_dados"
      ],
      "metadata": {
        "id": "O6nCS-TbjKMM",
        "colab": {
          "base_uri": "https://localhost:8080/"
        },
        "outputId": "bd12c09b-c03a-42b3-ef6a-326a32e83b63"
      },
      "execution_count": null,
      "outputs": [
        {
          "output_type": "execute_result",
          "data": {
            "text/plain": [
              "array([1, 1, 3, 1, 4, 1, 3, 4, 2, 1, 2, 1, 3, 3, 3, 2, 1, 1, 3, 3])"
            ]
          },
          "metadata": {},
          "execution_count": 4
        }
      ]
    },
    {
      "cell_type": "code",
      "source": [
        "lanzamiento_20_dados_df = pd.DataFrame(lanzamiento_20_dados)\n",
        "print(lanzamiento_20_dados_df)"
      ],
      "metadata": {
        "id": "4ptUYHk0xaaO",
        "colab": {
          "base_uri": "https://localhost:8080/"
        },
        "outputId": "3cb38756-5fb4-494e-c11e-08bd2b49c132"
      },
      "execution_count": null,
      "outputs": [
        {
          "output_type": "stream",
          "name": "stdout",
          "text": [
            "    0\n",
            "0   1\n",
            "1   1\n",
            "2   3\n",
            "3   1\n",
            "4   4\n",
            "5   1\n",
            "6   3\n",
            "7   4\n",
            "8   2\n",
            "9   1\n",
            "10  2\n",
            "11  1\n",
            "12  3\n",
            "13  3\n",
            "14  3\n",
            "15  2\n",
            "16  1\n",
            "17  1\n",
            "18  3\n",
            "19  3\n"
          ]
        }
      ]
    },
    {
      "cell_type": "code",
      "source": [
        "lanzamiento_20_dados_df.value_counts()"
      ],
      "metadata": {
        "id": "fyT5_cncw1eR",
        "colab": {
          "base_uri": "https://localhost:8080/"
        },
        "outputId": "abf3ca08-29a7-470f-ea20-fceecdf2ebce"
      },
      "execution_count": null,
      "outputs": [
        {
          "output_type": "execute_result",
          "data": {
            "text/plain": [
              "1    8\n",
              "3    7\n",
              "2    3\n",
              "4    2\n",
              "dtype: int64"
            ]
          },
          "metadata": {},
          "execution_count": 6
        }
      ]
    },
    {
      "cell_type": "markdown",
      "source": [
        "Efectivamente, la distribución del lanzamiento del dado no sigue una distribución normal"
      ],
      "metadata": {
        "id": "x28AFGVgyDYa"
      }
    },
    {
      "cell_type": "code",
      "source": [
        "plt.hist(lanzamiento_20_dados)"
      ],
      "metadata": {
        "id": "6qDjj6kDws22",
        "colab": {
          "base_uri": "https://localhost:8080/",
          "height": 316
        },
        "outputId": "98e397e0-e0ef-48d0-db9f-f9406ab94859"
      },
      "execution_count": null,
      "outputs": [
        {
          "output_type": "execute_result",
          "data": {
            "text/plain": [
              "(array([8., 0., 0., 3., 0., 0., 7., 0., 0., 2.]),\n",
              " array([1. , 1.3, 1.6, 1.9, 2.2, 2.5, 2.8, 3.1, 3.4, 3.7, 4. ]),\n",
              " <a list of 10 Patch objects>)"
            ]
          },
          "metadata": {},
          "execution_count": 7
        },
        {
          "output_type": "display_data",
          "data": {
            "image/png": "[encoded data removed]",
            "text/plain": [
              "<Figure size 432x288 with 1 Axes>"
            ]
          },
          "metadata": {
            "needs_background": "light"
          }
        }
      ]
    },
    {
      "cell_type": "markdown",
      "source": [
        "# REPETICIONES: 5000 "
      ],
      "metadata": {
        "id": "fWpwoR_RlEBh"
      }
    },
    {
      "cell_type": "markdown",
      "source": [
        "Repetimos 5000 veces: realizamos 20 veces el lanzamiento de un dado y calculamos la media de los 20 resultados obtenidos"
      ],
      "metadata": {
        "id": "U9BjbRmniNsq"
      }
    },
    {
      "cell_type": "code",
      "source": [
        "experimento = lanzamiento_dados(10000)"
      ],
      "metadata": {
        "id": "uMcmLfcEirOg"
      },
      "execution_count": null,
      "outputs": []
    },
    {
      "cell_type": "markdown",
      "source": [
        "EJEMPLO ILUSTRATIVO"
      ],
      "metadata": {
        "id": "xaksjn4uBwkP"
      }
    },
    {
      "cell_type": "code",
      "source": [
        "experimento_df = pd.DataFrame(experimento)\n",
        "print(experimento_df)"
      ],
      "metadata": {
        "id": "VTqza0XnaA_U",
        "colab": {
          "base_uri": "https://localhost:8080/"
        },
        "outputId": "6099ae07-8582-4028-fc7f-76e71041754e"
      },
      "execution_count": null,
      "outputs": [
        {
          "output_type": "stream",
          "name": "stdout",
          "text": [
            "         0\n",
            "0     2.00\n",
            "1     1.95\n",
            "2     1.60\n",
            "3     2.10\n",
            "4     1.95\n",
            "...    ...\n",
            "9995  1.85\n",
            "9996  2.35\n",
            "9997  1.60\n",
            "9998  1.60\n",
            "9999  1.90\n",
            "\n",
            "[10000 rows x 1 columns]\n"
          ]
        }
      ]
    },
    {
      "cell_type": "code",
      "source": [
        "experimento_df.describe()"
      ],
      "metadata": {
        "id": "QWanqd8jadN1",
        "colab": {
          "base_uri": "https://localhost:8080/",
          "height": 297
        },
        "outputId": "c591b584-0d72-497c-ee3a-6781b03a6a96"
      },
      "execution_count": null,
      "outputs": [
        {
          "output_type": "execute_result",
          "data": {
            "text/html": [
              "\n",
              "  <div id=\"df-1c4b64b7-f31e-4064-af11-98cf14fd6f82\">\n",
              "    <div class=\"colab-df-container\">\n",
              "      <div>\n",
              "<style scoped>\n",
              "    .dataframe tbody tr th:only-of-type {\n",
              "        vertical-align: middle;\n",
              "    }\n",
              "\n",
              "    .dataframe tbody tr th {\n",
              "        vertical-align: top;\n",
              "    }\n",
              "\n",
              "    .dataframe thead th {\n",
              "        text-align: right;\n",
              "    }\n",
              "</style>\n",
              "<table border=\"1\" class=\"dataframe\">\n",
              "  <thead>\n",
              "    <tr style=\"text-align: right;\">\n",
              "      <th></th>\n",
              "      <th>0</th>\n",
              "    </tr>\n",
              "  </thead>\n",
              "  <tbody>\n",
              "    <tr>\n",
              "      <th>count</th>\n",
              "      <td>10000.000000</td>\n",
              "    </tr>\n",
              "    <tr>\n",
              "      <th>mean</th>\n",
              "      <td>1.998200</td>\n",
              "    </tr>\n",
              "    <tr>\n",
              "      <th>std</th>\n",
              "      <td>0.259312</td>\n",
              "    </tr>\n",
              "    <tr>\n",
              "      <th>min</th>\n",
              "      <td>1.200000</td>\n",
              "    </tr>\n",
              "    <tr>\n",
              "      <th>25%</th>\n",
              "      <td>1.800000</td>\n",
              "    </tr>\n",
              "    <tr>\n",
              "      <th>50%</th>\n",
              "      <td>2.000000</td>\n",
              "    </tr>\n",
              "    <tr>\n",
              "      <th>75%</th>\n",
              "      <td>2.200000</td>\n",
              "    </tr>\n",
              "    <tr>\n",
              "      <th>max</th>\n",
              "      <td>2.950000</td>\n",
              "    </tr>\n",
              "  </tbody>\n",
              "</table>\n",
              "</div>\n",
              "      <button class=\"colab-df-convert\" onclick=\"convertToInteractive('df-1c4b64b7-f31e-4064-af11-98cf14fd6f82')\"\n",
              "              title=\"Convert this dataframe to an interactive table.\"\n",
              "              style=\"display:none;\">\n",
              "        \n",
              "  <svg xmlns=\"http://www.w3.org/2000/svg\" height=\"24px\"viewBox=\"0 0 24 24\"\n",
              "       width=\"24px\">\n",
              "    <path d=\"M0 0h24v24H0V0z\" fill=\"none\"/>\n",
              "    <path d=\"M18.56 5.44l.94 2.06.94-2.06 2.06-.94-2.06-.94-.94-2.06-.94 2.06-2.06.94zm-11 1L8.5 8.5l.94-2.06 2.06-.94-2.06-.94L8.5 2.5l-.94 2.06-2.06.94zm10 10l.94 2.06.94-2.06 2.06-.94-2.06-.94-.94-2.06-.94 2.06-2.06.94z\"/><path d=\"M17.41 7.96l-1.37-1.37c-.4-.4-.92-.59-1.43-.59-.52 0-1.04.2-1.43.59L10.3 9.45l-7.72 7.72c-.78.78-.78 2.05 0 2.83L4 21.41c.39.39.9.59 1.41.59.51 0 1.02-.2 1.41-.59l7.78-7.78 2.81-2.81c.8-.78.8-2.07 0-2.86zM5.41 20L4 18.59l7.72-7.72 1.47 1.35L5.41 20z\"/>\n",
              "  </svg>\n",
              "      </button>\n",
              "      \n",
              "  <style>\n",
              "    .colab-df-container {\n",
              "      display:flex;\n",
              "      flex-wrap:wrap;\n",
              "      gap: 12px;\n",
              "    }\n",
              "\n",
              "    .colab-df-convert {\n",
              "      background-color: #E8F0FE;\n",
              "      border: none;\n",
              "      border-radius: 50%;\n",
              "      cursor: pointer;\n",
              "      display: none;\n",
              "      fill: #1967D2;\n",
              "      height: 32px;\n",
              "      padding: 0 0 0 0;\n",
              "      width: 32px;\n",
              "    }\n",
              "\n",
              "    .colab-df-convert:hover {\n",
              "      background-color: #E2EBFA;\n",
              "      box-shadow: 0px 1px 2px rgba(60, 64, 67, 0.3), 0px 1px 3px 1px rgba(60, 64, 67, 0.15);\n",
              "      fill: #174EA6;\n",
              "    }\n",
              "\n",
              "    [theme=dark] .colab-df-convert {\n",
              "      background-color: #3B4455;\n",
              "      fill: #D2E3FC;\n",
              "    }\n",
              "\n",
              "    [theme=dark] .colab-df-convert:hover {\n",
              "      background-color: #434B5C;\n",
              "      box-shadow: 0px 1px 3px 1px rgba(0, 0, 0, 0.15);\n",
              "      filter: drop-shadow(0px 1px 2px rgba(0, 0, 0, 0.3));\n",
              "      fill: #FFFFFF;\n",
              "    }\n",
              "  </style>\n",
              "\n",
              "      <script>\n",
              "        const buttonEl =\n",
              "          document.querySelector('#df-1c4b64b7-f31e-4064-af11-98cf14fd6f82 button.colab-df-convert');\n",
              "        buttonEl.style.display =\n",
              "          google.colab.kernel.accessAllowed ? 'block' : 'none';\n",
              "\n",
              "        async function convertToInteractive(key) {\n",
              "          const element = document.querySelector('#df-1c4b64b7-f31e-4064-af11-98cf14fd6f82');\n",
              "          const dataTable =\n",
              "            await google.colab.kernel.invokeFunction('convertToInteractive',\n",
              "                                                     [key], {});\n",
              "          if (!dataTable) return;\n",
              "\n",
              "          const docLinkHtml = 'Like what you see? Visit the ' +\n",
              "            '<a target=\"_blank\" href=https://colab.research.google.com/notebooks/data_table.ipynb>data table notebook</a>'\n",
              "            + ' to learn more about interactive tables.';\n",
              "          element.innerHTML = '';\n",
              "          dataTable['output_type'] = 'display_data';\n",
              "          await google.colab.output.renderOutput(dataTable, element);\n",
              "          const docLink = document.createElement('div');\n",
              "          docLink.innerHTML = docLinkHtml;\n",
              "          element.appendChild(docLink);\n",
              "        }\n",
              "      </script>\n",
              "    </div>\n",
              "  </div>\n",
              "  "
            ],
            "text/plain": [
              "                  0\n",
              "count  10000.000000\n",
              "mean       1.998200\n",
              "std        0.259312\n",
              "min        1.200000\n",
              "25%        1.800000\n",
              "50%        2.000000\n",
              "75%        2.200000\n",
              "max        2.950000"
            ]
          },
          "metadata": {},
          "execution_count": 12
        }
      ]
    },
    {
      "cell_type": "markdown",
      "source": [
        "Nombramos la columna de la media"
      ],
      "metadata": {
        "id": "WqtDgenyoN-F"
      }
    },
    {
      "cell_type": "code",
      "source": [
        "experimento_df.columns = ['Media_20_Lanzamientos']\n",
        "experimento_df.columns"
      ],
      "metadata": {
        "id": "-kEM8nfLa7mJ",
        "colab": {
          "base_uri": "https://localhost:8080/"
        },
        "outputId": "32506955-7808-49ef-8b76-176ad97a81e1"
      },
      "execution_count": null,
      "outputs": [
        {
          "output_type": "execute_result",
          "data": {
            "text/plain": [
              "Index(['Media_20_Lanzamientos'], dtype='object')"
            ]
          },
          "metadata": {},
          "execution_count": 13
        }
      ]
    },
    {
      "cell_type": "markdown",
      "source": [
        "HISTOGRAMA CON SEABORN"
      ],
      "metadata": {
        "id": "VrsJjwV0e9fn"
      }
    },
    {
      "cell_type": "code",
      "source": [
        "sns.displot(experimento_df[\"Media_20_Lanzamientos\"],  kde=True).set(title='Histograma de la MEDIA del lanzamiento de 20 dados') #creamos el gráfico en Seaborn  color='#F2AB6D',"
      ],
      "metadata": {
        "id": "y4rfPer1ls3b",
        "colab": {
          "base_uri": "https://localhost:8080/",
          "height": 402
        },
        "outputId": "f4a99560-6cbc-4810-d621-9dc5190c4966"
      },
      "execution_count": null,
      "outputs": [
        {
          "output_type": "execute_result",
          "data": {
            "text/plain": [
              "<seaborn.axisgrid.FacetGrid at 0x7f81e55b2b90>"
            ]
          },
          "metadata": {},
          "execution_count": 14
        },
        {
          "output_type": "display_data",
          "data": {
            "image/png": "[encoded data removed]",
            "text/plain": [
              "<Figure size 360x360 with 1 Axes>"
            ]
          },
          "metadata": {
            "needs_background": "light"
          }
        }
      ]
    },
    {
      "cell_type": "code",
      "source": [
        "print(experimento_df)"
      ],
      "metadata": {
        "id": "g0rolOjSpcRh",
        "colab": {
          "base_uri": "https://localhost:8080/"
        },
        "outputId": "aa100423-d072-4796-b51b-414c21fb0c9c"
      },
      "execution_count": null,
      "outputs": [
        {
          "output_type": "stream",
          "name": "stdout",
          "text": [
            "      Media_20_Lanzamientos\n",
            "0                      2.00\n",
            "1                      1.95\n",
            "2                      1.60\n",
            "3                      2.10\n",
            "4                      1.95\n",
            "...                     ...\n",
            "9995                   1.85\n",
            "9996                   2.35\n",
            "9997                   1.60\n",
            "9998                   1.60\n",
            "9999                   1.90\n",
            "\n",
            "[10000 rows x 1 columns]\n"
          ]
        }
      ]
    }
  ]
}