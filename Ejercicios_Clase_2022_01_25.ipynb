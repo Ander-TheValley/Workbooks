{
  "nbformat": 4,
  "nbformat_minor": 0,
  "metadata": {
    "colab": {
      "name": "Solución_Ejercicios_Clase_2022_01_25.ipynb",
      "provenance": [],
      "collapsed_sections": [],
      "toc_visible": true
    },
    "kernelspec": {
      "display_name": "Python 3",
      "name": "python3"
    }
  },
  "cells": [
    {
      "cell_type": "code",
      "metadata": {
        "id": "Dq481_pJO1jB"
      },
      "source": [
        "import pandas as pd\n",
        "import numpy as np"
      ],
      "execution_count": null,
      "outputs": []
    },
    {
      "cell_type": "markdown",
      "metadata": {
        "id": "3Xo5HV4OS51S"
      },
      "source": [
        "# Repaso Pandas\n",
        "Vamos a crear un dataframe y recordar los principales comandos vistos en clases anteriores, además de ver comandos nuevos que vamos a usar en la parte final de los ejercicios. Vamos a repasar los siguientes conceptos.\n",
        "EJERCICIO ANTERIOR\n",
        "1. Creación y modificación de df:\n",
        "  * [rename](https://pandas.pydata.org/pandas-docs/stable/reference/api/pandas.DataFrame.rename.html)\n",
        "  * [drop](https://pandas.pydata.org/pandas-docs/stable/reference/api/pandas.DataFrame.drop.html)\n",
        "2. Búsqueda de datos:\n",
        "  * [head](https://pandas.pydata.org/pandas-docs/stable/reference/api/pandas.DataFrame.head.html)\n",
        "  * [tail](https://pandas.pydata.org/pandas-docs/stable/reference/api/pandas.DataFrame.tail.html)\n",
        "  * [describe](https://pandas.pydata.org/pandas-docs/stable/reference/api/pandas.DataFrame.describe.html)\n",
        "  * [loc](https://pandas.pydata.org/pandas-docs/stable/reference/api/pandas.DataFrame.loc.html)\n",
        "  * [iloc](https://pandas.pydata.org/pandas-docs/stable/reference/api/pandas.DataFrame.iloc.html)\n",
        "  * [values](https://pandas.pydata.org/pandas-docs/stable/reference/api/pandas.DataFrame.values.html)\n",
        "  * [unique](https://pandas.pydata.org/pandas-docs/stable/reference/api/pandas.core.groupby.SeriesGroupBy.unique.html?highlight=unique)\n",
        "  * [nunique](https://pandas.pydata.org/pandas-docs/stable/reference/api/pandas.DataFrame.nunique.html)\n",
        "3. Funciones:\n",
        "  * [any](https://pandas.pydata.org/pandas-docs/stable/reference/api/pandas.DataFrame.any.html): Utilizaremos la funcion apply cuando queremos aplicar una funcion a todos los elementos de nuestra DF.\n",
        "  * [map](https://pandas.pydata.org/pandas-docs/stable/reference/api/pandas.Series.map.html): Utilizaremos la función map cuando queremos aplicar una funcion a todos los elementos de una columna. La función Map() toma como argumento otra función, que contiene el código que queremos aplicar a cada elemento de la lista o columna.\n",
        "\n",
        "  La principal diferencia entre ellos es que applymap es un función basada en elementos que trabaja en el dataframe, mientras map lo hace en las series, o sea una columna o una fila."
      ]
    },
    {
      "cell_type": "code",
      "metadata": {
        "colab": {
          "base_uri": "https://localhost:8080/",
          "height": 143
        },
        "id": "4MLiinvOS51Z",
        "outputId": "a6263154-fd63-49ed-e391-1f8fef12aef3"
      },
      "source": [
        "#REPASO\n",
        "#Paso 1. Creamos un dataframe llamado alumnos el cual va a tener tres columnas con los siguientes valores:\n",
        "# Nombre: Julian,Maria,Gonzalo - STRING\n",
        "# Empresa: Eci, Bankia, BBVA - STRING\n",
        "# Edad: 25,30,35 - INTEGER\n",
        "# Id_Usuario: 1,2,3\n",
        "#Además ponemos un índice con valores A,B,C\n",
        "alumnos=pd.DataFrame(\n",
        "    {\n",
        "        \"Nombre\": [\"Julian\",\"Maria\",\"Gonzalo\"],\n",
        "        \"Empresa\":[\"Eci\",\"Bankia\",\"BBVA\"],\n",
        "        \"Edad\":[25,30,35],\n",
        "        \"Id_Usuario\":[1,2,3]\n",
        "    },index=[\"A\",\"B\",\"C\"]\n",
        ")\n",
        "alumnos"
      ],
      "execution_count": null,
      "outputs": [
        {
          "output_type": "execute_result",
          "data": {
            "text/html": [
              "<div>\n",
              "<style scoped>\n",
              "    .dataframe tbody tr th:only-of-type {\n",
              "        vertical-align: middle;\n",
              "    }\n",
              "\n",
              "    .dataframe tbody tr th {\n",
              "        vertical-align: top;\n",
              "    }\n",
              "\n",
              "    .dataframe thead th {\n",
              "        text-align: right;\n",
              "    }\n",
              "</style>\n",
              "<table border=\"1\" class=\"dataframe\">\n",
              "  <thead>\n",
              "    <tr style=\"text-align: right;\">\n",
              "      <th></th>\n",
              "      <th>Nombre</th>\n",
              "      <th>Empresa</th>\n",
              "      <th>Edad</th>\n",
              "      <th>Id_Usuario</th>\n",
              "    </tr>\n",
              "  </thead>\n",
              "  <tbody>\n",
              "    <tr>\n",
              "      <th>A</th>\n",
              "      <td>Julian</td>\n",
              "      <td>Eci</td>\n",
              "      <td>25</td>\n",
              "      <td>1</td>\n",
              "    </tr>\n",
              "    <tr>\n",
              "      <th>B</th>\n",
              "      <td>Maria</td>\n",
              "      <td>Bankia</td>\n",
              "      <td>30</td>\n",
              "      <td>2</td>\n",
              "    </tr>\n",
              "    <tr>\n",
              "      <th>C</th>\n",
              "      <td>Gonzalo</td>\n",
              "      <td>BBVA</td>\n",
              "      <td>35</td>\n",
              "      <td>3</td>\n",
              "    </tr>\n",
              "  </tbody>\n",
              "</table>\n",
              "</div>"
            ],
            "text/plain": [
              "    Nombre Empresa  Edad  Id_Usuario\n",
              "A   Julian     Eci    25           1\n",
              "B    Maria  Bankia    30           2\n",
              "C  Gonzalo    BBVA    35           3"
            ]
          },
          "metadata": {},
          "execution_count": 5
        }
      ]
    },
    {
      "cell_type": "code",
      "metadata": {
        "colab": {
          "base_uri": "https://localhost:8080/",
          "height": 143
        },
        "id": "KdNQBsUwS51b",
        "outputId": "89ceee52-facc-4599-a363-2a003f6d77ec"
      },
      "source": [
        "#REPASO\n",
        "#Paso 1.2 Creamos un dataframe con los mismos valores que el df de alumnos, llamado alumnos_duplicados\n",
        "# Nombre: Julian,Julian,Gonzalo\n",
        "# Empresa: Eci, Bankia, BBVA\n",
        "# Edad: 25,30,35* Incluimos los valores de EDAD como STRING\n",
        "#Además ponemos un índice con valores 1,2,3\n",
        "alumnos_duplicados=pd.DataFrame(\n",
        "    {\n",
        "        \"Nombre\": [\"Julian\",\"Julian\",\"Gonzalo\"],\n",
        "        \"Empresa\":[\"TheValley\",\"Empresa A\",\"Empresa B\"],\n",
        "        \"Edad\":[\"25\",\"30\",\"35\"],\n",
        "    },index=[\"1\",\"2\",\"3\"]\n",
        ")\n",
        "alumnos_duplicados"
      ],
      "execution_count": null,
      "outputs": [
        {
          "output_type": "execute_result",
          "data": {
            "text/html": [
              "<div>\n",
              "<style scoped>\n",
              "    .dataframe tbody tr th:only-of-type {\n",
              "        vertical-align: middle;\n",
              "    }\n",
              "\n",
              "    .dataframe tbody tr th {\n",
              "        vertical-align: top;\n",
              "    }\n",
              "\n",
              "    .dataframe thead th {\n",
              "        text-align: right;\n",
              "    }\n",
              "</style>\n",
              "<table border=\"1\" class=\"dataframe\">\n",
              "  <thead>\n",
              "    <tr style=\"text-align: right;\">\n",
              "      <th></th>\n",
              "      <th>Nombre</th>\n",
              "      <th>Empresa</th>\n",
              "      <th>Edad</th>\n",
              "    </tr>\n",
              "  </thead>\n",
              "  <tbody>\n",
              "    <tr>\n",
              "      <th>1</th>\n",
              "      <td>Julian</td>\n",
              "      <td>TheValley</td>\n",
              "      <td>25</td>\n",
              "    </tr>\n",
              "    <tr>\n",
              "      <th>2</th>\n",
              "      <td>Julian</td>\n",
              "      <td>Empresa A</td>\n",
              "      <td>30</td>\n",
              "    </tr>\n",
              "    <tr>\n",
              "      <th>3</th>\n",
              "      <td>Gonzalo</td>\n",
              "      <td>Empresa B</td>\n",
              "      <td>35</td>\n",
              "    </tr>\n",
              "  </tbody>\n",
              "</table>\n",
              "</div>"
            ],
            "text/plain": [
              "    Nombre    Empresa Edad\n",
              "1   Julian  TheValley   25\n",
              "2   Julian  Empresa A   30\n",
              "3  Gonzalo  Empresa B   35"
            ]
          },
          "metadata": {},
          "execution_count": 31
        }
      ]
    },
    {
      "cell_type": "code",
      "metadata": {
        "id": "LeIuhIWVimHv"
      },
      "source": [
        "alumnos[alumnos.Nombre == 'Julian']"
      ],
      "execution_count": null,
      "outputs": []
    },
    {
      "cell_type": "code",
      "metadata": {
        "id": "2YEy3RPQi0KD"
      },
      "source": [
        "alumnos[alumnos['Nombre'] == 'Julian']"
      ],
      "execution_count": null,
      "outputs": []
    },
    {
      "cell_type": "code",
      "metadata": {
        "id": "V0D-svSRjIWS"
      },
      "source": [
        "alumnos[0:2]"
      ],
      "execution_count": null,
      "outputs": []
    },
    {
      "cell_type": "code",
      "metadata": {
        "colab": {
          "base_uri": "https://localhost:8080/",
          "height": 175
        },
        "id": "o4dieBVJS51c",
        "outputId": "0d81d337-ae42-4d76-c37a-0bd647c410c5"
      },
      "source": [
        "#NUEVO\n",
        "#Paso 2. Vamos a poner la columna Id_Usuario como índice.\n",
        "# Para eso usamos el comando set_index, el cual nos permite colocar una columna como índice\n",
        "alumnos=alumnos.set_index('Id_Usuario')\n",
        "alumnos"
      ],
      "execution_count": null,
      "outputs": [
        {
          "output_type": "execute_result",
          "data": {
            "text/html": [
              "<div>\n",
              "<style scoped>\n",
              "    .dataframe tbody tr th:only-of-type {\n",
              "        vertical-align: middle;\n",
              "    }\n",
              "\n",
              "    .dataframe tbody tr th {\n",
              "        vertical-align: top;\n",
              "    }\n",
              "\n",
              "    .dataframe thead th {\n",
              "        text-align: right;\n",
              "    }\n",
              "</style>\n",
              "<table border=\"1\" class=\"dataframe\">\n",
              "  <thead>\n",
              "    <tr style=\"text-align: right;\">\n",
              "      <th></th>\n",
              "      <th>Nombre</th>\n",
              "      <th>Empresa</th>\n",
              "      <th>Edad</th>\n",
              "    </tr>\n",
              "    <tr>\n",
              "      <th>Id_Usuario</th>\n",
              "      <th></th>\n",
              "      <th></th>\n",
              "      <th></th>\n",
              "    </tr>\n",
              "  </thead>\n",
              "  <tbody>\n",
              "    <tr>\n",
              "      <th>1</th>\n",
              "      <td>Julian</td>\n",
              "      <td>Eci</td>\n",
              "      <td>25</td>\n",
              "    </tr>\n",
              "    <tr>\n",
              "      <th>2</th>\n",
              "      <td>Maria</td>\n",
              "      <td>Bankia</td>\n",
              "      <td>30</td>\n",
              "    </tr>\n",
              "    <tr>\n",
              "      <th>3</th>\n",
              "      <td>Gonzalo</td>\n",
              "      <td>BBVA</td>\n",
              "      <td>35</td>\n",
              "    </tr>\n",
              "  </tbody>\n",
              "</table>\n",
              "</div>"
            ],
            "text/plain": [
              "             Nombre Empresa  Edad\n",
              "Id_Usuario                       \n",
              "1            Julian     Eci    25\n",
              "2             Maria  Bankia    30\n",
              "3           Gonzalo    BBVA    35"
            ]
          },
          "metadata": {},
          "execution_count": 7
        }
      ]
    },
    {
      "cell_type": "code",
      "metadata": {
        "colab": {
          "base_uri": "https://localhost:8080/",
          "height": 175
        },
        "id": "hX-IECztS51d",
        "outputId": "4c25ed82-be2c-4004-a75c-448b7328dbca"
      },
      "source": [
        "#REPASO\n",
        "#Paso 3. Le vamos a añadir dos nuevas columnas y vamos a incluir los siguientes valores.\n",
        "# Puesto_Empresa: CDO, NaN (Valor vacío), Data Engineering \n",
        "# Columnar_A_Eliminar: fila1, fila2, fila3\n",
        "alumnos['Puesto_Empresa']=[\"CDO\",np.nan,\"Data Engineering\"]\n",
        "alumnos[\"Columna_A_Eliminar\"]=[\"fila1\",\"fila2\",\"fila3\"]\n",
        "alumnos"
      ],
      "execution_count": null,
      "outputs": [
        {
          "output_type": "execute_result",
          "data": {
            "text/html": [
              "<div>\n",
              "<style scoped>\n",
              "    .dataframe tbody tr th:only-of-type {\n",
              "        vertical-align: middle;\n",
              "    }\n",
              "\n",
              "    .dataframe tbody tr th {\n",
              "        vertical-align: top;\n",
              "    }\n",
              "\n",
              "    .dataframe thead th {\n",
              "        text-align: right;\n",
              "    }\n",
              "</style>\n",
              "<table border=\"1\" class=\"dataframe\">\n",
              "  <thead>\n",
              "    <tr style=\"text-align: right;\">\n",
              "      <th></th>\n",
              "      <th>Nombre</th>\n",
              "      <th>Empresa</th>\n",
              "      <th>Edad</th>\n",
              "      <th>Puesto_Empresa</th>\n",
              "      <th>Columna_A_Eliminar</th>\n",
              "    </tr>\n",
              "    <tr>\n",
              "      <th>Id_Usuario</th>\n",
              "      <th></th>\n",
              "      <th></th>\n",
              "      <th></th>\n",
              "      <th></th>\n",
              "      <th></th>\n",
              "    </tr>\n",
              "  </thead>\n",
              "  <tbody>\n",
              "    <tr>\n",
              "      <th>1</th>\n",
              "      <td>Julian</td>\n",
              "      <td>Eci</td>\n",
              "      <td>25</td>\n",
              "      <td>CDO</td>\n",
              "      <td>fila1</td>\n",
              "    </tr>\n",
              "    <tr>\n",
              "      <th>2</th>\n",
              "      <td>Maria</td>\n",
              "      <td>Bankia</td>\n",
              "      <td>30</td>\n",
              "      <td>NaN</td>\n",
              "      <td>fila2</td>\n",
              "    </tr>\n",
              "    <tr>\n",
              "      <th>3</th>\n",
              "      <td>Gonzalo</td>\n",
              "      <td>BBVA</td>\n",
              "      <td>35</td>\n",
              "      <td>Data Engineering</td>\n",
              "      <td>fila3</td>\n",
              "    </tr>\n",
              "  </tbody>\n",
              "</table>\n",
              "</div>"
            ],
            "text/plain": [
              "             Nombre Empresa  Edad    Puesto_Empresa Columna_A_Eliminar\n",
              "Id_Usuario                                                            \n",
              "1            Julian     Eci    25               CDO              fila1\n",
              "2             Maria  Bankia    30               NaN              fila2\n",
              "3           Gonzalo    BBVA    35  Data Engineering              fila3"
            ]
          },
          "metadata": {},
          "execution_count": 8
        }
      ]
    },
    {
      "cell_type": "code",
      "metadata": {
        "colab": {
          "base_uri": "https://localhost:8080/",
          "height": 175
        },
        "id": "8RtKAQm0S51e",
        "outputId": "e533241d-1d1d-434f-94d4-3a0f7b887f56"
      },
      "source": [
        "#NUEVO\n",
        "#Paso 4.1. Ahora eliminamos la columna Columna_A_Eliminar, usamos el método DROP para eso.\n",
        "#Hay que pasarle como parámetros la columna a eliminar y el AXIS\n",
        "#¿Qué es AXIS?, parámetro el cual nos indica si queremos eliminar una fila o una columna, siendo 0 filas y 1 columnas\n",
        "#Por defecto te coge siempre el 0\n",
        "alumnos=alumnos.drop(['Columna_A_Eliminar'],axis=1)\n",
        "alumnos"
      ],
      "execution_count": null,
      "outputs": [
        {
          "output_type": "execute_result",
          "data": {
            "text/html": [
              "<div>\n",
              "<style scoped>\n",
              "    .dataframe tbody tr th:only-of-type {\n",
              "        vertical-align: middle;\n",
              "    }\n",
              "\n",
              "    .dataframe tbody tr th {\n",
              "        vertical-align: top;\n",
              "    }\n",
              "\n",
              "    .dataframe thead th {\n",
              "        text-align: right;\n",
              "    }\n",
              "</style>\n",
              "<table border=\"1\" class=\"dataframe\">\n",
              "  <thead>\n",
              "    <tr style=\"text-align: right;\">\n",
              "      <th></th>\n",
              "      <th>Nombre</th>\n",
              "      <th>Empresa</th>\n",
              "      <th>Edad</th>\n",
              "      <th>Puesto_Empresa</th>\n",
              "    </tr>\n",
              "    <tr>\n",
              "      <th>Id_Usuario</th>\n",
              "      <th></th>\n",
              "      <th></th>\n",
              "      <th></th>\n",
              "      <th></th>\n",
              "    </tr>\n",
              "  </thead>\n",
              "  <tbody>\n",
              "    <tr>\n",
              "      <th>1</th>\n",
              "      <td>Julian</td>\n",
              "      <td>Eci</td>\n",
              "      <td>25</td>\n",
              "      <td>CDO</td>\n",
              "    </tr>\n",
              "    <tr>\n",
              "      <th>2</th>\n",
              "      <td>Maria</td>\n",
              "      <td>Bankia</td>\n",
              "      <td>30</td>\n",
              "      <td>NaN</td>\n",
              "    </tr>\n",
              "    <tr>\n",
              "      <th>3</th>\n",
              "      <td>Gonzalo</td>\n",
              "      <td>BBVA</td>\n",
              "      <td>35</td>\n",
              "      <td>Data Engineering</td>\n",
              "    </tr>\n",
              "  </tbody>\n",
              "</table>\n",
              "</div>"
            ],
            "text/plain": [
              "             Nombre Empresa  Edad    Puesto_Empresa\n",
              "Id_Usuario                                         \n",
              "1            Julian     Eci    25               CDO\n",
              "2             Maria  Bankia    30               NaN\n",
              "3           Gonzalo    BBVA    35  Data Engineering"
            ]
          },
          "metadata": {},
          "execution_count": 9
        }
      ]
    },
    {
      "cell_type": "code",
      "metadata": {
        "colab": {
          "base_uri": "https://localhost:8080/",
          "height": 175
        },
        "id": "UZ_gamzjS51e",
        "outputId": "cf8f50c9-7c9b-41ff-d918-6f285cc44cea"
      },
      "source": [
        "#REPASO\n",
        "#Paso 4.2. Vamos a renombrar la nueva columna que hemos creado que nos queda.\n",
        "# Pasará a llamarse Puesto en vez de Puesto_empresa, tenemos que poner el parámetro inplace a TRUE porque si no, no se guarda dicho valor.\n",
        "# Eso lo hacemos con el comando rename, al cual le pasamos un diccionario con el nombre antiguo y el nuevo.\n",
        "new_name = {\"Puesto_Empresa\":\"Puesto\"}\n",
        "alumnos.rename({\"Puesto_Empresa\":\"Puesto\"},inplace=True)\n",
        "alumnos"
      ],
      "execution_count": null,
      "outputs": [
        {
          "output_type": "execute_result",
          "data": {
            "text/html": [
              "<div>\n",
              "<style scoped>\n",
              "    .dataframe tbody tr th:only-of-type {\n",
              "        vertical-align: middle;\n",
              "    }\n",
              "\n",
              "    .dataframe tbody tr th {\n",
              "        vertical-align: top;\n",
              "    }\n",
              "\n",
              "    .dataframe thead th {\n",
              "        text-align: right;\n",
              "    }\n",
              "</style>\n",
              "<table border=\"1\" class=\"dataframe\">\n",
              "  <thead>\n",
              "    <tr style=\"text-align: right;\">\n",
              "      <th></th>\n",
              "      <th>Nombre</th>\n",
              "      <th>Empresa</th>\n",
              "      <th>Edad</th>\n",
              "      <th>Puesto_Empresa</th>\n",
              "    </tr>\n",
              "    <tr>\n",
              "      <th>Id_Usuario</th>\n",
              "      <th></th>\n",
              "      <th></th>\n",
              "      <th></th>\n",
              "      <th></th>\n",
              "    </tr>\n",
              "  </thead>\n",
              "  <tbody>\n",
              "    <tr>\n",
              "      <th>1</th>\n",
              "      <td>Julian</td>\n",
              "      <td>Eci</td>\n",
              "      <td>25</td>\n",
              "      <td>CDO</td>\n",
              "    </tr>\n",
              "    <tr>\n",
              "      <th>2</th>\n",
              "      <td>Maria</td>\n",
              "      <td>Bankia</td>\n",
              "      <td>30</td>\n",
              "      <td>NaN</td>\n",
              "    </tr>\n",
              "    <tr>\n",
              "      <th>3</th>\n",
              "      <td>Gonzalo</td>\n",
              "      <td>BBVA</td>\n",
              "      <td>35</td>\n",
              "      <td>Data Engineering</td>\n",
              "    </tr>\n",
              "  </tbody>\n",
              "</table>\n",
              "</div>"
            ],
            "text/plain": [
              "             Nombre Empresa  Edad    Puesto_Empresa\n",
              "Id_Usuario                                         \n",
              "1            Julian     Eci    25               CDO\n",
              "2             Maria  Bankia    30               NaN\n",
              "3           Gonzalo    BBVA    35  Data Engineering"
            ]
          },
          "metadata": {},
          "execution_count": 10
        }
      ]
    },
    {
      "cell_type": "code",
      "metadata": {
        "id": "Or6JvuSmS51f",
        "colab": {
          "base_uri": "https://localhost:8080/",
          "height": 112
        },
        "outputId": "e7ccdfe2-d860-45f2-d7f0-6942bc9b0a7c"
      },
      "source": [
        "#REPASO\n",
        "#Paso 5.1. Vamos a ver solo la primera fila de valores del df alumnos con head.\n",
        "#Por defecto te coge 5 filas si no le pones algún nº como parámetro\n",
        "alumnos.head(1)"
      ],
      "execution_count": null,
      "outputs": [
        {
          "output_type": "execute_result",
          "data": {
            "text/html": [
              "<div>\n",
              "<style scoped>\n",
              "    .dataframe tbody tr th:only-of-type {\n",
              "        vertical-align: middle;\n",
              "    }\n",
              "\n",
              "    .dataframe tbody tr th {\n",
              "        vertical-align: top;\n",
              "    }\n",
              "\n",
              "    .dataframe thead th {\n",
              "        text-align: right;\n",
              "    }\n",
              "</style>\n",
              "<table border=\"1\" class=\"dataframe\">\n",
              "  <thead>\n",
              "    <tr style=\"text-align: right;\">\n",
              "      <th></th>\n",
              "      <th>Nombre</th>\n",
              "      <th>Empresa</th>\n",
              "      <th>Edad</th>\n",
              "      <th>Puesto_Empresa</th>\n",
              "    </tr>\n",
              "    <tr>\n",
              "      <th>Id_Usuario</th>\n",
              "      <th></th>\n",
              "      <th></th>\n",
              "      <th></th>\n",
              "      <th></th>\n",
              "    </tr>\n",
              "  </thead>\n",
              "  <tbody>\n",
              "    <tr>\n",
              "      <th>1</th>\n",
              "      <td>Julian</td>\n",
              "      <td>Eci</td>\n",
              "      <td>25</td>\n",
              "      <td>CDO</td>\n",
              "    </tr>\n",
              "  </tbody>\n",
              "</table>\n",
              "</div>"
            ],
            "text/plain": [
              "            Nombre Empresa  Edad Puesto_Empresa\n",
              "Id_Usuario                                     \n",
              "1           Julian     Eci    25            CDO"
            ]
          },
          "metadata": {},
          "execution_count": 11
        }
      ]
    },
    {
      "cell_type": "code",
      "metadata": {
        "id": "1bH8hcL-S51f",
        "colab": {
          "base_uri": "https://localhost:8080/",
          "height": 112
        },
        "outputId": "e6edf113-11f9-452d-c8c0-143fd7264134"
      },
      "source": [
        "#NUEVO\n",
        "#Paso 5.2. Vamos a ver la última fila de valores del df alumnos (Sin usar head).\n",
        "# La otra opción es usar tail.\n",
        "#Por defecto te coge 5 filas si no le pones algún nº como parámetro\n",
        "alumnos.tail(1)"
      ],
      "execution_count": null,
      "outputs": [
        {
          "output_type": "execute_result",
          "data": {
            "text/html": [
              "<div>\n",
              "<style scoped>\n",
              "    .dataframe tbody tr th:only-of-type {\n",
              "        vertical-align: middle;\n",
              "    }\n",
              "\n",
              "    .dataframe tbody tr th {\n",
              "        vertical-align: top;\n",
              "    }\n",
              "\n",
              "    .dataframe thead th {\n",
              "        text-align: right;\n",
              "    }\n",
              "</style>\n",
              "<table border=\"1\" class=\"dataframe\">\n",
              "  <thead>\n",
              "    <tr style=\"text-align: right;\">\n",
              "      <th></th>\n",
              "      <th>Nombre</th>\n",
              "      <th>Empresa</th>\n",
              "      <th>Edad</th>\n",
              "      <th>Puesto_Empresa</th>\n",
              "    </tr>\n",
              "    <tr>\n",
              "      <th>Id_Usuario</th>\n",
              "      <th></th>\n",
              "      <th></th>\n",
              "      <th></th>\n",
              "      <th></th>\n",
              "    </tr>\n",
              "  </thead>\n",
              "  <tbody>\n",
              "    <tr>\n",
              "      <th>3</th>\n",
              "      <td>Gonzalo</td>\n",
              "      <td>BBVA</td>\n",
              "      <td>35</td>\n",
              "      <td>Data Engineering</td>\n",
              "    </tr>\n",
              "  </tbody>\n",
              "</table>\n",
              "</div>"
            ],
            "text/plain": [
              "             Nombre Empresa  Edad    Puesto_Empresa\n",
              "Id_Usuario                                         \n",
              "3           Gonzalo    BBVA    35  Data Engineering"
            ]
          },
          "metadata": {},
          "execution_count": 12
        }
      ]
    },
    {
      "cell_type": "code",
      "metadata": {
        "id": "jD9q0NnhS51f",
        "colab": {
          "base_uri": "https://localhost:8080/"
        },
        "outputId": "6068b652-77ad-46ad-d9e1-9718211f846b"
      },
      "source": [
        "#REPASO\n",
        "#Paso 6. Vamos a ver las columnas que tenemos del df alumnos. ¿Nos acordamos cómo?\n",
        "alumnos.columns"
      ],
      "execution_count": null,
      "outputs": [
        {
          "output_type": "execute_result",
          "data": {
            "text/plain": [
              "Index(['Nombre', 'Empresa', 'Edad', 'Puesto_Empresa'], dtype='object')"
            ]
          },
          "metadata": {},
          "execution_count": 13
        }
      ]
    },
    {
      "cell_type": "code",
      "metadata": {
        "id": "fFwce_yjS51g",
        "colab": {
          "base_uri": "https://localhost:8080/"
        },
        "outputId": "33239a20-802a-483d-b625-7e50b8884706"
      },
      "source": [
        "#NUEVO\n",
        "#Paso 7. Ahora queremos ver el formato específico de la columna Edad.\n",
        "#Para ello usamos el método dtype\n",
        "alumnos_duplicados[\"Edad\"].dtype"
      ],
      "execution_count": null,
      "outputs": [
        {
          "output_type": "execute_result",
          "data": {
            "text/plain": [
              "dtype('O')"
            ]
          },
          "metadata": {},
          "execution_count": 14
        }
      ]
    },
    {
      "cell_type": "code",
      "metadata": {
        "id": "NXQPlk4VS51g",
        "colab": {
          "base_uri": "https://localhost:8080/",
          "height": 300
        },
        "outputId": "4e232c38-c482-4a2e-9fa0-e2372461dccd"
      },
      "source": [
        "#NUEVO\n",
        "#Paso 8. Sacamos una descripción de nuestro dataframe.\n",
        "alumnos.describe()"
      ],
      "execution_count": null,
      "outputs": [
        {
          "output_type": "execute_result",
          "data": {
            "text/html": [
              "<div>\n",
              "<style scoped>\n",
              "    .dataframe tbody tr th:only-of-type {\n",
              "        vertical-align: middle;\n",
              "    }\n",
              "\n",
              "    .dataframe tbody tr th {\n",
              "        vertical-align: top;\n",
              "    }\n",
              "\n",
              "    .dataframe thead th {\n",
              "        text-align: right;\n",
              "    }\n",
              "</style>\n",
              "<table border=\"1\" class=\"dataframe\">\n",
              "  <thead>\n",
              "    <tr style=\"text-align: right;\">\n",
              "      <th></th>\n",
              "      <th>Edad</th>\n",
              "    </tr>\n",
              "  </thead>\n",
              "  <tbody>\n",
              "    <tr>\n",
              "      <th>count</th>\n",
              "      <td>3.0</td>\n",
              "    </tr>\n",
              "    <tr>\n",
              "      <th>mean</th>\n",
              "      <td>30.0</td>\n",
              "    </tr>\n",
              "    <tr>\n",
              "      <th>std</th>\n",
              "      <td>5.0</td>\n",
              "    </tr>\n",
              "    <tr>\n",
              "      <th>min</th>\n",
              "      <td>25.0</td>\n",
              "    </tr>\n",
              "    <tr>\n",
              "      <th>25%</th>\n",
              "      <td>27.5</td>\n",
              "    </tr>\n",
              "    <tr>\n",
              "      <th>50%</th>\n",
              "      <td>30.0</td>\n",
              "    </tr>\n",
              "    <tr>\n",
              "      <th>75%</th>\n",
              "      <td>32.5</td>\n",
              "    </tr>\n",
              "    <tr>\n",
              "      <th>max</th>\n",
              "      <td>35.0</td>\n",
              "    </tr>\n",
              "  </tbody>\n",
              "</table>\n",
              "</div>"
            ],
            "text/plain": [
              "       Edad\n",
              "count   3.0\n",
              "mean   30.0\n",
              "std     5.0\n",
              "min    25.0\n",
              "25%    27.5\n",
              "50%    30.0\n",
              "75%    32.5\n",
              "max    35.0"
            ]
          },
          "metadata": {},
          "execution_count": 15
        }
      ]
    },
    {
      "cell_type": "code",
      "metadata": {
        "id": "Pk5gLFPxS51h",
        "colab": {
          "base_uri": "https://localhost:8080/",
          "height": 175
        },
        "outputId": "794a9d8d-cdb5-4fac-c2d6-075dedb922cc"
      },
      "source": [
        "#NUEVO\n",
        "#Paso 9. Queremos copiar nuestro dataframe a uno nuevo, lo podemos hacer de dos maneras.\n",
        "df1=alumnos\n",
        "df1\n",
        "df2=alumnos.copy()\n",
        "df2"
      ],
      "execution_count": null,
      "outputs": [
        {
          "output_type": "execute_result",
          "data": {
            "text/html": [
              "<div>\n",
              "<style scoped>\n",
              "    .dataframe tbody tr th:only-of-type {\n",
              "        vertical-align: middle;\n",
              "    }\n",
              "\n",
              "    .dataframe tbody tr th {\n",
              "        vertical-align: top;\n",
              "    }\n",
              "\n",
              "    .dataframe thead th {\n",
              "        text-align: right;\n",
              "    }\n",
              "</style>\n",
              "<table border=\"1\" class=\"dataframe\">\n",
              "  <thead>\n",
              "    <tr style=\"text-align: right;\">\n",
              "      <th></th>\n",
              "      <th>Nombre</th>\n",
              "      <th>Empresa</th>\n",
              "      <th>Edad</th>\n",
              "      <th>Puesto_Empresa</th>\n",
              "    </tr>\n",
              "    <tr>\n",
              "      <th>Id_Usuario</th>\n",
              "      <th></th>\n",
              "      <th></th>\n",
              "      <th></th>\n",
              "      <th></th>\n",
              "    </tr>\n",
              "  </thead>\n",
              "  <tbody>\n",
              "    <tr>\n",
              "      <th>1</th>\n",
              "      <td>Julian</td>\n",
              "      <td>Eci</td>\n",
              "      <td>25</td>\n",
              "      <td>CDO</td>\n",
              "    </tr>\n",
              "    <tr>\n",
              "      <th>2</th>\n",
              "      <td>Maria</td>\n",
              "      <td>Bankia</td>\n",
              "      <td>30</td>\n",
              "      <td>NaN</td>\n",
              "    </tr>\n",
              "    <tr>\n",
              "      <th>3</th>\n",
              "      <td>Gonzalo</td>\n",
              "      <td>BBVA</td>\n",
              "      <td>35</td>\n",
              "      <td>Data Engineering</td>\n",
              "    </tr>\n",
              "  </tbody>\n",
              "</table>\n",
              "</div>"
            ],
            "text/plain": [
              "             Nombre Empresa  Edad    Puesto_Empresa\n",
              "Id_Usuario                                         \n",
              "1            Julian     Eci    25               CDO\n",
              "2             Maria  Bankia    30               NaN\n",
              "3           Gonzalo    BBVA    35  Data Engineering"
            ]
          },
          "metadata": {},
          "execution_count": 16
        }
      ]
    },
    {
      "cell_type": "code",
      "metadata": {
        "id": "qXYVc520S51h",
        "colab": {
          "base_uri": "https://localhost:8080/"
        },
        "outputId": "252c3bad-61f9-4def-8c07-cb1fc5646946"
      },
      "source": [
        "#REPASO\n",
        "#Paso 10.1. Como visualizar un dataframe. Primero vamos a seleccionar solo la columna Empresa.\n",
        "alumnos[\"Empresa\"]"
      ],
      "execution_count": null,
      "outputs": [
        {
          "output_type": "execute_result",
          "data": {
            "text/plain": [
              "Id_Usuario\n",
              "1       Eci\n",
              "2    Bankia\n",
              "3      BBVA\n",
              "Name: Empresa, dtype: object"
            ]
          },
          "metadata": {},
          "execution_count": 17
        }
      ]
    },
    {
      "cell_type": "code",
      "metadata": {
        "id": "HkI1VxBnjcLz",
        "colab": {
          "base_uri": "https://localhost:8080/",
          "height": 175
        },
        "outputId": "bdfa1766-287d-48af-fa1f-21ba4d951fef"
      },
      "source": [
        "alumnos"
      ],
      "execution_count": null,
      "outputs": [
        {
          "output_type": "execute_result",
          "data": {
            "text/html": [
              "<div>\n",
              "<style scoped>\n",
              "    .dataframe tbody tr th:only-of-type {\n",
              "        vertical-align: middle;\n",
              "    }\n",
              "\n",
              "    .dataframe tbody tr th {\n",
              "        vertical-align: top;\n",
              "    }\n",
              "\n",
              "    .dataframe thead th {\n",
              "        text-align: right;\n",
              "    }\n",
              "</style>\n",
              "<table border=\"1\" class=\"dataframe\">\n",
              "  <thead>\n",
              "    <tr style=\"text-align: right;\">\n",
              "      <th></th>\n",
              "      <th>Nombre</th>\n",
              "      <th>Empresa</th>\n",
              "      <th>Edad</th>\n",
              "      <th>Puesto_Empresa</th>\n",
              "    </tr>\n",
              "    <tr>\n",
              "      <th>Id_Usuario</th>\n",
              "      <th></th>\n",
              "      <th></th>\n",
              "      <th></th>\n",
              "      <th></th>\n",
              "    </tr>\n",
              "  </thead>\n",
              "  <tbody>\n",
              "    <tr>\n",
              "      <th>1</th>\n",
              "      <td>Julian</td>\n",
              "      <td>Eci</td>\n",
              "      <td>25</td>\n",
              "      <td>CDO</td>\n",
              "    </tr>\n",
              "    <tr>\n",
              "      <th>2</th>\n",
              "      <td>Maria</td>\n",
              "      <td>Bankia</td>\n",
              "      <td>30</td>\n",
              "      <td>NaN</td>\n",
              "    </tr>\n",
              "    <tr>\n",
              "      <th>3</th>\n",
              "      <td>Gonzalo</td>\n",
              "      <td>BBVA</td>\n",
              "      <td>35</td>\n",
              "      <td>Data Engineering</td>\n",
              "    </tr>\n",
              "  </tbody>\n",
              "</table>\n",
              "</div>"
            ],
            "text/plain": [
              "             Nombre Empresa  Edad    Puesto_Empresa\n",
              "Id_Usuario                                         \n",
              "1            Julian     Eci    25               CDO\n",
              "2             Maria  Bankia    30               NaN\n",
              "3           Gonzalo    BBVA    35  Data Engineering"
            ]
          },
          "metadata": {},
          "execution_count": 18
        }
      ]
    },
    {
      "cell_type": "code",
      "metadata": {
        "id": "G3wOE2ocS51i",
        "colab": {
          "base_uri": "https://localhost:8080/",
          "height": 35
        },
        "outputId": "83e886cb-3446-4935-c563-e95763539996"
      },
      "source": [
        "#REPASO\n",
        "#Paso 10.2. Como visualizar un dataframe. Vamos a seleccionar los valores de la fila dos, columna EMPRESA. Usaremos loc para eso.\n",
        "alumnos_duplicados.loc[\"2\",\"Empresa\"]"
      ],
      "execution_count": null,
      "outputs": [
        {
          "output_type": "execute_result",
          "data": {
            "application/vnd.google.colaboratory.intrinsic+json": {
              "type": "string"
            },
            "text/plain": [
              "'Bankia'"
            ]
          },
          "metadata": {},
          "execution_count": 19
        }
      ]
    },
    {
      "cell_type": "code",
      "metadata": {
        "id": "Q1zc2ZelS51i",
        "colab": {
          "base_uri": "https://localhost:8080/",
          "height": 35
        },
        "outputId": "cb759882-b312-4e6a-82ca-953f82024aa8"
      },
      "source": [
        "#REPASO\n",
        "#Paso 10.2. Como visualizar un dataframe. Vamos a seleccionar los valores de la fila dos, columna EMPRESA. Usaremos iloc para eso.\n",
        "alumnos.iloc[0,1]"
      ],
      "execution_count": null,
      "outputs": [
        {
          "output_type": "execute_result",
          "data": {
            "application/vnd.google.colaboratory.intrinsic+json": {
              "type": "string"
            },
            "text/plain": [
              "'Eci'"
            ]
          },
          "metadata": {},
          "execution_count": 20
        }
      ]
    },
    {
      "cell_type": "code",
      "metadata": {
        "id": "3X-ucModS51i",
        "colab": {
          "base_uri": "https://localhost:8080/",
          "height": 35
        },
        "outputId": "a316d9c2-6d52-4a13-e407-aea969b10932"
      },
      "source": [
        "#NUEVO\n",
        "#Paso 10.3. Como visualizar un dataframe. Vamos a seleccionar los valores de la fila dos, columna EMPRESA. Usaremos values para eso.\n",
        "alumnos.values[1][1]"
      ],
      "execution_count": null,
      "outputs": [
        {
          "output_type": "execute_result",
          "data": {
            "application/vnd.google.colaboratory.intrinsic+json": {
              "type": "string"
            },
            "text/plain": [
              "'Bankia'"
            ]
          },
          "metadata": {},
          "execution_count": 21
        }
      ]
    },
    {
      "cell_type": "code",
      "metadata": {
        "id": "_lr3kR8BS51j",
        "colab": {
          "base_uri": "https://localhost:8080/"
        },
        "outputId": "48b9c954-f319-4d32-c4ba-4545a465ffeb"
      },
      "source": [
        "#NUEVO\n",
        "#Paso 10.4. Si queremos ver los valores unicos hay varias maneras.\n",
        "#Primero sabiendo solo los valores diferentes de una solo columna.\n",
        "#Para ello usamos unique, que nos permite diferenciar dichos valores\n",
        "alumnos[\"Empresa\"].unique()"
      ],
      "execution_count": null,
      "outputs": [
        {
          "output_type": "execute_result",
          "data": {
            "text/plain": [
              "array(['Eci', 'Bankia', 'BBVA'], dtype=object)"
            ]
          },
          "metadata": {},
          "execution_count": 22
        }
      ]
    },
    {
      "cell_type": "code",
      "metadata": {
        "id": "VMO1BcpoS51j",
        "colab": {
          "base_uri": "https://localhost:8080/"
        },
        "outputId": "d503ffa2-f257-4b54-b59f-ae229d2fe271"
      },
      "source": [
        "#NUEVO\n",
        "#Paso 10.5. Si queremos ver los valores unicos hay varias maneras.\n",
        "#Segundo sabiendo el número de los valores únicos por columna.\n",
        "#En este caso usamos nunique\n",
        "alumnos[\"Empresa\"].nunique()"
      ],
      "execution_count": null,
      "outputs": [
        {
          "output_type": "execute_result",
          "data": {
            "text/plain": [
              "3"
            ]
          },
          "metadata": {},
          "execution_count": 23
        }
      ]
    },
    {
      "cell_type": "code",
      "metadata": {
        "id": "7mMQ5saMkmf3",
        "colab": {
          "base_uri": "https://localhost:8080/",
          "height": 175
        },
        "outputId": "68b64f2c-87c6-4808-c004-f14f58ce9eeb"
      },
      "source": [
        "alumnos"
      ],
      "execution_count": null,
      "outputs": [
        {
          "output_type": "execute_result",
          "data": {
            "text/html": [
              "<div>\n",
              "<style scoped>\n",
              "    .dataframe tbody tr th:only-of-type {\n",
              "        vertical-align: middle;\n",
              "    }\n",
              "\n",
              "    .dataframe tbody tr th {\n",
              "        vertical-align: top;\n",
              "    }\n",
              "\n",
              "    .dataframe thead th {\n",
              "        text-align: right;\n",
              "    }\n",
              "</style>\n",
              "<table border=\"1\" class=\"dataframe\">\n",
              "  <thead>\n",
              "    <tr style=\"text-align: right;\">\n",
              "      <th></th>\n",
              "      <th>Nombre</th>\n",
              "      <th>Empresa</th>\n",
              "      <th>Edad</th>\n",
              "      <th>Puesto_Empresa</th>\n",
              "    </tr>\n",
              "    <tr>\n",
              "      <th>Id_Usuario</th>\n",
              "      <th></th>\n",
              "      <th></th>\n",
              "      <th></th>\n",
              "      <th></th>\n",
              "    </tr>\n",
              "  </thead>\n",
              "  <tbody>\n",
              "    <tr>\n",
              "      <th>1</th>\n",
              "      <td>Julian</td>\n",
              "      <td>Eci</td>\n",
              "      <td>25</td>\n",
              "      <td>CDO</td>\n",
              "    </tr>\n",
              "    <tr>\n",
              "      <th>2</th>\n",
              "      <td>Maria</td>\n",
              "      <td>Bankia</td>\n",
              "      <td>30</td>\n",
              "      <td>NaN</td>\n",
              "    </tr>\n",
              "    <tr>\n",
              "      <th>3</th>\n",
              "      <td>Gonzalo</td>\n",
              "      <td>BBVA</td>\n",
              "      <td>35</td>\n",
              "      <td>Data Engineering</td>\n",
              "    </tr>\n",
              "  </tbody>\n",
              "</table>\n",
              "</div>"
            ],
            "text/plain": [
              "             Nombre Empresa  Edad    Puesto_Empresa\n",
              "Id_Usuario                                         \n",
              "1            Julian     Eci    25               CDO\n",
              "2             Maria  Bankia    30               NaN\n",
              "3           Gonzalo    BBVA    35  Data Engineering"
            ]
          },
          "metadata": {},
          "execution_count": 24
        }
      ]
    },
    {
      "cell_type": "code",
      "metadata": {
        "id": "PgtE0UFiS51j",
        "colab": {
          "base_uri": "https://localhost:8080/",
          "height": 175
        },
        "outputId": "ff3d6015-dc8e-4afc-95e8-623192b9f699"
      },
      "source": [
        "#REPASO\n",
        "#Paso 11.1. Modificar datos. Vamos a actualizar la información del valor que hay en la fila 3, Columna Nomnbre. Usaremos loc para eso.\n",
        "# Lo vamos a cambiar por Lucia\n",
        "alumnos.loc[3,\"Nombre\"]=\"Lucia\"\n",
        "alumnos"
      ],
      "execution_count": null,
      "outputs": [
        {
          "output_type": "execute_result",
          "data": {
            "text/html": [
              "<div>\n",
              "<style scoped>\n",
              "    .dataframe tbody tr th:only-of-type {\n",
              "        vertical-align: middle;\n",
              "    }\n",
              "\n",
              "    .dataframe tbody tr th {\n",
              "        vertical-align: top;\n",
              "    }\n",
              "\n",
              "    .dataframe thead th {\n",
              "        text-align: right;\n",
              "    }\n",
              "</style>\n",
              "<table border=\"1\" class=\"dataframe\">\n",
              "  <thead>\n",
              "    <tr style=\"text-align: right;\">\n",
              "      <th></th>\n",
              "      <th>Nombre</th>\n",
              "      <th>Empresa</th>\n",
              "      <th>Edad</th>\n",
              "      <th>Puesto_Empresa</th>\n",
              "    </tr>\n",
              "    <tr>\n",
              "      <th>Id_Usuario</th>\n",
              "      <th></th>\n",
              "      <th></th>\n",
              "      <th></th>\n",
              "      <th></th>\n",
              "    </tr>\n",
              "  </thead>\n",
              "  <tbody>\n",
              "    <tr>\n",
              "      <th>1</th>\n",
              "      <td>Julian</td>\n",
              "      <td>Eci</td>\n",
              "      <td>25</td>\n",
              "      <td>CDO</td>\n",
              "    </tr>\n",
              "    <tr>\n",
              "      <th>2</th>\n",
              "      <td>Maria</td>\n",
              "      <td>Bankia</td>\n",
              "      <td>30</td>\n",
              "      <td>NaN</td>\n",
              "    </tr>\n",
              "    <tr>\n",
              "      <th>3</th>\n",
              "      <td>Lucia</td>\n",
              "      <td>BBVA</td>\n",
              "      <td>35</td>\n",
              "      <td>Data Engineering</td>\n",
              "    </tr>\n",
              "  </tbody>\n",
              "</table>\n",
              "</div>"
            ],
            "text/plain": [
              "            Nombre Empresa  Edad    Puesto_Empresa\n",
              "Id_Usuario                                        \n",
              "1           Julian     Eci    25               CDO\n",
              "2            Maria  Bankia    30               NaN\n",
              "3            Lucia    BBVA    35  Data Engineering"
            ]
          },
          "metadata": {},
          "execution_count": 25
        }
      ]
    },
    {
      "cell_type": "code",
      "metadata": {
        "id": "7HsiDn0US51k",
        "colab": {
          "base_uri": "https://localhost:8080/",
          "height": 175
        },
        "outputId": "df88c3bb-61da-4562-977b-ee3a4fe5b457"
      },
      "source": [
        "#REPASO\n",
        "#Paso 11.2. Modificar datos. Vamos a actualizar la información del valor que hay en la fila 3, Columna Empresa. Usaremos iloc para eso.\n",
        "# Lo vamos a cambiar por TheValley\n",
        "alumnos.iloc[2,1]=\"TheValley\"\n",
        "alumnos"
      ],
      "execution_count": null,
      "outputs": [
        {
          "output_type": "execute_result",
          "data": {
            "text/html": [
              "<div>\n",
              "<style scoped>\n",
              "    .dataframe tbody tr th:only-of-type {\n",
              "        vertical-align: middle;\n",
              "    }\n",
              "\n",
              "    .dataframe tbody tr th {\n",
              "        vertical-align: top;\n",
              "    }\n",
              "\n",
              "    .dataframe thead th {\n",
              "        text-align: right;\n",
              "    }\n",
              "</style>\n",
              "<table border=\"1\" class=\"dataframe\">\n",
              "  <thead>\n",
              "    <tr style=\"text-align: right;\">\n",
              "      <th></th>\n",
              "      <th>Nombre</th>\n",
              "      <th>Empresa</th>\n",
              "      <th>Edad</th>\n",
              "      <th>Puesto_Empresa</th>\n",
              "    </tr>\n",
              "    <tr>\n",
              "      <th>Id_Usuario</th>\n",
              "      <th></th>\n",
              "      <th></th>\n",
              "      <th></th>\n",
              "      <th></th>\n",
              "    </tr>\n",
              "  </thead>\n",
              "  <tbody>\n",
              "    <tr>\n",
              "      <th>1</th>\n",
              "      <td>Julian</td>\n",
              "      <td>Eci</td>\n",
              "      <td>25</td>\n",
              "      <td>CDO</td>\n",
              "    </tr>\n",
              "    <tr>\n",
              "      <th>2</th>\n",
              "      <td>Maria</td>\n",
              "      <td>Bankia</td>\n",
              "      <td>30</td>\n",
              "      <td>NaN</td>\n",
              "    </tr>\n",
              "    <tr>\n",
              "      <th>3</th>\n",
              "      <td>Lucia</td>\n",
              "      <td>TheValley</td>\n",
              "      <td>35</td>\n",
              "      <td>Data Engineering</td>\n",
              "    </tr>\n",
              "  </tbody>\n",
              "</table>\n",
              "</div>"
            ],
            "text/plain": [
              "            Nombre    Empresa  Edad    Puesto_Empresa\n",
              "Id_Usuario                                           \n",
              "1           Julian        Eci    25               CDO\n",
              "2            Maria     Bankia    30               NaN\n",
              "3            Lucia  TheValley    35  Data Engineering"
            ]
          },
          "metadata": {},
          "execution_count": 26
        }
      ]
    },
    {
      "cell_type": "code",
      "metadata": {
        "id": "CCvswK0yS51k",
        "colab": {
          "base_uri": "https://localhost:8080/",
          "height": 175
        },
        "outputId": "ab66d7c0-dd20-48bd-9dd6-868c1218e2cf"
      },
      "source": [
        "#REPASO\n",
        "#Paso 11.3. Modificar datos. Vamos a actualizar la información del valor que hay en la fila 3, Columna Edad. Usaremos at para eso.\n",
        "# Lo vamos a cambiar por 50\n",
        "alumnos.at[3,'Edad']=50\n",
        "alumnos"
      ],
      "execution_count": null,
      "outputs": [
        {
          "output_type": "execute_result",
          "data": {
            "text/html": [
              "<div>\n",
              "<style scoped>\n",
              "    .dataframe tbody tr th:only-of-type {\n",
              "        vertical-align: middle;\n",
              "    }\n",
              "\n",
              "    .dataframe tbody tr th {\n",
              "        vertical-align: top;\n",
              "    }\n",
              "\n",
              "    .dataframe thead th {\n",
              "        text-align: right;\n",
              "    }\n",
              "</style>\n",
              "<table border=\"1\" class=\"dataframe\">\n",
              "  <thead>\n",
              "    <tr style=\"text-align: right;\">\n",
              "      <th></th>\n",
              "      <th>Nombre</th>\n",
              "      <th>Empresa</th>\n",
              "      <th>Edad</th>\n",
              "      <th>Puesto_Empresa</th>\n",
              "    </tr>\n",
              "    <tr>\n",
              "      <th>Id_Usuario</th>\n",
              "      <th></th>\n",
              "      <th></th>\n",
              "      <th></th>\n",
              "      <th></th>\n",
              "    </tr>\n",
              "  </thead>\n",
              "  <tbody>\n",
              "    <tr>\n",
              "      <th>1</th>\n",
              "      <td>Julian</td>\n",
              "      <td>Eci</td>\n",
              "      <td>25</td>\n",
              "      <td>CDO</td>\n",
              "    </tr>\n",
              "    <tr>\n",
              "      <th>2</th>\n",
              "      <td>Maria</td>\n",
              "      <td>Bankia</td>\n",
              "      <td>30</td>\n",
              "      <td>NaN</td>\n",
              "    </tr>\n",
              "    <tr>\n",
              "      <th>3</th>\n",
              "      <td>Lucia</td>\n",
              "      <td>TheValley</td>\n",
              "      <td>50</td>\n",
              "      <td>Data Engineering</td>\n",
              "    </tr>\n",
              "  </tbody>\n",
              "</table>\n",
              "</div>"
            ],
            "text/plain": [
              "            Nombre    Empresa  Edad    Puesto_Empresa\n",
              "Id_Usuario                                           \n",
              "1           Julian        Eci    25               CDO\n",
              "2            Maria     Bankia    30               NaN\n",
              "3            Lucia  TheValley    50  Data Engineering"
            ]
          },
          "metadata": {},
          "execution_count": 27
        }
      ]
    },
    {
      "cell_type": "code",
      "metadata": {
        "colab": {
          "base_uri": "https://localhost:8080/",
          "height": 175
        },
        "id": "UScwPZxYS51k",
        "outputId": "b3902781-5646-4a36-f1cf-5374f407a135"
      },
      "source": [
        "#REPASO\n",
        "#Paso 12.1. Buscar información. Mediante isin() podemos buscar valores de un dataframe dentro de otro df.\n",
        "#Vamos a buscar en alumnos que valores hay de alumnos_duplicados\n",
        "alumnos.isin(alumnos_duplicados)"
      ],
      "execution_count": null,
      "outputs": [
        {
          "output_type": "execute_result",
          "data": {
            "text/html": [
              "<div>\n",
              "<style scoped>\n",
              "    .dataframe tbody tr th:only-of-type {\n",
              "        vertical-align: middle;\n",
              "    }\n",
              "\n",
              "    .dataframe tbody tr th {\n",
              "        vertical-align: top;\n",
              "    }\n",
              "\n",
              "    .dataframe thead th {\n",
              "        text-align: right;\n",
              "    }\n",
              "</style>\n",
              "<table border=\"1\" class=\"dataframe\">\n",
              "  <thead>\n",
              "    <tr style=\"text-align: right;\">\n",
              "      <th></th>\n",
              "      <th>Nombre</th>\n",
              "      <th>Empresa</th>\n",
              "      <th>Edad</th>\n",
              "      <th>Puesto_Empresa</th>\n",
              "    </tr>\n",
              "    <tr>\n",
              "      <th>Id_Usuario</th>\n",
              "      <th></th>\n",
              "      <th></th>\n",
              "      <th></th>\n",
              "      <th></th>\n",
              "    </tr>\n",
              "  </thead>\n",
              "  <tbody>\n",
              "    <tr>\n",
              "      <th>1</th>\n",
              "      <td>False</td>\n",
              "      <td>False</td>\n",
              "      <td>False</td>\n",
              "      <td>False</td>\n",
              "    </tr>\n",
              "    <tr>\n",
              "      <th>2</th>\n",
              "      <td>False</td>\n",
              "      <td>False</td>\n",
              "      <td>False</td>\n",
              "      <td>False</td>\n",
              "    </tr>\n",
              "    <tr>\n",
              "      <th>3</th>\n",
              "      <td>False</td>\n",
              "      <td>False</td>\n",
              "      <td>False</td>\n",
              "      <td>False</td>\n",
              "    </tr>\n",
              "  </tbody>\n",
              "</table>\n",
              "</div>"
            ],
            "text/plain": [
              "            Nombre  Empresa   Edad  Puesto_Empresa\n",
              "Id_Usuario                                        \n",
              "1            False    False  False           False\n",
              "2            False    False  False           False\n",
              "3            False    False  False           False"
            ]
          },
          "metadata": {},
          "execution_count": 28
        }
      ]
    },
    {
      "cell_type": "code",
      "metadata": {
        "id": "quC4TCI2S51k",
        "colab": {
          "base_uri": "https://localhost:8080/",
          "height": 175
        },
        "outputId": "cdc26a05-924b-4c48-a5fd-c14f92e62262"
      },
      "source": [
        "#REPASO\n",
        "#Paso 12.2. Buscar información. Si queremos pasarle una simple cadena la tenemos que meter como si fuera un array. También con isin()\n",
        "#Buscar la cadena Gonzalo\n",
        "alumnos.isin([\"Julian\"])"
      ],
      "execution_count": null,
      "outputs": [
        {
          "output_type": "execute_result",
          "data": {
            "text/html": [
              "<div>\n",
              "<style scoped>\n",
              "    .dataframe tbody tr th:only-of-type {\n",
              "        vertical-align: middle;\n",
              "    }\n",
              "\n",
              "    .dataframe tbody tr th {\n",
              "        vertical-align: top;\n",
              "    }\n",
              "\n",
              "    .dataframe thead th {\n",
              "        text-align: right;\n",
              "    }\n",
              "</style>\n",
              "<table border=\"1\" class=\"dataframe\">\n",
              "  <thead>\n",
              "    <tr style=\"text-align: right;\">\n",
              "      <th></th>\n",
              "      <th>Nombre</th>\n",
              "      <th>Empresa</th>\n",
              "      <th>Edad</th>\n",
              "      <th>Puesto_Empresa</th>\n",
              "    </tr>\n",
              "    <tr>\n",
              "      <th>Id_Usuario</th>\n",
              "      <th></th>\n",
              "      <th></th>\n",
              "      <th></th>\n",
              "      <th></th>\n",
              "    </tr>\n",
              "  </thead>\n",
              "  <tbody>\n",
              "    <tr>\n",
              "      <th>1</th>\n",
              "      <td>True</td>\n",
              "      <td>False</td>\n",
              "      <td>False</td>\n",
              "      <td>False</td>\n",
              "    </tr>\n",
              "    <tr>\n",
              "      <th>2</th>\n",
              "      <td>False</td>\n",
              "      <td>False</td>\n",
              "      <td>False</td>\n",
              "      <td>False</td>\n",
              "    </tr>\n",
              "    <tr>\n",
              "      <th>3</th>\n",
              "      <td>False</td>\n",
              "      <td>False</td>\n",
              "      <td>False</td>\n",
              "      <td>False</td>\n",
              "    </tr>\n",
              "  </tbody>\n",
              "</table>\n",
              "</div>"
            ],
            "text/plain": [
              "            Nombre  Empresa   Edad  Puesto_Empresa\n",
              "Id_Usuario                                        \n",
              "1             True    False  False           False\n",
              "2            False    False  False           False\n",
              "3            False    False  False           False"
            ]
          },
          "metadata": {},
          "execution_count": 29
        }
      ]
    },
    {
      "cell_type": "code",
      "metadata": {
        "colab": {
          "base_uri": "https://localhost:8080/",
          "height": 142
        },
        "id": "8n8J7Ij1Cyef",
        "outputId": "afd7186d-cd11-4048-a1f0-96dcc0b948e1"
      },
      "source": [
        "#REPASO APPLY/MAP\n",
        "#1. Vamos a crear un nuevo dataframe llamada prueba_map\n",
        "#.  El dataframe va a estar formado por dos columnas llamadas:\n",
        "# - Ingresos - Valores: 100,50,25\n",
        "# - Num_Transferencias_Realizadas - Valores: 4,10,25\n",
        "prueba_map = pd.DataFrame({\"Ingresos\":[100,50,25],\"Num_Transferencias_Realizadas\": [4,10,25]})\n",
        "prueba_map"
      ],
      "execution_count": null,
      "outputs": [
        {
          "output_type": "execute_result",
          "data": {
            "text/html": [
              "<div>\n",
              "<style scoped>\n",
              "    .dataframe tbody tr th:only-of-type {\n",
              "        vertical-align: middle;\n",
              "    }\n",
              "\n",
              "    .dataframe tbody tr th {\n",
              "        vertical-align: top;\n",
              "    }\n",
              "\n",
              "    .dataframe thead th {\n",
              "        text-align: right;\n",
              "    }\n",
              "</style>\n",
              "<table border=\"1\" class=\"dataframe\">\n",
              "  <thead>\n",
              "    <tr style=\"text-align: right;\">\n",
              "      <th></th>\n",
              "      <th>Ingresos</th>\n",
              "      <th>Num_Transferencias_Realizadas</th>\n",
              "    </tr>\n",
              "  </thead>\n",
              "  <tbody>\n",
              "    <tr>\n",
              "      <th>0</th>\n",
              "      <td>100</td>\n",
              "      <td>4</td>\n",
              "    </tr>\n",
              "    <tr>\n",
              "      <th>1</th>\n",
              "      <td>50</td>\n",
              "      <td>10</td>\n",
              "    </tr>\n",
              "    <tr>\n",
              "      <th>2</th>\n",
              "      <td>25</td>\n",
              "      <td>25</td>\n",
              "    </tr>\n",
              "  </tbody>\n",
              "</table>\n",
              "</div>"
            ],
            "text/plain": [
              "   Ingresos  Num_Transferencias_Realizadas\n",
              "0       100                              4\n",
              "1        50                             10\n",
              "2        25                             25"
            ]
          },
          "metadata": {
            "tags": []
          },
          "execution_count": 6
        }
      ]
    },
    {
      "cell_type": "code",
      "metadata": {
        "id": "_C6U73wmbkU8"
      },
      "source": [
        "#2. Por otro lado, vamos a crear una función nueva que la vamos a llamar sumar_cinco y le vamos a pasar un parámetro al cual se le va a sumar cinco\n",
        "def sumar_cinco(x):\n",
        "  return x+5\n"
      ],
      "execution_count": null,
      "outputs": []
    },
    {
      "cell_type": "code",
      "metadata": {
        "colab": {
          "base_uri": "https://localhost:8080/"
        },
        "id": "SEPSXxXve93i",
        "outputId": "6d381fe1-e6c0-4991-b7ba-c204cfe4daf4"
      },
      "source": [
        "#3. Ahora vamos a aplicar dicha función a una de nuestras columnas. La col ingresos\n",
        "prueba_map.Ingresos.map(sumar_cinco)"
      ],
      "execution_count": null,
      "outputs": [
        {
          "output_type": "execute_result",
          "data": {
            "text/plain": [
              "0    105\n",
              "1     55\n",
              "2     30\n",
              "Name: Ingresos, dtype: int64"
            ]
          },
          "metadata": {
            "tags": []
          },
          "execution_count": 8
        }
      ]
    },
    {
      "cell_type": "code",
      "metadata": {
        "colab": {
          "base_uri": "https://localhost:8080/",
          "height": 142
        },
        "id": "zAmD0RPbfQb_",
        "outputId": "56cb642a-5138-4711-d47e-78f2f259e922"
      },
      "source": [
        "#4. ¿Que pasa si lo hacemos con apply en vez de que con Map?\n",
        "prueba_map.apply(sumar_cinco)"
      ],
      "execution_count": null,
      "outputs": [
        {
          "output_type": "execute_result",
          "data": {
            "text/html": [
              "<div>\n",
              "<style scoped>\n",
              "    .dataframe tbody tr th:only-of-type {\n",
              "        vertical-align: middle;\n",
              "    }\n",
              "\n",
              "    .dataframe tbody tr th {\n",
              "        vertical-align: top;\n",
              "    }\n",
              "\n",
              "    .dataframe thead th {\n",
              "        text-align: right;\n",
              "    }\n",
              "</style>\n",
              "<table border=\"1\" class=\"dataframe\">\n",
              "  <thead>\n",
              "    <tr style=\"text-align: right;\">\n",
              "      <th></th>\n",
              "      <th>Ingresos</th>\n",
              "      <th>Num_Transferencias_Realizadas</th>\n",
              "    </tr>\n",
              "  </thead>\n",
              "  <tbody>\n",
              "    <tr>\n",
              "      <th>0</th>\n",
              "      <td>105</td>\n",
              "      <td>9</td>\n",
              "    </tr>\n",
              "    <tr>\n",
              "      <th>1</th>\n",
              "      <td>55</td>\n",
              "      <td>15</td>\n",
              "    </tr>\n",
              "    <tr>\n",
              "      <th>2</th>\n",
              "      <td>30</td>\n",
              "      <td>30</td>\n",
              "    </tr>\n",
              "  </tbody>\n",
              "</table>\n",
              "</div>"
            ],
            "text/plain": [
              "   Ingresos  Num_Transferencias_Realizadas\n",
              "0       105                              9\n",
              "1        55                             15\n",
              "2        30                             30"
            ]
          },
          "metadata": {
            "tags": []
          },
          "execution_count": 9
        }
      ]
    },
    {
      "cell_type": "code",
      "metadata": {
        "colab": {
          "base_uri": "https://localhost:8080/"
        },
        "id": "zhGZoAT2fZmi",
        "outputId": "112486ff-06c3-413d-d8e1-50342e4434af"
      },
      "source": [
        "#5. Vamos a crear un nuevo dataframe, llamado prueba_error, que tenga una columna más con texto\n",
        "prueba_error = pd.DataFrame({\"Ingresos\":[100,50,25],\"Num_Transferencias_Realizadas\": [4,10,25], \"Cuenta_Bancaria\":[\"XXQ\",\"BAS\",\"PKI\"]})\n",
        "prueba_error.dtypes"
      ],
      "execution_count": null,
      "outputs": [
        {
          "output_type": "execute_result",
          "data": {
            "text/plain": [
              "Ingresos                          int64\n",
              "Num_Transferencias_Realizadas     int64\n",
              "Cuenta_Bancaria                  object\n",
              "dtype: object"
            ]
          },
          "metadata": {
            "tags": []
          },
          "execution_count": 10
        }
      ]
    },
    {
      "cell_type": "code",
      "metadata": {
        "colab": {
          "base_uri": "https://localhost:8080/",
          "height": 455
        },
        "id": "hz4qfEeYfquy",
        "outputId": "8b3abefe-bbaf-4bfc-f445-379c367c225f"
      },
      "source": [
        "#6. Ahora vamos a aplicar el apply otra vez para ver que ocurre\n",
        "prueba_error.apply(sumar_cinco)\n",
        "#En este caso da error porque logicamente una de nuestra columnas es un string y no funciona, pero podemos arreglar esto en nuestra función"
      ],
      "execution_count": null,
      "outputs": [
        {
          "output_type": "error",
          "ename": "TypeError",
          "evalue": "ignored",
          "traceback": [
            "\u001b[0;31m---------------------------------------------------------------------------\u001b[0m",
            "\u001b[0;31mTypeError\u001b[0m                                 Traceback (most recent call last)",
            "\u001b[0;32m/usr/local/lib/python3.7/dist-packages/pandas/core/ops/array_ops.py\u001b[0m in \u001b[0;36mna_arithmetic_op\u001b[0;34m(left, right, op, is_cmp)\u001b[0m\n\u001b[1;32m    142\u001b[0m     \u001b[0;32mtry\u001b[0m\u001b[0;34m:\u001b[0m\u001b[0;34m\u001b[0m\u001b[0;34m\u001b[0m\u001b[0m\n\u001b[0;32m--> 143\u001b[0;31m         \u001b[0mresult\u001b[0m \u001b[0;34m=\u001b[0m \u001b[0mexpressions\u001b[0m\u001b[0;34m.\u001b[0m\u001b[0mevaluate\u001b[0m\u001b[0;34m(\u001b[0m\u001b[0mop\u001b[0m\u001b[0;34m,\u001b[0m \u001b[0mleft\u001b[0m\u001b[0;34m,\u001b[0m \u001b[0mright\u001b[0m\u001b[0;34m)\u001b[0m\u001b[0;34m\u001b[0m\u001b[0;34m\u001b[0m\u001b[0m\n\u001b[0m\u001b[1;32m    144\u001b[0m     \u001b[0;32mexcept\u001b[0m \u001b[0mTypeError\u001b[0m\u001b[0;34m:\u001b[0m\u001b[0;34m\u001b[0m\u001b[0;34m\u001b[0m\u001b[0m\n",
            "\u001b[0;32m/usr/local/lib/python3.7/dist-packages/pandas/core/computation/expressions.py\u001b[0m in \u001b[0;36mevaluate\u001b[0;34m(op, a, b, use_numexpr)\u001b[0m\n\u001b[1;32m    232\u001b[0m         \u001b[0;32mif\u001b[0m \u001b[0muse_numexpr\u001b[0m\u001b[0;34m:\u001b[0m\u001b[0;34m\u001b[0m\u001b[0;34m\u001b[0m\u001b[0m\n\u001b[0;32m--> 233\u001b[0;31m             \u001b[0;32mreturn\u001b[0m \u001b[0m_evaluate\u001b[0m\u001b[0;34m(\u001b[0m\u001b[0mop\u001b[0m\u001b[0;34m,\u001b[0m \u001b[0mop_str\u001b[0m\u001b[0;34m,\u001b[0m \u001b[0ma\u001b[0m\u001b[0;34m,\u001b[0m \u001b[0mb\u001b[0m\u001b[0;34m)\u001b[0m  \u001b[0;31m# type: ignore\u001b[0m\u001b[0;34m\u001b[0m\u001b[0;34m\u001b[0m\u001b[0m\n\u001b[0m\u001b[1;32m    234\u001b[0m     \u001b[0;32mreturn\u001b[0m \u001b[0m_evaluate_standard\u001b[0m\u001b[0;34m(\u001b[0m\u001b[0mop\u001b[0m\u001b[0;34m,\u001b[0m \u001b[0mop_str\u001b[0m\u001b[0;34m,\u001b[0m \u001b[0ma\u001b[0m\u001b[0;34m,\u001b[0m \u001b[0mb\u001b[0m\u001b[0;34m)\u001b[0m\u001b[0;34m\u001b[0m\u001b[0;34m\u001b[0m\u001b[0m\n",
            "\u001b[0;32m/usr/local/lib/python3.7/dist-packages/pandas/core/computation/expressions.py\u001b[0m in \u001b[0;36m_evaluate_numexpr\u001b[0;34m(op, op_str, a, b)\u001b[0m\n\u001b[1;32m    118\u001b[0m     \u001b[0;32mif\u001b[0m \u001b[0mresult\u001b[0m \u001b[0;32mis\u001b[0m \u001b[0;32mNone\u001b[0m\u001b[0;34m:\u001b[0m\u001b[0;34m\u001b[0m\u001b[0;34m\u001b[0m\u001b[0m\n\u001b[0;32m--> 119\u001b[0;31m         \u001b[0mresult\u001b[0m \u001b[0;34m=\u001b[0m \u001b[0m_evaluate_standard\u001b[0m\u001b[0;34m(\u001b[0m\u001b[0mop\u001b[0m\u001b[0;34m,\u001b[0m \u001b[0mop_str\u001b[0m\u001b[0;34m,\u001b[0m \u001b[0ma\u001b[0m\u001b[0;34m,\u001b[0m \u001b[0mb\u001b[0m\u001b[0;34m)\u001b[0m\u001b[0;34m\u001b[0m\u001b[0;34m\u001b[0m\u001b[0m\n\u001b[0m\u001b[1;32m    120\u001b[0m \u001b[0;34m\u001b[0m\u001b[0m\n",
            "\u001b[0;32m/usr/local/lib/python3.7/dist-packages/pandas/core/computation/expressions.py\u001b[0m in \u001b[0;36m_evaluate_standard\u001b[0;34m(op, op_str, a, b)\u001b[0m\n\u001b[1;32m     67\u001b[0m     \u001b[0;32mwith\u001b[0m \u001b[0mnp\u001b[0m\u001b[0;34m.\u001b[0m\u001b[0merrstate\u001b[0m\u001b[0;34m(\u001b[0m\u001b[0mall\u001b[0m\u001b[0;34m=\u001b[0m\u001b[0;34m\"ignore\"\u001b[0m\u001b[0;34m)\u001b[0m\u001b[0;34m:\u001b[0m\u001b[0;34m\u001b[0m\u001b[0;34m\u001b[0m\u001b[0m\n\u001b[0;32m---> 68\u001b[0;31m         \u001b[0;32mreturn\u001b[0m \u001b[0mop\u001b[0m\u001b[0;34m(\u001b[0m\u001b[0ma\u001b[0m\u001b[0;34m,\u001b[0m \u001b[0mb\u001b[0m\u001b[0;34m)\u001b[0m\u001b[0;34m\u001b[0m\u001b[0;34m\u001b[0m\u001b[0m\n\u001b[0m\u001b[1;32m     69\u001b[0m \u001b[0;34m\u001b[0m\u001b[0m\n",
            "\u001b[0;31mTypeError\u001b[0m: can only concatenate str (not \"int\") to str",
            "\nDuring handling of the above exception, another exception occurred:\n",
            "\u001b[0;31mTypeError\u001b[0m                                 Traceback (most recent call last)",
            "\u001b[0;32m<ipython-input-11-de3fc5c26880>\u001b[0m in \u001b[0;36m<module>\u001b[0;34m()\u001b[0m\n\u001b[1;32m      1\u001b[0m \u001b[0;31m#6. Ahora vamos a aplicar el apply otra vez para ver que ocurre\u001b[0m\u001b[0;34m\u001b[0m\u001b[0;34m\u001b[0m\u001b[0;34m\u001b[0m\u001b[0m\n\u001b[0;32m----> 2\u001b[0;31m \u001b[0mprueba_error\u001b[0m\u001b[0;34m.\u001b[0m\u001b[0mapply\u001b[0m\u001b[0;34m(\u001b[0m\u001b[0msumar_cinco\u001b[0m\u001b[0;34m)\u001b[0m\u001b[0;34m\u001b[0m\u001b[0;34m\u001b[0m\u001b[0m\n\u001b[0m\u001b[1;32m      3\u001b[0m \u001b[0;31m#En este caso da error porque logicamente una de nuestra columnas es un string y no funciona, pero podemos arreglar esto en nuestra función\u001b[0m\u001b[0;34m\u001b[0m\u001b[0;34m\u001b[0m\u001b[0;34m\u001b[0m\u001b[0m\n",
            "\u001b[0;32m/usr/local/lib/python3.7/dist-packages/pandas/core/frame.py\u001b[0m in \u001b[0;36mapply\u001b[0;34m(self, func, axis, raw, result_type, args, **kwds)\u001b[0m\n\u001b[1;32m   7550\u001b[0m             \u001b[0mkwds\u001b[0m\u001b[0;34m=\u001b[0m\u001b[0mkwds\u001b[0m\u001b[0;34m,\u001b[0m\u001b[0;34m\u001b[0m\u001b[0;34m\u001b[0m\u001b[0m\n\u001b[1;32m   7551\u001b[0m         )\n\u001b[0;32m-> 7552\u001b[0;31m         \u001b[0;32mreturn\u001b[0m \u001b[0mop\u001b[0m\u001b[0;34m.\u001b[0m\u001b[0mget_result\u001b[0m\u001b[0;34m(\u001b[0m\u001b[0;34m)\u001b[0m\u001b[0;34m\u001b[0m\u001b[0;34m\u001b[0m\u001b[0m\n\u001b[0m\u001b[1;32m   7553\u001b[0m \u001b[0;34m\u001b[0m\u001b[0m\n\u001b[1;32m   7554\u001b[0m     \u001b[0;32mdef\u001b[0m \u001b[0mapplymap\u001b[0m\u001b[0;34m(\u001b[0m\u001b[0mself\u001b[0m\u001b[0;34m,\u001b[0m \u001b[0mfunc\u001b[0m\u001b[0;34m)\u001b[0m \u001b[0;34m->\u001b[0m \u001b[0;34m\"DataFrame\"\u001b[0m\u001b[0;34m:\u001b[0m\u001b[0;34m\u001b[0m\u001b[0;34m\u001b[0m\u001b[0m\n",
            "\u001b[0;32m/usr/local/lib/python3.7/dist-packages/pandas/core/apply.py\u001b[0m in \u001b[0;36mget_result\u001b[0;34m(self)\u001b[0m\n\u001b[1;32m    183\u001b[0m             \u001b[0;32mreturn\u001b[0m \u001b[0mself\u001b[0m\u001b[0;34m.\u001b[0m\u001b[0mapply_raw\u001b[0m\u001b[0;34m(\u001b[0m\u001b[0;34m)\u001b[0m\u001b[0;34m\u001b[0m\u001b[0;34m\u001b[0m\u001b[0m\n\u001b[1;32m    184\u001b[0m \u001b[0;34m\u001b[0m\u001b[0m\n\u001b[0;32m--> 185\u001b[0;31m         \u001b[0;32mreturn\u001b[0m \u001b[0mself\u001b[0m\u001b[0;34m.\u001b[0m\u001b[0mapply_standard\u001b[0m\u001b[0;34m(\u001b[0m\u001b[0;34m)\u001b[0m\u001b[0;34m\u001b[0m\u001b[0;34m\u001b[0m\u001b[0m\n\u001b[0m\u001b[1;32m    186\u001b[0m \u001b[0;34m\u001b[0m\u001b[0m\n\u001b[1;32m    187\u001b[0m     \u001b[0;32mdef\u001b[0m \u001b[0mapply_empty_result\u001b[0m\u001b[0;34m(\u001b[0m\u001b[0mself\u001b[0m\u001b[0;34m)\u001b[0m\u001b[0;34m:\u001b[0m\u001b[0;34m\u001b[0m\u001b[0;34m\u001b[0m\u001b[0m\n",
            "\u001b[0;32m/usr/local/lib/python3.7/dist-packages/pandas/core/apply.py\u001b[0m in \u001b[0;36mapply_standard\u001b[0;34m(self)\u001b[0m\n\u001b[1;32m    274\u001b[0m \u001b[0;34m\u001b[0m\u001b[0m\n\u001b[1;32m    275\u001b[0m     \u001b[0;32mdef\u001b[0m \u001b[0mapply_standard\u001b[0m\u001b[0;34m(\u001b[0m\u001b[0mself\u001b[0m\u001b[0;34m)\u001b[0m\u001b[0;34m:\u001b[0m\u001b[0;34m\u001b[0m\u001b[0;34m\u001b[0m\u001b[0m\n\u001b[0;32m--> 276\u001b[0;31m         \u001b[0mresults\u001b[0m\u001b[0;34m,\u001b[0m \u001b[0mres_index\u001b[0m \u001b[0;34m=\u001b[0m \u001b[0mself\u001b[0m\u001b[0;34m.\u001b[0m\u001b[0mapply_series_generator\u001b[0m\u001b[0;34m(\u001b[0m\u001b[0;34m)\u001b[0m\u001b[0;34m\u001b[0m\u001b[0;34m\u001b[0m\u001b[0m\n\u001b[0m\u001b[1;32m    277\u001b[0m \u001b[0;34m\u001b[0m\u001b[0m\n\u001b[1;32m    278\u001b[0m         \u001b[0;31m# wrap results\u001b[0m\u001b[0;34m\u001b[0m\u001b[0;34m\u001b[0m\u001b[0;34m\u001b[0m\u001b[0m\n",
            "\u001b[0;32m/usr/local/lib/python3.7/dist-packages/pandas/core/apply.py\u001b[0m in \u001b[0;36mapply_series_generator\u001b[0;34m(self)\u001b[0m\n\u001b[1;32m    303\u001b[0m                 \u001b[0;32mfor\u001b[0m \u001b[0mi\u001b[0m\u001b[0;34m,\u001b[0m \u001b[0mv\u001b[0m \u001b[0;32min\u001b[0m \u001b[0menumerate\u001b[0m\u001b[0;34m(\u001b[0m\u001b[0mseries_gen\u001b[0m\u001b[0;34m)\u001b[0m\u001b[0;34m:\u001b[0m\u001b[0;34m\u001b[0m\u001b[0;34m\u001b[0m\u001b[0m\n\u001b[1;32m    304\u001b[0m                     \u001b[0;31m# ignore SettingWithCopy here in case the user mutates\u001b[0m\u001b[0;34m\u001b[0m\u001b[0;34m\u001b[0m\u001b[0;34m\u001b[0m\u001b[0m\n\u001b[0;32m--> 305\u001b[0;31m                     \u001b[0mresults\u001b[0m\u001b[0;34m[\u001b[0m\u001b[0mi\u001b[0m\u001b[0;34m]\u001b[0m \u001b[0;34m=\u001b[0m \u001b[0mself\u001b[0m\u001b[0;34m.\u001b[0m\u001b[0mf\u001b[0m\u001b[0;34m(\u001b[0m\u001b[0mv\u001b[0m\u001b[0;34m)\u001b[0m\u001b[0;34m\u001b[0m\u001b[0;34m\u001b[0m\u001b[0m\n\u001b[0m\u001b[1;32m    306\u001b[0m                     \u001b[0;32mif\u001b[0m \u001b[0misinstance\u001b[0m\u001b[0;34m(\u001b[0m\u001b[0mresults\u001b[0m\u001b[0;34m[\u001b[0m\u001b[0mi\u001b[0m\u001b[0;34m]\u001b[0m\u001b[0;34m,\u001b[0m \u001b[0mABCSeries\u001b[0m\u001b[0;34m)\u001b[0m\u001b[0;34m:\u001b[0m\u001b[0;34m\u001b[0m\u001b[0;34m\u001b[0m\u001b[0m\n\u001b[1;32m    307\u001b[0m                         \u001b[0;31m# If we have a view on v, we need to make a copy because\u001b[0m\u001b[0;34m\u001b[0m\u001b[0;34m\u001b[0m\u001b[0;34m\u001b[0m\u001b[0m\n",
            "\u001b[0;32m<ipython-input-7-6748b7a6b4f7>\u001b[0m in \u001b[0;36msumar_cinco\u001b[0;34m(x)\u001b[0m\n\u001b[1;32m      1\u001b[0m \u001b[0;31m#2. Por otro lado, vamos a crear una función nueva que la vamos a llamar sumar_cinco y le vamos a pasar un parámetro al cual se le va a sumar cinco\u001b[0m\u001b[0;34m\u001b[0m\u001b[0;34m\u001b[0m\u001b[0;34m\u001b[0m\u001b[0m\n\u001b[1;32m      2\u001b[0m \u001b[0;32mdef\u001b[0m \u001b[0msumar_cinco\u001b[0m\u001b[0;34m(\u001b[0m\u001b[0mx\u001b[0m\u001b[0;34m)\u001b[0m\u001b[0;34m:\u001b[0m\u001b[0;34m\u001b[0m\u001b[0;34m\u001b[0m\u001b[0m\n\u001b[0;32m----> 3\u001b[0;31m   \u001b[0;32mreturn\u001b[0m \u001b[0mx\u001b[0m\u001b[0;34m+\u001b[0m\u001b[0;36m5\u001b[0m\u001b[0;34m\u001b[0m\u001b[0;34m\u001b[0m\u001b[0m\n\u001b[0m",
            "\u001b[0;32m/usr/local/lib/python3.7/dist-packages/pandas/core/ops/common.py\u001b[0m in \u001b[0;36mnew_method\u001b[0;34m(self, other)\u001b[0m\n\u001b[1;32m     63\u001b[0m         \u001b[0mother\u001b[0m \u001b[0;34m=\u001b[0m \u001b[0mitem_from_zerodim\u001b[0m\u001b[0;34m(\u001b[0m\u001b[0mother\u001b[0m\u001b[0;34m)\u001b[0m\u001b[0;34m\u001b[0m\u001b[0;34m\u001b[0m\u001b[0m\n\u001b[1;32m     64\u001b[0m \u001b[0;34m\u001b[0m\u001b[0m\n\u001b[0;32m---> 65\u001b[0;31m         \u001b[0;32mreturn\u001b[0m \u001b[0mmethod\u001b[0m\u001b[0;34m(\u001b[0m\u001b[0mself\u001b[0m\u001b[0;34m,\u001b[0m \u001b[0mother\u001b[0m\u001b[0;34m)\u001b[0m\u001b[0;34m\u001b[0m\u001b[0;34m\u001b[0m\u001b[0m\n\u001b[0m\u001b[1;32m     66\u001b[0m \u001b[0;34m\u001b[0m\u001b[0m\n\u001b[1;32m     67\u001b[0m     \u001b[0;32mreturn\u001b[0m \u001b[0mnew_method\u001b[0m\u001b[0;34m\u001b[0m\u001b[0;34m\u001b[0m\u001b[0m\n",
            "\u001b[0;32m/usr/local/lib/python3.7/dist-packages/pandas/core/ops/__init__.py\u001b[0m in \u001b[0;36mwrapper\u001b[0;34m(left, right)\u001b[0m\n\u001b[1;32m    341\u001b[0m         \u001b[0mlvalues\u001b[0m \u001b[0;34m=\u001b[0m \u001b[0mextract_array\u001b[0m\u001b[0;34m(\u001b[0m\u001b[0mleft\u001b[0m\u001b[0;34m,\u001b[0m \u001b[0mextract_numpy\u001b[0m\u001b[0;34m=\u001b[0m\u001b[0;32mTrue\u001b[0m\u001b[0;34m)\u001b[0m\u001b[0;34m\u001b[0m\u001b[0;34m\u001b[0m\u001b[0m\n\u001b[1;32m    342\u001b[0m         \u001b[0mrvalues\u001b[0m \u001b[0;34m=\u001b[0m \u001b[0mextract_array\u001b[0m\u001b[0;34m(\u001b[0m\u001b[0mright\u001b[0m\u001b[0;34m,\u001b[0m \u001b[0mextract_numpy\u001b[0m\u001b[0;34m=\u001b[0m\u001b[0;32mTrue\u001b[0m\u001b[0;34m)\u001b[0m\u001b[0;34m\u001b[0m\u001b[0;34m\u001b[0m\u001b[0m\n\u001b[0;32m--> 343\u001b[0;31m         \u001b[0mresult\u001b[0m \u001b[0;34m=\u001b[0m \u001b[0marithmetic_op\u001b[0m\u001b[0;34m(\u001b[0m\u001b[0mlvalues\u001b[0m\u001b[0;34m,\u001b[0m \u001b[0mrvalues\u001b[0m\u001b[0;34m,\u001b[0m \u001b[0mop\u001b[0m\u001b[0;34m)\u001b[0m\u001b[0;34m\u001b[0m\u001b[0;34m\u001b[0m\u001b[0m\n\u001b[0m\u001b[1;32m    344\u001b[0m \u001b[0;34m\u001b[0m\u001b[0m\n\u001b[1;32m    345\u001b[0m         \u001b[0;32mreturn\u001b[0m \u001b[0mleft\u001b[0m\u001b[0;34m.\u001b[0m\u001b[0m_construct_result\u001b[0m\u001b[0;34m(\u001b[0m\u001b[0mresult\u001b[0m\u001b[0;34m,\u001b[0m \u001b[0mname\u001b[0m\u001b[0;34m=\u001b[0m\u001b[0mres_name\u001b[0m\u001b[0;34m)\u001b[0m\u001b[0;34m\u001b[0m\u001b[0;34m\u001b[0m\u001b[0m\n",
            "\u001b[0;32m/usr/local/lib/python3.7/dist-packages/pandas/core/ops/array_ops.py\u001b[0m in \u001b[0;36marithmetic_op\u001b[0;34m(left, right, op)\u001b[0m\n\u001b[1;32m    188\u001b[0m     \u001b[0;32melse\u001b[0m\u001b[0;34m:\u001b[0m\u001b[0;34m\u001b[0m\u001b[0;34m\u001b[0m\u001b[0m\n\u001b[1;32m    189\u001b[0m         \u001b[0;32mwith\u001b[0m \u001b[0mnp\u001b[0m\u001b[0;34m.\u001b[0m\u001b[0merrstate\u001b[0m\u001b[0;34m(\u001b[0m\u001b[0mall\u001b[0m\u001b[0;34m=\u001b[0m\u001b[0;34m\"ignore\"\u001b[0m\u001b[0;34m)\u001b[0m\u001b[0;34m:\u001b[0m\u001b[0;34m\u001b[0m\u001b[0;34m\u001b[0m\u001b[0m\n\u001b[0;32m--> 190\u001b[0;31m             \u001b[0mres_values\u001b[0m \u001b[0;34m=\u001b[0m \u001b[0mna_arithmetic_op\u001b[0m\u001b[0;34m(\u001b[0m\u001b[0mlvalues\u001b[0m\u001b[0;34m,\u001b[0m \u001b[0mrvalues\u001b[0m\u001b[0;34m,\u001b[0m \u001b[0mop\u001b[0m\u001b[0;34m)\u001b[0m\u001b[0;34m\u001b[0m\u001b[0;34m\u001b[0m\u001b[0m\n\u001b[0m\u001b[1;32m    191\u001b[0m \u001b[0;34m\u001b[0m\u001b[0m\n\u001b[1;32m    192\u001b[0m     \u001b[0;32mreturn\u001b[0m \u001b[0mres_values\u001b[0m\u001b[0;34m\u001b[0m\u001b[0;34m\u001b[0m\u001b[0m\n",
            "\u001b[0;32m/usr/local/lib/python3.7/dist-packages/pandas/core/ops/array_ops.py\u001b[0m in \u001b[0;36mna_arithmetic_op\u001b[0;34m(left, right, op, is_cmp)\u001b[0m\n\u001b[1;32m    148\u001b[0m             \u001b[0;31m#  will handle complex numbers incorrectly, see GH#32047\u001b[0m\u001b[0;34m\u001b[0m\u001b[0;34m\u001b[0m\u001b[0;34m\u001b[0m\u001b[0m\n\u001b[1;32m    149\u001b[0m             \u001b[0;32mraise\u001b[0m\u001b[0;34m\u001b[0m\u001b[0;34m\u001b[0m\u001b[0m\n\u001b[0;32m--> 150\u001b[0;31m         \u001b[0mresult\u001b[0m \u001b[0;34m=\u001b[0m \u001b[0mmasked_arith_op\u001b[0m\u001b[0;34m(\u001b[0m\u001b[0mleft\u001b[0m\u001b[0;34m,\u001b[0m \u001b[0mright\u001b[0m\u001b[0;34m,\u001b[0m \u001b[0mop\u001b[0m\u001b[0;34m)\u001b[0m\u001b[0;34m\u001b[0m\u001b[0;34m\u001b[0m\u001b[0m\n\u001b[0m\u001b[1;32m    151\u001b[0m \u001b[0;34m\u001b[0m\u001b[0m\n\u001b[1;32m    152\u001b[0m     \u001b[0;32mif\u001b[0m \u001b[0mis_cmp\u001b[0m \u001b[0;32mand\u001b[0m \u001b[0;34m(\u001b[0m\u001b[0mis_scalar\u001b[0m\u001b[0;34m(\u001b[0m\u001b[0mresult\u001b[0m\u001b[0;34m)\u001b[0m \u001b[0;32mor\u001b[0m \u001b[0mresult\u001b[0m \u001b[0;32mis\u001b[0m \u001b[0mNotImplemented\u001b[0m\u001b[0;34m)\u001b[0m\u001b[0;34m:\u001b[0m\u001b[0;34m\u001b[0m\u001b[0;34m\u001b[0m\u001b[0m\n",
            "\u001b[0;32m/usr/local/lib/python3.7/dist-packages/pandas/core/ops/array_ops.py\u001b[0m in \u001b[0;36mmasked_arith_op\u001b[0;34m(x, y, op)\u001b[0m\n\u001b[1;32m    110\u001b[0m         \u001b[0;32mif\u001b[0m \u001b[0mmask\u001b[0m\u001b[0;34m.\u001b[0m\u001b[0many\u001b[0m\u001b[0;34m(\u001b[0m\u001b[0;34m)\u001b[0m\u001b[0;34m:\u001b[0m\u001b[0;34m\u001b[0m\u001b[0;34m\u001b[0m\u001b[0m\n\u001b[1;32m    111\u001b[0m             \u001b[0;32mwith\u001b[0m \u001b[0mnp\u001b[0m\u001b[0;34m.\u001b[0m\u001b[0merrstate\u001b[0m\u001b[0;34m(\u001b[0m\u001b[0mall\u001b[0m\u001b[0;34m=\u001b[0m\u001b[0;34m\"ignore\"\u001b[0m\u001b[0;34m)\u001b[0m\u001b[0;34m:\u001b[0m\u001b[0;34m\u001b[0m\u001b[0;34m\u001b[0m\u001b[0m\n\u001b[0;32m--> 112\u001b[0;31m                 \u001b[0mresult\u001b[0m\u001b[0;34m[\u001b[0m\u001b[0mmask\u001b[0m\u001b[0;34m]\u001b[0m \u001b[0;34m=\u001b[0m \u001b[0mop\u001b[0m\u001b[0;34m(\u001b[0m\u001b[0mxrav\u001b[0m\u001b[0;34m[\u001b[0m\u001b[0mmask\u001b[0m\u001b[0;34m]\u001b[0m\u001b[0;34m,\u001b[0m \u001b[0my\u001b[0m\u001b[0;34m)\u001b[0m\u001b[0;34m\u001b[0m\u001b[0;34m\u001b[0m\u001b[0m\n\u001b[0m\u001b[1;32m    113\u001b[0m \u001b[0;34m\u001b[0m\u001b[0m\n\u001b[1;32m    114\u001b[0m     \u001b[0mresult\u001b[0m\u001b[0;34m,\u001b[0m \u001b[0m_\u001b[0m \u001b[0;34m=\u001b[0m \u001b[0mmaybe_upcast_putmask\u001b[0m\u001b[0;34m(\u001b[0m\u001b[0mresult\u001b[0m\u001b[0;34m,\u001b[0m \u001b[0;34m~\u001b[0m\u001b[0mmask\u001b[0m\u001b[0;34m,\u001b[0m \u001b[0mnp\u001b[0m\u001b[0;34m.\u001b[0m\u001b[0mnan\u001b[0m\u001b[0;34m)\u001b[0m\u001b[0;34m\u001b[0m\u001b[0;34m\u001b[0m\u001b[0m\n",
            "\u001b[0;31mTypeError\u001b[0m: can only concatenate str (not \"int\") to str"
          ]
        }
      ]
    },
    {
      "cell_type": "code",
      "metadata": {
        "colab": {
          "base_uri": "https://localhost:8080/",
          "height": 142
        },
        "id": "v86pn5WGUk4z",
        "outputId": "103d9e59-1c73-4a1b-bf94-f7f5e1666763"
      },
      "source": [
        "#7. Ahora vamos a crear otra funcion con lambda\n",
        "lambda x,y : x + y\n",
        "#Para usarla vamos a incluira en una variable (no es estrictamente necesario)\n",
        "funcion_lambda = lambda x : x + 5\n",
        "suma_dos = prueba_map['Ingresos'].map(funcion_lambda)\n",
        "suma_dos = prueba_map.apply(lambda x : x + 5)\n",
        "suma_dos"
      ],
      "execution_count": null,
      "outputs": [
        {
          "output_type": "execute_result",
          "data": {
            "text/html": [
              "<div>\n",
              "<style scoped>\n",
              "    .dataframe tbody tr th:only-of-type {\n",
              "        vertical-align: middle;\n",
              "    }\n",
              "\n",
              "    .dataframe tbody tr th {\n",
              "        vertical-align: top;\n",
              "    }\n",
              "\n",
              "    .dataframe thead th {\n",
              "        text-align: right;\n",
              "    }\n",
              "</style>\n",
              "<table border=\"1\" class=\"dataframe\">\n",
              "  <thead>\n",
              "    <tr style=\"text-align: right;\">\n",
              "      <th></th>\n",
              "      <th>Ingresos</th>\n",
              "      <th>Num_Transferencias_Realizadas</th>\n",
              "    </tr>\n",
              "  </thead>\n",
              "  <tbody>\n",
              "    <tr>\n",
              "      <th>0</th>\n",
              "      <td>105</td>\n",
              "      <td>9</td>\n",
              "    </tr>\n",
              "    <tr>\n",
              "      <th>1</th>\n",
              "      <td>55</td>\n",
              "      <td>15</td>\n",
              "    </tr>\n",
              "    <tr>\n",
              "      <th>2</th>\n",
              "      <td>30</td>\n",
              "      <td>30</td>\n",
              "    </tr>\n",
              "  </tbody>\n",
              "</table>\n",
              "</div>"
            ],
            "text/plain": [
              "   Ingresos  Num_Transferencias_Realizadas\n",
              "0       105                              9\n",
              "1        55                             15\n",
              "2        30                             30"
            ]
          },
          "metadata": {
            "tags": []
          },
          "execution_count": 16
        }
      ]
    },
    {
      "cell_type": "markdown",
      "metadata": {
        "id": "HjSzUPNm4TTx"
      },
      "source": [
        "# Limpieza de vacíos\n",
        "Vamos a trabajar con los siguientes métodos nuevos y que nos sirven para enriquecer toda la capa de transformación de los datos.\n",
        "* [isnull](https://pandas.pydata.org/pandas-docs/stable/reference/api/pandas.DataFrame.isnull.html?highlight=isnull#pandas.DataFrame.isnull). No necesita parámetros de entrada\n",
        "* [fillna](https://pandas.pydata.org/pandas-docs/stable/reference/api/pandas.DataFrame.fillna.html). Parámetro a modificar, enteros o cadenas\n",
        "* [dropna](https://pandas.pydata.org/pandas-docs/stable/reference/api/pandas.DataFrame.dropna.html). No necesita parámetros de entrada"
      ]
    },
    {
      "cell_type": "code",
      "metadata": {
        "colab": {
          "base_uri": "https://localhost:8080/",
          "height": 168
        },
        "id": "b902DBZ5TBbs",
        "outputId": "834420be-6000-4967-9393-88b728629a8c"
      },
      "source": [
        "#NUEVO\n",
        "#Paso 13.1. En este caso vamos a ver dos funciones que nos sirven para eliminar y rellenar valores vacíos.\n",
        "#Primero vamos a encontrar los valores nulos\n",
        "alumnos.isnull()"
      ],
      "execution_count": null,
      "outputs": [
        {
          "output_type": "execute_result",
          "data": {
            "text/html": [
              "<div>\n",
              "<style scoped>\n",
              "    .dataframe tbody tr th:only-of-type {\n",
              "        vertical-align: middle;\n",
              "    }\n",
              "\n",
              "    .dataframe tbody tr th {\n",
              "        vertical-align: top;\n",
              "    }\n",
              "\n",
              "    .dataframe thead th {\n",
              "        text-align: right;\n",
              "    }\n",
              "</style>\n",
              "<table border=\"1\" class=\"dataframe\">\n",
              "  <thead>\n",
              "    <tr style=\"text-align: right;\">\n",
              "      <th></th>\n",
              "      <th>Nombre</th>\n",
              "      <th>Empresa</th>\n",
              "      <th>Edad</th>\n",
              "      <th>Puesto</th>\n",
              "    </tr>\n",
              "    <tr>\n",
              "      <th>Id_Usuario</th>\n",
              "      <th></th>\n",
              "      <th></th>\n",
              "      <th></th>\n",
              "      <th></th>\n",
              "    </tr>\n",
              "  </thead>\n",
              "  <tbody>\n",
              "    <tr>\n",
              "      <th>1</th>\n",
              "      <td>False</td>\n",
              "      <td>False</td>\n",
              "      <td>False</td>\n",
              "      <td>False</td>\n",
              "    </tr>\n",
              "    <tr>\n",
              "      <th>2</th>\n",
              "      <td>False</td>\n",
              "      <td>False</td>\n",
              "      <td>False</td>\n",
              "      <td>True</td>\n",
              "    </tr>\n",
              "    <tr>\n",
              "      <th>3</th>\n",
              "      <td>False</td>\n",
              "      <td>False</td>\n",
              "      <td>False</td>\n",
              "      <td>False</td>\n",
              "    </tr>\n",
              "  </tbody>\n",
              "</table>\n",
              "</div>"
            ],
            "text/plain": [
              "            Nombre  Empresa   Edad  Puesto\n",
              "Id_Usuario                                \n",
              "1            False    False  False   False\n",
              "2            False    False  False    True\n",
              "3            False    False  False   False"
            ]
          },
          "metadata": {
            "tags": []
          },
          "execution_count": 66
        }
      ]
    },
    {
      "cell_type": "code",
      "metadata": {
        "colab": {
          "base_uri": "https://localhost:8080/",
          "height": 168
        },
        "id": "hHtS_Ov6TBbu",
        "outputId": "01b2bf71-8ce5-4f34-fbf1-62f84874e67d"
      },
      "source": [
        "#NUEVO\n",
        "#Paso 13.2. En este caso vamos a ver dos funciones que nos sirven para eliminar y rellenar valores vacíos.\n",
        "#Primero vamos a rellenar los vacíos con 0 y se lo pasamos como parámetro\n",
        "alumnos.fillna(0)"
      ],
      "execution_count": null,
      "outputs": [
        {
          "output_type": "execute_result",
          "data": {
            "text/html": [
              "<div>\n",
              "<style scoped>\n",
              "    .dataframe tbody tr th:only-of-type {\n",
              "        vertical-align: middle;\n",
              "    }\n",
              "\n",
              "    .dataframe tbody tr th {\n",
              "        vertical-align: top;\n",
              "    }\n",
              "\n",
              "    .dataframe thead th {\n",
              "        text-align: right;\n",
              "    }\n",
              "</style>\n",
              "<table border=\"1\" class=\"dataframe\">\n",
              "  <thead>\n",
              "    <tr style=\"text-align: right;\">\n",
              "      <th></th>\n",
              "      <th>Nombre</th>\n",
              "      <th>Empresa</th>\n",
              "      <th>Edad</th>\n",
              "      <th>Puesto</th>\n",
              "    </tr>\n",
              "    <tr>\n",
              "      <th>Id_Usuario</th>\n",
              "      <th></th>\n",
              "      <th></th>\n",
              "      <th></th>\n",
              "      <th></th>\n",
              "    </tr>\n",
              "  </thead>\n",
              "  <tbody>\n",
              "    <tr>\n",
              "      <th>1</th>\n",
              "      <td>Julian</td>\n",
              "      <td>Eci</td>\n",
              "      <td>25</td>\n",
              "      <td>CDO</td>\n",
              "    </tr>\n",
              "    <tr>\n",
              "      <th>2</th>\n",
              "      <td>Maria</td>\n",
              "      <td>Bankia</td>\n",
              "      <td>30</td>\n",
              "      <td>0</td>\n",
              "    </tr>\n",
              "    <tr>\n",
              "      <th>3</th>\n",
              "      <td>Lucia</td>\n",
              "      <td>TheValley</td>\n",
              "      <td>50</td>\n",
              "      <td>Data Engineering</td>\n",
              "    </tr>\n",
              "  </tbody>\n",
              "</table>\n",
              "</div>"
            ],
            "text/plain": [
              "            Nombre    Empresa  Edad            Puesto\n",
              "Id_Usuario                                           \n",
              "1           Julian        Eci    25               CDO\n",
              "2            Maria     Bankia    30                 0\n",
              "3            Lucia  TheValley    50  Data Engineering"
            ]
          },
          "metadata": {
            "tags": []
          },
          "execution_count": 69
        }
      ]
    },
    {
      "cell_type": "code",
      "metadata": {
        "colab": {
          "base_uri": "https://localhost:8080/",
          "height": 138
        },
        "id": "A95yxZiQTBbu",
        "outputId": "f2bc29ae-f752-4243-93a1-469d317d3c63"
      },
      "source": [
        "#NUEVO\n",
        "#Paso 13.3. En este caso vamos a ver dos funciones que nos sirven para eliminar y rellenar valores vacíos.\n",
        "#Ahora vamos a eliminar la fila que tienen valores vacíos\n",
        "#Al igual que con drop hay que pasarle como parámetros el AXIS\n",
        "#¿Qué es AXIS?, parámetro el cual nos indica si queremos eliminar una fila o una columna, siendo 0 filas y 1 columnas\n",
        "#Por defecto te coge siempre el 0\n",
        "alumnos.dropna()"
      ],
      "execution_count": null,
      "outputs": [
        {
          "output_type": "execute_result",
          "data": {
            "text/html": [
              "<div>\n",
              "<style scoped>\n",
              "    .dataframe tbody tr th:only-of-type {\n",
              "        vertical-align: middle;\n",
              "    }\n",
              "\n",
              "    .dataframe tbody tr th {\n",
              "        vertical-align: top;\n",
              "    }\n",
              "\n",
              "    .dataframe thead th {\n",
              "        text-align: right;\n",
              "    }\n",
              "</style>\n",
              "<table border=\"1\" class=\"dataframe\">\n",
              "  <thead>\n",
              "    <tr style=\"text-align: right;\">\n",
              "      <th></th>\n",
              "      <th>Nombre</th>\n",
              "      <th>Empresa</th>\n",
              "      <th>Edad</th>\n",
              "      <th>Puesto</th>\n",
              "    </tr>\n",
              "    <tr>\n",
              "      <th>Id_Usuario</th>\n",
              "      <th></th>\n",
              "      <th></th>\n",
              "      <th></th>\n",
              "      <th></th>\n",
              "    </tr>\n",
              "  </thead>\n",
              "  <tbody>\n",
              "    <tr>\n",
              "      <th>1</th>\n",
              "      <td>Julian</td>\n",
              "      <td>Eci</td>\n",
              "      <td>25</td>\n",
              "      <td>CDO</td>\n",
              "    </tr>\n",
              "    <tr>\n",
              "      <th>3</th>\n",
              "      <td>Lucia</td>\n",
              "      <td>TheValley</td>\n",
              "      <td>50</td>\n",
              "      <td>Data Engineering</td>\n",
              "    </tr>\n",
              "  </tbody>\n",
              "</table>\n",
              "</div>"
            ],
            "text/plain": [
              "            Nombre    Empresa  Edad            Puesto\n",
              "Id_Usuario                                           \n",
              "1           Julian        Eci    25               CDO\n",
              "3            Lucia  TheValley    50  Data Engineering"
            ]
          },
          "metadata": {
            "tags": []
          },
          "execution_count": 70
        }
      ]
    },
    {
      "cell_type": "code",
      "metadata": {
        "colab": {
          "base_uri": "https://localhost:8080/",
          "height": 168
        },
        "id": "va9a7lXdTBbv",
        "outputId": "ca5c9a2a-3d44-44f5-8c37-a3012697f8fa"
      },
      "source": [
        "#NUEVO\n",
        "#Paso 13.4. En este caso vamos a ver dos funciones que nos sirven para eliminar y rellenar valores vacíos.\n",
        "#Ahora vamos a eliminar la columna que tienen valores vacíos\n",
        "alumnos.dropna(axis=1)"
      ],
      "execution_count": null,
      "outputs": [
        {
          "output_type": "execute_result",
          "data": {
            "text/html": [
              "<div>\n",
              "<style scoped>\n",
              "    .dataframe tbody tr th:only-of-type {\n",
              "        vertical-align: middle;\n",
              "    }\n",
              "\n",
              "    .dataframe tbody tr th {\n",
              "        vertical-align: top;\n",
              "    }\n",
              "\n",
              "    .dataframe thead th {\n",
              "        text-align: right;\n",
              "    }\n",
              "</style>\n",
              "<table border=\"1\" class=\"dataframe\">\n",
              "  <thead>\n",
              "    <tr style=\"text-align: right;\">\n",
              "      <th></th>\n",
              "      <th>Nombre</th>\n",
              "      <th>Empresa</th>\n",
              "      <th>Edad</th>\n",
              "    </tr>\n",
              "    <tr>\n",
              "      <th>Id_Usuario</th>\n",
              "      <th></th>\n",
              "      <th></th>\n",
              "      <th></th>\n",
              "    </tr>\n",
              "  </thead>\n",
              "  <tbody>\n",
              "    <tr>\n",
              "      <th>1</th>\n",
              "      <td>Julian</td>\n",
              "      <td>Eci</td>\n",
              "      <td>25</td>\n",
              "    </tr>\n",
              "    <tr>\n",
              "      <th>2</th>\n",
              "      <td>Maria</td>\n",
              "      <td>Bankia</td>\n",
              "      <td>30</td>\n",
              "    </tr>\n",
              "    <tr>\n",
              "      <th>3</th>\n",
              "      <td>Lucia</td>\n",
              "      <td>TheValley</td>\n",
              "      <td>50</td>\n",
              "    </tr>\n",
              "  </tbody>\n",
              "</table>\n",
              "</div>"
            ],
            "text/plain": [
              "            Nombre    Empresa  Edad\n",
              "Id_Usuario                         \n",
              "1           Julian        Eci    25\n",
              "2            Maria     Bankia    30\n",
              "3            Lucia  TheValley    50"
            ]
          },
          "metadata": {
            "tags": []
          },
          "execution_count": 72
        }
      ]
    },
    {
      "cell_type": "code",
      "metadata": {
        "id": "gkTZsjGLna0e",
        "colab": {
          "base_uri": "https://localhost:8080/",
          "height": 164
        },
        "outputId": "5ff5bcf8-8de9-42e9-a6b2-5f4a0e7d75f1"
      },
      "source": [
        "alumnos"
      ],
      "execution_count": null,
      "outputs": [
        {
          "output_type": "error",
          "ename": "NameError",
          "evalue": "ignored",
          "traceback": [
            "\u001b[0;31m---------------------------------------------------------------------------\u001b[0m",
            "\u001b[0;31mNameError\u001b[0m                                 Traceback (most recent call last)",
            "\u001b[0;32m<ipython-input-21-3ae3b99f0801>\u001b[0m in \u001b[0;36m<module>\u001b[0;34m()\u001b[0m\n\u001b[0;32m----> 1\u001b[0;31m \u001b[0malumnos\u001b[0m\u001b[0;34m\u001b[0m\u001b[0;34m\u001b[0m\u001b[0m\n\u001b[0m",
            "\u001b[0;31mNameError\u001b[0m: name 'alumnos' is not defined"
          ]
        }
      ]
    },
    {
      "cell_type": "markdown",
      "metadata": {
        "id": "D5cE67qu4iBG"
      },
      "source": [
        "# Cadenas de texto\n",
        "Existen un conjunto de métodos relaciondas con las cadenas de texto que nos sirven para modificar, buscar y limpiar dichas cadenas.\n",
        "* [upper](https://pandas.pydata.org/pandas-docs/stable/reference/api/pandas.Series.str.upper.html). No necesita parámetros de entrada\n",
        "* [lower](https://pandas.pydata.org/pandas-docs/stable/reference/api/pandas.Series.str.lower.html). No necesita parámetros de entrada\n",
        "* [title](https://pandas.pydata.org/pandas-docs/stable/reference/api/pandas.Series.str.title.html). No necesita parámetros de entrada\n",
        "* [swapcase](https://pandas.pydata.org/pandas-docs/stable/reference/api/pandas.Series.str.swapcase.html). No necesita parámetros de entrada\n",
        "* [replace](https://pandas.pydata.org/pandas-docs/stable/reference/api/pandas.Series.replace.html). Hay que introducir como parámetros, primero el elemento a buscar, acto seguido, el elemento a reemplazar.\n",
        "* [strip](https://pandas.pydata.org/pandas-docs/stable/reference/api/pandas.Series.str.strip.html). No necesita parámetros de entrada\n",
        "* [contains](https://pandas.pydata.org/pandas-docs/stable/reference/api/pandas.Series.str.contains.html). Hay que introducir el valor a buscar como parámetro.\n"
      ]
    },
    {
      "cell_type": "code",
      "metadata": {
        "colab": {
          "base_uri": "https://localhost:8080/"
        },
        "id": "qRVkLy82TK2B",
        "outputId": "505e9fe6-bbce-4986-83f0-220f1ce61887"
      },
      "source": [
        "#NUEVO\n",
        "#Paso 14.1. Cadenas de texto. Vamos a ver diferentes metodos para tratar las cadenas de texto\n",
        "#Primero vamos a convertir todos los valores de la columna Nombre a mayúsculas\n",
        "alumnos[\"Nombre\"].str.upper()"
      ],
      "execution_count": null,
      "outputs": [
        {
          "output_type": "execute_result",
          "data": {
            "text/plain": [
              "Id_Usuario\n",
              "1    JULIAN\n",
              "2     MARIA\n",
              "3     LUCIA\n",
              "Name: Nombre, dtype: object"
            ]
          },
          "metadata": {
            "tags": []
          },
          "execution_count": 74
        }
      ]
    },
    {
      "cell_type": "code",
      "metadata": {
        "colab": {
          "base_uri": "https://localhost:8080/"
        },
        "id": "AYsCgA79TK2B",
        "outputId": "f32ce59c-e860-4539-b3d3-3d71c05368ff"
      },
      "source": [
        "#NUEVO\n",
        "#Paso 14.2. Cadenas de texto. Vamos a ver diferentes metodos para tratar las cadenas de texto\n",
        "#Segund vamos a convertir todos los valores de la columna Empresa a minúsculas\n",
        "alumnos[\"Empresa\"].str.lower()"
      ],
      "execution_count": null,
      "outputs": [
        {
          "output_type": "execute_result",
          "data": {
            "text/plain": [
              "Id_Usuario\n",
              "1          eci\n",
              "2       bankia\n",
              "3    thevalley\n",
              "Name: Empresa, dtype: object"
            ]
          },
          "metadata": {
            "tags": []
          },
          "execution_count": 75
        }
      ]
    },
    {
      "cell_type": "code",
      "metadata": {
        "colab": {
          "base_uri": "https://localhost:8080/"
        },
        "id": "pHM5jiUkTK2B",
        "outputId": "156be899-00ec-42ca-8dce-266270e25c21"
      },
      "source": [
        "#NUEVO\n",
        "#Paso 14.3. Cadenas de texto. Vamos a ver diferentes metodos para tratar las cadenas de texto\n",
        "#Tercer vamos a convertir todos los valores de la columna Puesto como si fuera un título, primera mayúscula, resto minúscula\n",
        "alumnos[\"Puesto\"].str.title()"
      ],
      "execution_count": null,
      "outputs": [
        {
          "output_type": "execute_result",
          "data": {
            "text/plain": [
              "Id_Usuario\n",
              "1                 Cdo\n",
              "2                 NaN\n",
              "3    Data Engineering\n",
              "Name: Puesto, dtype: object"
            ]
          },
          "metadata": {
            "tags": []
          },
          "execution_count": 81
        }
      ]
    },
    {
      "cell_type": "code",
      "metadata": {
        "colab": {
          "base_uri": "https://localhost:8080/",
          "height": 168
        },
        "id": "vsCq71FUoNC1",
        "outputId": "6a59e587-ebfc-4da0-9741-4b789123b943"
      },
      "source": [
        "alumnos"
      ],
      "execution_count": null,
      "outputs": [
        {
          "output_type": "execute_result",
          "data": {
            "text/html": [
              "<div>\n",
              "<style scoped>\n",
              "    .dataframe tbody tr th:only-of-type {\n",
              "        vertical-align: middle;\n",
              "    }\n",
              "\n",
              "    .dataframe tbody tr th {\n",
              "        vertical-align: top;\n",
              "    }\n",
              "\n",
              "    .dataframe thead th {\n",
              "        text-align: right;\n",
              "    }\n",
              "</style>\n",
              "<table border=\"1\" class=\"dataframe\">\n",
              "  <thead>\n",
              "    <tr style=\"text-align: right;\">\n",
              "      <th></th>\n",
              "      <th>Nombre</th>\n",
              "      <th>Empresa</th>\n",
              "      <th>Edad</th>\n",
              "      <th>Puesto</th>\n",
              "    </tr>\n",
              "    <tr>\n",
              "      <th>Id_Usuario</th>\n",
              "      <th></th>\n",
              "      <th></th>\n",
              "      <th></th>\n",
              "      <th></th>\n",
              "    </tr>\n",
              "  </thead>\n",
              "  <tbody>\n",
              "    <tr>\n",
              "      <th>1</th>\n",
              "      <td>Julian</td>\n",
              "      <td>Eci</td>\n",
              "      <td>25</td>\n",
              "      <td>CDO</td>\n",
              "    </tr>\n",
              "    <tr>\n",
              "      <th>2</th>\n",
              "      <td>Maria</td>\n",
              "      <td>Bankia</td>\n",
              "      <td>30</td>\n",
              "      <td>NaN</td>\n",
              "    </tr>\n",
              "    <tr>\n",
              "      <th>3</th>\n",
              "      <td>Lucia</td>\n",
              "      <td>TheValley</td>\n",
              "      <td>50</td>\n",
              "      <td>Data Engineering</td>\n",
              "    </tr>\n",
              "  </tbody>\n",
              "</table>\n",
              "</div>"
            ],
            "text/plain": [
              "            Nombre    Empresa  Edad            Puesto\n",
              "Id_Usuario                                           \n",
              "1           Julian        Eci    25               CDO\n",
              "2            Maria     Bankia    30               NaN\n",
              "3            Lucia  TheValley    50  Data Engineering"
            ]
          },
          "metadata": {
            "tags": []
          },
          "execution_count": 82
        }
      ]
    },
    {
      "cell_type": "code",
      "metadata": {
        "colab": {
          "base_uri": "https://localhost:8080/"
        },
        "id": "EMP0tImgTK2C",
        "outputId": "86fd3910-cb12-4b88-f601-88dda801e2c2"
      },
      "source": [
        "#NUEVO\n",
        "#Paso 14.4. Cadenas de texto. Vamos a ver diferentes metodos para tratar las cadenas de texto\n",
        "#Cuarto vamos a convertir todos los valores de la columna Puesto y les vamos a \"dar la vuelta\", es decir las mayúsculas van a ser minúsculas y viceversa\n",
        "alumnos[\"Puesto\"].str.swapcase()"
      ],
      "execution_count": null,
      "outputs": [
        {
          "output_type": "execute_result",
          "data": {
            "text/plain": [
              "Id_Usuario\n",
              "1                 cdo\n",
              "2                 NaN\n",
              "3    dATA eNGINEERING\n",
              "Name: Puesto, dtype: object"
            ]
          },
          "metadata": {
            "tags": []
          },
          "execution_count": 80
        }
      ]
    },
    {
      "cell_type": "code",
      "metadata": {
        "id": "f3AUh5QhTK2C"
      },
      "source": [
        "#NUEVO\n",
        "#Paso 14.5. Cadenas de texto. Vamos a ver diferentes metodos para tratar las cadenas de texto\n",
        "#Cinco, vamos a reemplazar un valor dentro de la columna de Empresa. Queremos cambiar  Eci por Mercadona\n",
        "alumnos[\"Empresa\"].str.replace('The','El')"
      ],
      "execution_count": null,
      "outputs": []
    },
    {
      "cell_type": "code",
      "metadata": {
        "id": "RrjniRNfpHkw"
      },
      "source": [
        "alumnos"
      ],
      "execution_count": null,
      "outputs": []
    },
    {
      "cell_type": "code",
      "metadata": {
        "colab": {
          "base_uri": "https://localhost:8080/"
        },
        "id": "-uWi14AiTK2D",
        "outputId": "93c6bec5-bddc-452e-9084-d1b2b80eb686"
      },
      "source": [
        "#NUEVO\n",
        "#Paso 14.6. Cadenas de texto. Vamos a ver diferentes metodos para tratar las cadenas de texto\n",
        "#Seis, vamos a quitar la cadena de Data dentro de una cadena de la columna Puesto.\n",
        "alumnos[\"Puesto\"].str.strip(\"Data\")"
      ],
      "execution_count": null,
      "outputs": [
        {
          "output_type": "execute_result",
          "data": {
            "text/plain": [
              "Id_Usuario\n",
              "1             CDO\n",
              "2             NaN\n",
              "3     Engineering\n",
              "Name: Puesto, dtype: object"
            ]
          },
          "metadata": {
            "tags": []
          },
          "execution_count": 89
        }
      ]
    },
    {
      "cell_type": "code",
      "metadata": {
        "colab": {
          "base_uri": "https://localhost:8080/"
        },
        "id": "ugBkuvHmTK2D",
        "outputId": "ba01112c-0cb3-4002-f5f5-f8fe3f7901a3"
      },
      "source": [
        "#NUEVO\n",
        "#Paso 14.7. Cadenas de texto. Vamos a ver diferentes metodos para tratar las cadenas de texto\n",
        "#Siete, vamos a buscar el texto Data en la columna de puesto\n",
        "#Como parámetro tenemos que meter el tipo de formato a cambiar.\n",
        "#Además solo se puede realizar sobre una columna o serie, no sobre todo el DF\n",
        "alumnos[\"Puesto\"].str.contains(\"Data\")"
      ],
      "execution_count": null,
      "outputs": [
        {
          "output_type": "execute_result",
          "data": {
            "text/plain": [
              "Id_Usuario\n",
              "1    False\n",
              "2      NaN\n",
              "3     True\n",
              "Name: Puesto, dtype: object"
            ]
          },
          "metadata": {
            "tags": []
          },
          "execution_count": 93
        }
      ]
    },
    {
      "cell_type": "markdown",
      "metadata": {
        "id": "3oS6ELFy4qrn"
      },
      "source": [
        "# Limpieza de duplicados y formatos\n",
        "Tambien tenemos métodos para encontrar duplicados y cambiar formatos, métodos que nos sirven para enriquecer nuestro fichero.\n",
        "* [duplicated](https://pandas.pydata.org/pandas-docs/stable/reference/api/pandas.DataFrame.duplicated.html). Solo funciona a nivel de columna o serie, nunca a nivel de df.\n",
        "* [drop_duplicates](https://pandas.pydata.org/pandas-docs/stable/reference/api/pandas.DataFrame.drop_duplicates.html). No necesita parámetros de entrada.\n",
        "* [astype](https://pandas.pydata.org/pandas-docs/stable/reference/api/pandas.DataFrame.astype.*html*). Hay que pasarle el formato al que queremos modificar la columna (int32, String, etc)"
      ]
    },
    {
      "cell_type": "code",
      "metadata": {
        "colab": {
          "base_uri": "https://localhost:8080/"
        },
        "id": "wnsUV64XTOEK",
        "outputId": "61edfdad-480f-486e-c4b8-b5b91ad6aafb"
      },
      "source": [
        "#NUEVO\n",
        "#Paso 15.1. Seguimos con métodos de limpieza, vamos a encontrar los valores duplicados\n",
        "#Vamos a usar el dataframe que creamos al principio para buscarlos\n",
        "alumnos_duplicados[\"Nombre\"].duplicated()"
      ],
      "execution_count": null,
      "outputs": [
        {
          "output_type": "execute_result",
          "data": {
            "text/plain": [
              "1    False\n",
              "2     True\n",
              "3    False\n",
              "Name: Nombre, dtype: bool"
            ]
          },
          "metadata": {
            "tags": []
          },
          "execution_count": 94
        }
      ]
    },
    {
      "cell_type": "code",
      "metadata": {
        "colab": {
          "base_uri": "https://localhost:8080/"
        },
        "id": "OE5C7AoaTOEL",
        "outputId": "7e8bc079-149d-4290-9acc-2565dd342f24"
      },
      "source": [
        "#NUEVO\n",
        "#Paso 15.2. Seguimos con métodos de limpieza, vamos a eliminar las filas con dichos valores duplicados\n",
        "alumnos_duplicados[\"Nombre\"].drop_duplicates()"
      ],
      "execution_count": null,
      "outputs": [
        {
          "output_type": "execute_result",
          "data": {
            "text/plain": [
              "1     Julian\n",
              "3    Gonzalo\n",
              "Name: Nombre, dtype: object"
            ]
          },
          "metadata": {
            "tags": []
          },
          "execution_count": 97
        }
      ]
    },
    {
      "cell_type": "code",
      "metadata": {
        "colab": {
          "base_uri": "https://localhost:8080/"
        },
        "id": "HnCtFUdkTOEL",
        "outputId": "aff0b1e7-f666-47af-d361-2ae3ecdfdcc4"
      },
      "source": [
        "#NUEVO\n",
        "#Paso 16. Ahora queremos cambiar el formato de uno de los campos que hemos visto que no tiene sentido, es decir la EDAD que está en STRING\n",
        "#Para ello usamos astype el cual nos permite modificar dichos valores\n",
        "alumnos_duplicados[\"Edad\"].astype(\"int64\")"
      ],
      "execution_count": null,
      "outputs": [
        {
          "output_type": "execute_result",
          "data": {
            "text/plain": [
              "1    25\n",
              "2    30\n",
              "3    35\n",
              "Name: Edad, dtype: int64"
            ]
          },
          "metadata": {
            "tags": []
          },
          "execution_count": 100
        }
      ]
    },
    {
      "cell_type": "markdown",
      "metadata": {
        "id": "K3kJKe2O5FhM"
      },
      "source": [
        "# Ejercicios a realizar solos\n",
        "Ahora poco a poco vamos a ir intentando realizar los ejercicios con ficheros más grandes y con las funciones vistas anteriormente"
      ]
    },
    {
      "cell_type": "code",
      "metadata": {
        "id": "CA-_kNHSPA0D"
      },
      "source": [
        "#Paso 1. Leamos el siguiente csv y llamamos al DF libros\n",
        "libros = pd.read_csv(\"https://raw.githubusercontent.com/cherryguille/pandas_classroom/main/BL-Flickr-Images-Book.csv\")\n",
        "libros\n"
      ],
      "execution_count": null,
      "outputs": []
    },
    {
      "cell_type": "code",
      "metadata": {
        "id": "50URVs9WSljV"
      },
      "source": [
        "#Paso 2. Ver las primeras 5 entradas del df de libros\n",
        "libros.head()"
      ],
      "execution_count": null,
      "outputs": []
    },
    {
      "cell_type": "code",
      "metadata": {
        "id": "duJW5Tu9SnjY"
      },
      "source": [
        "#Paso 3. Queremos eliminar las columnas que tiene algun valor vacío, cuidado SOLO LAS COLUMNAS\n",
        "libros.dropna(axis=1)"
      ],
      "execution_count": null,
      "outputs": []
    },
    {
      "cell_type": "code",
      "metadata": {
        "id": "Rse_r15ESqDz"
      },
      "source": [
        "#Paso 4. Convertimos la columna de Title y Contributors con la primera mayúscula y el resto minúsculas\n",
        "libros[\"Title\"].str.title()\n",
        "libros[\"Contributors\"].str.title()"
      ],
      "execution_count": null,
      "outputs": []
    },
    {
      "cell_type": "code",
      "metadata": {
        "id": "wS8OdfjVkXPn"
      },
      "source": [
        "#Paso 5. Vamos a ver que columnas tienen valores únicos, primero viendo los valores únicos de TODAS las columnas.\n",
        "#libros['Identifier'].is_unique\n",
        "#libros.duplicated(keep=True)\n",
        "libros.nunique()\n",
        "#salida=libros['Identifier'].nunique()\n",
        "#salida\n",
        "#libros['Identifier'].unique\n"
      ],
      "execution_count": null,
      "outputs": []
    },
    {
      "cell_type": "code",
      "metadata": {
        "id": "ZMmjcs_LYxWu"
      },
      "source": [
        "#Paso 6. Nos han informado que hay un error en el fichero y que la columna Place of Publication\tlas ciudad London son una errata que tenemos que modificar por Manchester.\n",
        "#Reemplazamos dicho valor del df\n",
        "libros[\"Place of Publication\"].str.replace('London','Manchester') "
      ],
      "execution_count": null,
      "outputs": []
    },
    {
      "cell_type": "code",
      "metadata": {
        "id": "nwZ7I8ithdvS"
      },
      "source": [
        "#Paso 7. Vamos a leer el otro fichero y lo vamos a llamar olimpiadas\n",
        "#Cuidado!! La primera fila es la cabecera, tenemos que poner Header = 1 para que caputre la primera fila\n",
        "olimpiadas=pd.read_csv('https://raw.githubusercontent.com/cherryguille/pandas_classroom/main/olympics.csv', header=1)\n",
        "olimpiadas"
      ],
      "execution_count": null,
      "outputs": []
    },
    {
      "cell_type": "code",
      "metadata": {
        "id": "GD_oZ3sshuVf"
      },
      "source": [
        "#Paso 8. Vamos a renombrar y cambiar los valores de las columnas siguientes:\n",
        "#01 !: Oro\n",
        "#02 !: Plata\n",
        "#03 !: Bronce\n",
        "#? Winter: Olimpiadas_Invierno\n",
        "#Total: Total_Invierno\n",
        "#01 !.1: Oro\n",
        "#02 !.1: Plata\n",
        "#03 !.1: Bronce\n",
        "#Total.1: Total_Verano              \n",
        "#? Games: Total_Juegos\n",
        "#01 !.2: Oro\n",
        "#02 !.2: Plata\n",
        "#03 !.2: Bronce\n",
        "new_names =  {'Unnamed: 0': 'Country',\n",
        "               '? Summer': 'Olimpiadas_Verano',\n",
        "               '01 !': 'Oro',\n",
        "               '02 !': 'Plata',\n",
        "               '03 !': 'Bronce',\n",
        "               '? Winter': 'Olimpiadas_Invierno',\n",
        "               'Total': 'Total_Invierno',\n",
        "               '01 !.1': 'Oro',\n",
        "               '02 !.1': 'Plata',\n",
        "               '03 !.1': 'Bronce',\n",
        "               'Total.1': 'Total_Verano',              \n",
        "               '? Games': 'Total_Juegos',\n",
        "               '01 !.2': 'Oro',\n",
        "               '02 !.2': 'Plata',\n",
        "               '03 !.2': 'Bronce'}\n",
        "olimpiadas.rename(columns=new_names, inplace=True)\n",
        "olimpiadas"
      ],
      "execution_count": null,
      "outputs": []
    },
    {
      "cell_type": "markdown",
      "metadata": {
        "id": "fT6csUEV6NXp"
      },
      "source": [
        "# DEJA TU FEEDBACK Y AYUDANOS A MEJORAR :) \n",
        "\n",
        "![image (1).png](data:image/png;base64,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)"
      ]
    }
  ]
}