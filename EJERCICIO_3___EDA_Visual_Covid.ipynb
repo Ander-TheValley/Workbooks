{
  "nbformat": 4,
  "nbformat_minor": 0,
  "metadata": {
    "colab": {
      "name": "EJERCICIO_3__ EDA Visual Covid.ipynb",
      "provenance": [],
      "toc_visible": true
    },
    "kernelspec": {
      "name": "python3",
      "display_name": "Python 3"
    }
  },
  "cells": [
    {
      "cell_type": "markdown",
      "metadata": {
        "id": "R53FGLN8jo1L"
      },
      "source": [
        "# INTRO: Ejercicio EDA Visual Covid\n",
        "Ejercicio para afianzar los conceptos básicos de EDA (Exploratory Data Analysis) Visual utilizando datos sobre la evolución del Covid.\n",
        "\n",
        "Notebook por [Javier Blanco Cordero](https://www.linkedin.com/in/javier-blanco-cordero-71373656/).\n",
        "\n",
        "### Enlaces de interés\n",
        "*   [Slides de presentación](https://docs.google.com/presentation/d/1N7MPSC7ntM-0ZEHlrN5xRTpT4uNDyU_o53GBvnojUx8/edit?usp=sharing)\n",
        "*   [Enlace a al notebook de Colab de la clase 2](https://colab.research.google.com/github/JotaBlanco/TheValley/blob/main/Notebooks/02-analisis-exploratorio-visual/02___Analisis_exploratorio_visual.ipynb)\n",
        "*   [Enlace a este notebook de Colab resuelto](https://colab.research.google.com/github/JotaBlanco/TheValley/blob/main/Notebooks/02-analisis-exploratorio-visual/EJERCICIO_3___EDA_Visual_Covid.ipynb)\n",
        "\n",
        "\n"
      ]
    },
    {
      "cell_type": "markdown",
      "metadata": {
        "id": "cnHRaho3rsXS"
      },
      "source": [
        "# 01 Import\n",
        "Importamos todas las librerías necesarias para este análisis ([¿No sabes lo que es una librería de Python?](https://www.quora.com/What-is-a-Python-library-and-what-can-I-use-it-for)).\n",
        "\n",
        "Incluye pandas, numpy, matplotlib y seaborn."
      ]
    },
    {
      "cell_type": "code",
      "metadata": {
        "id": "4be6xiUqjPHI"
      },
      "source": [
        "import pandas as pd\n",
        "import numpy as np\n",
        "import matplotlib.pyplot as plt\n",
        "import seaborn as sns"
      ],
      "execution_count": null,
      "outputs": []
    },
    {
      "cell_type": "markdown",
      "metadata": {
        "id": "B_0JTVo0sIvm"
      },
      "source": [
        "# 02 Load Data\n",
        "Recordemos, hemos visto 3 maneras de importar datos en Colab:\n",
        "\n",
        "*   Importar una tabla desde Github\n",
        "*   Cargar (y luego importar) una tabla de nuestro local\n",
        "*   Importar una tabla de Google Drive"
      ]
    },
    {
      "cell_type": "markdown",
      "metadata": {
        "id": "YUPn3Da-m0IV"
      },
      "source": [
        "### 0201 Importa dataframe Covid-19\n",
        "Os he dejado en mi Github: \n",
        "*   Los casos Covid-19 confirmados para ciertos países (esta es la ruta al archivo raw en GitHub https://raw.githubusercontent.com/JotaBlanco/TheValley/main/Data/Covid_Casos_Clean.csv). \n",
        "*   Las muertes por Covid-19 confirmadas para esos mismos países (esta es la ruta al archivo raw en github https://raw.githubusercontent.com/JotaBlanco/TheValley/main/Data/Covid_Muertes_Clean.csv). \n",
        "\n",
        "Para cada país, cada tabla contiene contiene:\n",
        "\n",
        "*   X: Los casos/fallecimientos confirmados acumulados en el país X\n",
        "*   X_REL: Los casos/fallecimientos confirmados acumulados en el país X por cada 100.000 habitantes. \n",
        "*   X_ult7: Los casos/fallecimientos confirmados en los últimos 7 días en el país X.\n",
        "*   X_REL_ult7: Los casos/fallecimientos confirmados en los últimos 7 días en el país X por cada 100.000 habitantes.\n",
        "\n",
        "Importa los datos del Covid como prefieras en dos dataframes: **df_casos_covid** y **df_muertes_covid** y modifica en ambos casos la **columna fecha para que esté en un formato de tipo fecha**."
      ]
    },
    {
      "cell_type": "code",
      "metadata": {
        "id": "yJK4TWmwhPA0"
      },
      "source": [
        "# Url archivo raw\n",
        "\n",
        "\n",
        "# Importa csv con read_csv\n",
        "df_casos_covid = \n",
        "\n",
        "# Visualización primeras filas\n"
      ],
      "execution_count": null,
      "outputs": []
    },
    {
      "cell_type": "code",
      "metadata": {
        "id": "zm3Hn6QnMpZf"
      },
      "source": [
        "# Url archivo raw\n",
        "\n",
        "\n",
        "# Importa csv con read_csv\n",
        "df_muertes_covid = \n",
        "\n",
        "# Visualización primeras filas\n"
      ],
      "execution_count": null,
      "outputs": []
    },
    {
      "cell_type": "code",
      "metadata": {
        "id": "fOD7SWSuRsUW"
      },
      "source": [
        "# Cambiamos el formato de la columna 'Date' en ambos archivos utilizando \n",
        "# la función pd.to_datetime()\n",
        "# Ejemplo con df_casos_covid\n",
        "df_casos_covid['Date'] = pd.to_datetime(df_casos_covid['Date'], format='%Y-%m-%d')\n",
        "\n",
        "# Haz lo mismo con df_muertes_covid\n",
        "df_muertes_covid['Date'] = pd.to_datetime(df_muertes_covid['Date'], format='%Y-%m-%d')"
      ],
      "execution_count": null,
      "outputs": []
    },
    {
      "cell_type": "markdown",
      "metadata": {
        "id": "6RSFZhw-igup"
      },
      "source": [
        "# 02 Comprobaciones básicas\n",
        "Comprueba el tamaño y variables de ambos dataframes.\n",
        "\n",
        "Son iguales?"
      ]
    },
    {
      "cell_type": "code",
      "metadata": {
        "id": "q9ODKmNFrM8Z"
      },
      "source": [
        "# Mira el tamaño usando la función .shape\n"
      ],
      "execution_count": null,
      "outputs": []
    },
    {
      "cell_type": "code",
      "metadata": {
        "id": "r6HLldUCbcVK"
      },
      "source": [
        "# Hay alguna columna en el dataframe de casos no presente en el de muertes?\n",
        "# Puedes ver la lista de columnas de cada dataframe con la función .columns\n"
      ],
      "execution_count": null,
      "outputs": []
    },
    {
      "cell_type": "markdown",
      "metadata": {
        "id": "mP7ySvYMsKDk"
      },
      "source": [
        "# 03 Crea dataframe tasa mortalidad\n",
        "Puesto que los dataframes son iguales (en cuanto a forma) podemos hacer operaciones con ellos.\n",
        "\n",
        "Crea un nuevo dataframe **df_tasa_mortalidad** que sea el resultado de dividir el dataframe con los fallecimientos entre el dataframe con el número de casos. Además, ten en cuenta: \n",
        "*   Las tasas de mortalidad no tienen tanto sentido para los últimos 7 días, ni tiene sentido el resultado de dividir las cifras en términos relativos, por lo que nos quedamos sólo con las columnas ['China', 'France', 'Germany', 'Italy', 'Portugal', 'Spain', 'UK', 'US']. \n",
        "*   Rellenamos también los nulos con 0.\n",
        "*   Convertimos las tasas de mortalidad en porcentajes con dos cifras decimales XX.XX%"
      ]
    },
    {
      "cell_type": "code",
      "metadata": {
        "id": "10pazHzUD4u3"
      },
      "source": [
        "# Crea una lista llamada cols con los nombres de las columnas con las que nos queremos quedar\n",
        "cols = [ ... ]"
      ],
      "execution_count": null,
      "outputs": []
    },
    {
      "cell_type": "code",
      "metadata": {
        "id": "VobNL3nhESyZ"
      },
      "source": [
        "# Generamos el dataframe df_tasa_mortalidad dividiendo el de muertes/casos\n",
        "df_tasa_mortalidad = df_muertes_covid[cols]/df_casos_covid[cols]\n",
        "\n",
        "# Visualiza las primeras filas del resultado\n"
      ],
      "execution_count": null,
      "outputs": []
    },
    {
      "cell_type": "code",
      "metadata": {
        "id": "lbVO9hBMsl0O"
      },
      "source": [
        "# Ahora añadimos la columna fecha\n",
        "df_tasa_mortalidad.insert(0, 'Date', df_casos_covid['Date'])\n",
        "df_tasa_mortalidad.head()"
      ],
      "execution_count": null,
      "outputs": []
    },
    {
      "cell_type": "code",
      "metadata": {
        "id": "kTMP4Z4WdS36"
      },
      "source": [
        "# Convertimos los nulls en 0s utilizando la función fillna\n"
      ],
      "execution_count": null,
      "outputs": []
    },
    {
      "cell_type": "code",
      "metadata": {
        "id": "roYykU85dZlu"
      },
      "source": [
        "# Convertimos las cifras en porcentajes (multiplicando por 100)\n"
      ],
      "execution_count": null,
      "outputs": []
    },
    {
      "cell_type": "code",
      "metadata": {
        "id": "e5YDFh20xgnx"
      },
      "source": [
        "# Visualizamos los primeros registros\n"
      ],
      "execution_count": null,
      "outputs": []
    },
    {
      "cell_type": "markdown",
      "metadata": {
        "id": "qyXEwUDNzHSG"
      },
      "source": [
        "# 04 Visualiza la evolución de la tasa de mortalidad\n",
        "Visualiza la evolución de la tasa de mortalidad para los distintos países, donde mostremos:\n",
        "- La línea de España en amarillo (con doble grosor)\n",
        "- La línea de China en rojo, la de UK en azul y la de US en negro\n",
        "\n",
        "Es decir, genera [esta imagen](https://drive.google.com/file/d/1ovUlcKY-ZVR1rxR-70BoWAuhPqpGgE2v/view?usp=sharing)."
      ]
    },
    {
      "cell_type": "code",
      "metadata": {
        "id": "LxZsha7-5mSp"
      },
      "source": [
        "# Utilizamos seaborn para mejorar la estética con la función set()\n",
        "\n",
        "['China', 'France', 'Germany', 'Italy', 'Portugal', 'Spain', 'UK', 'US']"
      ],
      "execution_count": null,
      "outputs": []
    },
    {
      "cell_type": "code",
      "metadata": {
        "id": "g1vjdko_zRJM"
      },
      "source": [
        "# Generamos la imagen con la visualización\n",
        "# Tamaño de la imagen (ancho, alto) (15,7) con plt.figure(figsize=())\n",
        "\n",
        "\n",
        "# Generamos el gráfico utilizando un loop sobre el nombre de cada país \n",
        "# (lo habíamos guardado ya en la lista cols)\n",
        "for pais in cols:\n",
        "\n",
        "  if pais == 'Spain':\n",
        "    # define el gráfico para España\n",
        "    plt.plot( ... )\n",
        "\n",
        "  elif pais == 'China':\n",
        "    # define el gráfico para China\n",
        "\n",
        "  elif ...\n",
        "\n",
        "  else:\n",
        "\n",
        "\n",
        "# Define los detalles de la imagen\n",
        "plt.xlabel(...)\n",
        "plt.ylabel(...)\n",
        "plt.title(...)\n",
        "plt.legend()\n",
        "\n",
        "# Muestra el resultado\n",
        "plt.show()"
      ],
      "execution_count": null,
      "outputs": []
    },
    {
      "cell_type": "markdown",
      "metadata": {
        "id": "zFRsuQUd9di6"
      },
      "source": [
        "## Reflexiona sobre el gráfico\n",
        "- 1) Si la tasa de mortalidad es una buena medida del control de la enfermedad (o más bien del posible desborde de los servicios hospitalarios) quién la está controlando mejor?\n",
        "\n",
        "- 2) Hay ciertos escalones en los datos, qué nos dice esto?\n",
        "\n",
        "- 3) Explica los datos de China, por qué su curva tiene una forma distinta? Su tasa de mortalidad a día de hoy es la peor, por qué? "
      ]
    },
    {
      "cell_type": "markdown",
      "metadata": {
        "id": "Ep8-8ns-Y5TO"
      },
      "source": [
        "# 05 Visualiza la Tasa de Mortalidad VS Otras Métricas\n",
        "Con el mismo código de colores que en el anterior ejercicio (si encuentras una forma de hacerlo rápido, si no puedes ver cómo ser haría en la solución), genera una imagen (fig) con 3 gráficos (ax) -en una sola columna- donde se visualice respectivamente:\n",
        "- Fallecimientos relativos últimos 7 días\n",
        "- Casos Confirmados relativos últimos 7 días\n",
        "- Tasa de Mortalidad\n",
        "\n",
        "Es decir, genera [esta imagen](https://drive.google.com/file/d/16SYlqCZ5NQ1S1JZpwR1J-Tq8-FGWysIO/view?usp=sharing)."
      ]
    },
    {
      "cell_type": "code",
      "metadata": {
        "id": "zVuN1s84-kP-"
      },
      "source": [
        "# Generamos los objetos fig y ax, y también el tamaño\n",
        "fig, (ax1, ax2, ax3) = plt.subplots(nrows=3, ncols=1)\n",
        "fig.tight_layout(pad=0)\n",
        "fig.set_size_inches(12,10)\n",
        "\n",
        "# Generamos el gráfico iterando sobre la lista con países\n",
        "for pais in cols:\n",
        "  \n",
        "  # Gráfico\n",
        "  ax1.plot(...)\n",
        "  ax1.set(...)\n",
        "  ax1.legend()\n",
        "  \n",
        "  ax2.plot(...)\n",
        "  ax2.set(...)\n",
        "  ax2.legend()\n",
        "  \n",
        "  ax3.plot(...)\n",
        "  ax3.set(...)\n",
        "  ax3.legend()\n",
        "\n",
        "plt.show()"
      ],
      "execution_count": null,
      "outputs": []
    },
    {
      "cell_type": "markdown",
      "metadata": {
        "id": "XnKwOk5aO28a"
      },
      "source": [
        "## Reflexiona sobre el gráfico\n",
        "- 1) Qué explica la evolución de la tasa de mortalidad en España (subida, seguida de una meseta, y una paulatina bajada)?\n",
        "- 2) Se aprecia un retardo entre las muertes y los casos?\n"
      ]
    },
    {
      "cell_type": "markdown",
      "metadata": {
        "id": "9QGqX95h85Ci"
      },
      "source": [
        "# 06 Comparar Tasas de Mortalidad\n",
        "Comparemos las tasas de mortalidad acumulada en 3 días específicos:\n",
        "- 1 de abril de 2020\n",
        "- 1 de julio de 2020\n",
        "- último día disponible\n",
        "\n",
        "Muéstralos utilizando 3 gráficos (ax) de barras horizontales en una sola figura, con los 3 gráficos en una sola fila.\n",
        "\n",
        "Es decir, genera [esta imagen](https://drive.google.com/file/d/1q-GVmf_R5VR7s6DmEQWxAE7Dv8xEoKH1/view?usp=sharing).\n"
      ]
    },
    {
      "cell_type": "code",
      "metadata": {
        "id": "dUnVxN5WOiLz"
      },
      "source": [
        "# Creamos tres variables con los días\n",
        "dia_1_abril = pd.to_datetime('20200401', format='%Y/%m/%d')\n",
        "dia_1_julio = pd.to_datetime('20200701', format='%Y/%m/%d')\n",
        "ult_dia = df_casos_covid['Date'].iloc[-1]"
      ],
      "execution_count": null,
      "outputs": []
    },
    {
      "cell_type": "code",
      "metadata": {
        "id": "Aj4-YEgrM5zE"
      },
      "source": [
        "# Genero los 3 ax en una variable \n",
        "fig, ax = plt.subplots(nrows=1, ncols=3)\n",
        "fig.tight_layout(pad=0)\n",
        "fig.set_size_inches(12,6)\n",
        "\n",
        "# Esta manera de hacer un loop me da \n",
        "# tanto el orden del elemento (0, 1, 2, ...)\n",
        "# como el valor del elemento (día 1 de abril, día 1 de julio, etc.)\n",
        "for i, dia in enumerate([dia_1_abril, dia_1_julio, ult_dia]):\n",
        "  \n",
        "  # Filtro día\n",
        "  filtro_dia = ....\n",
        "\n",
        "  # Crea una serie de pandas\n",
        "  serie_dia = df_tasa_mortalidad.loc[filtro_dia, cols].iloc[0,:]\n",
        "  \n",
        "  # Gráfico\n",
        "  ax[i].barh(...)\n",
        "  ax[i].set(...)\n",
        "  \n",
        "plt.show()"
      ],
      "execution_count": null,
      "outputs": []
    }
  ]
}