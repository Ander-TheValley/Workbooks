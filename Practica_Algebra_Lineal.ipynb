{
  "nbformat": 4,
  "nbformat_minor": 0,
  "metadata": {
    "colab": {
      "name": "Practica_Algebra_Lineal.ipynb",
      "provenance": [],
      "collapsed_sections": []
    },
    "kernelspec": {
      "name": "python3",
      "display_name": "Python 3"
    },
    "language_info": {
      "name": "python"
    }
  },
  "cells": [
    {
      "cell_type": "markdown",
      "source": [
        "# INTRODUCCIÓN a ÁLGEBRA LINEAL\n",
        "\n",
        "### Madrid, 8 de febrero de 2022\n",
        "### Ángeles Garrido"
      ],
      "metadata": {
        "id": "dwq4JBFgZnU7"
      }
    },
    {
      "cell_type": "markdown",
      "source": [
        "Cuando se trata de trabajar con escalares, vectores y matrices en Machine Learning, la forma más sencilla, flexible y frecuente es utilizar la librería NumPy en Python, ya que está optimizada para las operaciones con dichos datos."
      ],
      "metadata": {
        "id": "-J11dEPrZwC0"
      }
    },
    {
      "cell_type": "markdown",
      "source": [
        "Importamos las librerías"
      ],
      "metadata": {
        "id": "EZyFtVYEaZKl"
      }
    },
    {
      "cell_type": "code",
      "execution_count": null,
      "metadata": {
        "id": "Za_ZQIkEuDL_"
      },
      "outputs": [],
      "source": [
        "import numpy as np                       # Numpy\n",
        "import matplotlib.pyplot as plt          # Representación gráfica\n",
        "from mpl_toolkits.mplot3d import Axes3D  # Representación gráfica en 3D\n",
        "\n",
        "# Los gráficos se representan en la celda posterior\n",
        "%matplotlib inline   \n",
        "\n",
        "#Warnings\n",
        "from warnings import filterwarnings                   "
      ]
    },
    {
      "cell_type": "markdown",
      "source": [
        "#Definición de escalares, vectores y matrices"
      ],
      "metadata": {
        "id": "hp_iDVQPQx4z"
      }
    },
    {
      "cell_type": "markdown",
      "source": [
        "Definición de un escalar"
      ],
      "metadata": {
        "id": "psMbBlj9aidT"
      }
    },
    {
      "cell_type": "code",
      "source": [
        "e = 120\n",
        "print(e)"
      ],
      "metadata": {
        "id": "ozH_m5Kdaonh"
      },
      "execution_count": null,
      "outputs": []
    },
    {
      "cell_type": "markdown",
      "source": [
        "Definición de un vector"
      ],
      "metadata": {
        "id": "bZ5s_MwUa2Sd"
      }
    },
    {
      "cell_type": "code",
      "source": [
        "v = np.array([90,180])\n",
        "print(v)"
      ],
      "metadata": {
        "id": "3sqoLMeza4o4"
      },
      "execution_count": null,
      "outputs": []
    },
    {
      "cell_type": "markdown",
      "source": [
        "Definición de una matriz"
      ],
      "metadata": {
        "id": "A12nNUFtbv6x"
      }
    },
    {
      "cell_type": "code",
      "source": [
        "m = np.array([[1, 1, 1], [3, 2, 1], [4, 3, 1]])\n",
        "print(m)"
      ],
      "metadata": {
        "id": "cye8m_0TZnFj"
      },
      "execution_count": null,
      "outputs": []
    },
    {
      "cell_type": "markdown",
      "source": [
        "Veamos la multiplicación de escalar por vector"
      ],
      "metadata": {
        "id": "kslUiePFcvtp"
      }
    },
    {
      "cell_type": "code",
      "source": [
        "m2 = np.array([15000, 10000, 5000]) "
      ],
      "metadata": {
        "id": "agnGKxgFc-hA"
      },
      "execution_count": null,
      "outputs": []
    },
    {
      "cell_type": "code",
      "source": [
        "# Dividimos por 5.000\n",
        "m2 = m2/5000\n",
        "print(m2)"
      ],
      "metadata": {
        "id": "7CEA52iXdJoW"
      },
      "execution_count": null,
      "outputs": []
    },
    {
      "cell_type": "markdown",
      "source": [
        "#Tipo de las variables\n",
        "\n",
        "Es importante cuando trabajamos con VECTORES, MATRICES y TENSORES"
      ],
      "metadata": {
        "id": "scaGsJ-4dVs1"
      }
    },
    {
      "cell_type": "code",
      "source": [
        "type(m2)"
      ],
      "metadata": {
        "id": "Eo06Cjvkdbtj"
      },
      "execution_count": null,
      "outputs": []
    },
    {
      "cell_type": "code",
      "source": [
        "type(m)"
      ],
      "metadata": {
        "id": "qCm9kfhtdgvv"
      },
      "execution_count": null,
      "outputs": []
    },
    {
      "cell_type": "code",
      "source": [
        "m2.shape"
      ],
      "metadata": {
        "id": "ciEzPrrWdmyy"
      },
      "execution_count": null,
      "outputs": []
    },
    {
      "cell_type": "code",
      "source": [
        "m.shape"
      ],
      "metadata": {
        "id": "txthDPhfdr0S"
      },
      "execution_count": null,
      "outputs": []
    },
    {
      "cell_type": "code",
      "source": [
        "type(e)"
      ],
      "metadata": {
        "id": "-hQdKBAgdz6V"
      },
      "execution_count": null,
      "outputs": []
    },
    {
      "cell_type": "markdown",
      "source": [
        "Multiplicación de escalar por una matriz"
      ],
      "metadata": {
        "id": "fklkDhbEeC8d"
      }
    },
    {
      "cell_type": "code",
      "source": [
        "e = 2\n",
        "e*m"
      ],
      "metadata": {
        "id": "_JPA1AzyeG3L"
      },
      "execution_count": null,
      "outputs": []
    },
    {
      "cell_type": "markdown",
      "source": [
        "¿POR QUÉ HAY UN ERROR?"
      ],
      "metadata": {
        "id": "MFXkpwSQemo8"
      }
    },
    {
      "cell_type": "code",
      "source": [
        "e.shape"
      ],
      "metadata": {
        "id": "vpIuJYA8egrn"
      },
      "execution_count": null,
      "outputs": []
    },
    {
      "cell_type": "code",
      "source": [
        "e_vector = np.array([1])\n",
        "e_vector.shape"
      ],
      "metadata": {
        "id": "elbQrJwifEfm"
      },
      "execution_count": null,
      "outputs": []
    },
    {
      "cell_type": "markdown",
      "source": [
        "\n",
        "#RESOLUCIÓN DE SISTEMAS DE ECUACIONES LINEALES\n",
        "\n",
        "## EJEMPLO en 3 DIMENSIONES (matriz 3x3)\n",
        "\n",
        "#### EMPRESA DE TRANSPORTES\n",
        "\n",
        "\n",
        "\n",
        "![image.png](data:image/png;base64,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)"
      ],
      "metadata": {
        "id": "uIsOIY35feCf"
      }
    },
    {
      "cell_type": "markdown",
      "source": [
        "![image.png](data:image/png;base64,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)\n"
      ],
      "metadata": {
        "id": "DFGP46erhO_V"
      }
    },
    {
      "cell_type": "code",
      "source": [
        "# Definición de las ecuaciones con la libreria Numpy pasando una lista a las arrays de numpy\n",
        "A = np.array([1, 1, 1, 3, 2, 1, 4, 3, 1]) \n",
        "A = A.reshape(3, 3) # matriz de dimension 3x4\n",
        "A"
      ],
      "metadata": {
        "id": "tS_uGSqfuQpO"
      },
      "execution_count": null,
      "outputs": []
    },
    {
      "cell_type": "code",
      "source": [
        "b = np.matrix([[60],[95], [125]])\n",
        "b"
      ],
      "metadata": {
        "id": "HExITCtYuulx"
      },
      "execution_count": null,
      "outputs": []
    },
    {
      "cell_type": "code",
      "source": [
        "# Resolvemos el sistema de ecuaciones\n",
        "x = np.linalg.solve(A, b)\n",
        "x"
      ],
      "metadata": {
        "id": "5M36Bf2qu4W2"
      },
      "execution_count": null,
      "outputs": []
    },
    {
      "cell_type": "markdown",
      "source": [
        "Comprobamos si es correcta la solución"
      ],
      "metadata": {
        "id": "SJ4wPfc6Pp8y"
      }
    },
    {
      "cell_type": "code",
      "source": [
        "# Comprobando la solucion\n",
        "A @ x == b"
      ],
      "metadata": {
        "id": "7ouHofNlPnWD"
      },
      "execution_count": null,
      "outputs": []
    },
    {
      "cell_type": "markdown",
      "source": [
        "#REPRESENTACIÓN GRÁFICA"
      ],
      "metadata": {
        "id": "xQbCy398iOr5"
      }
    },
    {
      "cell_type": "markdown",
      "source": [
        "Definimos la figura donde almacenamos el gráfico"
      ],
      "metadata": {
        "id": "XOq9VzEBi051"
      }
    },
    {
      "cell_type": "code",
      "source": [
        "fig = plt.figure()\n",
        "ax = plt.axes(projection='3d')"
      ],
      "metadata": {
        "id": "8gLiN3IcO9vF"
      },
      "execution_count": null,
      "outputs": []
    },
    {
      "cell_type": "code",
      "source": [
        "#Variables independientes\n",
        "x = np.linspace(-40, 40, 500)   # genera un vector desde -100 hasta 100 de 50 puntos equiespaciados\n",
        "y = np.linspace(-40, 40, 500)\n",
        "\n",
        "#Definimos una malla con los vectores x e y.\n",
        "X, Y = np.meshgrid(x, y)"
      ],
      "metadata": {
        "id": "Ka5NMAW7PdiM"
      },
      "execution_count": null,
      "outputs": []
    },
    {
      "cell_type": "code",
      "source": [
        "x.shape"
      ],
      "metadata": {
        "id": "GeplIE7lkE0f"
      },
      "execution_count": null,
      "outputs": []
    },
    {
      "cell_type": "code",
      "source": [
        "X.shape"
      ],
      "metadata": {
        "id": "tMfQRUOqkHUZ"
      },
      "execution_count": null,
      "outputs": []
    },
    {
      "cell_type": "code",
      "source": [
        "Y.shape"
      ],
      "metadata": {
        "id": "GO1bdNbtkKMZ"
      },
      "execution_count": null,
      "outputs": []
    },
    {
      "cell_type": "markdown",
      "source": [
        "Definimos una función con la primera ecuación"
      ],
      "metadata": {
        "id": "4PPb00n7O4df"
      }
    },
    {
      "cell_type": "code",
      "source": [
        "def f(x, y):\n",
        "    return np.add(60, np.add(-x, -y))"
      ],
      "metadata": {
        "id": "WDyHorh3PQrK"
      },
      "execution_count": null,
      "outputs": []
    },
    {
      "cell_type": "code",
      "source": [
        "# Aplicamos la función f a la malla.\n",
        "Z = f(X, Y)"
      ],
      "metadata": {
        "id": "8Xw3l9JUPixr"
      },
      "execution_count": null,
      "outputs": []
    },
    {
      "cell_type": "code",
      "source": [
        "fig = plt.figure()\n",
        "ax = plt.axes(projection='3d')\n",
        "ax.contour3D(X, Y, Z, 200, cmap='hot')\n",
        "ax.set_xlabel('x')\n",
        "ax.set_ylabel('y')\n",
        "ax.set_zlabel('z');"
      ],
      "metadata": {
        "id": "jl6-cmbvPwa9"
      },
      "execution_count": null,
      "outputs": []
    },
    {
      "cell_type": "markdown",
      "source": [
        "## Posición de la cámara de visualización del gráfico en 3D\n",
        "\n",
        "La \"posición de cámara\" permite ajustar la elevación y el ángulo de azimut que utiliza para ver el diagrama 3D\n",
        "\n",
        "Use view_init() can be used to rotate the axes programmatically.\n",
        "\n",
        "Syntax: view_init(elev, azim)\n",
        "\n",
        "Parameters: \n",
        "\n",
        "‘elev’ stores the elevation angle in the z plane.\n",
        "‘azim’ stores the azimuth angle in the x,y plane.D constructor."
      ],
      "metadata": {
        "id": "rVjGXnlqSJ4P"
      }
    },
    {
      "cell_type": "code",
      "source": [
        "# Modificamos el sistema de referencia desde el que visualizo el gráfico\n",
        "ax.view_init(6, 6)\n",
        "fig"
      ],
      "metadata": {
        "id": "sFhX4RKtP5vR"
      },
      "execution_count": null,
      "outputs": []
    },
    {
      "cell_type": "markdown",
      "source": [
        "Definimos una función con la segunda ecuación"
      ],
      "metadata": {
        "id": "bvidNUvkROQv"
      }
    },
    {
      "cell_type": "code",
      "source": [
        "def f2(x, y):\n",
        "    return np.add(np.add(-3*x, -2*y), 95)"
      ],
      "metadata": {
        "id": "GytOX3tJRN85"
      },
      "execution_count": null,
      "outputs": []
    },
    {
      "cell_type": "code",
      "source": [
        "Z2 = f2(X, Y)"
      ],
      "metadata": {
        "id": "1g7pQR15RwCc"
      },
      "execution_count": null,
      "outputs": []
    },
    {
      "cell_type": "code",
      "source": [
        "fig = plt.figure()\n",
        "ax = plt.axes(projection='3d')\n",
        "ax.contour3D(X, Y, Z2, 200, cmap='viridis')\n",
        "ax.set_xlabel('x')\n",
        "ax.set_ylabel('y')\n",
        "ax.set_zlabel('z');"
      ],
      "metadata": {
        "id": "ka4IRXSaTaTU"
      },
      "execution_count": null,
      "outputs": []
    },
    {
      "cell_type": "markdown",
      "source": [
        "Definimos una función con la tercera ecuación"
      ],
      "metadata": {
        "id": "kZ1B0GholTnE"
      }
    },
    {
      "cell_type": "code",
      "source": [
        "def f3(x, y):\n",
        "    return np.add(np.add(-4*x, -3*y), 125)"
      ],
      "metadata": {
        "id": "MnFP3NP4Ur2r"
      },
      "execution_count": null,
      "outputs": []
    },
    {
      "cell_type": "code",
      "source": [
        "Z3 = f3(X, Y)"
      ],
      "metadata": {
        "id": "7JKEZrA1lh8a"
      },
      "execution_count": null,
      "outputs": []
    },
    {
      "cell_type": "code",
      "source": [
        "fig = plt.figure()\n",
        "ax = plt.axes(projection='3d')\n",
        "ax.contour3D(X, Y, Z3, 200, cmap='plasma')\n",
        "ax.set_xlabel('x')\n",
        "ax.set_ylabel('y')\n",
        "ax.set_zlabel('z');"
      ],
      "metadata": {
        "id": "NbqbiGKqlfD6"
      },
      "execution_count": null,
      "outputs": []
    },
    {
      "cell_type": "markdown",
      "source": [
        "#Representamos las tres ecuaciones lineales"
      ],
      "metadata": {
        "id": "_pr9D4ssloex"
      }
    },
    {
      "cell_type": "code",
      "source": [
        "fig = plt.figure()\n",
        "ax = plt.axes(projection='3d')\n",
        "ax.contour3D(X, Y,  Z, 200, cmap='hot')\n",
        "ax.contour3D(X, Y, Z2, 200, cmap='viridis')\n",
        "ax.contour3D(X, Y, Z3, 200, cmap='plasma')\n",
        "ax.set_xlabel('x')\n",
        "ax.set_ylabel('y')\n",
        "ax.set_zlabel('z');"
      ],
      "metadata": {
        "id": "5lZh2kuWR0ey"
      },
      "execution_count": null,
      "outputs": []
    },
    {
      "cell_type": "code",
      "source": [
        "ax.view_init(12, -50)\n",
        "fig"
      ],
      "metadata": {
        "id": "ec5tJ626VLfL"
      },
      "execution_count": null,
      "outputs": []
    },
    {
      "cell_type": "markdown",
      "source": [
        "# OPERACIONES DE MATRICES"
      ],
      "metadata": {
        "id": "sRMM37X8TSQB"
      }
    },
    {
      "cell_type": "markdown",
      "source": [
        "#MATRIZ INVERSA"
      ],
      "metadata": {
        "id": "nu5rvLJlN7TE"
      }
    },
    {
      "cell_type": "code",
      "source": [
        "# Matriz cuadrada\n",
        "A = np.arange(1, 10).reshape(3, 3) #matriz de dimension 3x3\n",
        "A"
      ],
      "metadata": {
        "id": "sTCwHkXlOFbT"
      },
      "execution_count": null,
      "outputs": []
    },
    {
      "cell_type": "code",
      "source": [
        "# Calculando la inversa de A.\n",
        "A_inv = np.linalg.inv(A)\n",
        "A_inv"
      ],
      "metadata": {
        "id": "iXt8lGhFN9Cn"
      },
      "execution_count": null,
      "outputs": []
    },
    {
      "cell_type": "code",
      "source": [
        "np.linalg.det(A)"
      ],
      "metadata": {
        "id": "lMA2pjekTiA6"
      },
      "execution_count": null,
      "outputs": []
    },
    {
      "cell_type": "markdown",
      "source": [
        "Matriz de la EMPRESA DE TRANSPORTES"
      ],
      "metadata": {
        "id": "zxS4FqJvOdQm"
      }
    },
    {
      "cell_type": "code",
      "source": [
        "# Definición de las ecuaciones con la libreria Numpy pasando una lista a las arrays de numpy\n",
        "A = np.array([1, 1, 1, 3, 2, 1, 4, 3, 1]) \n",
        "A = A.reshape(3, 3) # matriz de dimension 3x4\n",
        "A"
      ],
      "metadata": {
        "id": "wOY4jwENN7A0"
      },
      "execution_count": null,
      "outputs": []
    },
    {
      "cell_type": "code",
      "source": [
        "# Calculando la inversa de A.\n",
        "A_inv = np.linalg.inv(A)\n",
        "A_inv"
      ],
      "metadata": {
        "id": "DtfbMtdNOhc5"
      },
      "execution_count": null,
      "outputs": []
    },
    {
      "cell_type": "markdown",
      "source": [
        "Transpuesta de una matriz"
      ],
      "metadata": {
        "id": "W1ywglXvOoz4"
      }
    },
    {
      "cell_type": "code",
      "source": [
        "np.transpose(A)"
      ],
      "metadata": {
        "id": "K91o5NUGOoFQ"
      },
      "execution_count": null,
      "outputs": []
    },
    {
      "cell_type": "markdown",
      "source": [
        "#Determinante de una matriz"
      ],
      "metadata": {
        "id": "YcWf1NdQJz8b"
      }
    },
    {
      "cell_type": "code",
      "source": [
        "A"
      ],
      "metadata": {
        "id": "hEHjyfKJJ9Eb"
      },
      "execution_count": null,
      "outputs": []
    },
    {
      "cell_type": "code",
      "source": [
        "np.linalg.det(A)"
      ],
      "metadata": {
        "id": "m-D2AJgPJ2J6"
      },
      "execution_count": null,
      "outputs": []
    },
    {
      "cell_type": "markdown",
      "source": [
        "Matriz diagonal"
      ],
      "metadata": {
        "id": "uVyzSCzHK6ff"
      }
    },
    {
      "cell_type": "code",
      "source": [
        "np.diagonal(A)"
      ],
      "metadata": {
        "id": "wmILDzG7KQjl"
      },
      "execution_count": null,
      "outputs": []
    },
    {
      "cell_type": "markdown",
      "source": [
        "#Multiplicación de matrices"
      ],
      "metadata": {
        "id": "yTPehTfuMFM3"
      }
    },
    {
      "cell_type": "code",
      "source": [
        "# Ejemplo multiplicación de matrices\n",
        "A = np.arange(1, 13).reshape(3, 4) #matriz de dimension 3x4\n",
        "A"
      ],
      "metadata": {
        "id": "MYs95VdiMHdm"
      },
      "execution_count": null,
      "outputs": []
    },
    {
      "cell_type": "code",
      "source": [
        "B = np.arange(8).reshape(4,2) #matriz de dimension 4x2\n",
        "B"
      ],
      "metadata": {
        "id": "yXfQUjkkMNQG"
      },
      "execution_count": null,
      "outputs": []
    },
    {
      "cell_type": "code",
      "source": [
        "# Multiplicando A x B\n",
        "C = A @ B #resulta en una matriz de dimension 3x2\n",
        "C"
      ],
      "metadata": {
        "id": "OL3r2vjvMSgJ"
      },
      "execution_count": null,
      "outputs": []
    },
    {
      "cell_type": "markdown",
      "source": [
        "#Matriz identidad"
      ],
      "metadata": {
        "id": "mT_hmHwcMnYU"
      }
    },
    {
      "cell_type": "code",
      "source": [
        "# Matriz cuadrada\n",
        "D = np.arange(1, 17).reshape(4, 4) #matriz de dimension 4x4\n",
        "D"
      ],
      "metadata": {
        "id": "h59BeIpDNEFb"
      },
      "execution_count": null,
      "outputs": []
    },
    {
      "cell_type": "code",
      "source": [
        "# Creando una matriz identidad de 2x2\n",
        "I = np.eye(4)\n",
        "I"
      ],
      "metadata": {
        "id": "bkpZlYhNMmw1"
      },
      "execution_count": null,
      "outputs": []
    },
    {
      "cell_type": "code",
      "source": [
        "print(D @ I)\n",
        "print(I @ D)"
      ],
      "metadata": {
        "id": "kCekaiN4MuV1"
      },
      "execution_count": null,
      "outputs": []
    },
    {
      "cell_type": "code",
      "source": [
        ""
      ],
      "metadata": {
        "id": "ibTI5BwXN3-1"
      },
      "execution_count": null,
      "outputs": []
    }
  ]
}