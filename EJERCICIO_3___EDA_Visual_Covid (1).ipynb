{
  "nbformat": 4,
  "nbformat_minor": 0,
  "metadata": {
    "colab": {
      "name": "EJERCICIO_3__ EDA Visual Covid.ipynb",
      "provenance": [],
      "toc_visible": true
    },
    "kernelspec": {
      "name": "python3",
      "display_name": "Python 3"
    }
  },
  "cells": [
    {
      "cell_type": "markdown",
      "metadata": {
        "id": "R53FGLN8jo1L"
      },
      "source": [
        "# INTRO: Ejercicio EDA Visual Covid\n",
        "Ejercicio para afianzar los conceptos básicos de EDA (Exploratory Data Analysis) Visual utilizando datos sobre la evolución del Covid.\n",
        "\n",
        "Notebook por [Javier Blanco Cordero](https://www.linkedin.com/in/javier-blanco-cordero-71373656/).\n",
        "\n",
        "### Enlaces de interés\n",
        "*   [Slides de presentación](https://docs.google.com/presentation/d/1N7MPSC7ntM-0ZEHlrN5xRTpT4uNDyU_o53GBvnojUx8/edit?usp=sharing)\n",
        "*   [Enlace a al notebook de Colab de la clase 2](https://colab.research.google.com/github/JotaBlanco/TheValley/blob/main/Notebooks/02-analisis-exploratorio-visual/02___Analisis_exploratorio_visual.ipynb)\n",
        "*   [Enlace a este notebook de Colab resuelto](https://colab.research.google.com/github/JotaBlanco/TheValley/blob/main/Notebooks/02-analisis-exploratorio-visual/EJERCICIO_3___EDA_Visual_Covid.ipynb)\n",
        "\n",
        "\n"
      ]
    },
    {
      "cell_type": "markdown",
      "metadata": {
        "id": "cnHRaho3rsXS"
      },
      "source": [
        "# 01 Import\n",
        "Importamos todas las librerías necesarias para este análisis ([¿No sabes lo que es una librería de Python?](https://www.quora.com/What-is-a-Python-library-and-what-can-I-use-it-for)).\n",
        "\n",
        "Incluye pandas, numpy, matplotlib y seaborn."
      ]
    },
    {
      "cell_type": "code",
      "metadata": {
        "id": "4be6xiUqjPHI"
      },
      "source": [
        "import pandas as pd\n",
        "import numpy as np\n",
        "import matplotlib.pyplot as plt\n",
        "import seaborn as sns"
      ],
      "execution_count": null,
      "outputs": []
    },
    {
      "cell_type": "markdown",
      "metadata": {
        "id": "B_0JTVo0sIvm"
      },
      "source": [
        "# 02 Load Data\n",
        "Recordemos, hemos visto 3 maneras de importar datos en Colab:\n",
        "\n",
        "*   Importar una tabla desde Github\n",
        "*   Cargar (y luego importar) una tabla de nuestro local\n",
        "*   Importar una tabla de Google Drive"
      ]
    },
    {
      "cell_type": "markdown",
      "metadata": {
        "id": "YUPn3Da-m0IV"
      },
      "source": [
        "### 0201 Importa dataframe Covid-19\n",
        "Os he dejado en mi Google Drive: \n",
        "*   [este archivo](https://drive.google.com/file/d/1s7KH9Zke0b862uFtoGYZI2gEKgJPDDTY/view?usp=sharing) con casos Covid-19 confirmados para ciertos países. \n",
        "*   [este archivo](https://drive.google.com/drive/u/0/folders/1r-Qm0wF70NmWnUrZzVpjodBc2rT0lIPq) con muertes por Covid-19 confirmadas para esos mismos países. \n",
        "\n",
        "Para cada país, cada tabla contiene contiene:\n",
        "\n",
        "*   X: Los casos o fallecimientos (respectivamente) confirmados acumulados en el país X\n",
        "*   X_REL: Los casos o fallecimientos (respectivamente) confirmados acumulados en el país X por cada 100.000 habitantes. \n",
        "*   X_ult7: Los casos o fallecimientos (respectivamente) confirmados en los últimos 7 días en el país X.\n",
        "*   X_REL_ult7: Los casos o fallecimientos (respectivamente) confirmados en los últimos 7 días en el país X por cada 100.000 habitantes.\n",
        "\n",
        "Importa los datos del Covid como prefieras en dos dataframes: **df_casos_covid** y **df_muertes_covid** y modifica en ambos casos la columna fecha para que esté en un formato de tipo fecha."
      ]
    },
    {
      "cell_type": "code",
      "metadata": {
        "id": "yJK4TWmwhPA0"
      },
      "source": [
        ""
      ],
      "execution_count": null,
      "outputs": []
    },
    {
      "cell_type": "markdown",
      "metadata": {
        "id": "6RSFZhw-igup"
      },
      "source": [
        "# 02 Comprobaciones básicas\n",
        "Comprueba el tamaño y variables de ambos dataframes.\n",
        "\n",
        "Son iguales?"
      ]
    },
    {
      "cell_type": "code",
      "metadata": {
        "id": "q9ODKmNFrM8Z"
      },
      "source": [
        ""
      ],
      "execution_count": null,
      "outputs": []
    },
    {
      "cell_type": "markdown",
      "metadata": {
        "id": "mP7ySvYMsKDk"
      },
      "source": [
        "# 03 Crea dataframe tasa mortalidad\n",
        "Puesto que los dataframes son iguales (en cuanto a forma) podemos hacer operaciones con ellos.\n",
        "\n",
        "Crea un nuevo dataframe **df_tasa_mortalidad** que sea el resultado de dividir el dataframe con los fallecimientos entre el dataframe con el número de casos. Además, ten en cuenta: \n",
        "*   Las tasas de mortalidad no tienen tanto sentido para los últimos 7 días, ni tiene sentido el resultado de dividir las cifras en términos relativos, por lo que nos interesan solo las variables ['China', 'France', 'Germany', 'Italy', 'Portugal', 'Spain', 'UK', 'US'] de cada dataframe. \n",
        "*   Rellenamos también los nulos con 0.\n",
        "*   Convertimos las tasas de mortalidad en porcentajes con dos cifras decimales XX.XX%"
      ]
    },
    {
      "cell_type": "code",
      "metadata": {
        "id": "VobNL3nhESyZ"
      },
      "source": [
        ""
      ],
      "execution_count": null,
      "outputs": []
    },
    {
      "cell_type": "markdown",
      "metadata": {
        "id": "qyXEwUDNzHSG"
      },
      "source": [
        "# 04 Visualiza la evolución de la tasa de mortalidad\n",
        "Visualiza la evolución de la tasa de mortalidad para los distintos países, donde mostremos:\n",
        "- La línea de España en amarillo (con doble grosor)\n",
        "- La línea de China en rojo, la de UK en azul y la de US en negro\n",
        "\n",
        "Es decir, genera [esta imagen](https://drive.google.com/file/d/1ovUlcKY-ZVR1rxR-70BoWAuhPqpGgE2v/view?usp=sharing)."
      ]
    },
    {
      "cell_type": "code",
      "metadata": {
        "id": "g1vjdko_zRJM"
      },
      "source": [
        ""
      ],
      "execution_count": null,
      "outputs": []
    },
    {
      "cell_type": "markdown",
      "metadata": {
        "id": "zFRsuQUd9di6"
      },
      "source": [
        "## Reflexiona sobre el gráfico\n",
        "- 1) Si la tasa de mortalidad es una buena medida del control de la enfermedad (o más bien del posible desborde de los servicios hospitalarios) quién la está controlando mejor?\n",
        "\n",
        "- 2) Hay ciertos escalones en los datos, qué nos dice esto?\n",
        "\n",
        "- 3) Explica los datos de China, por qué su curva tiene una forma distinta? Su tasa de mortalidad a día de hoy es la peor, por qué? "
      ]
    },
    {
      "cell_type": "markdown",
      "metadata": {
        "id": "Ep8-8ns-Y5TO"
      },
      "source": [
        "# 05 Visualiza la Tasa de Mortalidad VS Otras Métricas\n",
        "Con el mismo código de colores que en el anterior ejercicio, genera una imagen (fig) con 3 gráficos (ax) -en una sola columna- donde se visualice respectivamente:\n",
        "- Fallecimientos relativos últimos 7 días\n",
        "- Casos Confirmados relativos últimos 7 días\n",
        "- Tasa de Mortalidad\n",
        "\n",
        "Es decir, genera [esta imagen](https://drive.google.com/file/d/16SYlqCZ5NQ1S1JZpwR1J-Tq8-FGWysIO/view?usp=sharing)."
      ]
    },
    {
      "cell_type": "code",
      "metadata": {
        "id": "tN8oLUQDa0lV"
      },
      "source": [
        ""
      ],
      "execution_count": null,
      "outputs": []
    },
    {
      "cell_type": "markdown",
      "metadata": {
        "id": "XnKwOk5aO28a"
      },
      "source": [
        "## Reflexiona sobre el gráfico\n",
        "- 1) Qué explica la evolución de la tasa de mortalidad en España (subida, seguida de una meseta, y una paulatina bajada)?\n",
        "- 2) Se aprecia un retardo entre las muertes y los casos?\n"
      ]
    },
    {
      "cell_type": "markdown",
      "metadata": {
        "id": "9QGqX95h85Ci"
      },
      "source": [
        "# 06 Comparar Tasas de Mortalidad\n",
        "Comparemos las tasas de mortalidad acumulada en 3 días específicos:\n",
        "- 1 de abril de 2020\n",
        "- 1 de julio de 2020\n",
        "- último día disponible\n",
        "\n",
        "Muéstralos utilizando 3 gráficos (ax) de barras horizontales en una sola figura, con los 3 gráficos en una sola fila.\n",
        "\n",
        "Es decir, genera [esta imagen](https://drive.google.com/file/d/1q-GVmf_R5VR7s6DmEQWxAE7Dv8xEoKH1/view?usp=sharing).\n"
      ]
    },
    {
      "cell_type": "code",
      "metadata": {
        "id": "DwkNRys2a42S"
      },
      "source": [
        ""
      ],
      "execution_count": null,
      "outputs": []
    }
  ]
}